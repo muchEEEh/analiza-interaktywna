{
 "cells": [
  {
   "cell_type": "markdown",
   "metadata": {},
   "source": [
    "# Projekt - Analiza zbioru danych na podstawie Students Performance in Exams\n",
    "Bartosz Glądała\n",
    "\n",
    "### Wstęp\n",
    "Do analizy danych w projekcie wybrano zbiór Students Performance in Exams w oparciu o stronę https://www.kaggle.com/spscientist/students-performance-in-exams?select=StudentsPerformance.csv. Dane zawierają informacje o wynikach studentów z egzaminów w Stanach Zjednoczonych w zależności od czynników społecznych. Każdy rekord jest opisany za pomocą takich wyznaczników jak na przykład: wykształcenie rodziców, pochodzenie etniczne, płeć.\n",
    "\n",
    "W ramach zadania część wykresów została przedstawiona w sposób interaktywny, co było jednym z punktów projektu. Po najechaniu na wykres wyświetlają się dodatkowe informacje dla użytkownika.\n",
    "\n",
    "\n",
    "### Przygotowanie zabioru danych\n",
    "Pierwszym etapem analizy zbioru będzie przedstawienie zawartych w nich informacji oraz określenie jego budowy. W ramach przygotowania będzie wykonane ewentualne czyszczenie danych, jeżeli zbiór będzie tego potrzebował.\n",
    "\n",
    "Poniżej zaimportowano wszystkie wymagane biblioteki do wykonania pełnej analizy zbioru."
   ]
  },
  {
   "cell_type": "code",
   "execution_count": 28,
   "metadata": {},
   "outputs": [],
   "source": [
    "import numpy as np \n",
    "import pandas as pd \n",
    "\n",
    "from sklearn.preprocessing import LabelEncoder\n",
    "\n",
    "from wordcloud import WordCloud, STOPWORDS, ImageColorGenerator\n",
    "\n",
    "import plotly.express as px\n",
    "import seaborn as sns\n",
    "import matplotlib.pyplot as plt\n",
    "%matplotlib inline"
   ]
  },
  {
   "cell_type": "markdown",
   "metadata": {},
   "source": [
    "Pobranie zbioru danych z pliku csv oraz zapisanie go w formie data frame za pomocą biblioteki pandas"
   ]
  },
  {
   "cell_type": "code",
   "execution_count": 29,
   "metadata": {},
   "outputs": [],
   "source": [
    "df = pd.read_csv(\"StudentsPerformance.csv\")"
   ]
  },
  {
   "cell_type": "markdown",
   "metadata": {},
   "source": [
    "Wyświetlenie pięć losowych rekordów ze zbioru"
   ]
  },
  {
   "cell_type": "code",
   "execution_count": 30,
   "metadata": {},
   "outputs": [
    {
     "data": {
      "text/html": [
       "<div>\n",
       "<style scoped>\n",
       "    .dataframe tbody tr th:only-of-type {\n",
       "        vertical-align: middle;\n",
       "    }\n",
       "\n",
       "    .dataframe tbody tr th {\n",
       "        vertical-align: top;\n",
       "    }\n",
       "\n",
       "    .dataframe thead th {\n",
       "        text-align: right;\n",
       "    }\n",
       "</style>\n",
       "<table border=\"1\" class=\"dataframe\">\n",
       "  <thead>\n",
       "    <tr style=\"text-align: right;\">\n",
       "      <th></th>\n",
       "      <th>gender</th>\n",
       "      <th>race/ethnicity</th>\n",
       "      <th>parental level of education</th>\n",
       "      <th>lunch</th>\n",
       "      <th>test preparation course</th>\n",
       "      <th>math score</th>\n",
       "      <th>reading score</th>\n",
       "      <th>writing score</th>\n",
       "    </tr>\n",
       "  </thead>\n",
       "  <tbody>\n",
       "    <tr>\n",
       "      <th>869</th>\n",
       "      <td>male</td>\n",
       "      <td>group C</td>\n",
       "      <td>associate's degree</td>\n",
       "      <td>free/reduced</td>\n",
       "      <td>none</td>\n",
       "      <td>49</td>\n",
       "      <td>51</td>\n",
       "      <td>51</td>\n",
       "    </tr>\n",
       "    <tr>\n",
       "      <th>324</th>\n",
       "      <td>female</td>\n",
       "      <td>group C</td>\n",
       "      <td>high school</td>\n",
       "      <td>free/reduced</td>\n",
       "      <td>none</td>\n",
       "      <td>41</td>\n",
       "      <td>46</td>\n",
       "      <td>43</td>\n",
       "    </tr>\n",
       "    <tr>\n",
       "      <th>747</th>\n",
       "      <td>male</td>\n",
       "      <td>group C</td>\n",
       "      <td>some college</td>\n",
       "      <td>standard</td>\n",
       "      <td>none</td>\n",
       "      <td>69</td>\n",
       "      <td>64</td>\n",
       "      <td>68</td>\n",
       "    </tr>\n",
       "    <tr>\n",
       "      <th>977</th>\n",
       "      <td>male</td>\n",
       "      <td>group C</td>\n",
       "      <td>associate's degree</td>\n",
       "      <td>standard</td>\n",
       "      <td>none</td>\n",
       "      <td>62</td>\n",
       "      <td>65</td>\n",
       "      <td>58</td>\n",
       "    </tr>\n",
       "    <tr>\n",
       "      <th>888</th>\n",
       "      <td>female</td>\n",
       "      <td>group D</td>\n",
       "      <td>some college</td>\n",
       "      <td>free/reduced</td>\n",
       "      <td>none</td>\n",
       "      <td>69</td>\n",
       "      <td>65</td>\n",
       "      <td>74</td>\n",
       "    </tr>\n",
       "  </tbody>\n",
       "</table>\n",
       "</div>"
      ],
      "text/plain": [
       "     gender race/ethnicity parental level of education         lunch  \\\n",
       "869    male        group C          associate's degree  free/reduced   \n",
       "324  female        group C                 high school  free/reduced   \n",
       "747    male        group C                some college      standard   \n",
       "977    male        group C          associate's degree      standard   \n",
       "888  female        group D                some college  free/reduced   \n",
       "\n",
       "    test preparation course  math score  reading score  writing score  \n",
       "869                    none          49             51             51  \n",
       "324                    none          41             46             43  \n",
       "747                    none          69             64             68  \n",
       "977                    none          62             65             58  \n",
       "888                    none          69             65             74  "
      ]
     },
     "execution_count": 30,
     "metadata": {},
     "output_type": "execute_result"
    }
   ],
   "source": [
    "df.sample(5)"
   ]
  },
  {
   "cell_type": "markdown",
   "metadata": {},
   "source": [
    "Sprawdzenie rozmiaru zbioru"
   ]
  },
  {
   "cell_type": "code",
   "execution_count": 31,
   "metadata": {},
   "outputs": [
    {
     "data": {
      "text/plain": [
       "(1000, 8)"
      ]
     },
     "execution_count": 31,
     "metadata": {},
     "output_type": "execute_result"
    }
   ],
   "source": [
    "df.shape"
   ]
  },
  {
   "cell_type": "markdown",
   "metadata": {},
   "source": [
    "Wyświetlenie informacji dotyczących kolumn opisujących każdy rekord"
   ]
  },
  {
   "cell_type": "code",
   "execution_count": 32,
   "metadata": {},
   "outputs": [
    {
     "data": {
      "text/plain": [
       "Index(['gender', 'race/ethnicity', 'parental level of education', 'lunch',\n",
       "       'test preparation course', 'math score', 'reading score',\n",
       "       'writing score'],\n",
       "      dtype='object')"
      ]
     },
     "execution_count": 32,
     "metadata": {},
     "output_type": "execute_result"
    }
   ],
   "source": [
    "df.columns"
   ]
  },
  {
   "cell_type": "markdown",
   "metadata": {},
   "source": [
    "Na podstawie powyższych informacji można stwierdzić, że zbiór posiada 1000 rekordów, a każdy rekord zawiera informacje określone w 8 kolumnach, które zostały opisane poniżej:\n",
    "\n",
    "1. Gender - płeć\n",
    "2. Race/ethnicity - pochodzenie etniczne\n",
    "3. Parental level of education - poziom wykształcenia rodziców,\n",
    "4. Lunch - rodzaj obiadu spożywany przez studenta\n",
    "5. Test preparation course - ukończenie lub brak ukończenia kursu przygotowawczego do egzaminu\n",
    "6. Math score - wynik z matematyki\n",
    "7. Reading score - wynik z egzaminu części czytanej\n",
    "8. Writing score - wynik z egzaminu części pisemnej\n",
    "\n",
    "Kolejnym krokiem jest wyświetlenie informacji ogólnych o zbiorze - informacje o brakach, jak również typ danych dla każdej kolumny. Za pomocą metody describe() wygenerowano statystki opisowe, które zawierają informację o tendencji centralnej, rozproszeniu oraz kształcie zbioru z wyłączeniem wartości nieliczbowych. "
   ]
  },
  {
   "cell_type": "code",
   "execution_count": 33,
   "metadata": {},
   "outputs": [
    {
     "name": "stdout",
     "output_type": "stream",
     "text": [
      "<class 'pandas.core.frame.DataFrame'>\n",
      "RangeIndex: 1000 entries, 0 to 999\n",
      "Data columns (total 8 columns):\n",
      " #   Column                       Non-Null Count  Dtype \n",
      "---  ------                       --------------  ----- \n",
      " 0   gender                       1000 non-null   object\n",
      " 1   race/ethnicity               1000 non-null   object\n",
      " 2   parental level of education  1000 non-null   object\n",
      " 3   lunch                        1000 non-null   object\n",
      " 4   test preparation course      1000 non-null   object\n",
      " 5   math score                   1000 non-null   int64 \n",
      " 6   reading score                1000 non-null   int64 \n",
      " 7   writing score                1000 non-null   int64 \n",
      "dtypes: int64(3), object(5)\n",
      "memory usage: 62.6+ KB\n"
     ]
    }
   ],
   "source": [
    "df.info()"
   ]
  },
  {
   "cell_type": "code",
   "execution_count": 34,
   "metadata": {},
   "outputs": [
    {
     "data": {
      "text/html": [
       "<div>\n",
       "<style scoped>\n",
       "    .dataframe tbody tr th:only-of-type {\n",
       "        vertical-align: middle;\n",
       "    }\n",
       "\n",
       "    .dataframe tbody tr th {\n",
       "        vertical-align: top;\n",
       "    }\n",
       "\n",
       "    .dataframe thead th {\n",
       "        text-align: right;\n",
       "    }\n",
       "</style>\n",
       "<table border=\"1\" class=\"dataframe\">\n",
       "  <thead>\n",
       "    <tr style=\"text-align: right;\">\n",
       "      <th></th>\n",
       "      <th>math score</th>\n",
       "      <th>reading score</th>\n",
       "      <th>writing score</th>\n",
       "    </tr>\n",
       "  </thead>\n",
       "  <tbody>\n",
       "    <tr>\n",
       "      <th>count</th>\n",
       "      <td>1000.00000</td>\n",
       "      <td>1000.000000</td>\n",
       "      <td>1000.000000</td>\n",
       "    </tr>\n",
       "    <tr>\n",
       "      <th>mean</th>\n",
       "      <td>66.08900</td>\n",
       "      <td>69.169000</td>\n",
       "      <td>68.054000</td>\n",
       "    </tr>\n",
       "    <tr>\n",
       "      <th>std</th>\n",
       "      <td>15.16308</td>\n",
       "      <td>14.600192</td>\n",
       "      <td>15.195657</td>\n",
       "    </tr>\n",
       "    <tr>\n",
       "      <th>min</th>\n",
       "      <td>0.00000</td>\n",
       "      <td>17.000000</td>\n",
       "      <td>10.000000</td>\n",
       "    </tr>\n",
       "    <tr>\n",
       "      <th>25%</th>\n",
       "      <td>57.00000</td>\n",
       "      <td>59.000000</td>\n",
       "      <td>57.750000</td>\n",
       "    </tr>\n",
       "    <tr>\n",
       "      <th>50%</th>\n",
       "      <td>66.00000</td>\n",
       "      <td>70.000000</td>\n",
       "      <td>69.000000</td>\n",
       "    </tr>\n",
       "    <tr>\n",
       "      <th>75%</th>\n",
       "      <td>77.00000</td>\n",
       "      <td>79.000000</td>\n",
       "      <td>79.000000</td>\n",
       "    </tr>\n",
       "    <tr>\n",
       "      <th>max</th>\n",
       "      <td>100.00000</td>\n",
       "      <td>100.000000</td>\n",
       "      <td>100.000000</td>\n",
       "    </tr>\n",
       "  </tbody>\n",
       "</table>\n",
       "</div>"
      ],
      "text/plain": [
       "       math score  reading score  writing score\n",
       "count  1000.00000    1000.000000    1000.000000\n",
       "mean     66.08900      69.169000      68.054000\n",
       "std      15.16308      14.600192      15.195657\n",
       "min       0.00000      17.000000      10.000000\n",
       "25%      57.00000      59.000000      57.750000\n",
       "50%      66.00000      70.000000      69.000000\n",
       "75%      77.00000      79.000000      79.000000\n",
       "max     100.00000     100.000000     100.000000"
      ]
     },
     "execution_count": 34,
     "metadata": {},
     "output_type": "execute_result"
    }
   ],
   "source": [
    "df.describe()"
   ]
  },
  {
   "cell_type": "markdown",
   "metadata": {},
   "source": [
    "Z informacji pozyskanych za pomocą metody info() można stwierdzić, że nie istnieją braki w jakiejkolwiek kolumnie. Z tego powodu nie jest wymagane czyszczenie danych, które miałoby uzupełnić ewentualne braki. Jedynymi danymi liczbowymi w kolumnach są wyniki z egzaminów z matematyki, czytania oraz pisania.\n",
    "\n",
    "W celu potwierdzenia informacji o brakach zostanie wywołana metoda do sprawdzenia wartości zerowych w kolumnach. Dodatkowo zostaną sprawdzone wartości unikatowe w każdej z kolumn."
   ]
  },
  {
   "cell_type": "code",
   "execution_count": 35,
   "metadata": {},
   "outputs": [
    {
     "data": {
      "text/plain": [
       "gender                         0\n",
       "race/ethnicity                 0\n",
       "parental level of education    0\n",
       "lunch                          0\n",
       "test preparation course        0\n",
       "math score                     0\n",
       "reading score                  0\n",
       "writing score                  0\n",
       "dtype: int64"
      ]
     },
     "execution_count": 35,
     "metadata": {},
     "output_type": "execute_result"
    }
   ],
   "source": [
    "df.isnull().sum()"
   ]
  },
  {
   "cell_type": "code",
   "execution_count": 36,
   "metadata": {},
   "outputs": [
    {
     "data": {
      "text/plain": [
       "gender                          2\n",
       "race/ethnicity                  5\n",
       "parental level of education     6\n",
       "lunch                           2\n",
       "test preparation course         2\n",
       "math score                     81\n",
       "reading score                  72\n",
       "writing score                  77\n",
       "dtype: int64"
      ]
     },
     "execution_count": 36,
     "metadata": {},
     "output_type": "execute_result"
    }
   ],
   "source": [
    "#sprawdzenie czy dane są unikalne\n",
    "df.nunique()"
   ]
  },
  {
   "cell_type": "markdown",
   "metadata": {},
   "source": [
    "Kolejnym krokiem w analizie będzie rysowanie wykresów w celu zaprezentowania różnych zależności zachodzących w zbiorze danych. \n",
    "Do rysowania wykresów różnego typu wykorzystano bibliotekę plotly oraz seaborn. \n",
    "Pierwszym z prezentowanych wykresów będzie sprawdzenie stosunku liczbowego ilościowego oraz procentowego\n",
    "obu płci za pomocą wykresu typu pie."
   ]
  },
  {
   "cell_type": "code",
   "execution_count": 37,
   "metadata": {},
   "outputs": [
    {
     "data": {
      "application/vnd.plotly.v1+json": {
       "config": {
        "plotlyServerURL": "https://plot.ly"
       },
       "data": [
        {
         "domain": {
          "x": [
           0,
           1
          ],
          "y": [
           0,
           1
          ]
         },
         "hovertemplate": "label=%{label}<br>value=%{value}<extra></extra>",
         "labels": [
          "Female",
          "Male"
         ],
         "legendgroup": "",
         "name": "",
         "showlegend": true,
         "type": "pie",
         "values": [
          518,
          482
         ]
        }
       ],
       "layout": {
        "legend": {
         "tracegroupgap": 0
        },
        "margin": {
         "t": 60
        },
        "template": {
         "data": {
          "bar": [
           {
            "error_x": {
             "color": "#2a3f5f"
            },
            "error_y": {
             "color": "#2a3f5f"
            },
            "marker": {
             "line": {
              "color": "#E5ECF6",
              "width": 0.5
             }
            },
            "type": "bar"
           }
          ],
          "barpolar": [
           {
            "marker": {
             "line": {
              "color": "#E5ECF6",
              "width": 0.5
             }
            },
            "type": "barpolar"
           }
          ],
          "carpet": [
           {
            "aaxis": {
             "endlinecolor": "#2a3f5f",
             "gridcolor": "white",
             "linecolor": "white",
             "minorgridcolor": "white",
             "startlinecolor": "#2a3f5f"
            },
            "baxis": {
             "endlinecolor": "#2a3f5f",
             "gridcolor": "white",
             "linecolor": "white",
             "minorgridcolor": "white",
             "startlinecolor": "#2a3f5f"
            },
            "type": "carpet"
           }
          ],
          "choropleth": [
           {
            "colorbar": {
             "outlinewidth": 0,
             "ticks": ""
            },
            "type": "choropleth"
           }
          ],
          "contour": [
           {
            "colorbar": {
             "outlinewidth": 0,
             "ticks": ""
            },
            "colorscale": [
             [
              0,
              "#0d0887"
             ],
             [
              0.1111111111111111,
              "#46039f"
             ],
             [
              0.2222222222222222,
              "#7201a8"
             ],
             [
              0.3333333333333333,
              "#9c179e"
             ],
             [
              0.4444444444444444,
              "#bd3786"
             ],
             [
              0.5555555555555556,
              "#d8576b"
             ],
             [
              0.6666666666666666,
              "#ed7953"
             ],
             [
              0.7777777777777778,
              "#fb9f3a"
             ],
             [
              0.8888888888888888,
              "#fdca26"
             ],
             [
              1,
              "#f0f921"
             ]
            ],
            "type": "contour"
           }
          ],
          "contourcarpet": [
           {
            "colorbar": {
             "outlinewidth": 0,
             "ticks": ""
            },
            "type": "contourcarpet"
           }
          ],
          "heatmap": [
           {
            "colorbar": {
             "outlinewidth": 0,
             "ticks": ""
            },
            "colorscale": [
             [
              0,
              "#0d0887"
             ],
             [
              0.1111111111111111,
              "#46039f"
             ],
             [
              0.2222222222222222,
              "#7201a8"
             ],
             [
              0.3333333333333333,
              "#9c179e"
             ],
             [
              0.4444444444444444,
              "#bd3786"
             ],
             [
              0.5555555555555556,
              "#d8576b"
             ],
             [
              0.6666666666666666,
              "#ed7953"
             ],
             [
              0.7777777777777778,
              "#fb9f3a"
             ],
             [
              0.8888888888888888,
              "#fdca26"
             ],
             [
              1,
              "#f0f921"
             ]
            ],
            "type": "heatmap"
           }
          ],
          "heatmapgl": [
           {
            "colorbar": {
             "outlinewidth": 0,
             "ticks": ""
            },
            "colorscale": [
             [
              0,
              "#0d0887"
             ],
             [
              0.1111111111111111,
              "#46039f"
             ],
             [
              0.2222222222222222,
              "#7201a8"
             ],
             [
              0.3333333333333333,
              "#9c179e"
             ],
             [
              0.4444444444444444,
              "#bd3786"
             ],
             [
              0.5555555555555556,
              "#d8576b"
             ],
             [
              0.6666666666666666,
              "#ed7953"
             ],
             [
              0.7777777777777778,
              "#fb9f3a"
             ],
             [
              0.8888888888888888,
              "#fdca26"
             ],
             [
              1,
              "#f0f921"
             ]
            ],
            "type": "heatmapgl"
           }
          ],
          "histogram": [
           {
            "marker": {
             "colorbar": {
              "outlinewidth": 0,
              "ticks": ""
             }
            },
            "type": "histogram"
           }
          ],
          "histogram2d": [
           {
            "colorbar": {
             "outlinewidth": 0,
             "ticks": ""
            },
            "colorscale": [
             [
              0,
              "#0d0887"
             ],
             [
              0.1111111111111111,
              "#46039f"
             ],
             [
              0.2222222222222222,
              "#7201a8"
             ],
             [
              0.3333333333333333,
              "#9c179e"
             ],
             [
              0.4444444444444444,
              "#bd3786"
             ],
             [
              0.5555555555555556,
              "#d8576b"
             ],
             [
              0.6666666666666666,
              "#ed7953"
             ],
             [
              0.7777777777777778,
              "#fb9f3a"
             ],
             [
              0.8888888888888888,
              "#fdca26"
             ],
             [
              1,
              "#f0f921"
             ]
            ],
            "type": "histogram2d"
           }
          ],
          "histogram2dcontour": [
           {
            "colorbar": {
             "outlinewidth": 0,
             "ticks": ""
            },
            "colorscale": [
             [
              0,
              "#0d0887"
             ],
             [
              0.1111111111111111,
              "#46039f"
             ],
             [
              0.2222222222222222,
              "#7201a8"
             ],
             [
              0.3333333333333333,
              "#9c179e"
             ],
             [
              0.4444444444444444,
              "#bd3786"
             ],
             [
              0.5555555555555556,
              "#d8576b"
             ],
             [
              0.6666666666666666,
              "#ed7953"
             ],
             [
              0.7777777777777778,
              "#fb9f3a"
             ],
             [
              0.8888888888888888,
              "#fdca26"
             ],
             [
              1,
              "#f0f921"
             ]
            ],
            "type": "histogram2dcontour"
           }
          ],
          "mesh3d": [
           {
            "colorbar": {
             "outlinewidth": 0,
             "ticks": ""
            },
            "type": "mesh3d"
           }
          ],
          "parcoords": [
           {
            "line": {
             "colorbar": {
              "outlinewidth": 0,
              "ticks": ""
             }
            },
            "type": "parcoords"
           }
          ],
          "pie": [
           {
            "automargin": true,
            "type": "pie"
           }
          ],
          "scatter": [
           {
            "marker": {
             "colorbar": {
              "outlinewidth": 0,
              "ticks": ""
             }
            },
            "type": "scatter"
           }
          ],
          "scatter3d": [
           {
            "line": {
             "colorbar": {
              "outlinewidth": 0,
              "ticks": ""
             }
            },
            "marker": {
             "colorbar": {
              "outlinewidth": 0,
              "ticks": ""
             }
            },
            "type": "scatter3d"
           }
          ],
          "scattercarpet": [
           {
            "marker": {
             "colorbar": {
              "outlinewidth": 0,
              "ticks": ""
             }
            },
            "type": "scattercarpet"
           }
          ],
          "scattergeo": [
           {
            "marker": {
             "colorbar": {
              "outlinewidth": 0,
              "ticks": ""
             }
            },
            "type": "scattergeo"
           }
          ],
          "scattergl": [
           {
            "marker": {
             "colorbar": {
              "outlinewidth": 0,
              "ticks": ""
             }
            },
            "type": "scattergl"
           }
          ],
          "scattermapbox": [
           {
            "marker": {
             "colorbar": {
              "outlinewidth": 0,
              "ticks": ""
             }
            },
            "type": "scattermapbox"
           }
          ],
          "scatterpolar": [
           {
            "marker": {
             "colorbar": {
              "outlinewidth": 0,
              "ticks": ""
             }
            },
            "type": "scatterpolar"
           }
          ],
          "scatterpolargl": [
           {
            "marker": {
             "colorbar": {
              "outlinewidth": 0,
              "ticks": ""
             }
            },
            "type": "scatterpolargl"
           }
          ],
          "scatterternary": [
           {
            "marker": {
             "colorbar": {
              "outlinewidth": 0,
              "ticks": ""
             }
            },
            "type": "scatterternary"
           }
          ],
          "surface": [
           {
            "colorbar": {
             "outlinewidth": 0,
             "ticks": ""
            },
            "colorscale": [
             [
              0,
              "#0d0887"
             ],
             [
              0.1111111111111111,
              "#46039f"
             ],
             [
              0.2222222222222222,
              "#7201a8"
             ],
             [
              0.3333333333333333,
              "#9c179e"
             ],
             [
              0.4444444444444444,
              "#bd3786"
             ],
             [
              0.5555555555555556,
              "#d8576b"
             ],
             [
              0.6666666666666666,
              "#ed7953"
             ],
             [
              0.7777777777777778,
              "#fb9f3a"
             ],
             [
              0.8888888888888888,
              "#fdca26"
             ],
             [
              1,
              "#f0f921"
             ]
            ],
            "type": "surface"
           }
          ],
          "table": [
           {
            "cells": {
             "fill": {
              "color": "#EBF0F8"
             },
             "line": {
              "color": "white"
             }
            },
            "header": {
             "fill": {
              "color": "#C8D4E3"
             },
             "line": {
              "color": "white"
             }
            },
            "type": "table"
           }
          ]
         },
         "layout": {
          "annotationdefaults": {
           "arrowcolor": "#2a3f5f",
           "arrowhead": 0,
           "arrowwidth": 1
          },
          "autotypenumbers": "strict",
          "coloraxis": {
           "colorbar": {
            "outlinewidth": 0,
            "ticks": ""
           }
          },
          "colorscale": {
           "diverging": [
            [
             0,
             "#8e0152"
            ],
            [
             0.1,
             "#c51b7d"
            ],
            [
             0.2,
             "#de77ae"
            ],
            [
             0.3,
             "#f1b6da"
            ],
            [
             0.4,
             "#fde0ef"
            ],
            [
             0.5,
             "#f7f7f7"
            ],
            [
             0.6,
             "#e6f5d0"
            ],
            [
             0.7,
             "#b8e186"
            ],
            [
             0.8,
             "#7fbc41"
            ],
            [
             0.9,
             "#4d9221"
            ],
            [
             1,
             "#276419"
            ]
           ],
           "sequential": [
            [
             0,
             "#0d0887"
            ],
            [
             0.1111111111111111,
             "#46039f"
            ],
            [
             0.2222222222222222,
             "#7201a8"
            ],
            [
             0.3333333333333333,
             "#9c179e"
            ],
            [
             0.4444444444444444,
             "#bd3786"
            ],
            [
             0.5555555555555556,
             "#d8576b"
            ],
            [
             0.6666666666666666,
             "#ed7953"
            ],
            [
             0.7777777777777778,
             "#fb9f3a"
            ],
            [
             0.8888888888888888,
             "#fdca26"
            ],
            [
             1,
             "#f0f921"
            ]
           ],
           "sequentialminus": [
            [
             0,
             "#0d0887"
            ],
            [
             0.1111111111111111,
             "#46039f"
            ],
            [
             0.2222222222222222,
             "#7201a8"
            ],
            [
             0.3333333333333333,
             "#9c179e"
            ],
            [
             0.4444444444444444,
             "#bd3786"
            ],
            [
             0.5555555555555556,
             "#d8576b"
            ],
            [
             0.6666666666666666,
             "#ed7953"
            ],
            [
             0.7777777777777778,
             "#fb9f3a"
            ],
            [
             0.8888888888888888,
             "#fdca26"
            ],
            [
             1,
             "#f0f921"
            ]
           ]
          },
          "colorway": [
           "#636efa",
           "#EF553B",
           "#00cc96",
           "#ab63fa",
           "#FFA15A",
           "#19d3f3",
           "#FF6692",
           "#B6E880",
           "#FF97FF",
           "#FECB52"
          ],
          "font": {
           "color": "#2a3f5f"
          },
          "geo": {
           "bgcolor": "white",
           "lakecolor": "white",
           "landcolor": "#E5ECF6",
           "showlakes": true,
           "showland": true,
           "subunitcolor": "white"
          },
          "hoverlabel": {
           "align": "left"
          },
          "hovermode": "closest",
          "mapbox": {
           "style": "light"
          },
          "paper_bgcolor": "white",
          "plot_bgcolor": "#E5ECF6",
          "polar": {
           "angularaxis": {
            "gridcolor": "white",
            "linecolor": "white",
            "ticks": ""
           },
           "bgcolor": "#E5ECF6",
           "radialaxis": {
            "gridcolor": "white",
            "linecolor": "white",
            "ticks": ""
           }
          },
          "scene": {
           "xaxis": {
            "backgroundcolor": "#E5ECF6",
            "gridcolor": "white",
            "gridwidth": 2,
            "linecolor": "white",
            "showbackground": true,
            "ticks": "",
            "zerolinecolor": "white"
           },
           "yaxis": {
            "backgroundcolor": "#E5ECF6",
            "gridcolor": "white",
            "gridwidth": 2,
            "linecolor": "white",
            "showbackground": true,
            "ticks": "",
            "zerolinecolor": "white"
           },
           "zaxis": {
            "backgroundcolor": "#E5ECF6",
            "gridcolor": "white",
            "gridwidth": 2,
            "linecolor": "white",
            "showbackground": true,
            "ticks": "",
            "zerolinecolor": "white"
           }
          },
          "shapedefaults": {
           "line": {
            "color": "#2a3f5f"
           }
          },
          "ternary": {
           "aaxis": {
            "gridcolor": "white",
            "linecolor": "white",
            "ticks": ""
           },
           "baxis": {
            "gridcolor": "white",
            "linecolor": "white",
            "ticks": ""
           },
           "bgcolor": "#E5ECF6",
           "caxis": {
            "gridcolor": "white",
            "linecolor": "white",
            "ticks": ""
           }
          },
          "title": {
           "x": 0.05
          },
          "xaxis": {
           "automargin": true,
           "gridcolor": "white",
           "linecolor": "white",
           "ticks": "",
           "title": {
            "standoff": 15
           },
           "zerolinecolor": "white",
           "zerolinewidth": 2
          },
          "yaxis": {
           "automargin": true,
           "gridcolor": "white",
           "linecolor": "white",
           "ticks": "",
           "title": {
            "standoff": 15
           },
           "zerolinecolor": "white",
           "zerolinewidth": 2
          }
         }
        }
       }
      },
      "text/html": [
       "<div>                            <div id=\"a034ba43-6249-4fea-a79b-b9ba94d38602\" class=\"plotly-graph-div\" style=\"height:525px; width:100%;\"></div>            <script type=\"text/javascript\">                require([\"plotly\"], function(Plotly) {                    window.PLOTLYENV=window.PLOTLYENV || {};                                    if (document.getElementById(\"a034ba43-6249-4fea-a79b-b9ba94d38602\")) {                    Plotly.newPlot(                        \"a034ba43-6249-4fea-a79b-b9ba94d38602\",                        [{\"domain\": {\"x\": [0.0, 1.0], \"y\": [0.0, 1.0]}, \"hovertemplate\": \"label=%{label}<br>value=%{value}<extra></extra>\", \"labels\": [\"Female\", \"Male\"], \"legendgroup\": \"\", \"name\": \"\", \"showlegend\": true, \"type\": \"pie\", \"values\": [518, 482]}],                        {\"legend\": {\"tracegroupgap\": 0}, \"margin\": {\"t\": 60}, \"template\": {\"data\": {\"bar\": [{\"error_x\": {\"color\": \"#2a3f5f\"}, \"error_y\": {\"color\": \"#2a3f5f\"}, \"marker\": {\"line\": {\"color\": \"#E5ECF6\", \"width\": 0.5}}, \"type\": \"bar\"}], \"barpolar\": [{\"marker\": {\"line\": {\"color\": \"#E5ECF6\", \"width\": 0.5}}, \"type\": \"barpolar\"}], \"carpet\": [{\"aaxis\": {\"endlinecolor\": \"#2a3f5f\", \"gridcolor\": \"white\", \"linecolor\": \"white\", \"minorgridcolor\": \"white\", \"startlinecolor\": \"#2a3f5f\"}, \"baxis\": {\"endlinecolor\": \"#2a3f5f\", \"gridcolor\": \"white\", \"linecolor\": \"white\", \"minorgridcolor\": \"white\", \"startlinecolor\": \"#2a3f5f\"}, \"type\": \"carpet\"}], \"choropleth\": [{\"colorbar\": {\"outlinewidth\": 0, \"ticks\": \"\"}, \"type\": \"choropleth\"}], \"contour\": [{\"colorbar\": {\"outlinewidth\": 0, \"ticks\": \"\"}, \"colorscale\": [[0.0, \"#0d0887\"], [0.1111111111111111, \"#46039f\"], [0.2222222222222222, \"#7201a8\"], [0.3333333333333333, \"#9c179e\"], [0.4444444444444444, \"#bd3786\"], [0.5555555555555556, \"#d8576b\"], [0.6666666666666666, \"#ed7953\"], [0.7777777777777778, \"#fb9f3a\"], [0.8888888888888888, \"#fdca26\"], [1.0, \"#f0f921\"]], \"type\": \"contour\"}], \"contourcarpet\": [{\"colorbar\": {\"outlinewidth\": 0, \"ticks\": \"\"}, \"type\": \"contourcarpet\"}], \"heatmap\": [{\"colorbar\": {\"outlinewidth\": 0, \"ticks\": \"\"}, \"colorscale\": [[0.0, \"#0d0887\"], [0.1111111111111111, \"#46039f\"], [0.2222222222222222, \"#7201a8\"], [0.3333333333333333, \"#9c179e\"], [0.4444444444444444, \"#bd3786\"], [0.5555555555555556, \"#d8576b\"], [0.6666666666666666, \"#ed7953\"], [0.7777777777777778, \"#fb9f3a\"], [0.8888888888888888, \"#fdca26\"], [1.0, \"#f0f921\"]], \"type\": \"heatmap\"}], \"heatmapgl\": [{\"colorbar\": {\"outlinewidth\": 0, \"ticks\": \"\"}, \"colorscale\": [[0.0, \"#0d0887\"], [0.1111111111111111, \"#46039f\"], [0.2222222222222222, \"#7201a8\"], [0.3333333333333333, \"#9c179e\"], [0.4444444444444444, \"#bd3786\"], [0.5555555555555556, \"#d8576b\"], [0.6666666666666666, \"#ed7953\"], [0.7777777777777778, \"#fb9f3a\"], [0.8888888888888888, \"#fdca26\"], [1.0, \"#f0f921\"]], \"type\": \"heatmapgl\"}], \"histogram\": [{\"marker\": {\"colorbar\": {\"outlinewidth\": 0, \"ticks\": \"\"}}, \"type\": \"histogram\"}], \"histogram2d\": [{\"colorbar\": {\"outlinewidth\": 0, \"ticks\": \"\"}, \"colorscale\": [[0.0, \"#0d0887\"], [0.1111111111111111, \"#46039f\"], [0.2222222222222222, \"#7201a8\"], [0.3333333333333333, \"#9c179e\"], [0.4444444444444444, \"#bd3786\"], [0.5555555555555556, \"#d8576b\"], [0.6666666666666666, \"#ed7953\"], [0.7777777777777778, \"#fb9f3a\"], [0.8888888888888888, \"#fdca26\"], [1.0, \"#f0f921\"]], \"type\": \"histogram2d\"}], \"histogram2dcontour\": [{\"colorbar\": {\"outlinewidth\": 0, \"ticks\": \"\"}, \"colorscale\": [[0.0, \"#0d0887\"], [0.1111111111111111, \"#46039f\"], [0.2222222222222222, \"#7201a8\"], [0.3333333333333333, \"#9c179e\"], [0.4444444444444444, \"#bd3786\"], [0.5555555555555556, \"#d8576b\"], [0.6666666666666666, \"#ed7953\"], [0.7777777777777778, \"#fb9f3a\"], [0.8888888888888888, \"#fdca26\"], [1.0, \"#f0f921\"]], \"type\": \"histogram2dcontour\"}], \"mesh3d\": [{\"colorbar\": {\"outlinewidth\": 0, \"ticks\": \"\"}, \"type\": \"mesh3d\"}], \"parcoords\": [{\"line\": {\"colorbar\": {\"outlinewidth\": 0, \"ticks\": \"\"}}, \"type\": \"parcoords\"}], \"pie\": [{\"automargin\": true, \"type\": \"pie\"}], \"scatter\": [{\"marker\": {\"colorbar\": {\"outlinewidth\": 0, \"ticks\": \"\"}}, \"type\": \"scatter\"}], \"scatter3d\": [{\"line\": {\"colorbar\": {\"outlinewidth\": 0, \"ticks\": \"\"}}, \"marker\": {\"colorbar\": {\"outlinewidth\": 0, \"ticks\": \"\"}}, \"type\": \"scatter3d\"}], \"scattercarpet\": [{\"marker\": {\"colorbar\": {\"outlinewidth\": 0, \"ticks\": \"\"}}, \"type\": \"scattercarpet\"}], \"scattergeo\": [{\"marker\": {\"colorbar\": {\"outlinewidth\": 0, \"ticks\": \"\"}}, \"type\": \"scattergeo\"}], \"scattergl\": [{\"marker\": {\"colorbar\": {\"outlinewidth\": 0, \"ticks\": \"\"}}, \"type\": \"scattergl\"}], \"scattermapbox\": [{\"marker\": {\"colorbar\": {\"outlinewidth\": 0, \"ticks\": \"\"}}, \"type\": \"scattermapbox\"}], \"scatterpolar\": [{\"marker\": {\"colorbar\": {\"outlinewidth\": 0, \"ticks\": \"\"}}, \"type\": \"scatterpolar\"}], \"scatterpolargl\": [{\"marker\": {\"colorbar\": {\"outlinewidth\": 0, \"ticks\": \"\"}}, \"type\": \"scatterpolargl\"}], \"scatterternary\": [{\"marker\": {\"colorbar\": {\"outlinewidth\": 0, \"ticks\": \"\"}}, \"type\": \"scatterternary\"}], \"surface\": [{\"colorbar\": {\"outlinewidth\": 0, \"ticks\": \"\"}, \"colorscale\": [[0.0, \"#0d0887\"], [0.1111111111111111, \"#46039f\"], [0.2222222222222222, \"#7201a8\"], [0.3333333333333333, \"#9c179e\"], [0.4444444444444444, \"#bd3786\"], [0.5555555555555556, \"#d8576b\"], [0.6666666666666666, \"#ed7953\"], [0.7777777777777778, \"#fb9f3a\"], [0.8888888888888888, \"#fdca26\"], [1.0, \"#f0f921\"]], \"type\": \"surface\"}], \"table\": [{\"cells\": {\"fill\": {\"color\": \"#EBF0F8\"}, \"line\": {\"color\": \"white\"}}, \"header\": {\"fill\": {\"color\": \"#C8D4E3\"}, \"line\": {\"color\": \"white\"}}, \"type\": \"table\"}]}, \"layout\": {\"annotationdefaults\": {\"arrowcolor\": \"#2a3f5f\", \"arrowhead\": 0, \"arrowwidth\": 1}, \"autotypenumbers\": \"strict\", \"coloraxis\": {\"colorbar\": {\"outlinewidth\": 0, \"ticks\": \"\"}}, \"colorscale\": {\"diverging\": [[0, \"#8e0152\"], [0.1, \"#c51b7d\"], [0.2, \"#de77ae\"], [0.3, \"#f1b6da\"], [0.4, \"#fde0ef\"], [0.5, \"#f7f7f7\"], [0.6, \"#e6f5d0\"], [0.7, \"#b8e186\"], [0.8, \"#7fbc41\"], [0.9, \"#4d9221\"], [1, \"#276419\"]], \"sequential\": [[0.0, \"#0d0887\"], [0.1111111111111111, \"#46039f\"], [0.2222222222222222, \"#7201a8\"], [0.3333333333333333, \"#9c179e\"], [0.4444444444444444, \"#bd3786\"], [0.5555555555555556, \"#d8576b\"], [0.6666666666666666, \"#ed7953\"], [0.7777777777777778, \"#fb9f3a\"], [0.8888888888888888, \"#fdca26\"], [1.0, \"#f0f921\"]], \"sequentialminus\": [[0.0, \"#0d0887\"], [0.1111111111111111, \"#46039f\"], [0.2222222222222222, \"#7201a8\"], [0.3333333333333333, \"#9c179e\"], [0.4444444444444444, \"#bd3786\"], [0.5555555555555556, \"#d8576b\"], [0.6666666666666666, \"#ed7953\"], [0.7777777777777778, \"#fb9f3a\"], [0.8888888888888888, \"#fdca26\"], [1.0, \"#f0f921\"]]}, \"colorway\": [\"#636efa\", \"#EF553B\", \"#00cc96\", \"#ab63fa\", \"#FFA15A\", \"#19d3f3\", \"#FF6692\", \"#B6E880\", \"#FF97FF\", \"#FECB52\"], \"font\": {\"color\": \"#2a3f5f\"}, \"geo\": {\"bgcolor\": \"white\", \"lakecolor\": \"white\", \"landcolor\": \"#E5ECF6\", \"showlakes\": true, \"showland\": true, \"subunitcolor\": \"white\"}, \"hoverlabel\": {\"align\": \"left\"}, \"hovermode\": \"closest\", \"mapbox\": {\"style\": \"light\"}, \"paper_bgcolor\": \"white\", \"plot_bgcolor\": \"#E5ECF6\", \"polar\": {\"angularaxis\": {\"gridcolor\": \"white\", \"linecolor\": \"white\", \"ticks\": \"\"}, \"bgcolor\": \"#E5ECF6\", \"radialaxis\": {\"gridcolor\": \"white\", \"linecolor\": \"white\", \"ticks\": \"\"}}, \"scene\": {\"xaxis\": {\"backgroundcolor\": \"#E5ECF6\", \"gridcolor\": \"white\", \"gridwidth\": 2, \"linecolor\": \"white\", \"showbackground\": true, \"ticks\": \"\", \"zerolinecolor\": \"white\"}, \"yaxis\": {\"backgroundcolor\": \"#E5ECF6\", \"gridcolor\": \"white\", \"gridwidth\": 2, \"linecolor\": \"white\", \"showbackground\": true, \"ticks\": \"\", \"zerolinecolor\": \"white\"}, \"zaxis\": {\"backgroundcolor\": \"#E5ECF6\", \"gridcolor\": \"white\", \"gridwidth\": 2, \"linecolor\": \"white\", \"showbackground\": true, \"ticks\": \"\", \"zerolinecolor\": \"white\"}}, \"shapedefaults\": {\"line\": {\"color\": \"#2a3f5f\"}}, \"ternary\": {\"aaxis\": {\"gridcolor\": \"white\", \"linecolor\": \"white\", \"ticks\": \"\"}, \"baxis\": {\"gridcolor\": \"white\", \"linecolor\": \"white\", \"ticks\": \"\"}, \"bgcolor\": \"#E5ECF6\", \"caxis\": {\"gridcolor\": \"white\", \"linecolor\": \"white\", \"ticks\": \"\"}}, \"title\": {\"x\": 0.05}, \"xaxis\": {\"automargin\": true, \"gridcolor\": \"white\", \"linecolor\": \"white\", \"ticks\": \"\", \"title\": {\"standoff\": 15}, \"zerolinecolor\": \"white\", \"zerolinewidth\": 2}, \"yaxis\": {\"automargin\": true, \"gridcolor\": \"white\", \"linecolor\": \"white\", \"ticks\": \"\", \"title\": {\"standoff\": 15}, \"zerolinecolor\": \"white\", \"zerolinewidth\": 2}}}},                        {\"responsive\": true}                    ).then(function(){\n",
       "                            \n",
       "var gd = document.getElementById('a034ba43-6249-4fea-a79b-b9ba94d38602');\n",
       "var x = new MutationObserver(function (mutations, observer) {{\n",
       "        var display = window.getComputedStyle(gd).display;\n",
       "        if (!display || display === 'none') {{\n",
       "            console.log([gd, 'removed!']);\n",
       "            Plotly.purge(gd);\n",
       "            observer.disconnect();\n",
       "        }}\n",
       "}});\n",
       "\n",
       "// Listen for the removal of the full notebook cells\n",
       "var notebookContainer = gd.closest('#notebook-container');\n",
       "if (notebookContainer) {{\n",
       "    x.observe(notebookContainer, {childList: true});\n",
       "}}\n",
       "\n",
       "// Listen for the clearing of the current output cell\n",
       "var outputEl = gd.closest('.output');\n",
       "if (outputEl) {{\n",
       "    x.observe(outputEl, {childList: true});\n",
       "}}\n",
       "\n",
       "                        })                };                });            </script>        </div>"
      ]
     },
     "metadata": {},
     "output_type": "display_data"
    }
   ],
   "source": [
    "labels = ['Female', 'Male']\n",
    "data=df['gender'].value_counts()\n",
    "fig = px.pie(df, values=data, names=labels)\n",
    "fig.show()"
   ]
  },
  {
   "cell_type": "markdown",
   "metadata": {},
   "source": [
    "W badaniu przeważają nieznaczną różnicą kobiety nad mężczyznami. Kolejnym krokiem będzie sprawdzenie liczby osób przynależących do każdej z grupy etnicznej. \n",
    "\n",
    "Do tego celu posłużono się wykresem typu histogram.\n"
   ]
  },
  {
   "cell_type": "code",
   "execution_count": 38,
   "metadata": {},
   "outputs": [
    {
     "data": {
      "application/vnd.plotly.v1+json": {
       "config": {
        "plotlyServerURL": "https://plot.ly"
       },
       "data": [
        {
         "alignmentgroup": "True",
         "bingroup": "x",
         "hovertemplate": "race/ethnicity=%{x}<br>count=%{y}<extra></extra>",
         "legendgroup": "",
         "marker": {
          "color": "#636efa"
         },
         "name": "",
         "offsetgroup": "",
         "orientation": "v",
         "showlegend": false,
         "type": "histogram",
         "x": [
          "group B",
          "group C",
          "group B",
          "group A",
          "group C",
          "group B",
          "group B",
          "group B",
          "group D",
          "group B",
          "group C",
          "group D",
          "group B",
          "group A",
          "group A",
          "group C",
          "group C",
          "group B",
          "group C",
          "group C",
          "group D",
          "group B",
          "group D",
          "group C",
          "group D",
          "group A",
          "group B",
          "group C",
          "group C",
          "group D",
          "group D",
          "group B",
          "group E",
          "group D",
          "group E",
          "group E",
          "group D",
          "group D",
          "group D",
          "group B",
          "group C",
          "group C",
          "group B",
          "group B",
          "group E",
          "group B",
          "group A",
          "group C",
          "group D",
          "group C",
          "group E",
          "group E",
          "group C",
          "group D",
          "group C",
          "group C",
          "group E",
          "group D",
          "group D",
          "group C",
          "group E",
          "group A",
          "group A",
          "group C",
          "group D",
          "group B",
          "group D",
          "group C",
          "group B",
          "group C",
          "group D",
          "group D",
          "group A",
          "group C",
          "group C",
          "group B",
          "group E",
          "group A",
          "group D",
          "group E",
          "group B",
          "group B",
          "group A",
          "group E",
          "group D",
          "group C",
          "group C",
          "group D",
          "group A",
          "group D",
          "group C",
          "group C",
          "group C",
          "group C",
          "group B",
          "group C",
          "group B",
          "group E",
          "group D",
          "group D",
          "group B",
          "group D",
          "group D",
          "group B",
          "group C",
          "group C",
          "group D",
          "group E",
          "group B",
          "group B",
          "group D",
          "group C",
          "group A",
          "group D",
          "group E",
          "group C",
          "group B",
          "group D",
          "group D",
          "group C",
          "group C",
          "group B",
          "group C",
          "group D",
          "group E",
          "group B",
          "group B",
          "group D",
          "group D",
          "group A",
          "group D",
          "group C",
          "group E",
          "group C",
          "group D",
          "group C",
          "group B",
          "group E",
          "group C",
          "group D",
          "group D",
          "group C",
          "group E",
          "group A",
          "group D",
          "group C",
          "group B",
          "group C",
          "group D",
          "group E",
          "group A",
          "group A",
          "group B",
          "group D",
          "group D",
          "group C",
          "group E",
          "group B",
          "group B",
          "group D",
          "group B",
          "group E",
          "group B",
          "group C",
          "group E",
          "group C",
          "group C",
          "group B",
          "group B",
          "group C",
          "group A",
          "group E",
          "group D",
          "group C",
          "group C",
          "group C",
          "group B",
          "group C",
          "group B",
          "group D",
          "group C",
          "group C",
          "group E",
          "group D",
          "group C",
          "group C",
          "group E",
          "group D",
          "group B",
          "group C",
          "group E",
          "group D",
          "group B",
          "group D",
          "group C",
          "group D",
          "group C",
          "group E",
          "group B",
          "group B",
          "group C",
          "group D",
          "group C",
          "group B",
          "group C",
          "group D",
          "group E",
          "group E",
          "group B",
          "group B",
          "group D",
          "group C",
          "group C",
          "group C",
          "group E",
          "group B",
          "group E",
          "group C",
          "group B",
          "group B",
          "group D",
          "group B",
          "group C",
          "group D",
          "group B",
          "group E",
          "group C",
          "group D",
          "group A",
          "group C",
          "group D",
          "group C",
          "group B",
          "group E",
          "group C",
          "group D",
          "group D",
          "group D",
          "group B",
          "group C",
          "group D",
          "group E",
          "group D",
          "group E",
          "group D",
          "group C",
          "group E",
          "group B",
          "group B",
          "group C",
          "group A",
          "group D",
          "group B",
          "group D",
          "group D",
          "group E",
          "group C",
          "group C",
          "group B",
          "group C",
          "group C",
          "group C",
          "group C",
          "group E",
          "group D",
          "group D",
          "group C",
          "group D",
          "group D",
          "group E",
          "group C",
          "group C",
          "group D",
          "group D",
          "group B",
          "group C",
          "group C",
          "group E",
          "group C",
          "group B",
          "group D",
          "group D",
          "group D",
          "group D",
          "group B",
          "group B",
          "group E",
          "group B",
          "group B",
          "group E",
          "group C",
          "group D",
          "group C",
          "group E",
          "group D",
          "group B",
          "group A",
          "group E",
          "group C",
          "group D",
          "group A",
          "group D",
          "group C",
          "group B",
          "group C",
          "group A",
          "group E",
          "group C",
          "group B",
          "group D",
          "group B",
          "group B",
          "group D",
          "group C",
          "group C",
          "group C",
          "group D",
          "group C",
          "group B",
          "group D",
          "group C",
          "group E",
          "group C",
          "group C",
          "group C",
          "group C",
          "group C",
          "group A",
          "group C",
          "group B",
          "group C",
          "group C",
          "group E",
          "group B",
          "group C",
          "group B",
          "group D",
          "group C",
          "group B",
          "group D",
          "group C",
          "group C",
          "group B",
          "group D",
          "group D",
          "group C",
          "group B",
          "group C",
          "group D",
          "group E",
          "group B",
          "group E",
          "group C",
          "group C",
          "group C",
          "group B",
          "group A",
          "group C",
          "group D",
          "group D",
          "group B",
          "group B",
          "group C",
          "group D",
          "group C",
          "group A",
          "group C",
          "group C",
          "group A",
          "group D",
          "group E",
          "group C",
          "group D",
          "group D",
          "group D",
          "group E",
          "group D",
          "group D",
          "group A",
          "group A",
          "group B",
          "group C",
          "group C",
          "group E",
          "group A",
          "group E",
          "group E",
          "group C",
          "group D",
          "group D",
          "group E",
          "group D",
          "group E",
          "group C",
          "group C",
          "group A",
          "group B",
          "group C",
          "group B",
          "group D",
          "group C",
          "group A",
          "group A",
          "group D",
          "group C",
          "group C",
          "group B",
          "group B",
          "group D",
          "group D",
          "group D",
          "group E",
          "group D",
          "group B",
          "group C",
          "group E",
          "group C",
          "group C",
          "group D",
          "group E",
          "group C",
          "group D",
          "group D",
          "group A",
          "group B",
          "group C",
          "group C",
          "group C",
          "group A",
          "group C",
          "group C",
          "group C",
          "group C",
          "group A",
          "group C",
          "group C",
          "group D",
          "group D",
          "group C",
          "group D",
          "group C",
          "group D",
          "group A",
          "group B",
          "group A",
          "group C",
          "group D",
          "group C",
          "group B",
          "group B",
          "group C",
          "group E",
          "group C",
          "group C",
          "group C",
          "group C",
          "group D",
          "group D",
          "group E",
          "group B",
          "group C",
          "group B",
          "group E",
          "group C",
          "group A",
          "group C",
          "group D",
          "group A",
          "group A",
          "group C",
          "group C",
          "group C",
          "group C",
          "group D",
          "group B",
          "group D",
          "group E",
          "group D",
          "group D",
          "group E",
          "group B",
          "group D",
          "group C",
          "group A",
          "group B",
          "group C",
          "group D",
          "group C",
          "group B",
          "group A",
          "group A",
          "group C",
          "group C",
          "group C",
          "group B",
          "group D",
          "group C",
          "group D",
          "group B",
          "group E",
          "group D",
          "group B",
          "group C",
          "group E",
          "group D",
          "group B",
          "group A",
          "group B",
          "group C",
          "group C",
          "group D",
          "group A",
          "group D",
          "group B",
          "group B",
          "group C",
          "group D",
          "group E",
          "group D",
          "group B",
          "group D",
          "group C",
          "group D",
          "group C",
          "group C",
          "group E",
          "group C",
          "group C",
          "group D",
          "group C",
          "group C",
          "group C",
          "group E",
          "group E",
          "group B",
          "group C",
          "group C",
          "group D",
          "group E",
          "group A",
          "group C",
          "group D",
          "group C",
          "group D",
          "group D",
          "group E",
          "group A",
          "group C",
          "group C",
          "group C",
          "group C",
          "group B",
          "group B",
          "group D",
          "group E",
          "group C",
          "group C",
          "group C",
          "group B",
          "group D",
          "group D",
          "group C",
          "group C",
          "group D",
          "group B",
          "group B",
          "group E",
          "group D",
          "group B",
          "group D",
          "group B",
          "group A",
          "group C",
          "group C",
          "group E",
          "group A",
          "group A",
          "group B",
          "group B",
          "group D",
          "group D",
          "group E",
          "group D",
          "group D",
          "group D",
          "group C",
          "group A",
          "group C",
          "group C",
          "group A",
          "group C",
          "group A",
          "group E",
          "group E",
          "group C",
          "group C",
          "group B",
          "group A",
          "group D",
          "group D",
          "group D",
          "group C",
          "group E",
          "group D",
          "group D",
          "group C",
          "group C",
          "group C",
          "group E",
          "group B",
          "group D",
          "group C",
          "group C",
          "group C",
          "group A",
          "group C",
          "group E",
          "group D",
          "group D",
          "group C",
          "group C",
          "group B",
          "group C",
          "group A",
          "group E",
          "group D",
          "group B",
          "group D",
          "group D",
          "group C",
          "group D",
          "group B",
          "group B",
          "group C",
          "group D",
          "group A",
          "group B",
          "group D",
          "group E",
          "group D",
          "group D",
          "group D",
          "group B",
          "group E",
          "group B",
          "group B",
          "group D",
          "group E",
          "group B",
          "group D",
          "group C",
          "group A",
          "group D",
          "group A",
          "group B",
          "group B",
          "group C",
          "group D",
          "group D",
          "group D",
          "group C",
          "group C",
          "group D",
          "group C",
          "group D",
          "group C",
          "group C",
          "group B",
          "group C",
          "group D",
          "group C",
          "group D",
          "group C",
          "group C",
          "group D",
          "group B",
          "group E",
          "group C",
          "group D",
          "group D",
          "group D",
          "group B",
          "group B",
          "group C",
          "group B",
          "group E",
          "group E",
          "group D",
          "group A",
          "group E",
          "group C",
          "group E",
          "group C",
          "group D",
          "group C",
          "group D",
          "group C",
          "group A",
          "group D",
          "group C",
          "group E",
          "group B",
          "group A",
          "group D",
          "group B",
          "group A",
          "group D",
          "group C",
          "group D",
          "group D",
          "group C",
          "group E",
          "group D",
          "group D",
          "group B",
          "group B",
          "group C",
          "group C",
          "group C",
          "group E",
          "group C",
          "group D",
          "group B",
          "group C",
          "group B",
          "group E",
          "group E",
          "group E",
          "group D",
          "group C",
          "group B",
          "group A",
          "group C",
          "group D",
          "group E",
          "group C",
          "group C",
          "group B",
          "group D",
          "group C",
          "group D",
          "group A",
          "group C",
          "group C",
          "group B",
          "group D",
          "group D",
          "group C",
          "group C",
          "group B",
          "group D",
          "group E",
          "group C",
          "group C",
          "group C",
          "group E",
          "group D",
          "group E",
          "group D",
          "group B",
          "group C",
          "group D",
          "group D",
          "group B",
          "group D",
          "group B",
          "group C",
          "group B",
          "group D",
          "group A",
          "group B",
          "group D",
          "group B",
          "group C",
          "group B",
          "group B",
          "group B",
          "group C",
          "group A",
          "group E",
          "group D",
          "group B",
          "group B",
          "group C",
          "group C",
          "group B",
          "group E",
          "group B",
          "group C",
          "group C",
          "group B",
          "group D",
          "group D",
          "group E",
          "group B",
          "group E",
          "group D",
          "group E",
          "group E",
          "group C",
          "group C",
          "group C",
          "group E",
          "group B",
          "group C",
          "group A",
          "group D",
          "group E",
          "group C",
          "group B",
          "group A",
          "group A",
          "group C",
          "group E",
          "group C",
          "group B",
          "group A",
          "group D",
          "group B",
          "group C",
          "group A",
          "group D",
          "group E",
          "group B",
          "group C",
          "group C",
          "group C",
          "group C",
          "group D",
          "group B",
          "group A",
          "group C",
          "group A",
          "group B",
          "group B",
          "group C",
          "group E",
          "group A",
          "group B",
          "group C",
          "group D",
          "group C",
          "group B",
          "group B",
          "group D",
          "group E",
          "group C",
          "group D",
          "group C",
          "group D",
          "group C",
          "group A",
          "group E",
          "group E",
          "group C",
          "group B",
          "group B",
          "group C",
          "group B",
          "group C",
          "group C",
          "group E",
          "group D",
          "group C",
          "group C",
          "group D",
          "group C",
          "group B",
          "group E",
          "group C",
          "group B",
          "group C",
          "group B",
          "group E",
          "group C",
          "group C",
          "group D",
          "group C",
          "group D",
          "group D",
          "group C",
          "group E",
          "group B",
          "group D",
          "group E",
          "group C",
          "group E",
          "group C",
          "group D",
          "group D",
          "group E",
          "group E",
          "group A",
          "group D",
          "group E",
          "group E",
          "group B",
          "group B",
          "group D",
          "group D",
          "group D",
          "group C",
          "group A",
          "group D",
          "group D",
          "group D",
          "group B",
          "group D",
          "group C",
          "group E",
          "group D",
          "group A",
          "group C",
          "group C",
          "group B",
          "group E",
          "group E",
          "group C",
          "group C",
          "group B",
          "group D",
          "group C",
          "group D",
          "group B",
          "group D",
          "group E",
          "group E",
          "group D",
          "group E",
          "group C",
          "group C",
          "group D",
          "group D",
          "group C",
          "group C",
          "group D",
          "group A",
          "group E",
          "group D",
          "group D",
          "group C",
          "group D",
          "group C",
          "group A",
          "group B",
          "group C",
          "group B",
          "group D",
          "group B",
          "group E",
          "group E",
          "group D",
          "group E",
          "group C",
          "group C",
          "group E",
          "group C",
          "group D",
          "group D",
          "group C",
          "group A",
          "group D",
          "group E",
          "group C",
          "group D",
          "group D",
          "group A",
          "group C",
          "group E",
          "group B",
          "group D",
          "group C",
          "group A",
          "group D",
          "group A",
          "group C",
          "group B",
          "group C",
          "group D",
          "group C",
          "group B",
          "group D",
          "group B",
          "group A",
          "group C",
          "group A",
          "group C",
          "group E",
          "group A",
          "group D",
          "group E",
          "group B",
          "group D",
          "group D",
          "group A",
          "group E",
          "group C",
          "group C",
          "group D",
          "group D"
         ],
         "xaxis": "x",
         "yaxis": "y"
        }
       ],
       "layout": {
        "barmode": "relative",
        "legend": {
         "tracegroupgap": 0
        },
        "margin": {
         "t": 60
        },
        "template": {
         "data": {
          "bar": [
           {
            "error_x": {
             "color": "#2a3f5f"
            },
            "error_y": {
             "color": "#2a3f5f"
            },
            "marker": {
             "line": {
              "color": "#E5ECF6",
              "width": 0.5
             }
            },
            "type": "bar"
           }
          ],
          "barpolar": [
           {
            "marker": {
             "line": {
              "color": "#E5ECF6",
              "width": 0.5
             }
            },
            "type": "barpolar"
           }
          ],
          "carpet": [
           {
            "aaxis": {
             "endlinecolor": "#2a3f5f",
             "gridcolor": "white",
             "linecolor": "white",
             "minorgridcolor": "white",
             "startlinecolor": "#2a3f5f"
            },
            "baxis": {
             "endlinecolor": "#2a3f5f",
             "gridcolor": "white",
             "linecolor": "white",
             "minorgridcolor": "white",
             "startlinecolor": "#2a3f5f"
            },
            "type": "carpet"
           }
          ],
          "choropleth": [
           {
            "colorbar": {
             "outlinewidth": 0,
             "ticks": ""
            },
            "type": "choropleth"
           }
          ],
          "contour": [
           {
            "colorbar": {
             "outlinewidth": 0,
             "ticks": ""
            },
            "colorscale": [
             [
              0,
              "#0d0887"
             ],
             [
              0.1111111111111111,
              "#46039f"
             ],
             [
              0.2222222222222222,
              "#7201a8"
             ],
             [
              0.3333333333333333,
              "#9c179e"
             ],
             [
              0.4444444444444444,
              "#bd3786"
             ],
             [
              0.5555555555555556,
              "#d8576b"
             ],
             [
              0.6666666666666666,
              "#ed7953"
             ],
             [
              0.7777777777777778,
              "#fb9f3a"
             ],
             [
              0.8888888888888888,
              "#fdca26"
             ],
             [
              1,
              "#f0f921"
             ]
            ],
            "type": "contour"
           }
          ],
          "contourcarpet": [
           {
            "colorbar": {
             "outlinewidth": 0,
             "ticks": ""
            },
            "type": "contourcarpet"
           }
          ],
          "heatmap": [
           {
            "colorbar": {
             "outlinewidth": 0,
             "ticks": ""
            },
            "colorscale": [
             [
              0,
              "#0d0887"
             ],
             [
              0.1111111111111111,
              "#46039f"
             ],
             [
              0.2222222222222222,
              "#7201a8"
             ],
             [
              0.3333333333333333,
              "#9c179e"
             ],
             [
              0.4444444444444444,
              "#bd3786"
             ],
             [
              0.5555555555555556,
              "#d8576b"
             ],
             [
              0.6666666666666666,
              "#ed7953"
             ],
             [
              0.7777777777777778,
              "#fb9f3a"
             ],
             [
              0.8888888888888888,
              "#fdca26"
             ],
             [
              1,
              "#f0f921"
             ]
            ],
            "type": "heatmap"
           }
          ],
          "heatmapgl": [
           {
            "colorbar": {
             "outlinewidth": 0,
             "ticks": ""
            },
            "colorscale": [
             [
              0,
              "#0d0887"
             ],
             [
              0.1111111111111111,
              "#46039f"
             ],
             [
              0.2222222222222222,
              "#7201a8"
             ],
             [
              0.3333333333333333,
              "#9c179e"
             ],
             [
              0.4444444444444444,
              "#bd3786"
             ],
             [
              0.5555555555555556,
              "#d8576b"
             ],
             [
              0.6666666666666666,
              "#ed7953"
             ],
             [
              0.7777777777777778,
              "#fb9f3a"
             ],
             [
              0.8888888888888888,
              "#fdca26"
             ],
             [
              1,
              "#f0f921"
             ]
            ],
            "type": "heatmapgl"
           }
          ],
          "histogram": [
           {
            "marker": {
             "colorbar": {
              "outlinewidth": 0,
              "ticks": ""
             }
            },
            "type": "histogram"
           }
          ],
          "histogram2d": [
           {
            "colorbar": {
             "outlinewidth": 0,
             "ticks": ""
            },
            "colorscale": [
             [
              0,
              "#0d0887"
             ],
             [
              0.1111111111111111,
              "#46039f"
             ],
             [
              0.2222222222222222,
              "#7201a8"
             ],
             [
              0.3333333333333333,
              "#9c179e"
             ],
             [
              0.4444444444444444,
              "#bd3786"
             ],
             [
              0.5555555555555556,
              "#d8576b"
             ],
             [
              0.6666666666666666,
              "#ed7953"
             ],
             [
              0.7777777777777778,
              "#fb9f3a"
             ],
             [
              0.8888888888888888,
              "#fdca26"
             ],
             [
              1,
              "#f0f921"
             ]
            ],
            "type": "histogram2d"
           }
          ],
          "histogram2dcontour": [
           {
            "colorbar": {
             "outlinewidth": 0,
             "ticks": ""
            },
            "colorscale": [
             [
              0,
              "#0d0887"
             ],
             [
              0.1111111111111111,
              "#46039f"
             ],
             [
              0.2222222222222222,
              "#7201a8"
             ],
             [
              0.3333333333333333,
              "#9c179e"
             ],
             [
              0.4444444444444444,
              "#bd3786"
             ],
             [
              0.5555555555555556,
              "#d8576b"
             ],
             [
              0.6666666666666666,
              "#ed7953"
             ],
             [
              0.7777777777777778,
              "#fb9f3a"
             ],
             [
              0.8888888888888888,
              "#fdca26"
             ],
             [
              1,
              "#f0f921"
             ]
            ],
            "type": "histogram2dcontour"
           }
          ],
          "mesh3d": [
           {
            "colorbar": {
             "outlinewidth": 0,
             "ticks": ""
            },
            "type": "mesh3d"
           }
          ],
          "parcoords": [
           {
            "line": {
             "colorbar": {
              "outlinewidth": 0,
              "ticks": ""
             }
            },
            "type": "parcoords"
           }
          ],
          "pie": [
           {
            "automargin": true,
            "type": "pie"
           }
          ],
          "scatter": [
           {
            "marker": {
             "colorbar": {
              "outlinewidth": 0,
              "ticks": ""
             }
            },
            "type": "scatter"
           }
          ],
          "scatter3d": [
           {
            "line": {
             "colorbar": {
              "outlinewidth": 0,
              "ticks": ""
             }
            },
            "marker": {
             "colorbar": {
              "outlinewidth": 0,
              "ticks": ""
             }
            },
            "type": "scatter3d"
           }
          ],
          "scattercarpet": [
           {
            "marker": {
             "colorbar": {
              "outlinewidth": 0,
              "ticks": ""
             }
            },
            "type": "scattercarpet"
           }
          ],
          "scattergeo": [
           {
            "marker": {
             "colorbar": {
              "outlinewidth": 0,
              "ticks": ""
             }
            },
            "type": "scattergeo"
           }
          ],
          "scattergl": [
           {
            "marker": {
             "colorbar": {
              "outlinewidth": 0,
              "ticks": ""
             }
            },
            "type": "scattergl"
           }
          ],
          "scattermapbox": [
           {
            "marker": {
             "colorbar": {
              "outlinewidth": 0,
              "ticks": ""
             }
            },
            "type": "scattermapbox"
           }
          ],
          "scatterpolar": [
           {
            "marker": {
             "colorbar": {
              "outlinewidth": 0,
              "ticks": ""
             }
            },
            "type": "scatterpolar"
           }
          ],
          "scatterpolargl": [
           {
            "marker": {
             "colorbar": {
              "outlinewidth": 0,
              "ticks": ""
             }
            },
            "type": "scatterpolargl"
           }
          ],
          "scatterternary": [
           {
            "marker": {
             "colorbar": {
              "outlinewidth": 0,
              "ticks": ""
             }
            },
            "type": "scatterternary"
           }
          ],
          "surface": [
           {
            "colorbar": {
             "outlinewidth": 0,
             "ticks": ""
            },
            "colorscale": [
             [
              0,
              "#0d0887"
             ],
             [
              0.1111111111111111,
              "#46039f"
             ],
             [
              0.2222222222222222,
              "#7201a8"
             ],
             [
              0.3333333333333333,
              "#9c179e"
             ],
             [
              0.4444444444444444,
              "#bd3786"
             ],
             [
              0.5555555555555556,
              "#d8576b"
             ],
             [
              0.6666666666666666,
              "#ed7953"
             ],
             [
              0.7777777777777778,
              "#fb9f3a"
             ],
             [
              0.8888888888888888,
              "#fdca26"
             ],
             [
              1,
              "#f0f921"
             ]
            ],
            "type": "surface"
           }
          ],
          "table": [
           {
            "cells": {
             "fill": {
              "color": "#EBF0F8"
             },
             "line": {
              "color": "white"
             }
            },
            "header": {
             "fill": {
              "color": "#C8D4E3"
             },
             "line": {
              "color": "white"
             }
            },
            "type": "table"
           }
          ]
         },
         "layout": {
          "annotationdefaults": {
           "arrowcolor": "#2a3f5f",
           "arrowhead": 0,
           "arrowwidth": 1
          },
          "autotypenumbers": "strict",
          "coloraxis": {
           "colorbar": {
            "outlinewidth": 0,
            "ticks": ""
           }
          },
          "colorscale": {
           "diverging": [
            [
             0,
             "#8e0152"
            ],
            [
             0.1,
             "#c51b7d"
            ],
            [
             0.2,
             "#de77ae"
            ],
            [
             0.3,
             "#f1b6da"
            ],
            [
             0.4,
             "#fde0ef"
            ],
            [
             0.5,
             "#f7f7f7"
            ],
            [
             0.6,
             "#e6f5d0"
            ],
            [
             0.7,
             "#b8e186"
            ],
            [
             0.8,
             "#7fbc41"
            ],
            [
             0.9,
             "#4d9221"
            ],
            [
             1,
             "#276419"
            ]
           ],
           "sequential": [
            [
             0,
             "#0d0887"
            ],
            [
             0.1111111111111111,
             "#46039f"
            ],
            [
             0.2222222222222222,
             "#7201a8"
            ],
            [
             0.3333333333333333,
             "#9c179e"
            ],
            [
             0.4444444444444444,
             "#bd3786"
            ],
            [
             0.5555555555555556,
             "#d8576b"
            ],
            [
             0.6666666666666666,
             "#ed7953"
            ],
            [
             0.7777777777777778,
             "#fb9f3a"
            ],
            [
             0.8888888888888888,
             "#fdca26"
            ],
            [
             1,
             "#f0f921"
            ]
           ],
           "sequentialminus": [
            [
             0,
             "#0d0887"
            ],
            [
             0.1111111111111111,
             "#46039f"
            ],
            [
             0.2222222222222222,
             "#7201a8"
            ],
            [
             0.3333333333333333,
             "#9c179e"
            ],
            [
             0.4444444444444444,
             "#bd3786"
            ],
            [
             0.5555555555555556,
             "#d8576b"
            ],
            [
             0.6666666666666666,
             "#ed7953"
            ],
            [
             0.7777777777777778,
             "#fb9f3a"
            ],
            [
             0.8888888888888888,
             "#fdca26"
            ],
            [
             1,
             "#f0f921"
            ]
           ]
          },
          "colorway": [
           "#636efa",
           "#EF553B",
           "#00cc96",
           "#ab63fa",
           "#FFA15A",
           "#19d3f3",
           "#FF6692",
           "#B6E880",
           "#FF97FF",
           "#FECB52"
          ],
          "font": {
           "color": "#2a3f5f"
          },
          "geo": {
           "bgcolor": "white",
           "lakecolor": "white",
           "landcolor": "#E5ECF6",
           "showlakes": true,
           "showland": true,
           "subunitcolor": "white"
          },
          "hoverlabel": {
           "align": "left"
          },
          "hovermode": "closest",
          "mapbox": {
           "style": "light"
          },
          "paper_bgcolor": "white",
          "plot_bgcolor": "#E5ECF6",
          "polar": {
           "angularaxis": {
            "gridcolor": "white",
            "linecolor": "white",
            "ticks": ""
           },
           "bgcolor": "#E5ECF6",
           "radialaxis": {
            "gridcolor": "white",
            "linecolor": "white",
            "ticks": ""
           }
          },
          "scene": {
           "xaxis": {
            "backgroundcolor": "#E5ECF6",
            "gridcolor": "white",
            "gridwidth": 2,
            "linecolor": "white",
            "showbackground": true,
            "ticks": "",
            "zerolinecolor": "white"
           },
           "yaxis": {
            "backgroundcolor": "#E5ECF6",
            "gridcolor": "white",
            "gridwidth": 2,
            "linecolor": "white",
            "showbackground": true,
            "ticks": "",
            "zerolinecolor": "white"
           },
           "zaxis": {
            "backgroundcolor": "#E5ECF6",
            "gridcolor": "white",
            "gridwidth": 2,
            "linecolor": "white",
            "showbackground": true,
            "ticks": "",
            "zerolinecolor": "white"
           }
          },
          "shapedefaults": {
           "line": {
            "color": "#2a3f5f"
           }
          },
          "ternary": {
           "aaxis": {
            "gridcolor": "white",
            "linecolor": "white",
            "ticks": ""
           },
           "baxis": {
            "gridcolor": "white",
            "linecolor": "white",
            "ticks": ""
           },
           "bgcolor": "#E5ECF6",
           "caxis": {
            "gridcolor": "white",
            "linecolor": "white",
            "ticks": ""
           }
          },
          "title": {
           "x": 0.05
          },
          "xaxis": {
           "automargin": true,
           "gridcolor": "white",
           "linecolor": "white",
           "ticks": "",
           "title": {
            "standoff": 15
           },
           "zerolinecolor": "white",
           "zerolinewidth": 2
          },
          "yaxis": {
           "automargin": true,
           "gridcolor": "white",
           "linecolor": "white",
           "ticks": "",
           "title": {
            "standoff": 15
           },
           "zerolinecolor": "white",
           "zerolinewidth": 2
          }
         }
        },
        "xaxis": {
         "anchor": "y",
         "domain": [
          0,
          1
         ],
         "title": {
          "text": "race/ethnicity"
         }
        },
        "yaxis": {
         "anchor": "x",
         "domain": [
          0,
          1
         ],
         "title": {
          "text": "count"
         }
        }
       }
      },
      "text/html": [
       "<div>                            <div id=\"7c80ce55-7e48-43a4-86e7-7d562f34a412\" class=\"plotly-graph-div\" style=\"height:525px; width:100%;\"></div>            <script type=\"text/javascript\">                require([\"plotly\"], function(Plotly) {                    window.PLOTLYENV=window.PLOTLYENV || {};                                    if (document.getElementById(\"7c80ce55-7e48-43a4-86e7-7d562f34a412\")) {                    Plotly.newPlot(                        \"7c80ce55-7e48-43a4-86e7-7d562f34a412\",                        [{\"alignmentgroup\": \"True\", \"bingroup\": \"x\", \"hovertemplate\": \"race/ethnicity=%{x}<br>count=%{y}<extra></extra>\", \"legendgroup\": \"\", \"marker\": {\"color\": \"#636efa\"}, \"name\": \"\", \"offsetgroup\": \"\", \"orientation\": \"v\", \"showlegend\": false, \"type\": \"histogram\", \"x\": [\"group B\", \"group C\", \"group B\", \"group A\", \"group C\", \"group B\", \"group B\", \"group B\", \"group D\", \"group B\", \"group C\", \"group D\", \"group B\", \"group A\", \"group A\", \"group C\", \"group C\", \"group B\", \"group C\", \"group C\", \"group D\", \"group B\", \"group D\", \"group C\", \"group D\", \"group A\", \"group B\", \"group C\", \"group C\", \"group D\", \"group D\", \"group B\", \"group E\", \"group D\", \"group E\", \"group E\", \"group D\", \"group D\", \"group D\", \"group B\", \"group C\", \"group C\", \"group B\", \"group B\", \"group E\", \"group B\", \"group A\", \"group C\", \"group D\", \"group C\", \"group E\", \"group E\", \"group C\", \"group D\", \"group C\", \"group C\", \"group E\", \"group D\", \"group D\", \"group C\", \"group E\", \"group A\", \"group A\", \"group C\", \"group D\", \"group B\", \"group D\", \"group C\", \"group B\", \"group C\", \"group D\", \"group D\", \"group A\", \"group C\", \"group C\", \"group B\", \"group E\", \"group A\", \"group D\", \"group E\", \"group B\", \"group B\", \"group A\", \"group E\", \"group D\", \"group C\", \"group C\", \"group D\", \"group A\", \"group D\", \"group C\", \"group C\", \"group C\", \"group C\", \"group B\", \"group C\", \"group B\", \"group E\", \"group D\", \"group D\", \"group B\", \"group D\", \"group D\", \"group B\", \"group C\", \"group C\", \"group D\", \"group E\", \"group B\", \"group B\", \"group D\", \"group C\", \"group A\", \"group D\", \"group E\", \"group C\", \"group B\", \"group D\", \"group D\", \"group C\", \"group C\", \"group B\", \"group C\", \"group D\", \"group E\", \"group B\", \"group B\", \"group D\", \"group D\", \"group A\", \"group D\", \"group C\", \"group E\", \"group C\", \"group D\", \"group C\", \"group B\", \"group E\", \"group C\", \"group D\", \"group D\", \"group C\", \"group E\", \"group A\", \"group D\", \"group C\", \"group B\", \"group C\", \"group D\", \"group E\", \"group A\", \"group A\", \"group B\", \"group D\", \"group D\", \"group C\", \"group E\", \"group B\", \"group B\", \"group D\", \"group B\", \"group E\", \"group B\", \"group C\", \"group E\", \"group C\", \"group C\", \"group B\", \"group B\", \"group C\", \"group A\", \"group E\", \"group D\", \"group C\", \"group C\", \"group C\", \"group B\", \"group C\", \"group B\", \"group D\", \"group C\", \"group C\", \"group E\", \"group D\", \"group C\", \"group C\", \"group E\", \"group D\", \"group B\", \"group C\", \"group E\", \"group D\", \"group B\", \"group D\", \"group C\", \"group D\", \"group C\", \"group E\", \"group B\", \"group B\", \"group C\", \"group D\", \"group C\", \"group B\", \"group C\", \"group D\", \"group E\", \"group E\", \"group B\", \"group B\", \"group D\", \"group C\", \"group C\", \"group C\", \"group E\", \"group B\", \"group E\", \"group C\", \"group B\", \"group B\", \"group D\", \"group B\", \"group C\", \"group D\", \"group B\", \"group E\", \"group C\", \"group D\", \"group A\", \"group C\", \"group D\", \"group C\", \"group B\", \"group E\", \"group C\", \"group D\", \"group D\", \"group D\", \"group B\", \"group C\", \"group D\", \"group E\", \"group D\", \"group E\", \"group D\", \"group C\", \"group E\", \"group B\", \"group B\", \"group C\", \"group A\", \"group D\", \"group B\", \"group D\", \"group D\", \"group E\", \"group C\", \"group C\", \"group B\", \"group C\", \"group C\", \"group C\", \"group C\", \"group E\", \"group D\", \"group D\", \"group C\", \"group D\", \"group D\", \"group E\", \"group C\", \"group C\", \"group D\", \"group D\", \"group B\", \"group C\", \"group C\", \"group E\", \"group C\", \"group B\", \"group D\", \"group D\", \"group D\", \"group D\", \"group B\", \"group B\", \"group E\", \"group B\", \"group B\", \"group E\", \"group C\", \"group D\", \"group C\", \"group E\", \"group D\", \"group B\", \"group A\", \"group E\", \"group C\", \"group D\", \"group A\", \"group D\", \"group C\", \"group B\", \"group C\", \"group A\", \"group E\", \"group C\", \"group B\", \"group D\", \"group B\", \"group B\", \"group D\", \"group C\", \"group C\", \"group C\", \"group D\", \"group C\", \"group B\", \"group D\", \"group C\", \"group E\", \"group C\", \"group C\", \"group C\", \"group C\", \"group C\", \"group A\", \"group C\", \"group B\", \"group C\", \"group C\", \"group E\", \"group B\", \"group C\", \"group B\", \"group D\", \"group C\", \"group B\", \"group D\", \"group C\", \"group C\", \"group B\", \"group D\", \"group D\", \"group C\", \"group B\", \"group C\", \"group D\", \"group E\", \"group B\", \"group E\", \"group C\", \"group C\", \"group C\", \"group B\", \"group A\", \"group C\", \"group D\", \"group D\", \"group B\", \"group B\", \"group C\", \"group D\", \"group C\", \"group A\", \"group C\", \"group C\", \"group A\", \"group D\", \"group E\", \"group C\", \"group D\", \"group D\", \"group D\", \"group E\", \"group D\", \"group D\", \"group A\", \"group A\", \"group B\", \"group C\", \"group C\", \"group E\", \"group A\", \"group E\", \"group E\", \"group C\", \"group D\", \"group D\", \"group E\", \"group D\", \"group E\", \"group C\", \"group C\", \"group A\", \"group B\", \"group C\", \"group B\", \"group D\", \"group C\", \"group A\", \"group A\", \"group D\", \"group C\", \"group C\", \"group B\", \"group B\", \"group D\", \"group D\", \"group D\", \"group E\", \"group D\", \"group B\", \"group C\", \"group E\", \"group C\", \"group C\", \"group D\", \"group E\", \"group C\", \"group D\", \"group D\", \"group A\", \"group B\", \"group C\", \"group C\", \"group C\", \"group A\", \"group C\", \"group C\", \"group C\", \"group C\", \"group A\", \"group C\", \"group C\", \"group D\", \"group D\", \"group C\", \"group D\", \"group C\", \"group D\", \"group A\", \"group B\", \"group A\", \"group C\", \"group D\", \"group C\", \"group B\", \"group B\", \"group C\", \"group E\", \"group C\", \"group C\", \"group C\", \"group C\", \"group D\", \"group D\", \"group E\", \"group B\", \"group C\", \"group B\", \"group E\", \"group C\", \"group A\", \"group C\", \"group D\", \"group A\", \"group A\", \"group C\", \"group C\", \"group C\", \"group C\", \"group D\", \"group B\", \"group D\", \"group E\", \"group D\", \"group D\", \"group E\", \"group B\", \"group D\", \"group C\", \"group A\", \"group B\", \"group C\", \"group D\", \"group C\", \"group B\", \"group A\", \"group A\", \"group C\", \"group C\", \"group C\", \"group B\", \"group D\", \"group C\", \"group D\", \"group B\", \"group E\", \"group D\", \"group B\", \"group C\", \"group E\", \"group D\", \"group B\", \"group A\", \"group B\", \"group C\", \"group C\", \"group D\", \"group A\", \"group D\", \"group B\", \"group B\", \"group C\", \"group D\", \"group E\", \"group D\", \"group B\", \"group D\", \"group C\", \"group D\", \"group C\", \"group C\", \"group E\", \"group C\", \"group C\", \"group D\", \"group C\", \"group C\", \"group C\", \"group E\", \"group E\", \"group B\", \"group C\", \"group C\", \"group D\", \"group E\", \"group A\", \"group C\", \"group D\", \"group C\", \"group D\", \"group D\", \"group E\", \"group A\", \"group C\", \"group C\", \"group C\", \"group C\", \"group B\", \"group B\", \"group D\", \"group E\", \"group C\", \"group C\", \"group C\", \"group B\", \"group D\", \"group D\", \"group C\", \"group C\", \"group D\", \"group B\", \"group B\", \"group E\", \"group D\", \"group B\", \"group D\", \"group B\", \"group A\", \"group C\", \"group C\", \"group E\", \"group A\", \"group A\", \"group B\", \"group B\", \"group D\", \"group D\", \"group E\", \"group D\", \"group D\", \"group D\", \"group C\", \"group A\", \"group C\", \"group C\", \"group A\", \"group C\", \"group A\", \"group E\", \"group E\", \"group C\", \"group C\", \"group B\", \"group A\", \"group D\", \"group D\", \"group D\", \"group C\", \"group E\", \"group D\", \"group D\", \"group C\", \"group C\", \"group C\", \"group E\", \"group B\", \"group D\", \"group C\", \"group C\", \"group C\", \"group A\", \"group C\", \"group E\", \"group D\", \"group D\", \"group C\", \"group C\", \"group B\", \"group C\", \"group A\", \"group E\", \"group D\", \"group B\", \"group D\", \"group D\", \"group C\", \"group D\", \"group B\", \"group B\", \"group C\", \"group D\", \"group A\", \"group B\", \"group D\", \"group E\", \"group D\", \"group D\", \"group D\", \"group B\", \"group E\", \"group B\", \"group B\", \"group D\", \"group E\", \"group B\", \"group D\", \"group C\", \"group A\", \"group D\", \"group A\", \"group B\", \"group B\", \"group C\", \"group D\", \"group D\", \"group D\", \"group C\", \"group C\", \"group D\", \"group C\", \"group D\", \"group C\", \"group C\", \"group B\", \"group C\", \"group D\", \"group C\", \"group D\", \"group C\", \"group C\", \"group D\", \"group B\", \"group E\", \"group C\", \"group D\", \"group D\", \"group D\", \"group B\", \"group B\", \"group C\", \"group B\", \"group E\", \"group E\", \"group D\", \"group A\", \"group E\", \"group C\", \"group E\", \"group C\", \"group D\", \"group C\", \"group D\", \"group C\", \"group A\", \"group D\", \"group C\", \"group E\", \"group B\", \"group A\", \"group D\", \"group B\", \"group A\", \"group D\", \"group C\", \"group D\", \"group D\", \"group C\", \"group E\", \"group D\", \"group D\", \"group B\", \"group B\", \"group C\", \"group C\", \"group C\", \"group E\", \"group C\", \"group D\", \"group B\", \"group C\", \"group B\", \"group E\", \"group E\", \"group E\", \"group D\", \"group C\", \"group B\", \"group A\", \"group C\", \"group D\", \"group E\", \"group C\", \"group C\", \"group B\", \"group D\", \"group C\", \"group D\", \"group A\", \"group C\", \"group C\", \"group B\", \"group D\", \"group D\", \"group C\", \"group C\", \"group B\", \"group D\", \"group E\", \"group C\", \"group C\", \"group C\", \"group E\", \"group D\", \"group E\", \"group D\", \"group B\", \"group C\", \"group D\", \"group D\", \"group B\", \"group D\", \"group B\", \"group C\", \"group B\", \"group D\", \"group A\", \"group B\", \"group D\", \"group B\", \"group C\", \"group B\", \"group B\", \"group B\", \"group C\", \"group A\", \"group E\", \"group D\", \"group B\", \"group B\", \"group C\", \"group C\", \"group B\", \"group E\", \"group B\", \"group C\", \"group C\", \"group B\", \"group D\", \"group D\", \"group E\", \"group B\", \"group E\", \"group D\", \"group E\", \"group E\", \"group C\", \"group C\", \"group C\", \"group E\", \"group B\", \"group C\", \"group A\", \"group D\", \"group E\", \"group C\", \"group B\", \"group A\", \"group A\", \"group C\", \"group E\", \"group C\", \"group B\", \"group A\", \"group D\", \"group B\", \"group C\", \"group A\", \"group D\", \"group E\", \"group B\", \"group C\", \"group C\", \"group C\", \"group C\", \"group D\", \"group B\", \"group A\", \"group C\", \"group A\", \"group B\", \"group B\", \"group C\", \"group E\", \"group A\", \"group B\", \"group C\", \"group D\", \"group C\", \"group B\", \"group B\", \"group D\", \"group E\", \"group C\", \"group D\", \"group C\", \"group D\", \"group C\", \"group A\", \"group E\", \"group E\", \"group C\", \"group B\", \"group B\", \"group C\", \"group B\", \"group C\", \"group C\", \"group E\", \"group D\", \"group C\", \"group C\", \"group D\", \"group C\", \"group B\", \"group E\", \"group C\", \"group B\", \"group C\", \"group B\", \"group E\", \"group C\", \"group C\", \"group D\", \"group C\", \"group D\", \"group D\", \"group C\", \"group E\", \"group B\", \"group D\", \"group E\", \"group C\", \"group E\", \"group C\", \"group D\", \"group D\", \"group E\", \"group E\", \"group A\", \"group D\", \"group E\", \"group E\", \"group B\", \"group B\", \"group D\", \"group D\", \"group D\", \"group C\", \"group A\", \"group D\", \"group D\", \"group D\", \"group B\", \"group D\", \"group C\", \"group E\", \"group D\", \"group A\", \"group C\", \"group C\", \"group B\", \"group E\", \"group E\", \"group C\", \"group C\", \"group B\", \"group D\", \"group C\", \"group D\", \"group B\", \"group D\", \"group E\", \"group E\", \"group D\", \"group E\", \"group C\", \"group C\", \"group D\", \"group D\", \"group C\", \"group C\", \"group D\", \"group A\", \"group E\", \"group D\", \"group D\", \"group C\", \"group D\", \"group C\", \"group A\", \"group B\", \"group C\", \"group B\", \"group D\", \"group B\", \"group E\", \"group E\", \"group D\", \"group E\", \"group C\", \"group C\", \"group E\", \"group C\", \"group D\", \"group D\", \"group C\", \"group A\", \"group D\", \"group E\", \"group C\", \"group D\", \"group D\", \"group A\", \"group C\", \"group E\", \"group B\", \"group D\", \"group C\", \"group A\", \"group D\", \"group A\", \"group C\", \"group B\", \"group C\", \"group D\", \"group C\", \"group B\", \"group D\", \"group B\", \"group A\", \"group C\", \"group A\", \"group C\", \"group E\", \"group A\", \"group D\", \"group E\", \"group B\", \"group D\", \"group D\", \"group A\", \"group E\", \"group C\", \"group C\", \"group D\", \"group D\"], \"xaxis\": \"x\", \"yaxis\": \"y\"}],                        {\"barmode\": \"relative\", \"legend\": {\"tracegroupgap\": 0}, \"margin\": {\"t\": 60}, \"template\": {\"data\": {\"bar\": [{\"error_x\": {\"color\": \"#2a3f5f\"}, \"error_y\": {\"color\": \"#2a3f5f\"}, \"marker\": {\"line\": {\"color\": \"#E5ECF6\", \"width\": 0.5}}, \"type\": \"bar\"}], \"barpolar\": [{\"marker\": {\"line\": {\"color\": \"#E5ECF6\", \"width\": 0.5}}, \"type\": \"barpolar\"}], \"carpet\": [{\"aaxis\": {\"endlinecolor\": \"#2a3f5f\", \"gridcolor\": \"white\", \"linecolor\": \"white\", \"minorgridcolor\": \"white\", \"startlinecolor\": \"#2a3f5f\"}, \"baxis\": {\"endlinecolor\": \"#2a3f5f\", \"gridcolor\": \"white\", \"linecolor\": \"white\", \"minorgridcolor\": \"white\", \"startlinecolor\": \"#2a3f5f\"}, \"type\": \"carpet\"}], \"choropleth\": [{\"colorbar\": {\"outlinewidth\": 0, \"ticks\": \"\"}, \"type\": \"choropleth\"}], \"contour\": [{\"colorbar\": {\"outlinewidth\": 0, \"ticks\": \"\"}, \"colorscale\": [[0.0, \"#0d0887\"], [0.1111111111111111, \"#46039f\"], [0.2222222222222222, \"#7201a8\"], [0.3333333333333333, \"#9c179e\"], [0.4444444444444444, \"#bd3786\"], [0.5555555555555556, \"#d8576b\"], [0.6666666666666666, \"#ed7953\"], [0.7777777777777778, \"#fb9f3a\"], [0.8888888888888888, \"#fdca26\"], [1.0, \"#f0f921\"]], \"type\": \"contour\"}], \"contourcarpet\": [{\"colorbar\": {\"outlinewidth\": 0, \"ticks\": \"\"}, \"type\": \"contourcarpet\"}], \"heatmap\": [{\"colorbar\": {\"outlinewidth\": 0, \"ticks\": \"\"}, \"colorscale\": [[0.0, \"#0d0887\"], [0.1111111111111111, \"#46039f\"], [0.2222222222222222, \"#7201a8\"], [0.3333333333333333, \"#9c179e\"], [0.4444444444444444, \"#bd3786\"], [0.5555555555555556, \"#d8576b\"], [0.6666666666666666, \"#ed7953\"], [0.7777777777777778, \"#fb9f3a\"], [0.8888888888888888, \"#fdca26\"], [1.0, \"#f0f921\"]], \"type\": \"heatmap\"}], \"heatmapgl\": [{\"colorbar\": {\"outlinewidth\": 0, \"ticks\": \"\"}, \"colorscale\": [[0.0, \"#0d0887\"], [0.1111111111111111, \"#46039f\"], [0.2222222222222222, \"#7201a8\"], [0.3333333333333333, \"#9c179e\"], [0.4444444444444444, \"#bd3786\"], [0.5555555555555556, \"#d8576b\"], [0.6666666666666666, \"#ed7953\"], [0.7777777777777778, \"#fb9f3a\"], [0.8888888888888888, \"#fdca26\"], [1.0, \"#f0f921\"]], \"type\": \"heatmapgl\"}], \"histogram\": [{\"marker\": {\"colorbar\": {\"outlinewidth\": 0, \"ticks\": \"\"}}, \"type\": \"histogram\"}], \"histogram2d\": [{\"colorbar\": {\"outlinewidth\": 0, \"ticks\": \"\"}, \"colorscale\": [[0.0, \"#0d0887\"], [0.1111111111111111, \"#46039f\"], [0.2222222222222222, \"#7201a8\"], [0.3333333333333333, \"#9c179e\"], [0.4444444444444444, \"#bd3786\"], [0.5555555555555556, \"#d8576b\"], [0.6666666666666666, \"#ed7953\"], [0.7777777777777778, \"#fb9f3a\"], [0.8888888888888888, \"#fdca26\"], [1.0, \"#f0f921\"]], \"type\": \"histogram2d\"}], \"histogram2dcontour\": [{\"colorbar\": {\"outlinewidth\": 0, \"ticks\": \"\"}, \"colorscale\": [[0.0, \"#0d0887\"], [0.1111111111111111, \"#46039f\"], [0.2222222222222222, \"#7201a8\"], [0.3333333333333333, \"#9c179e\"], [0.4444444444444444, \"#bd3786\"], [0.5555555555555556, \"#d8576b\"], [0.6666666666666666, \"#ed7953\"], [0.7777777777777778, \"#fb9f3a\"], [0.8888888888888888, \"#fdca26\"], [1.0, \"#f0f921\"]], \"type\": \"histogram2dcontour\"}], \"mesh3d\": [{\"colorbar\": {\"outlinewidth\": 0, \"ticks\": \"\"}, \"type\": \"mesh3d\"}], \"parcoords\": [{\"line\": {\"colorbar\": {\"outlinewidth\": 0, \"ticks\": \"\"}}, \"type\": \"parcoords\"}], \"pie\": [{\"automargin\": true, \"type\": \"pie\"}], \"scatter\": [{\"marker\": {\"colorbar\": {\"outlinewidth\": 0, \"ticks\": \"\"}}, \"type\": \"scatter\"}], \"scatter3d\": [{\"line\": {\"colorbar\": {\"outlinewidth\": 0, \"ticks\": \"\"}}, \"marker\": {\"colorbar\": {\"outlinewidth\": 0, \"ticks\": \"\"}}, \"type\": \"scatter3d\"}], \"scattercarpet\": [{\"marker\": {\"colorbar\": {\"outlinewidth\": 0, \"ticks\": \"\"}}, \"type\": \"scattercarpet\"}], \"scattergeo\": [{\"marker\": {\"colorbar\": {\"outlinewidth\": 0, \"ticks\": \"\"}}, \"type\": \"scattergeo\"}], \"scattergl\": [{\"marker\": {\"colorbar\": {\"outlinewidth\": 0, \"ticks\": \"\"}}, \"type\": \"scattergl\"}], \"scattermapbox\": [{\"marker\": {\"colorbar\": {\"outlinewidth\": 0, \"ticks\": \"\"}}, \"type\": \"scattermapbox\"}], \"scatterpolar\": [{\"marker\": {\"colorbar\": {\"outlinewidth\": 0, \"ticks\": \"\"}}, \"type\": \"scatterpolar\"}], \"scatterpolargl\": [{\"marker\": {\"colorbar\": {\"outlinewidth\": 0, \"ticks\": \"\"}}, \"type\": \"scatterpolargl\"}], \"scatterternary\": [{\"marker\": {\"colorbar\": {\"outlinewidth\": 0, \"ticks\": \"\"}}, \"type\": \"scatterternary\"}], \"surface\": [{\"colorbar\": {\"outlinewidth\": 0, \"ticks\": \"\"}, \"colorscale\": [[0.0, \"#0d0887\"], [0.1111111111111111, \"#46039f\"], [0.2222222222222222, \"#7201a8\"], [0.3333333333333333, \"#9c179e\"], [0.4444444444444444, \"#bd3786\"], [0.5555555555555556, \"#d8576b\"], [0.6666666666666666, \"#ed7953\"], [0.7777777777777778, \"#fb9f3a\"], [0.8888888888888888, \"#fdca26\"], [1.0, \"#f0f921\"]], \"type\": \"surface\"}], \"table\": [{\"cells\": {\"fill\": {\"color\": \"#EBF0F8\"}, \"line\": {\"color\": \"white\"}}, \"header\": {\"fill\": {\"color\": \"#C8D4E3\"}, \"line\": {\"color\": \"white\"}}, \"type\": \"table\"}]}, \"layout\": {\"annotationdefaults\": {\"arrowcolor\": \"#2a3f5f\", \"arrowhead\": 0, \"arrowwidth\": 1}, \"autotypenumbers\": \"strict\", \"coloraxis\": {\"colorbar\": {\"outlinewidth\": 0, \"ticks\": \"\"}}, \"colorscale\": {\"diverging\": [[0, \"#8e0152\"], [0.1, \"#c51b7d\"], [0.2, \"#de77ae\"], [0.3, \"#f1b6da\"], [0.4, \"#fde0ef\"], [0.5, \"#f7f7f7\"], [0.6, \"#e6f5d0\"], [0.7, \"#b8e186\"], [0.8, \"#7fbc41\"], [0.9, \"#4d9221\"], [1, \"#276419\"]], \"sequential\": [[0.0, \"#0d0887\"], [0.1111111111111111, \"#46039f\"], [0.2222222222222222, \"#7201a8\"], [0.3333333333333333, \"#9c179e\"], [0.4444444444444444, \"#bd3786\"], [0.5555555555555556, \"#d8576b\"], [0.6666666666666666, \"#ed7953\"], [0.7777777777777778, \"#fb9f3a\"], [0.8888888888888888, \"#fdca26\"], [1.0, \"#f0f921\"]], \"sequentialminus\": [[0.0, \"#0d0887\"], [0.1111111111111111, \"#46039f\"], [0.2222222222222222, \"#7201a8\"], [0.3333333333333333, \"#9c179e\"], [0.4444444444444444, \"#bd3786\"], [0.5555555555555556, \"#d8576b\"], [0.6666666666666666, \"#ed7953\"], [0.7777777777777778, \"#fb9f3a\"], [0.8888888888888888, \"#fdca26\"], [1.0, \"#f0f921\"]]}, \"colorway\": [\"#636efa\", \"#EF553B\", \"#00cc96\", \"#ab63fa\", \"#FFA15A\", \"#19d3f3\", \"#FF6692\", \"#B6E880\", \"#FF97FF\", \"#FECB52\"], \"font\": {\"color\": \"#2a3f5f\"}, \"geo\": {\"bgcolor\": \"white\", \"lakecolor\": \"white\", \"landcolor\": \"#E5ECF6\", \"showlakes\": true, \"showland\": true, \"subunitcolor\": \"white\"}, \"hoverlabel\": {\"align\": \"left\"}, \"hovermode\": \"closest\", \"mapbox\": {\"style\": \"light\"}, \"paper_bgcolor\": \"white\", \"plot_bgcolor\": \"#E5ECF6\", \"polar\": {\"angularaxis\": {\"gridcolor\": \"white\", \"linecolor\": \"white\", \"ticks\": \"\"}, \"bgcolor\": \"#E5ECF6\", \"radialaxis\": {\"gridcolor\": \"white\", \"linecolor\": \"white\", \"ticks\": \"\"}}, \"scene\": {\"xaxis\": {\"backgroundcolor\": \"#E5ECF6\", \"gridcolor\": \"white\", \"gridwidth\": 2, \"linecolor\": \"white\", \"showbackground\": true, \"ticks\": \"\", \"zerolinecolor\": \"white\"}, \"yaxis\": {\"backgroundcolor\": \"#E5ECF6\", \"gridcolor\": \"white\", \"gridwidth\": 2, \"linecolor\": \"white\", \"showbackground\": true, \"ticks\": \"\", \"zerolinecolor\": \"white\"}, \"zaxis\": {\"backgroundcolor\": \"#E5ECF6\", \"gridcolor\": \"white\", \"gridwidth\": 2, \"linecolor\": \"white\", \"showbackground\": true, \"ticks\": \"\", \"zerolinecolor\": \"white\"}}, \"shapedefaults\": {\"line\": {\"color\": \"#2a3f5f\"}}, \"ternary\": {\"aaxis\": {\"gridcolor\": \"white\", \"linecolor\": \"white\", \"ticks\": \"\"}, \"baxis\": {\"gridcolor\": \"white\", \"linecolor\": \"white\", \"ticks\": \"\"}, \"bgcolor\": \"#E5ECF6\", \"caxis\": {\"gridcolor\": \"white\", \"linecolor\": \"white\", \"ticks\": \"\"}}, \"title\": {\"x\": 0.05}, \"xaxis\": {\"automargin\": true, \"gridcolor\": \"white\", \"linecolor\": \"white\", \"ticks\": \"\", \"title\": {\"standoff\": 15}, \"zerolinecolor\": \"white\", \"zerolinewidth\": 2}, \"yaxis\": {\"automargin\": true, \"gridcolor\": \"white\", \"linecolor\": \"white\", \"ticks\": \"\", \"title\": {\"standoff\": 15}, \"zerolinecolor\": \"white\", \"zerolinewidth\": 2}}}, \"xaxis\": {\"anchor\": \"y\", \"domain\": [0.0, 1.0], \"title\": {\"text\": \"race/ethnicity\"}}, \"yaxis\": {\"anchor\": \"x\", \"domain\": [0.0, 1.0], \"title\": {\"text\": \"count\"}}},                        {\"responsive\": true}                    ).then(function(){\n",
       "                            \n",
       "var gd = document.getElementById('7c80ce55-7e48-43a4-86e7-7d562f34a412');\n",
       "var x = new MutationObserver(function (mutations, observer) {{\n",
       "        var display = window.getComputedStyle(gd).display;\n",
       "        if (!display || display === 'none') {{\n",
       "            console.log([gd, 'removed!']);\n",
       "            Plotly.purge(gd);\n",
       "            observer.disconnect();\n",
       "        }}\n",
       "}});\n",
       "\n",
       "// Listen for the removal of the full notebook cells\n",
       "var notebookContainer = gd.closest('#notebook-container');\n",
       "if (notebookContainer) {{\n",
       "    x.observe(notebookContainer, {childList: true});\n",
       "}}\n",
       "\n",
       "// Listen for the clearing of the current output cell\n",
       "var outputEl = gd.closest('.output');\n",
       "if (outputEl) {{\n",
       "    x.observe(outputEl, {childList: true});\n",
       "}}\n",
       "\n",
       "                        })                };                });            </script>        </div>"
      ]
     },
     "metadata": {},
     "output_type": "display_data"
    }
   ],
   "source": [
    "fig = px.histogram(df, x=\"race/ethnicity\")\n",
    "fig.show()"
   ]
  },
  {
   "cell_type": "markdown",
   "metadata": {},
   "source": [
    "Z wykresu wynika, że najlicznieją grupą w zbiorze jest C oraz D mając znaczną przewagą nad resztą. \n",
    "Najbardziej liczebnie odstającą grupą etniczną jest grupa A.\n",
    "\n",
    "Kolejnym krokiem będzie sprawdzenie liczebnie poziomu wykształcenia rodziców."
   ]
  },
  {
   "cell_type": "code",
   "execution_count": 39,
   "metadata": {},
   "outputs": [
    {
     "data": {
      "application/vnd.plotly.v1+json": {
       "config": {
        "plotlyServerURL": "https://plot.ly"
       },
       "data": [
        {
         "alignmentgroup": "True",
         "hovertemplate": "=%{y}<extra></extra>",
         "legendgroup": "",
         "marker": {
          "color": "#636efa"
         },
         "name": "",
         "offsetgroup": "",
         "orientation": "h",
         "showlegend": false,
         "textposition": "auto",
         "type": "bar",
         "x": [
          179,
          226,
          59,
          196,
          118,
          222
         ],
         "xaxis": "x",
         "y": [
          "some high school",
          "some college",
          "master's degree",
          "high school",
          "bachelor's degree",
          "associate's degree"
         ],
         "yaxis": "y"
        }
       ],
       "layout": {
        "barmode": "stack",
        "legend": {
         "tracegroupgap": 0
        },
        "margin": {
         "t": 60
        },
        "template": {
         "data": {
          "bar": [
           {
            "error_x": {
             "color": "#2a3f5f"
            },
            "error_y": {
             "color": "#2a3f5f"
            },
            "marker": {
             "line": {
              "color": "#E5ECF6",
              "width": 0.5
             }
            },
            "type": "bar"
           }
          ],
          "barpolar": [
           {
            "marker": {
             "line": {
              "color": "#E5ECF6",
              "width": 0.5
             }
            },
            "type": "barpolar"
           }
          ],
          "carpet": [
           {
            "aaxis": {
             "endlinecolor": "#2a3f5f",
             "gridcolor": "white",
             "linecolor": "white",
             "minorgridcolor": "white",
             "startlinecolor": "#2a3f5f"
            },
            "baxis": {
             "endlinecolor": "#2a3f5f",
             "gridcolor": "white",
             "linecolor": "white",
             "minorgridcolor": "white",
             "startlinecolor": "#2a3f5f"
            },
            "type": "carpet"
           }
          ],
          "choropleth": [
           {
            "colorbar": {
             "outlinewidth": 0,
             "ticks": ""
            },
            "type": "choropleth"
           }
          ],
          "contour": [
           {
            "colorbar": {
             "outlinewidth": 0,
             "ticks": ""
            },
            "colorscale": [
             [
              0,
              "#0d0887"
             ],
             [
              0.1111111111111111,
              "#46039f"
             ],
             [
              0.2222222222222222,
              "#7201a8"
             ],
             [
              0.3333333333333333,
              "#9c179e"
             ],
             [
              0.4444444444444444,
              "#bd3786"
             ],
             [
              0.5555555555555556,
              "#d8576b"
             ],
             [
              0.6666666666666666,
              "#ed7953"
             ],
             [
              0.7777777777777778,
              "#fb9f3a"
             ],
             [
              0.8888888888888888,
              "#fdca26"
             ],
             [
              1,
              "#f0f921"
             ]
            ],
            "type": "contour"
           }
          ],
          "contourcarpet": [
           {
            "colorbar": {
             "outlinewidth": 0,
             "ticks": ""
            },
            "type": "contourcarpet"
           }
          ],
          "heatmap": [
           {
            "colorbar": {
             "outlinewidth": 0,
             "ticks": ""
            },
            "colorscale": [
             [
              0,
              "#0d0887"
             ],
             [
              0.1111111111111111,
              "#46039f"
             ],
             [
              0.2222222222222222,
              "#7201a8"
             ],
             [
              0.3333333333333333,
              "#9c179e"
             ],
             [
              0.4444444444444444,
              "#bd3786"
             ],
             [
              0.5555555555555556,
              "#d8576b"
             ],
             [
              0.6666666666666666,
              "#ed7953"
             ],
             [
              0.7777777777777778,
              "#fb9f3a"
             ],
             [
              0.8888888888888888,
              "#fdca26"
             ],
             [
              1,
              "#f0f921"
             ]
            ],
            "type": "heatmap"
           }
          ],
          "heatmapgl": [
           {
            "colorbar": {
             "outlinewidth": 0,
             "ticks": ""
            },
            "colorscale": [
             [
              0,
              "#0d0887"
             ],
             [
              0.1111111111111111,
              "#46039f"
             ],
             [
              0.2222222222222222,
              "#7201a8"
             ],
             [
              0.3333333333333333,
              "#9c179e"
             ],
             [
              0.4444444444444444,
              "#bd3786"
             ],
             [
              0.5555555555555556,
              "#d8576b"
             ],
             [
              0.6666666666666666,
              "#ed7953"
             ],
             [
              0.7777777777777778,
              "#fb9f3a"
             ],
             [
              0.8888888888888888,
              "#fdca26"
             ],
             [
              1,
              "#f0f921"
             ]
            ],
            "type": "heatmapgl"
           }
          ],
          "histogram": [
           {
            "marker": {
             "colorbar": {
              "outlinewidth": 0,
              "ticks": ""
             }
            },
            "type": "histogram"
           }
          ],
          "histogram2d": [
           {
            "colorbar": {
             "outlinewidth": 0,
             "ticks": ""
            },
            "colorscale": [
             [
              0,
              "#0d0887"
             ],
             [
              0.1111111111111111,
              "#46039f"
             ],
             [
              0.2222222222222222,
              "#7201a8"
             ],
             [
              0.3333333333333333,
              "#9c179e"
             ],
             [
              0.4444444444444444,
              "#bd3786"
             ],
             [
              0.5555555555555556,
              "#d8576b"
             ],
             [
              0.6666666666666666,
              "#ed7953"
             ],
             [
              0.7777777777777778,
              "#fb9f3a"
             ],
             [
              0.8888888888888888,
              "#fdca26"
             ],
             [
              1,
              "#f0f921"
             ]
            ],
            "type": "histogram2d"
           }
          ],
          "histogram2dcontour": [
           {
            "colorbar": {
             "outlinewidth": 0,
             "ticks": ""
            },
            "colorscale": [
             [
              0,
              "#0d0887"
             ],
             [
              0.1111111111111111,
              "#46039f"
             ],
             [
              0.2222222222222222,
              "#7201a8"
             ],
             [
              0.3333333333333333,
              "#9c179e"
             ],
             [
              0.4444444444444444,
              "#bd3786"
             ],
             [
              0.5555555555555556,
              "#d8576b"
             ],
             [
              0.6666666666666666,
              "#ed7953"
             ],
             [
              0.7777777777777778,
              "#fb9f3a"
             ],
             [
              0.8888888888888888,
              "#fdca26"
             ],
             [
              1,
              "#f0f921"
             ]
            ],
            "type": "histogram2dcontour"
           }
          ],
          "mesh3d": [
           {
            "colorbar": {
             "outlinewidth": 0,
             "ticks": ""
            },
            "type": "mesh3d"
           }
          ],
          "parcoords": [
           {
            "line": {
             "colorbar": {
              "outlinewidth": 0,
              "ticks": ""
             }
            },
            "type": "parcoords"
           }
          ],
          "pie": [
           {
            "automargin": true,
            "type": "pie"
           }
          ],
          "scatter": [
           {
            "marker": {
             "colorbar": {
              "outlinewidth": 0,
              "ticks": ""
             }
            },
            "type": "scatter"
           }
          ],
          "scatter3d": [
           {
            "line": {
             "colorbar": {
              "outlinewidth": 0,
              "ticks": ""
             }
            },
            "marker": {
             "colorbar": {
              "outlinewidth": 0,
              "ticks": ""
             }
            },
            "type": "scatter3d"
           }
          ],
          "scattercarpet": [
           {
            "marker": {
             "colorbar": {
              "outlinewidth": 0,
              "ticks": ""
             }
            },
            "type": "scattercarpet"
           }
          ],
          "scattergeo": [
           {
            "marker": {
             "colorbar": {
              "outlinewidth": 0,
              "ticks": ""
             }
            },
            "type": "scattergeo"
           }
          ],
          "scattergl": [
           {
            "marker": {
             "colorbar": {
              "outlinewidth": 0,
              "ticks": ""
             }
            },
            "type": "scattergl"
           }
          ],
          "scattermapbox": [
           {
            "marker": {
             "colorbar": {
              "outlinewidth": 0,
              "ticks": ""
             }
            },
            "type": "scattermapbox"
           }
          ],
          "scatterpolar": [
           {
            "marker": {
             "colorbar": {
              "outlinewidth": 0,
              "ticks": ""
             }
            },
            "type": "scatterpolar"
           }
          ],
          "scatterpolargl": [
           {
            "marker": {
             "colorbar": {
              "outlinewidth": 0,
              "ticks": ""
             }
            },
            "type": "scatterpolargl"
           }
          ],
          "scatterternary": [
           {
            "marker": {
             "colorbar": {
              "outlinewidth": 0,
              "ticks": ""
             }
            },
            "type": "scatterternary"
           }
          ],
          "surface": [
           {
            "colorbar": {
             "outlinewidth": 0,
             "ticks": ""
            },
            "colorscale": [
             [
              0,
              "#0d0887"
             ],
             [
              0.1111111111111111,
              "#46039f"
             ],
             [
              0.2222222222222222,
              "#7201a8"
             ],
             [
              0.3333333333333333,
              "#9c179e"
             ],
             [
              0.4444444444444444,
              "#bd3786"
             ],
             [
              0.5555555555555556,
              "#d8576b"
             ],
             [
              0.6666666666666666,
              "#ed7953"
             ],
             [
              0.7777777777777778,
              "#fb9f3a"
             ],
             [
              0.8888888888888888,
              "#fdca26"
             ],
             [
              1,
              "#f0f921"
             ]
            ],
            "type": "surface"
           }
          ],
          "table": [
           {
            "cells": {
             "fill": {
              "color": "#EBF0F8"
             },
             "line": {
              "color": "white"
             }
            },
            "header": {
             "fill": {
              "color": "#C8D4E3"
             },
             "line": {
              "color": "white"
             }
            },
            "type": "table"
           }
          ]
         },
         "layout": {
          "annotationdefaults": {
           "arrowcolor": "#2a3f5f",
           "arrowhead": 0,
           "arrowwidth": 1
          },
          "autotypenumbers": "strict",
          "coloraxis": {
           "colorbar": {
            "outlinewidth": 0,
            "ticks": ""
           }
          },
          "colorscale": {
           "diverging": [
            [
             0,
             "#8e0152"
            ],
            [
             0.1,
             "#c51b7d"
            ],
            [
             0.2,
             "#de77ae"
            ],
            [
             0.3,
             "#f1b6da"
            ],
            [
             0.4,
             "#fde0ef"
            ],
            [
             0.5,
             "#f7f7f7"
            ],
            [
             0.6,
             "#e6f5d0"
            ],
            [
             0.7,
             "#b8e186"
            ],
            [
             0.8,
             "#7fbc41"
            ],
            [
             0.9,
             "#4d9221"
            ],
            [
             1,
             "#276419"
            ]
           ],
           "sequential": [
            [
             0,
             "#0d0887"
            ],
            [
             0.1111111111111111,
             "#46039f"
            ],
            [
             0.2222222222222222,
             "#7201a8"
            ],
            [
             0.3333333333333333,
             "#9c179e"
            ],
            [
             0.4444444444444444,
             "#bd3786"
            ],
            [
             0.5555555555555556,
             "#d8576b"
            ],
            [
             0.6666666666666666,
             "#ed7953"
            ],
            [
             0.7777777777777778,
             "#fb9f3a"
            ],
            [
             0.8888888888888888,
             "#fdca26"
            ],
            [
             1,
             "#f0f921"
            ]
           ],
           "sequentialminus": [
            [
             0,
             "#0d0887"
            ],
            [
             0.1111111111111111,
             "#46039f"
            ],
            [
             0.2222222222222222,
             "#7201a8"
            ],
            [
             0.3333333333333333,
             "#9c179e"
            ],
            [
             0.4444444444444444,
             "#bd3786"
            ],
            [
             0.5555555555555556,
             "#d8576b"
            ],
            [
             0.6666666666666666,
             "#ed7953"
            ],
            [
             0.7777777777777778,
             "#fb9f3a"
            ],
            [
             0.8888888888888888,
             "#fdca26"
            ],
            [
             1,
             "#f0f921"
            ]
           ]
          },
          "colorway": [
           "#636efa",
           "#EF553B",
           "#00cc96",
           "#ab63fa",
           "#FFA15A",
           "#19d3f3",
           "#FF6692",
           "#B6E880",
           "#FF97FF",
           "#FECB52"
          ],
          "font": {
           "color": "#2a3f5f"
          },
          "geo": {
           "bgcolor": "white",
           "lakecolor": "white",
           "landcolor": "#E5ECF6",
           "showlakes": true,
           "showland": true,
           "subunitcolor": "white"
          },
          "hoverlabel": {
           "align": "left"
          },
          "hovermode": "closest",
          "mapbox": {
           "style": "light"
          },
          "paper_bgcolor": "white",
          "plot_bgcolor": "#E5ECF6",
          "polar": {
           "angularaxis": {
            "gridcolor": "white",
            "linecolor": "white",
            "ticks": ""
           },
           "bgcolor": "#E5ECF6",
           "radialaxis": {
            "gridcolor": "white",
            "linecolor": "white",
            "ticks": ""
           }
          },
          "scene": {
           "xaxis": {
            "backgroundcolor": "#E5ECF6",
            "gridcolor": "white",
            "gridwidth": 2,
            "linecolor": "white",
            "showbackground": true,
            "ticks": "",
            "zerolinecolor": "white"
           },
           "yaxis": {
            "backgroundcolor": "#E5ECF6",
            "gridcolor": "white",
            "gridwidth": 2,
            "linecolor": "white",
            "showbackground": true,
            "ticks": "",
            "zerolinecolor": "white"
           },
           "zaxis": {
            "backgroundcolor": "#E5ECF6",
            "gridcolor": "white",
            "gridwidth": 2,
            "linecolor": "white",
            "showbackground": true,
            "ticks": "",
            "zerolinecolor": "white"
           }
          },
          "shapedefaults": {
           "line": {
            "color": "#2a3f5f"
           }
          },
          "ternary": {
           "aaxis": {
            "gridcolor": "white",
            "linecolor": "white",
            "ticks": ""
           },
           "baxis": {
            "gridcolor": "white",
            "linecolor": "white",
            "ticks": ""
           },
           "bgcolor": "#E5ECF6",
           "caxis": {
            "gridcolor": "white",
            "linecolor": "white",
            "ticks": ""
           }
          },
          "title": {
           "x": 0.05
          },
          "xaxis": {
           "automargin": true,
           "gridcolor": "white",
           "linecolor": "white",
           "ticks": "",
           "title": {
            "standoff": 15
           },
           "zerolinecolor": "white",
           "zerolinewidth": 2
          },
          "yaxis": {
           "automargin": true,
           "gridcolor": "white",
           "linecolor": "white",
           "ticks": "",
           "title": {
            "standoff": 15
           },
           "zerolinecolor": "white",
           "zerolinewidth": 2
          }
         }
        },
        "title": {
         "text": "Parental level of eduaction"
        },
        "uniformtext": {
         "minsize": 10,
         "mode": "hide"
        },
        "xaxis": {
         "anchor": "y",
         "domain": [
          0,
          1
         ],
         "title": {
          "text": ""
         }
        },
        "yaxis": {
         "anchor": "x",
         "domain": [
          0,
          1
         ],
         "title": {
          "text": ""
         }
        }
       }
      },
      "text/html": [
       "<div>                            <div id=\"0259f786-9e86-4a3d-a814-7eb4feea8d79\" class=\"plotly-graph-div\" style=\"height:525px; width:100%;\"></div>            <script type=\"text/javascript\">                require([\"plotly\"], function(Plotly) {                    window.PLOTLYENV=window.PLOTLYENV || {};                                    if (document.getElementById(\"0259f786-9e86-4a3d-a814-7eb4feea8d79\")) {                    Plotly.newPlot(                        \"0259f786-9e86-4a3d-a814-7eb4feea8d79\",                        [{\"alignmentgroup\": \"True\", \"hovertemplate\": \"=%{y}<extra></extra>\", \"legendgroup\": \"\", \"marker\": {\"color\": \"#636efa\"}, \"name\": \"\", \"offsetgroup\": \"\", \"orientation\": \"h\", \"showlegend\": false, \"textposition\": \"auto\", \"type\": \"bar\", \"x\": [179, 226, 59, 196, 118, 222], \"xaxis\": \"x\", \"y\": [\"some high school\", \"some college\", \"master's degree\", \"high school\", \"bachelor's degree\", \"associate's degree\"], \"yaxis\": \"y\"}],                        {\"barmode\": \"stack\", \"legend\": {\"tracegroupgap\": 0}, \"margin\": {\"t\": 60}, \"template\": {\"data\": {\"bar\": [{\"error_x\": {\"color\": \"#2a3f5f\"}, \"error_y\": {\"color\": \"#2a3f5f\"}, \"marker\": {\"line\": {\"color\": \"#E5ECF6\", \"width\": 0.5}}, \"type\": \"bar\"}], \"barpolar\": [{\"marker\": {\"line\": {\"color\": \"#E5ECF6\", \"width\": 0.5}}, \"type\": \"barpolar\"}], \"carpet\": [{\"aaxis\": {\"endlinecolor\": \"#2a3f5f\", \"gridcolor\": \"white\", \"linecolor\": \"white\", \"minorgridcolor\": \"white\", \"startlinecolor\": \"#2a3f5f\"}, \"baxis\": {\"endlinecolor\": \"#2a3f5f\", \"gridcolor\": \"white\", \"linecolor\": \"white\", \"minorgridcolor\": \"white\", \"startlinecolor\": \"#2a3f5f\"}, \"type\": \"carpet\"}], \"choropleth\": [{\"colorbar\": {\"outlinewidth\": 0, \"ticks\": \"\"}, \"type\": \"choropleth\"}], \"contour\": [{\"colorbar\": {\"outlinewidth\": 0, \"ticks\": \"\"}, \"colorscale\": [[0.0, \"#0d0887\"], [0.1111111111111111, \"#46039f\"], [0.2222222222222222, \"#7201a8\"], [0.3333333333333333, \"#9c179e\"], [0.4444444444444444, \"#bd3786\"], [0.5555555555555556, \"#d8576b\"], [0.6666666666666666, \"#ed7953\"], [0.7777777777777778, \"#fb9f3a\"], [0.8888888888888888, \"#fdca26\"], [1.0, \"#f0f921\"]], \"type\": \"contour\"}], \"contourcarpet\": [{\"colorbar\": {\"outlinewidth\": 0, \"ticks\": \"\"}, \"type\": \"contourcarpet\"}], \"heatmap\": [{\"colorbar\": {\"outlinewidth\": 0, \"ticks\": \"\"}, \"colorscale\": [[0.0, \"#0d0887\"], [0.1111111111111111, \"#46039f\"], [0.2222222222222222, \"#7201a8\"], [0.3333333333333333, \"#9c179e\"], [0.4444444444444444, \"#bd3786\"], [0.5555555555555556, \"#d8576b\"], [0.6666666666666666, \"#ed7953\"], [0.7777777777777778, \"#fb9f3a\"], [0.8888888888888888, \"#fdca26\"], [1.0, \"#f0f921\"]], \"type\": \"heatmap\"}], \"heatmapgl\": [{\"colorbar\": {\"outlinewidth\": 0, \"ticks\": \"\"}, \"colorscale\": [[0.0, \"#0d0887\"], [0.1111111111111111, \"#46039f\"], [0.2222222222222222, \"#7201a8\"], [0.3333333333333333, \"#9c179e\"], [0.4444444444444444, \"#bd3786\"], [0.5555555555555556, \"#d8576b\"], [0.6666666666666666, \"#ed7953\"], [0.7777777777777778, \"#fb9f3a\"], [0.8888888888888888, \"#fdca26\"], [1.0, \"#f0f921\"]], \"type\": \"heatmapgl\"}], \"histogram\": [{\"marker\": {\"colorbar\": {\"outlinewidth\": 0, \"ticks\": \"\"}}, \"type\": \"histogram\"}], \"histogram2d\": [{\"colorbar\": {\"outlinewidth\": 0, \"ticks\": \"\"}, \"colorscale\": [[0.0, \"#0d0887\"], [0.1111111111111111, \"#46039f\"], [0.2222222222222222, \"#7201a8\"], [0.3333333333333333, \"#9c179e\"], [0.4444444444444444, \"#bd3786\"], [0.5555555555555556, \"#d8576b\"], [0.6666666666666666, \"#ed7953\"], [0.7777777777777778, \"#fb9f3a\"], [0.8888888888888888, \"#fdca26\"], [1.0, \"#f0f921\"]], \"type\": \"histogram2d\"}], \"histogram2dcontour\": [{\"colorbar\": {\"outlinewidth\": 0, \"ticks\": \"\"}, \"colorscale\": [[0.0, \"#0d0887\"], [0.1111111111111111, \"#46039f\"], [0.2222222222222222, \"#7201a8\"], [0.3333333333333333, \"#9c179e\"], [0.4444444444444444, \"#bd3786\"], [0.5555555555555556, \"#d8576b\"], [0.6666666666666666, \"#ed7953\"], [0.7777777777777778, \"#fb9f3a\"], [0.8888888888888888, \"#fdca26\"], [1.0, \"#f0f921\"]], \"type\": \"histogram2dcontour\"}], \"mesh3d\": [{\"colorbar\": {\"outlinewidth\": 0, \"ticks\": \"\"}, \"type\": \"mesh3d\"}], \"parcoords\": [{\"line\": {\"colorbar\": {\"outlinewidth\": 0, \"ticks\": \"\"}}, \"type\": \"parcoords\"}], \"pie\": [{\"automargin\": true, \"type\": \"pie\"}], \"scatter\": [{\"marker\": {\"colorbar\": {\"outlinewidth\": 0, \"ticks\": \"\"}}, \"type\": \"scatter\"}], \"scatter3d\": [{\"line\": {\"colorbar\": {\"outlinewidth\": 0, \"ticks\": \"\"}}, \"marker\": {\"colorbar\": {\"outlinewidth\": 0, \"ticks\": \"\"}}, \"type\": \"scatter3d\"}], \"scattercarpet\": [{\"marker\": {\"colorbar\": {\"outlinewidth\": 0, \"ticks\": \"\"}}, \"type\": \"scattercarpet\"}], \"scattergeo\": [{\"marker\": {\"colorbar\": {\"outlinewidth\": 0, \"ticks\": \"\"}}, \"type\": \"scattergeo\"}], \"scattergl\": [{\"marker\": {\"colorbar\": {\"outlinewidth\": 0, \"ticks\": \"\"}}, \"type\": \"scattergl\"}], \"scattermapbox\": [{\"marker\": {\"colorbar\": {\"outlinewidth\": 0, \"ticks\": \"\"}}, \"type\": \"scattermapbox\"}], \"scatterpolar\": [{\"marker\": {\"colorbar\": {\"outlinewidth\": 0, \"ticks\": \"\"}}, \"type\": \"scatterpolar\"}], \"scatterpolargl\": [{\"marker\": {\"colorbar\": {\"outlinewidth\": 0, \"ticks\": \"\"}}, \"type\": \"scatterpolargl\"}], \"scatterternary\": [{\"marker\": {\"colorbar\": {\"outlinewidth\": 0, \"ticks\": \"\"}}, \"type\": \"scatterternary\"}], \"surface\": [{\"colorbar\": {\"outlinewidth\": 0, \"ticks\": \"\"}, \"colorscale\": [[0.0, \"#0d0887\"], [0.1111111111111111, \"#46039f\"], [0.2222222222222222, \"#7201a8\"], [0.3333333333333333, \"#9c179e\"], [0.4444444444444444, \"#bd3786\"], [0.5555555555555556, \"#d8576b\"], [0.6666666666666666, \"#ed7953\"], [0.7777777777777778, \"#fb9f3a\"], [0.8888888888888888, \"#fdca26\"], [1.0, \"#f0f921\"]], \"type\": \"surface\"}], \"table\": [{\"cells\": {\"fill\": {\"color\": \"#EBF0F8\"}, \"line\": {\"color\": \"white\"}}, \"header\": {\"fill\": {\"color\": \"#C8D4E3\"}, \"line\": {\"color\": \"white\"}}, \"type\": \"table\"}]}, \"layout\": {\"annotationdefaults\": {\"arrowcolor\": \"#2a3f5f\", \"arrowhead\": 0, \"arrowwidth\": 1}, \"autotypenumbers\": \"strict\", \"coloraxis\": {\"colorbar\": {\"outlinewidth\": 0, \"ticks\": \"\"}}, \"colorscale\": {\"diverging\": [[0, \"#8e0152\"], [0.1, \"#c51b7d\"], [0.2, \"#de77ae\"], [0.3, \"#f1b6da\"], [0.4, \"#fde0ef\"], [0.5, \"#f7f7f7\"], [0.6, \"#e6f5d0\"], [0.7, \"#b8e186\"], [0.8, \"#7fbc41\"], [0.9, \"#4d9221\"], [1, \"#276419\"]], \"sequential\": [[0.0, \"#0d0887\"], [0.1111111111111111, \"#46039f\"], [0.2222222222222222, \"#7201a8\"], [0.3333333333333333, \"#9c179e\"], [0.4444444444444444, \"#bd3786\"], [0.5555555555555556, \"#d8576b\"], [0.6666666666666666, \"#ed7953\"], [0.7777777777777778, \"#fb9f3a\"], [0.8888888888888888, \"#fdca26\"], [1.0, \"#f0f921\"]], \"sequentialminus\": [[0.0, \"#0d0887\"], [0.1111111111111111, \"#46039f\"], [0.2222222222222222, \"#7201a8\"], [0.3333333333333333, \"#9c179e\"], [0.4444444444444444, \"#bd3786\"], [0.5555555555555556, \"#d8576b\"], [0.6666666666666666, \"#ed7953\"], [0.7777777777777778, \"#fb9f3a\"], [0.8888888888888888, \"#fdca26\"], [1.0, \"#f0f921\"]]}, \"colorway\": [\"#636efa\", \"#EF553B\", \"#00cc96\", \"#ab63fa\", \"#FFA15A\", \"#19d3f3\", \"#FF6692\", \"#B6E880\", \"#FF97FF\", \"#FECB52\"], \"font\": {\"color\": \"#2a3f5f\"}, \"geo\": {\"bgcolor\": \"white\", \"lakecolor\": \"white\", \"landcolor\": \"#E5ECF6\", \"showlakes\": true, \"showland\": true, \"subunitcolor\": \"white\"}, \"hoverlabel\": {\"align\": \"left\"}, \"hovermode\": \"closest\", \"mapbox\": {\"style\": \"light\"}, \"paper_bgcolor\": \"white\", \"plot_bgcolor\": \"#E5ECF6\", \"polar\": {\"angularaxis\": {\"gridcolor\": \"white\", \"linecolor\": \"white\", \"ticks\": \"\"}, \"bgcolor\": \"#E5ECF6\", \"radialaxis\": {\"gridcolor\": \"white\", \"linecolor\": \"white\", \"ticks\": \"\"}}, \"scene\": {\"xaxis\": {\"backgroundcolor\": \"#E5ECF6\", \"gridcolor\": \"white\", \"gridwidth\": 2, \"linecolor\": \"white\", \"showbackground\": true, \"ticks\": \"\", \"zerolinecolor\": \"white\"}, \"yaxis\": {\"backgroundcolor\": \"#E5ECF6\", \"gridcolor\": \"white\", \"gridwidth\": 2, \"linecolor\": \"white\", \"showbackground\": true, \"ticks\": \"\", \"zerolinecolor\": \"white\"}, \"zaxis\": {\"backgroundcolor\": \"#E5ECF6\", \"gridcolor\": \"white\", \"gridwidth\": 2, \"linecolor\": \"white\", \"showbackground\": true, \"ticks\": \"\", \"zerolinecolor\": \"white\"}}, \"shapedefaults\": {\"line\": {\"color\": \"#2a3f5f\"}}, \"ternary\": {\"aaxis\": {\"gridcolor\": \"white\", \"linecolor\": \"white\", \"ticks\": \"\"}, \"baxis\": {\"gridcolor\": \"white\", \"linecolor\": \"white\", \"ticks\": \"\"}, \"bgcolor\": \"#E5ECF6\", \"caxis\": {\"gridcolor\": \"white\", \"linecolor\": \"white\", \"ticks\": \"\"}}, \"title\": {\"x\": 0.05}, \"xaxis\": {\"automargin\": true, \"gridcolor\": \"white\", \"linecolor\": \"white\", \"ticks\": \"\", \"title\": {\"standoff\": 15}, \"zerolinecolor\": \"white\", \"zerolinewidth\": 2}, \"yaxis\": {\"automargin\": true, \"gridcolor\": \"white\", \"linecolor\": \"white\", \"ticks\": \"\", \"title\": {\"standoff\": 15}, \"zerolinecolor\": \"white\", \"zerolinewidth\": 2}}}, \"title\": {\"text\": \"Parental level of eduaction\"}, \"uniformtext\": {\"minsize\": 10, \"mode\": \"hide\"}, \"xaxis\": {\"anchor\": \"y\", \"domain\": [0.0, 1.0], \"title\": {\"text\": \"\"}}, \"yaxis\": {\"anchor\": \"x\", \"domain\": [0.0, 1.0], \"title\": {\"text\": \"\"}}},                        {\"responsive\": true}                    ).then(function(){\n",
       "                            \n",
       "var gd = document.getElementById('0259f786-9e86-4a3d-a814-7eb4feea8d79');\n",
       "var x = new MutationObserver(function (mutations, observer) {{\n",
       "        var display = window.getComputedStyle(gd).display;\n",
       "        if (!display || display === 'none') {{\n",
       "            console.log([gd, 'removed!']);\n",
       "            Plotly.purge(gd);\n",
       "            observer.disconnect();\n",
       "        }}\n",
       "}});\n",
       "\n",
       "// Listen for the removal of the full notebook cells\n",
       "var notebookContainer = gd.closest('#notebook-container');\n",
       "if (notebookContainer) {{\n",
       "    x.observe(notebookContainer, {childList: true});\n",
       "}}\n",
       "\n",
       "// Listen for the clearing of the current output cell\n",
       "var outputEl = gd.closest('.output');\n",
       "if (outputEl) {{\n",
       "    x.observe(outputEl, {childList: true});\n",
       "}}\n",
       "\n",
       "                        })                };                });            </script>        </div>"
      ]
     },
     "metadata": {},
     "output_type": "display_data"
    }
   ],
   "source": [
    "data = df['parental level of education'].value_counts().sort_index()[::-1]\n",
    "fig = px.bar(df, x=data, y=data.index, orientation='h',                  \n",
    "             labels={\n",
    "                     \"x\": \"\",\n",
    "                     \"y\": \"\",\n",
    "                 },)\n",
    "fig.update_layout(\n",
    "    title_text=\"Parental level of eduaction\",\n",
    "    barmode=\"stack\",\n",
    "    uniformtext=dict(mode=\"hide\", minsize=10),\n",
    ")\n",
    "fig.show()"
   ]
  },
  {
   "cell_type": "markdown",
   "metadata": {},
   "source": [
    "Z wykresu słupkowego o poziomie wykształcenia rodziców wynika, że wykształcenie wyższe(magisterskie oraz licencjackie) wśród rodziców jest najmniej popularne, natomiast największą popularnością cieszy się wykształcenie średnie oraz Associate's degree.\n",
    "Associate's degree jest to wykształcenie dostępne w Stanach Zjednoczonych. Wykształcenie to ma pomóc w przygotowaniu do przyszłego zawodu. Zdobycie tego tytułu jest łatwiejsze niż zdobycie tytułu licencjata.\n",
    "\n",
    "Następnie przedstawiono poziom wykształcenia rodziców na tle poszczególnych grup etnicznych. Do tego celu posłużono się dwoma typami interakcyjnych wykresów: treemap oraz sunburst."
   ]
  },
  {
   "cell_type": "code",
   "execution_count": 40,
   "metadata": {},
   "outputs": [
    {
     "data": {
      "application/vnd.plotly.v1+json": {
       "config": {
        "plotlyServerURL": "https://plot.ly"
       },
       "data": [
        {
         "branchvalues": "total",
         "domain": {
          "x": [
           0,
           1
          ],
          "y": [
           0,
           1
          ]
         },
         "hovertemplate": "labels=%{label}<br>total=%{value}<br>parent=%{parent}<br>id=%{id}<extra></extra>",
         "ids": [
          "group A/associate's degree",
          "group B/associate's degree",
          "group C/associate's degree",
          "group D/associate's degree",
          "group E/associate's degree",
          "group A/bachelor's degree",
          "group B/bachelor's degree",
          "group C/bachelor's degree",
          "group D/bachelor's degree",
          "group E/bachelor's degree",
          "group A/high school",
          "group B/high school",
          "group C/high school",
          "group D/high school",
          "group E/high school",
          "group A/master's degree",
          "group B/master's degree",
          "group C/master's degree",
          "group D/master's degree",
          "group E/master's degree",
          "group A/some college",
          "group B/some college",
          "group C/some college",
          "group D/some college",
          "group E/some college",
          "group A/some high school",
          "group B/some high school",
          "group C/some high school",
          "group D/some high school",
          "group E/some high school",
          "group A",
          "group B",
          "group C",
          "group D",
          "group E"
         ],
         "labels": [
          "associate's degree",
          "associate's degree",
          "associate's degree",
          "associate's degree",
          "associate's degree",
          "bachelor's degree",
          "bachelor's degree",
          "bachelor's degree",
          "bachelor's degree",
          "bachelor's degree",
          "high school",
          "high school",
          "high school",
          "high school",
          "high school",
          "master's degree",
          "master's degree",
          "master's degree",
          "master's degree",
          "master's degree",
          "some college",
          "some college",
          "some college",
          "some college",
          "some college",
          "some high school",
          "some high school",
          "some high school",
          "some high school",
          "some high school",
          "group A",
          "group B",
          "group C",
          "group D",
          "group E"
         ],
         "name": "",
         "parents": [
          "group A",
          "group B",
          "group C",
          "group D",
          "group E",
          "group A",
          "group B",
          "group C",
          "group D",
          "group E",
          "group A",
          "group B",
          "group C",
          "group D",
          "group E",
          "group A",
          "group B",
          "group C",
          "group D",
          "group E",
          "group A",
          "group B",
          "group C",
          "group D",
          "group E",
          "group A",
          "group B",
          "group C",
          "group D",
          "group E",
          "",
          "",
          "",
          "",
          ""
         ],
         "type": "treemap",
         "values": [
          14,
          41,
          78,
          50,
          39,
          12,
          20,
          40,
          28,
          18,
          18,
          48,
          64,
          44,
          22,
          3,
          6,
          19,
          23,
          8,
          18,
          37,
          69,
          67,
          35,
          24,
          38,
          49,
          50,
          18,
          89,
          190,
          319,
          262,
          140
         ]
        }
       ],
       "layout": {
        "legend": {
         "tracegroupgap": 0
        },
        "margin": {
         "t": 60
        },
        "template": {
         "data": {
          "bar": [
           {
            "error_x": {
             "color": "#2a3f5f"
            },
            "error_y": {
             "color": "#2a3f5f"
            },
            "marker": {
             "line": {
              "color": "#E5ECF6",
              "width": 0.5
             }
            },
            "type": "bar"
           }
          ],
          "barpolar": [
           {
            "marker": {
             "line": {
              "color": "#E5ECF6",
              "width": 0.5
             }
            },
            "type": "barpolar"
           }
          ],
          "carpet": [
           {
            "aaxis": {
             "endlinecolor": "#2a3f5f",
             "gridcolor": "white",
             "linecolor": "white",
             "minorgridcolor": "white",
             "startlinecolor": "#2a3f5f"
            },
            "baxis": {
             "endlinecolor": "#2a3f5f",
             "gridcolor": "white",
             "linecolor": "white",
             "minorgridcolor": "white",
             "startlinecolor": "#2a3f5f"
            },
            "type": "carpet"
           }
          ],
          "choropleth": [
           {
            "colorbar": {
             "outlinewidth": 0,
             "ticks": ""
            },
            "type": "choropleth"
           }
          ],
          "contour": [
           {
            "colorbar": {
             "outlinewidth": 0,
             "ticks": ""
            },
            "colorscale": [
             [
              0,
              "#0d0887"
             ],
             [
              0.1111111111111111,
              "#46039f"
             ],
             [
              0.2222222222222222,
              "#7201a8"
             ],
             [
              0.3333333333333333,
              "#9c179e"
             ],
             [
              0.4444444444444444,
              "#bd3786"
             ],
             [
              0.5555555555555556,
              "#d8576b"
             ],
             [
              0.6666666666666666,
              "#ed7953"
             ],
             [
              0.7777777777777778,
              "#fb9f3a"
             ],
             [
              0.8888888888888888,
              "#fdca26"
             ],
             [
              1,
              "#f0f921"
             ]
            ],
            "type": "contour"
           }
          ],
          "contourcarpet": [
           {
            "colorbar": {
             "outlinewidth": 0,
             "ticks": ""
            },
            "type": "contourcarpet"
           }
          ],
          "heatmap": [
           {
            "colorbar": {
             "outlinewidth": 0,
             "ticks": ""
            },
            "colorscale": [
             [
              0,
              "#0d0887"
             ],
             [
              0.1111111111111111,
              "#46039f"
             ],
             [
              0.2222222222222222,
              "#7201a8"
             ],
             [
              0.3333333333333333,
              "#9c179e"
             ],
             [
              0.4444444444444444,
              "#bd3786"
             ],
             [
              0.5555555555555556,
              "#d8576b"
             ],
             [
              0.6666666666666666,
              "#ed7953"
             ],
             [
              0.7777777777777778,
              "#fb9f3a"
             ],
             [
              0.8888888888888888,
              "#fdca26"
             ],
             [
              1,
              "#f0f921"
             ]
            ],
            "type": "heatmap"
           }
          ],
          "heatmapgl": [
           {
            "colorbar": {
             "outlinewidth": 0,
             "ticks": ""
            },
            "colorscale": [
             [
              0,
              "#0d0887"
             ],
             [
              0.1111111111111111,
              "#46039f"
             ],
             [
              0.2222222222222222,
              "#7201a8"
             ],
             [
              0.3333333333333333,
              "#9c179e"
             ],
             [
              0.4444444444444444,
              "#bd3786"
             ],
             [
              0.5555555555555556,
              "#d8576b"
             ],
             [
              0.6666666666666666,
              "#ed7953"
             ],
             [
              0.7777777777777778,
              "#fb9f3a"
             ],
             [
              0.8888888888888888,
              "#fdca26"
             ],
             [
              1,
              "#f0f921"
             ]
            ],
            "type": "heatmapgl"
           }
          ],
          "histogram": [
           {
            "marker": {
             "colorbar": {
              "outlinewidth": 0,
              "ticks": ""
             }
            },
            "type": "histogram"
           }
          ],
          "histogram2d": [
           {
            "colorbar": {
             "outlinewidth": 0,
             "ticks": ""
            },
            "colorscale": [
             [
              0,
              "#0d0887"
             ],
             [
              0.1111111111111111,
              "#46039f"
             ],
             [
              0.2222222222222222,
              "#7201a8"
             ],
             [
              0.3333333333333333,
              "#9c179e"
             ],
             [
              0.4444444444444444,
              "#bd3786"
             ],
             [
              0.5555555555555556,
              "#d8576b"
             ],
             [
              0.6666666666666666,
              "#ed7953"
             ],
             [
              0.7777777777777778,
              "#fb9f3a"
             ],
             [
              0.8888888888888888,
              "#fdca26"
             ],
             [
              1,
              "#f0f921"
             ]
            ],
            "type": "histogram2d"
           }
          ],
          "histogram2dcontour": [
           {
            "colorbar": {
             "outlinewidth": 0,
             "ticks": ""
            },
            "colorscale": [
             [
              0,
              "#0d0887"
             ],
             [
              0.1111111111111111,
              "#46039f"
             ],
             [
              0.2222222222222222,
              "#7201a8"
             ],
             [
              0.3333333333333333,
              "#9c179e"
             ],
             [
              0.4444444444444444,
              "#bd3786"
             ],
             [
              0.5555555555555556,
              "#d8576b"
             ],
             [
              0.6666666666666666,
              "#ed7953"
             ],
             [
              0.7777777777777778,
              "#fb9f3a"
             ],
             [
              0.8888888888888888,
              "#fdca26"
             ],
             [
              1,
              "#f0f921"
             ]
            ],
            "type": "histogram2dcontour"
           }
          ],
          "mesh3d": [
           {
            "colorbar": {
             "outlinewidth": 0,
             "ticks": ""
            },
            "type": "mesh3d"
           }
          ],
          "parcoords": [
           {
            "line": {
             "colorbar": {
              "outlinewidth": 0,
              "ticks": ""
             }
            },
            "type": "parcoords"
           }
          ],
          "pie": [
           {
            "automargin": true,
            "type": "pie"
           }
          ],
          "scatter": [
           {
            "marker": {
             "colorbar": {
              "outlinewidth": 0,
              "ticks": ""
             }
            },
            "type": "scatter"
           }
          ],
          "scatter3d": [
           {
            "line": {
             "colorbar": {
              "outlinewidth": 0,
              "ticks": ""
             }
            },
            "marker": {
             "colorbar": {
              "outlinewidth": 0,
              "ticks": ""
             }
            },
            "type": "scatter3d"
           }
          ],
          "scattercarpet": [
           {
            "marker": {
             "colorbar": {
              "outlinewidth": 0,
              "ticks": ""
             }
            },
            "type": "scattercarpet"
           }
          ],
          "scattergeo": [
           {
            "marker": {
             "colorbar": {
              "outlinewidth": 0,
              "ticks": ""
             }
            },
            "type": "scattergeo"
           }
          ],
          "scattergl": [
           {
            "marker": {
             "colorbar": {
              "outlinewidth": 0,
              "ticks": ""
             }
            },
            "type": "scattergl"
           }
          ],
          "scattermapbox": [
           {
            "marker": {
             "colorbar": {
              "outlinewidth": 0,
              "ticks": ""
             }
            },
            "type": "scattermapbox"
           }
          ],
          "scatterpolar": [
           {
            "marker": {
             "colorbar": {
              "outlinewidth": 0,
              "ticks": ""
             }
            },
            "type": "scatterpolar"
           }
          ],
          "scatterpolargl": [
           {
            "marker": {
             "colorbar": {
              "outlinewidth": 0,
              "ticks": ""
             }
            },
            "type": "scatterpolargl"
           }
          ],
          "scatterternary": [
           {
            "marker": {
             "colorbar": {
              "outlinewidth": 0,
              "ticks": ""
             }
            },
            "type": "scatterternary"
           }
          ],
          "surface": [
           {
            "colorbar": {
             "outlinewidth": 0,
             "ticks": ""
            },
            "colorscale": [
             [
              0,
              "#0d0887"
             ],
             [
              0.1111111111111111,
              "#46039f"
             ],
             [
              0.2222222222222222,
              "#7201a8"
             ],
             [
              0.3333333333333333,
              "#9c179e"
             ],
             [
              0.4444444444444444,
              "#bd3786"
             ],
             [
              0.5555555555555556,
              "#d8576b"
             ],
             [
              0.6666666666666666,
              "#ed7953"
             ],
             [
              0.7777777777777778,
              "#fb9f3a"
             ],
             [
              0.8888888888888888,
              "#fdca26"
             ],
             [
              1,
              "#f0f921"
             ]
            ],
            "type": "surface"
           }
          ],
          "table": [
           {
            "cells": {
             "fill": {
              "color": "#EBF0F8"
             },
             "line": {
              "color": "white"
             }
            },
            "header": {
             "fill": {
              "color": "#C8D4E3"
             },
             "line": {
              "color": "white"
             }
            },
            "type": "table"
           }
          ]
         },
         "layout": {
          "annotationdefaults": {
           "arrowcolor": "#2a3f5f",
           "arrowhead": 0,
           "arrowwidth": 1
          },
          "autotypenumbers": "strict",
          "coloraxis": {
           "colorbar": {
            "outlinewidth": 0,
            "ticks": ""
           }
          },
          "colorscale": {
           "diverging": [
            [
             0,
             "#8e0152"
            ],
            [
             0.1,
             "#c51b7d"
            ],
            [
             0.2,
             "#de77ae"
            ],
            [
             0.3,
             "#f1b6da"
            ],
            [
             0.4,
             "#fde0ef"
            ],
            [
             0.5,
             "#f7f7f7"
            ],
            [
             0.6,
             "#e6f5d0"
            ],
            [
             0.7,
             "#b8e186"
            ],
            [
             0.8,
             "#7fbc41"
            ],
            [
             0.9,
             "#4d9221"
            ],
            [
             1,
             "#276419"
            ]
           ],
           "sequential": [
            [
             0,
             "#0d0887"
            ],
            [
             0.1111111111111111,
             "#46039f"
            ],
            [
             0.2222222222222222,
             "#7201a8"
            ],
            [
             0.3333333333333333,
             "#9c179e"
            ],
            [
             0.4444444444444444,
             "#bd3786"
            ],
            [
             0.5555555555555556,
             "#d8576b"
            ],
            [
             0.6666666666666666,
             "#ed7953"
            ],
            [
             0.7777777777777778,
             "#fb9f3a"
            ],
            [
             0.8888888888888888,
             "#fdca26"
            ],
            [
             1,
             "#f0f921"
            ]
           ],
           "sequentialminus": [
            [
             0,
             "#0d0887"
            ],
            [
             0.1111111111111111,
             "#46039f"
            ],
            [
             0.2222222222222222,
             "#7201a8"
            ],
            [
             0.3333333333333333,
             "#9c179e"
            ],
            [
             0.4444444444444444,
             "#bd3786"
            ],
            [
             0.5555555555555556,
             "#d8576b"
            ],
            [
             0.6666666666666666,
             "#ed7953"
            ],
            [
             0.7777777777777778,
             "#fb9f3a"
            ],
            [
             0.8888888888888888,
             "#fdca26"
            ],
            [
             1,
             "#f0f921"
            ]
           ]
          },
          "colorway": [
           "#636efa",
           "#EF553B",
           "#00cc96",
           "#ab63fa",
           "#FFA15A",
           "#19d3f3",
           "#FF6692",
           "#B6E880",
           "#FF97FF",
           "#FECB52"
          ],
          "font": {
           "color": "#2a3f5f"
          },
          "geo": {
           "bgcolor": "white",
           "lakecolor": "white",
           "landcolor": "#E5ECF6",
           "showlakes": true,
           "showland": true,
           "subunitcolor": "white"
          },
          "hoverlabel": {
           "align": "left"
          },
          "hovermode": "closest",
          "mapbox": {
           "style": "light"
          },
          "paper_bgcolor": "white",
          "plot_bgcolor": "#E5ECF6",
          "polar": {
           "angularaxis": {
            "gridcolor": "white",
            "linecolor": "white",
            "ticks": ""
           },
           "bgcolor": "#E5ECF6",
           "radialaxis": {
            "gridcolor": "white",
            "linecolor": "white",
            "ticks": ""
           }
          },
          "scene": {
           "xaxis": {
            "backgroundcolor": "#E5ECF6",
            "gridcolor": "white",
            "gridwidth": 2,
            "linecolor": "white",
            "showbackground": true,
            "ticks": "",
            "zerolinecolor": "white"
           },
           "yaxis": {
            "backgroundcolor": "#E5ECF6",
            "gridcolor": "white",
            "gridwidth": 2,
            "linecolor": "white",
            "showbackground": true,
            "ticks": "",
            "zerolinecolor": "white"
           },
           "zaxis": {
            "backgroundcolor": "#E5ECF6",
            "gridcolor": "white",
            "gridwidth": 2,
            "linecolor": "white",
            "showbackground": true,
            "ticks": "",
            "zerolinecolor": "white"
           }
          },
          "shapedefaults": {
           "line": {
            "color": "#2a3f5f"
           }
          },
          "ternary": {
           "aaxis": {
            "gridcolor": "white",
            "linecolor": "white",
            "ticks": ""
           },
           "baxis": {
            "gridcolor": "white",
            "linecolor": "white",
            "ticks": ""
           },
           "bgcolor": "#E5ECF6",
           "caxis": {
            "gridcolor": "white",
            "linecolor": "white",
            "ticks": ""
           }
          },
          "title": {
           "x": 0.05
          },
          "xaxis": {
           "automargin": true,
           "gridcolor": "white",
           "linecolor": "white",
           "ticks": "",
           "title": {
            "standoff": 15
           },
           "zerolinecolor": "white",
           "zerolinewidth": 2
          },
          "yaxis": {
           "automargin": true,
           "gridcolor": "white",
           "linecolor": "white",
           "ticks": "",
           "title": {
            "standoff": 15
           },
           "zerolinecolor": "white",
           "zerolinewidth": 2
          }
         }
        }
       }
      },
      "text/html": [
       "<div>                            <div id=\"f947cd20-08ea-400e-87f8-277f899f52d1\" class=\"plotly-graph-div\" style=\"height:525px; width:100%;\"></div>            <script type=\"text/javascript\">                require([\"plotly\"], function(Plotly) {                    window.PLOTLYENV=window.PLOTLYENV || {};                                    if (document.getElementById(\"f947cd20-08ea-400e-87f8-277f899f52d1\")) {                    Plotly.newPlot(                        \"f947cd20-08ea-400e-87f8-277f899f52d1\",                        [{\"branchvalues\": \"total\", \"domain\": {\"x\": [0.0, 1.0], \"y\": [0.0, 1.0]}, \"hovertemplate\": \"labels=%{label}<br>total=%{value}<br>parent=%{parent}<br>id=%{id}<extra></extra>\", \"ids\": [\"group A/associate's degree\", \"group B/associate's degree\", \"group C/associate's degree\", \"group D/associate's degree\", \"group E/associate's degree\", \"group A/bachelor's degree\", \"group B/bachelor's degree\", \"group C/bachelor's degree\", \"group D/bachelor's degree\", \"group E/bachelor's degree\", \"group A/high school\", \"group B/high school\", \"group C/high school\", \"group D/high school\", \"group E/high school\", \"group A/master's degree\", \"group B/master's degree\", \"group C/master's degree\", \"group D/master's degree\", \"group E/master's degree\", \"group A/some college\", \"group B/some college\", \"group C/some college\", \"group D/some college\", \"group E/some college\", \"group A/some high school\", \"group B/some high school\", \"group C/some high school\", \"group D/some high school\", \"group E/some high school\", \"group A\", \"group B\", \"group C\", \"group D\", \"group E\"], \"labels\": [\"associate's degree\", \"associate's degree\", \"associate's degree\", \"associate's degree\", \"associate's degree\", \"bachelor's degree\", \"bachelor's degree\", \"bachelor's degree\", \"bachelor's degree\", \"bachelor's degree\", \"high school\", \"high school\", \"high school\", \"high school\", \"high school\", \"master's degree\", \"master's degree\", \"master's degree\", \"master's degree\", \"master's degree\", \"some college\", \"some college\", \"some college\", \"some college\", \"some college\", \"some high school\", \"some high school\", \"some high school\", \"some high school\", \"some high school\", \"group A\", \"group B\", \"group C\", \"group D\", \"group E\"], \"name\": \"\", \"parents\": [\"group A\", \"group B\", \"group C\", \"group D\", \"group E\", \"group A\", \"group B\", \"group C\", \"group D\", \"group E\", \"group A\", \"group B\", \"group C\", \"group D\", \"group E\", \"group A\", \"group B\", \"group C\", \"group D\", \"group E\", \"group A\", \"group B\", \"group C\", \"group D\", \"group E\", \"group A\", \"group B\", \"group C\", \"group D\", \"group E\", \"\", \"\", \"\", \"\", \"\"], \"type\": \"treemap\", \"values\": [14, 41, 78, 50, 39, 12, 20, 40, 28, 18, 18, 48, 64, 44, 22, 3, 6, 19, 23, 8, 18, 37, 69, 67, 35, 24, 38, 49, 50, 18, 89, 190, 319, 262, 140]}],                        {\"legend\": {\"tracegroupgap\": 0}, \"margin\": {\"t\": 60}, \"template\": {\"data\": {\"bar\": [{\"error_x\": {\"color\": \"#2a3f5f\"}, \"error_y\": {\"color\": \"#2a3f5f\"}, \"marker\": {\"line\": {\"color\": \"#E5ECF6\", \"width\": 0.5}}, \"type\": \"bar\"}], \"barpolar\": [{\"marker\": {\"line\": {\"color\": \"#E5ECF6\", \"width\": 0.5}}, \"type\": \"barpolar\"}], \"carpet\": [{\"aaxis\": {\"endlinecolor\": \"#2a3f5f\", \"gridcolor\": \"white\", \"linecolor\": \"white\", \"minorgridcolor\": \"white\", \"startlinecolor\": \"#2a3f5f\"}, \"baxis\": {\"endlinecolor\": \"#2a3f5f\", \"gridcolor\": \"white\", \"linecolor\": \"white\", \"minorgridcolor\": \"white\", \"startlinecolor\": \"#2a3f5f\"}, \"type\": \"carpet\"}], \"choropleth\": [{\"colorbar\": {\"outlinewidth\": 0, \"ticks\": \"\"}, \"type\": \"choropleth\"}], \"contour\": [{\"colorbar\": {\"outlinewidth\": 0, \"ticks\": \"\"}, \"colorscale\": [[0.0, \"#0d0887\"], [0.1111111111111111, \"#46039f\"], [0.2222222222222222, \"#7201a8\"], [0.3333333333333333, \"#9c179e\"], [0.4444444444444444, \"#bd3786\"], [0.5555555555555556, \"#d8576b\"], [0.6666666666666666, \"#ed7953\"], [0.7777777777777778, \"#fb9f3a\"], [0.8888888888888888, \"#fdca26\"], [1.0, \"#f0f921\"]], \"type\": \"contour\"}], \"contourcarpet\": [{\"colorbar\": {\"outlinewidth\": 0, \"ticks\": \"\"}, \"type\": \"contourcarpet\"}], \"heatmap\": [{\"colorbar\": {\"outlinewidth\": 0, \"ticks\": \"\"}, \"colorscale\": [[0.0, \"#0d0887\"], [0.1111111111111111, \"#46039f\"], [0.2222222222222222, \"#7201a8\"], [0.3333333333333333, \"#9c179e\"], [0.4444444444444444, \"#bd3786\"], [0.5555555555555556, \"#d8576b\"], [0.6666666666666666, \"#ed7953\"], [0.7777777777777778, \"#fb9f3a\"], [0.8888888888888888, \"#fdca26\"], [1.0, \"#f0f921\"]], \"type\": \"heatmap\"}], \"heatmapgl\": [{\"colorbar\": {\"outlinewidth\": 0, \"ticks\": \"\"}, \"colorscale\": [[0.0, \"#0d0887\"], [0.1111111111111111, \"#46039f\"], [0.2222222222222222, \"#7201a8\"], [0.3333333333333333, \"#9c179e\"], [0.4444444444444444, \"#bd3786\"], [0.5555555555555556, \"#d8576b\"], [0.6666666666666666, \"#ed7953\"], [0.7777777777777778, \"#fb9f3a\"], [0.8888888888888888, \"#fdca26\"], [1.0, \"#f0f921\"]], \"type\": \"heatmapgl\"}], \"histogram\": [{\"marker\": {\"colorbar\": {\"outlinewidth\": 0, \"ticks\": \"\"}}, \"type\": \"histogram\"}], \"histogram2d\": [{\"colorbar\": {\"outlinewidth\": 0, \"ticks\": \"\"}, \"colorscale\": [[0.0, \"#0d0887\"], [0.1111111111111111, \"#46039f\"], [0.2222222222222222, \"#7201a8\"], [0.3333333333333333, \"#9c179e\"], [0.4444444444444444, \"#bd3786\"], [0.5555555555555556, \"#d8576b\"], [0.6666666666666666, \"#ed7953\"], [0.7777777777777778, \"#fb9f3a\"], [0.8888888888888888, \"#fdca26\"], [1.0, \"#f0f921\"]], \"type\": \"histogram2d\"}], \"histogram2dcontour\": [{\"colorbar\": {\"outlinewidth\": 0, \"ticks\": \"\"}, \"colorscale\": [[0.0, \"#0d0887\"], [0.1111111111111111, \"#46039f\"], [0.2222222222222222, \"#7201a8\"], [0.3333333333333333, \"#9c179e\"], [0.4444444444444444, \"#bd3786\"], [0.5555555555555556, \"#d8576b\"], [0.6666666666666666, \"#ed7953\"], [0.7777777777777778, \"#fb9f3a\"], [0.8888888888888888, \"#fdca26\"], [1.0, \"#f0f921\"]], \"type\": \"histogram2dcontour\"}], \"mesh3d\": [{\"colorbar\": {\"outlinewidth\": 0, \"ticks\": \"\"}, \"type\": \"mesh3d\"}], \"parcoords\": [{\"line\": {\"colorbar\": {\"outlinewidth\": 0, \"ticks\": \"\"}}, \"type\": \"parcoords\"}], \"pie\": [{\"automargin\": true, \"type\": \"pie\"}], \"scatter\": [{\"marker\": {\"colorbar\": {\"outlinewidth\": 0, \"ticks\": \"\"}}, \"type\": \"scatter\"}], \"scatter3d\": [{\"line\": {\"colorbar\": {\"outlinewidth\": 0, \"ticks\": \"\"}}, \"marker\": {\"colorbar\": {\"outlinewidth\": 0, \"ticks\": \"\"}}, \"type\": \"scatter3d\"}], \"scattercarpet\": [{\"marker\": {\"colorbar\": {\"outlinewidth\": 0, \"ticks\": \"\"}}, \"type\": \"scattercarpet\"}], \"scattergeo\": [{\"marker\": {\"colorbar\": {\"outlinewidth\": 0, \"ticks\": \"\"}}, \"type\": \"scattergeo\"}], \"scattergl\": [{\"marker\": {\"colorbar\": {\"outlinewidth\": 0, \"ticks\": \"\"}}, \"type\": \"scattergl\"}], \"scattermapbox\": [{\"marker\": {\"colorbar\": {\"outlinewidth\": 0, \"ticks\": \"\"}}, \"type\": \"scattermapbox\"}], \"scatterpolar\": [{\"marker\": {\"colorbar\": {\"outlinewidth\": 0, \"ticks\": \"\"}}, \"type\": \"scatterpolar\"}], \"scatterpolargl\": [{\"marker\": {\"colorbar\": {\"outlinewidth\": 0, \"ticks\": \"\"}}, \"type\": \"scatterpolargl\"}], \"scatterternary\": [{\"marker\": {\"colorbar\": {\"outlinewidth\": 0, \"ticks\": \"\"}}, \"type\": \"scatterternary\"}], \"surface\": [{\"colorbar\": {\"outlinewidth\": 0, \"ticks\": \"\"}, \"colorscale\": [[0.0, \"#0d0887\"], [0.1111111111111111, \"#46039f\"], [0.2222222222222222, \"#7201a8\"], [0.3333333333333333, \"#9c179e\"], [0.4444444444444444, \"#bd3786\"], [0.5555555555555556, \"#d8576b\"], [0.6666666666666666, \"#ed7953\"], [0.7777777777777778, \"#fb9f3a\"], [0.8888888888888888, \"#fdca26\"], [1.0, \"#f0f921\"]], \"type\": \"surface\"}], \"table\": [{\"cells\": {\"fill\": {\"color\": \"#EBF0F8\"}, \"line\": {\"color\": \"white\"}}, \"header\": {\"fill\": {\"color\": \"#C8D4E3\"}, \"line\": {\"color\": \"white\"}}, \"type\": \"table\"}]}, \"layout\": {\"annotationdefaults\": {\"arrowcolor\": \"#2a3f5f\", \"arrowhead\": 0, \"arrowwidth\": 1}, \"autotypenumbers\": \"strict\", \"coloraxis\": {\"colorbar\": {\"outlinewidth\": 0, \"ticks\": \"\"}}, \"colorscale\": {\"diverging\": [[0, \"#8e0152\"], [0.1, \"#c51b7d\"], [0.2, \"#de77ae\"], [0.3, \"#f1b6da\"], [0.4, \"#fde0ef\"], [0.5, \"#f7f7f7\"], [0.6, \"#e6f5d0\"], [0.7, \"#b8e186\"], [0.8, \"#7fbc41\"], [0.9, \"#4d9221\"], [1, \"#276419\"]], \"sequential\": [[0.0, \"#0d0887\"], [0.1111111111111111, \"#46039f\"], [0.2222222222222222, \"#7201a8\"], [0.3333333333333333, \"#9c179e\"], [0.4444444444444444, \"#bd3786\"], [0.5555555555555556, \"#d8576b\"], [0.6666666666666666, \"#ed7953\"], [0.7777777777777778, \"#fb9f3a\"], [0.8888888888888888, \"#fdca26\"], [1.0, \"#f0f921\"]], \"sequentialminus\": [[0.0, \"#0d0887\"], [0.1111111111111111, \"#46039f\"], [0.2222222222222222, \"#7201a8\"], [0.3333333333333333, \"#9c179e\"], [0.4444444444444444, \"#bd3786\"], [0.5555555555555556, \"#d8576b\"], [0.6666666666666666, \"#ed7953\"], [0.7777777777777778, \"#fb9f3a\"], [0.8888888888888888, \"#fdca26\"], [1.0, \"#f0f921\"]]}, \"colorway\": [\"#636efa\", \"#EF553B\", \"#00cc96\", \"#ab63fa\", \"#FFA15A\", \"#19d3f3\", \"#FF6692\", \"#B6E880\", \"#FF97FF\", \"#FECB52\"], \"font\": {\"color\": \"#2a3f5f\"}, \"geo\": {\"bgcolor\": \"white\", \"lakecolor\": \"white\", \"landcolor\": \"#E5ECF6\", \"showlakes\": true, \"showland\": true, \"subunitcolor\": \"white\"}, \"hoverlabel\": {\"align\": \"left\"}, \"hovermode\": \"closest\", \"mapbox\": {\"style\": \"light\"}, \"paper_bgcolor\": \"white\", \"plot_bgcolor\": \"#E5ECF6\", \"polar\": {\"angularaxis\": {\"gridcolor\": \"white\", \"linecolor\": \"white\", \"ticks\": \"\"}, \"bgcolor\": \"#E5ECF6\", \"radialaxis\": {\"gridcolor\": \"white\", \"linecolor\": \"white\", \"ticks\": \"\"}}, \"scene\": {\"xaxis\": {\"backgroundcolor\": \"#E5ECF6\", \"gridcolor\": \"white\", \"gridwidth\": 2, \"linecolor\": \"white\", \"showbackground\": true, \"ticks\": \"\", \"zerolinecolor\": \"white\"}, \"yaxis\": {\"backgroundcolor\": \"#E5ECF6\", \"gridcolor\": \"white\", \"gridwidth\": 2, \"linecolor\": \"white\", \"showbackground\": true, \"ticks\": \"\", \"zerolinecolor\": \"white\"}, \"zaxis\": {\"backgroundcolor\": \"#E5ECF6\", \"gridcolor\": \"white\", \"gridwidth\": 2, \"linecolor\": \"white\", \"showbackground\": true, \"ticks\": \"\", \"zerolinecolor\": \"white\"}}, \"shapedefaults\": {\"line\": {\"color\": \"#2a3f5f\"}}, \"ternary\": {\"aaxis\": {\"gridcolor\": \"white\", \"linecolor\": \"white\", \"ticks\": \"\"}, \"baxis\": {\"gridcolor\": \"white\", \"linecolor\": \"white\", \"ticks\": \"\"}, \"bgcolor\": \"#E5ECF6\", \"caxis\": {\"gridcolor\": \"white\", \"linecolor\": \"white\", \"ticks\": \"\"}}, \"title\": {\"x\": 0.05}, \"xaxis\": {\"automargin\": true, \"gridcolor\": \"white\", \"linecolor\": \"white\", \"ticks\": \"\", \"title\": {\"standoff\": 15}, \"zerolinecolor\": \"white\", \"zerolinewidth\": 2}, \"yaxis\": {\"automargin\": true, \"gridcolor\": \"white\", \"linecolor\": \"white\", \"ticks\": \"\", \"title\": {\"standoff\": 15}, \"zerolinecolor\": \"white\", \"zerolinewidth\": 2}}}},                        {\"responsive\": true}                    ).then(function(){\n",
       "                            \n",
       "var gd = document.getElementById('f947cd20-08ea-400e-87f8-277f899f52d1');\n",
       "var x = new MutationObserver(function (mutations, observer) {{\n",
       "        var display = window.getComputedStyle(gd).display;\n",
       "        if (!display || display === 'none') {{\n",
       "            console.log([gd, 'removed!']);\n",
       "            Plotly.purge(gd);\n",
       "            observer.disconnect();\n",
       "        }}\n",
       "}});\n",
       "\n",
       "// Listen for the removal of the full notebook cells\n",
       "var notebookContainer = gd.closest('#notebook-container');\n",
       "if (notebookContainer) {{\n",
       "    x.observe(notebookContainer, {childList: true});\n",
       "}}\n",
       "\n",
       "// Listen for the clearing of the current output cell\n",
       "var outputEl = gd.closest('.output');\n",
       "if (outputEl) {{\n",
       "    x.observe(outputEl, {childList: true});\n",
       "}}\n",
       "\n",
       "                        })                };                });            </script>        </div>"
      ]
     },
     "metadata": {},
     "output_type": "display_data"
    }
   ],
   "source": [
    "df['total'] = 1\n",
    "fig = px.treemap(df, path=['race/ethnicity', 'parental level of education'], values='total')\n",
    "fig.show()"
   ]
  },
  {
   "cell_type": "code",
   "execution_count": 41,
   "metadata": {},
   "outputs": [
    {
     "data": {
      "application/vnd.plotly.v1+json": {
       "config": {
        "plotlyServerURL": "https://plot.ly"
       },
       "data": [
        {
         "branchvalues": "total",
         "domain": {
          "x": [
           0,
           1
          ],
          "y": [
           0,
           1
          ]
         },
         "hovertemplate": "labels=%{label}<br>total=%{value}<br>parent=%{parent}<br>id=%{id}<extra></extra>",
         "ids": [
          "group A/associate's degree",
          "group B/associate's degree",
          "group C/associate's degree",
          "group D/associate's degree",
          "group E/associate's degree",
          "group A/bachelor's degree",
          "group B/bachelor's degree",
          "group C/bachelor's degree",
          "group D/bachelor's degree",
          "group E/bachelor's degree",
          "group A/high school",
          "group B/high school",
          "group C/high school",
          "group D/high school",
          "group E/high school",
          "group A/master's degree",
          "group B/master's degree",
          "group C/master's degree",
          "group D/master's degree",
          "group E/master's degree",
          "group A/some college",
          "group B/some college",
          "group C/some college",
          "group D/some college",
          "group E/some college",
          "group A/some high school",
          "group B/some high school",
          "group C/some high school",
          "group D/some high school",
          "group E/some high school",
          "group A",
          "group B",
          "group C",
          "group D",
          "group E"
         ],
         "labels": [
          "associate's degree",
          "associate's degree",
          "associate's degree",
          "associate's degree",
          "associate's degree",
          "bachelor's degree",
          "bachelor's degree",
          "bachelor's degree",
          "bachelor's degree",
          "bachelor's degree",
          "high school",
          "high school",
          "high school",
          "high school",
          "high school",
          "master's degree",
          "master's degree",
          "master's degree",
          "master's degree",
          "master's degree",
          "some college",
          "some college",
          "some college",
          "some college",
          "some college",
          "some high school",
          "some high school",
          "some high school",
          "some high school",
          "some high school",
          "group A",
          "group B",
          "group C",
          "group D",
          "group E"
         ],
         "name": "",
         "parents": [
          "group A",
          "group B",
          "group C",
          "group D",
          "group E",
          "group A",
          "group B",
          "group C",
          "group D",
          "group E",
          "group A",
          "group B",
          "group C",
          "group D",
          "group E",
          "group A",
          "group B",
          "group C",
          "group D",
          "group E",
          "group A",
          "group B",
          "group C",
          "group D",
          "group E",
          "group A",
          "group B",
          "group C",
          "group D",
          "group E",
          "",
          "",
          "",
          "",
          ""
         ],
         "type": "sunburst",
         "values": [
          14,
          41,
          78,
          50,
          39,
          12,
          20,
          40,
          28,
          18,
          18,
          48,
          64,
          44,
          22,
          3,
          6,
          19,
          23,
          8,
          18,
          37,
          69,
          67,
          35,
          24,
          38,
          49,
          50,
          18,
          89,
          190,
          319,
          262,
          140
         ]
        }
       ],
       "layout": {
        "legend": {
         "tracegroupgap": 0
        },
        "margin": {
         "t": 60
        },
        "template": {
         "data": {
          "bar": [
           {
            "error_x": {
             "color": "#2a3f5f"
            },
            "error_y": {
             "color": "#2a3f5f"
            },
            "marker": {
             "line": {
              "color": "#E5ECF6",
              "width": 0.5
             }
            },
            "type": "bar"
           }
          ],
          "barpolar": [
           {
            "marker": {
             "line": {
              "color": "#E5ECF6",
              "width": 0.5
             }
            },
            "type": "barpolar"
           }
          ],
          "carpet": [
           {
            "aaxis": {
             "endlinecolor": "#2a3f5f",
             "gridcolor": "white",
             "linecolor": "white",
             "minorgridcolor": "white",
             "startlinecolor": "#2a3f5f"
            },
            "baxis": {
             "endlinecolor": "#2a3f5f",
             "gridcolor": "white",
             "linecolor": "white",
             "minorgridcolor": "white",
             "startlinecolor": "#2a3f5f"
            },
            "type": "carpet"
           }
          ],
          "choropleth": [
           {
            "colorbar": {
             "outlinewidth": 0,
             "ticks": ""
            },
            "type": "choropleth"
           }
          ],
          "contour": [
           {
            "colorbar": {
             "outlinewidth": 0,
             "ticks": ""
            },
            "colorscale": [
             [
              0,
              "#0d0887"
             ],
             [
              0.1111111111111111,
              "#46039f"
             ],
             [
              0.2222222222222222,
              "#7201a8"
             ],
             [
              0.3333333333333333,
              "#9c179e"
             ],
             [
              0.4444444444444444,
              "#bd3786"
             ],
             [
              0.5555555555555556,
              "#d8576b"
             ],
             [
              0.6666666666666666,
              "#ed7953"
             ],
             [
              0.7777777777777778,
              "#fb9f3a"
             ],
             [
              0.8888888888888888,
              "#fdca26"
             ],
             [
              1,
              "#f0f921"
             ]
            ],
            "type": "contour"
           }
          ],
          "contourcarpet": [
           {
            "colorbar": {
             "outlinewidth": 0,
             "ticks": ""
            },
            "type": "contourcarpet"
           }
          ],
          "heatmap": [
           {
            "colorbar": {
             "outlinewidth": 0,
             "ticks": ""
            },
            "colorscale": [
             [
              0,
              "#0d0887"
             ],
             [
              0.1111111111111111,
              "#46039f"
             ],
             [
              0.2222222222222222,
              "#7201a8"
             ],
             [
              0.3333333333333333,
              "#9c179e"
             ],
             [
              0.4444444444444444,
              "#bd3786"
             ],
             [
              0.5555555555555556,
              "#d8576b"
             ],
             [
              0.6666666666666666,
              "#ed7953"
             ],
             [
              0.7777777777777778,
              "#fb9f3a"
             ],
             [
              0.8888888888888888,
              "#fdca26"
             ],
             [
              1,
              "#f0f921"
             ]
            ],
            "type": "heatmap"
           }
          ],
          "heatmapgl": [
           {
            "colorbar": {
             "outlinewidth": 0,
             "ticks": ""
            },
            "colorscale": [
             [
              0,
              "#0d0887"
             ],
             [
              0.1111111111111111,
              "#46039f"
             ],
             [
              0.2222222222222222,
              "#7201a8"
             ],
             [
              0.3333333333333333,
              "#9c179e"
             ],
             [
              0.4444444444444444,
              "#bd3786"
             ],
             [
              0.5555555555555556,
              "#d8576b"
             ],
             [
              0.6666666666666666,
              "#ed7953"
             ],
             [
              0.7777777777777778,
              "#fb9f3a"
             ],
             [
              0.8888888888888888,
              "#fdca26"
             ],
             [
              1,
              "#f0f921"
             ]
            ],
            "type": "heatmapgl"
           }
          ],
          "histogram": [
           {
            "marker": {
             "colorbar": {
              "outlinewidth": 0,
              "ticks": ""
             }
            },
            "type": "histogram"
           }
          ],
          "histogram2d": [
           {
            "colorbar": {
             "outlinewidth": 0,
             "ticks": ""
            },
            "colorscale": [
             [
              0,
              "#0d0887"
             ],
             [
              0.1111111111111111,
              "#46039f"
             ],
             [
              0.2222222222222222,
              "#7201a8"
             ],
             [
              0.3333333333333333,
              "#9c179e"
             ],
             [
              0.4444444444444444,
              "#bd3786"
             ],
             [
              0.5555555555555556,
              "#d8576b"
             ],
             [
              0.6666666666666666,
              "#ed7953"
             ],
             [
              0.7777777777777778,
              "#fb9f3a"
             ],
             [
              0.8888888888888888,
              "#fdca26"
             ],
             [
              1,
              "#f0f921"
             ]
            ],
            "type": "histogram2d"
           }
          ],
          "histogram2dcontour": [
           {
            "colorbar": {
             "outlinewidth": 0,
             "ticks": ""
            },
            "colorscale": [
             [
              0,
              "#0d0887"
             ],
             [
              0.1111111111111111,
              "#46039f"
             ],
             [
              0.2222222222222222,
              "#7201a8"
             ],
             [
              0.3333333333333333,
              "#9c179e"
             ],
             [
              0.4444444444444444,
              "#bd3786"
             ],
             [
              0.5555555555555556,
              "#d8576b"
             ],
             [
              0.6666666666666666,
              "#ed7953"
             ],
             [
              0.7777777777777778,
              "#fb9f3a"
             ],
             [
              0.8888888888888888,
              "#fdca26"
             ],
             [
              1,
              "#f0f921"
             ]
            ],
            "type": "histogram2dcontour"
           }
          ],
          "mesh3d": [
           {
            "colorbar": {
             "outlinewidth": 0,
             "ticks": ""
            },
            "type": "mesh3d"
           }
          ],
          "parcoords": [
           {
            "line": {
             "colorbar": {
              "outlinewidth": 0,
              "ticks": ""
             }
            },
            "type": "parcoords"
           }
          ],
          "pie": [
           {
            "automargin": true,
            "type": "pie"
           }
          ],
          "scatter": [
           {
            "marker": {
             "colorbar": {
              "outlinewidth": 0,
              "ticks": ""
             }
            },
            "type": "scatter"
           }
          ],
          "scatter3d": [
           {
            "line": {
             "colorbar": {
              "outlinewidth": 0,
              "ticks": ""
             }
            },
            "marker": {
             "colorbar": {
              "outlinewidth": 0,
              "ticks": ""
             }
            },
            "type": "scatter3d"
           }
          ],
          "scattercarpet": [
           {
            "marker": {
             "colorbar": {
              "outlinewidth": 0,
              "ticks": ""
             }
            },
            "type": "scattercarpet"
           }
          ],
          "scattergeo": [
           {
            "marker": {
             "colorbar": {
              "outlinewidth": 0,
              "ticks": ""
             }
            },
            "type": "scattergeo"
           }
          ],
          "scattergl": [
           {
            "marker": {
             "colorbar": {
              "outlinewidth": 0,
              "ticks": ""
             }
            },
            "type": "scattergl"
           }
          ],
          "scattermapbox": [
           {
            "marker": {
             "colorbar": {
              "outlinewidth": 0,
              "ticks": ""
             }
            },
            "type": "scattermapbox"
           }
          ],
          "scatterpolar": [
           {
            "marker": {
             "colorbar": {
              "outlinewidth": 0,
              "ticks": ""
             }
            },
            "type": "scatterpolar"
           }
          ],
          "scatterpolargl": [
           {
            "marker": {
             "colorbar": {
              "outlinewidth": 0,
              "ticks": ""
             }
            },
            "type": "scatterpolargl"
           }
          ],
          "scatterternary": [
           {
            "marker": {
             "colorbar": {
              "outlinewidth": 0,
              "ticks": ""
             }
            },
            "type": "scatterternary"
           }
          ],
          "surface": [
           {
            "colorbar": {
             "outlinewidth": 0,
             "ticks": ""
            },
            "colorscale": [
             [
              0,
              "#0d0887"
             ],
             [
              0.1111111111111111,
              "#46039f"
             ],
             [
              0.2222222222222222,
              "#7201a8"
             ],
             [
              0.3333333333333333,
              "#9c179e"
             ],
             [
              0.4444444444444444,
              "#bd3786"
             ],
             [
              0.5555555555555556,
              "#d8576b"
             ],
             [
              0.6666666666666666,
              "#ed7953"
             ],
             [
              0.7777777777777778,
              "#fb9f3a"
             ],
             [
              0.8888888888888888,
              "#fdca26"
             ],
             [
              1,
              "#f0f921"
             ]
            ],
            "type": "surface"
           }
          ],
          "table": [
           {
            "cells": {
             "fill": {
              "color": "#EBF0F8"
             },
             "line": {
              "color": "white"
             }
            },
            "header": {
             "fill": {
              "color": "#C8D4E3"
             },
             "line": {
              "color": "white"
             }
            },
            "type": "table"
           }
          ]
         },
         "layout": {
          "annotationdefaults": {
           "arrowcolor": "#2a3f5f",
           "arrowhead": 0,
           "arrowwidth": 1
          },
          "autotypenumbers": "strict",
          "coloraxis": {
           "colorbar": {
            "outlinewidth": 0,
            "ticks": ""
           }
          },
          "colorscale": {
           "diverging": [
            [
             0,
             "#8e0152"
            ],
            [
             0.1,
             "#c51b7d"
            ],
            [
             0.2,
             "#de77ae"
            ],
            [
             0.3,
             "#f1b6da"
            ],
            [
             0.4,
             "#fde0ef"
            ],
            [
             0.5,
             "#f7f7f7"
            ],
            [
             0.6,
             "#e6f5d0"
            ],
            [
             0.7,
             "#b8e186"
            ],
            [
             0.8,
             "#7fbc41"
            ],
            [
             0.9,
             "#4d9221"
            ],
            [
             1,
             "#276419"
            ]
           ],
           "sequential": [
            [
             0,
             "#0d0887"
            ],
            [
             0.1111111111111111,
             "#46039f"
            ],
            [
             0.2222222222222222,
             "#7201a8"
            ],
            [
             0.3333333333333333,
             "#9c179e"
            ],
            [
             0.4444444444444444,
             "#bd3786"
            ],
            [
             0.5555555555555556,
             "#d8576b"
            ],
            [
             0.6666666666666666,
             "#ed7953"
            ],
            [
             0.7777777777777778,
             "#fb9f3a"
            ],
            [
             0.8888888888888888,
             "#fdca26"
            ],
            [
             1,
             "#f0f921"
            ]
           ],
           "sequentialminus": [
            [
             0,
             "#0d0887"
            ],
            [
             0.1111111111111111,
             "#46039f"
            ],
            [
             0.2222222222222222,
             "#7201a8"
            ],
            [
             0.3333333333333333,
             "#9c179e"
            ],
            [
             0.4444444444444444,
             "#bd3786"
            ],
            [
             0.5555555555555556,
             "#d8576b"
            ],
            [
             0.6666666666666666,
             "#ed7953"
            ],
            [
             0.7777777777777778,
             "#fb9f3a"
            ],
            [
             0.8888888888888888,
             "#fdca26"
            ],
            [
             1,
             "#f0f921"
            ]
           ]
          },
          "colorway": [
           "#636efa",
           "#EF553B",
           "#00cc96",
           "#ab63fa",
           "#FFA15A",
           "#19d3f3",
           "#FF6692",
           "#B6E880",
           "#FF97FF",
           "#FECB52"
          ],
          "font": {
           "color": "#2a3f5f"
          },
          "geo": {
           "bgcolor": "white",
           "lakecolor": "white",
           "landcolor": "#E5ECF6",
           "showlakes": true,
           "showland": true,
           "subunitcolor": "white"
          },
          "hoverlabel": {
           "align": "left"
          },
          "hovermode": "closest",
          "mapbox": {
           "style": "light"
          },
          "paper_bgcolor": "white",
          "plot_bgcolor": "#E5ECF6",
          "polar": {
           "angularaxis": {
            "gridcolor": "white",
            "linecolor": "white",
            "ticks": ""
           },
           "bgcolor": "#E5ECF6",
           "radialaxis": {
            "gridcolor": "white",
            "linecolor": "white",
            "ticks": ""
           }
          },
          "scene": {
           "xaxis": {
            "backgroundcolor": "#E5ECF6",
            "gridcolor": "white",
            "gridwidth": 2,
            "linecolor": "white",
            "showbackground": true,
            "ticks": "",
            "zerolinecolor": "white"
           },
           "yaxis": {
            "backgroundcolor": "#E5ECF6",
            "gridcolor": "white",
            "gridwidth": 2,
            "linecolor": "white",
            "showbackground": true,
            "ticks": "",
            "zerolinecolor": "white"
           },
           "zaxis": {
            "backgroundcolor": "#E5ECF6",
            "gridcolor": "white",
            "gridwidth": 2,
            "linecolor": "white",
            "showbackground": true,
            "ticks": "",
            "zerolinecolor": "white"
           }
          },
          "shapedefaults": {
           "line": {
            "color": "#2a3f5f"
           }
          },
          "ternary": {
           "aaxis": {
            "gridcolor": "white",
            "linecolor": "white",
            "ticks": ""
           },
           "baxis": {
            "gridcolor": "white",
            "linecolor": "white",
            "ticks": ""
           },
           "bgcolor": "#E5ECF6",
           "caxis": {
            "gridcolor": "white",
            "linecolor": "white",
            "ticks": ""
           }
          },
          "title": {
           "x": 0.05
          },
          "xaxis": {
           "automargin": true,
           "gridcolor": "white",
           "linecolor": "white",
           "ticks": "",
           "title": {
            "standoff": 15
           },
           "zerolinecolor": "white",
           "zerolinewidth": 2
          },
          "yaxis": {
           "automargin": true,
           "gridcolor": "white",
           "linecolor": "white",
           "ticks": "",
           "title": {
            "standoff": 15
           },
           "zerolinecolor": "white",
           "zerolinewidth": 2
          }
         }
        }
       }
      },
      "text/html": [
       "<div>                            <div id=\"53c4d8c9-60c9-4520-8b57-db57ba8632de\" class=\"plotly-graph-div\" style=\"height:525px; width:100%;\"></div>            <script type=\"text/javascript\">                require([\"plotly\"], function(Plotly) {                    window.PLOTLYENV=window.PLOTLYENV || {};                                    if (document.getElementById(\"53c4d8c9-60c9-4520-8b57-db57ba8632de\")) {                    Plotly.newPlot(                        \"53c4d8c9-60c9-4520-8b57-db57ba8632de\",                        [{\"branchvalues\": \"total\", \"domain\": {\"x\": [0.0, 1.0], \"y\": [0.0, 1.0]}, \"hovertemplate\": \"labels=%{label}<br>total=%{value}<br>parent=%{parent}<br>id=%{id}<extra></extra>\", \"ids\": [\"group A/associate's degree\", \"group B/associate's degree\", \"group C/associate's degree\", \"group D/associate's degree\", \"group E/associate's degree\", \"group A/bachelor's degree\", \"group B/bachelor's degree\", \"group C/bachelor's degree\", \"group D/bachelor's degree\", \"group E/bachelor's degree\", \"group A/high school\", \"group B/high school\", \"group C/high school\", \"group D/high school\", \"group E/high school\", \"group A/master's degree\", \"group B/master's degree\", \"group C/master's degree\", \"group D/master's degree\", \"group E/master's degree\", \"group A/some college\", \"group B/some college\", \"group C/some college\", \"group D/some college\", \"group E/some college\", \"group A/some high school\", \"group B/some high school\", \"group C/some high school\", \"group D/some high school\", \"group E/some high school\", \"group A\", \"group B\", \"group C\", \"group D\", \"group E\"], \"labels\": [\"associate's degree\", \"associate's degree\", \"associate's degree\", \"associate's degree\", \"associate's degree\", \"bachelor's degree\", \"bachelor's degree\", \"bachelor's degree\", \"bachelor's degree\", \"bachelor's degree\", \"high school\", \"high school\", \"high school\", \"high school\", \"high school\", \"master's degree\", \"master's degree\", \"master's degree\", \"master's degree\", \"master's degree\", \"some college\", \"some college\", \"some college\", \"some college\", \"some college\", \"some high school\", \"some high school\", \"some high school\", \"some high school\", \"some high school\", \"group A\", \"group B\", \"group C\", \"group D\", \"group E\"], \"name\": \"\", \"parents\": [\"group A\", \"group B\", \"group C\", \"group D\", \"group E\", \"group A\", \"group B\", \"group C\", \"group D\", \"group E\", \"group A\", \"group B\", \"group C\", \"group D\", \"group E\", \"group A\", \"group B\", \"group C\", \"group D\", \"group E\", \"group A\", \"group B\", \"group C\", \"group D\", \"group E\", \"group A\", \"group B\", \"group C\", \"group D\", \"group E\", \"\", \"\", \"\", \"\", \"\"], \"type\": \"sunburst\", \"values\": [14, 41, 78, 50, 39, 12, 20, 40, 28, 18, 18, 48, 64, 44, 22, 3, 6, 19, 23, 8, 18, 37, 69, 67, 35, 24, 38, 49, 50, 18, 89, 190, 319, 262, 140]}],                        {\"legend\": {\"tracegroupgap\": 0}, \"margin\": {\"t\": 60}, \"template\": {\"data\": {\"bar\": [{\"error_x\": {\"color\": \"#2a3f5f\"}, \"error_y\": {\"color\": \"#2a3f5f\"}, \"marker\": {\"line\": {\"color\": \"#E5ECF6\", \"width\": 0.5}}, \"type\": \"bar\"}], \"barpolar\": [{\"marker\": {\"line\": {\"color\": \"#E5ECF6\", \"width\": 0.5}}, \"type\": \"barpolar\"}], \"carpet\": [{\"aaxis\": {\"endlinecolor\": \"#2a3f5f\", \"gridcolor\": \"white\", \"linecolor\": \"white\", \"minorgridcolor\": \"white\", \"startlinecolor\": \"#2a3f5f\"}, \"baxis\": {\"endlinecolor\": \"#2a3f5f\", \"gridcolor\": \"white\", \"linecolor\": \"white\", \"minorgridcolor\": \"white\", \"startlinecolor\": \"#2a3f5f\"}, \"type\": \"carpet\"}], \"choropleth\": [{\"colorbar\": {\"outlinewidth\": 0, \"ticks\": \"\"}, \"type\": \"choropleth\"}], \"contour\": [{\"colorbar\": {\"outlinewidth\": 0, \"ticks\": \"\"}, \"colorscale\": [[0.0, \"#0d0887\"], [0.1111111111111111, \"#46039f\"], [0.2222222222222222, \"#7201a8\"], [0.3333333333333333, \"#9c179e\"], [0.4444444444444444, \"#bd3786\"], [0.5555555555555556, \"#d8576b\"], [0.6666666666666666, \"#ed7953\"], [0.7777777777777778, \"#fb9f3a\"], [0.8888888888888888, \"#fdca26\"], [1.0, \"#f0f921\"]], \"type\": \"contour\"}], \"contourcarpet\": [{\"colorbar\": {\"outlinewidth\": 0, \"ticks\": \"\"}, \"type\": \"contourcarpet\"}], \"heatmap\": [{\"colorbar\": {\"outlinewidth\": 0, \"ticks\": \"\"}, \"colorscale\": [[0.0, \"#0d0887\"], [0.1111111111111111, \"#46039f\"], [0.2222222222222222, \"#7201a8\"], [0.3333333333333333, \"#9c179e\"], [0.4444444444444444, \"#bd3786\"], [0.5555555555555556, \"#d8576b\"], [0.6666666666666666, \"#ed7953\"], [0.7777777777777778, \"#fb9f3a\"], [0.8888888888888888, \"#fdca26\"], [1.0, \"#f0f921\"]], \"type\": \"heatmap\"}], \"heatmapgl\": [{\"colorbar\": {\"outlinewidth\": 0, \"ticks\": \"\"}, \"colorscale\": [[0.0, \"#0d0887\"], [0.1111111111111111, \"#46039f\"], [0.2222222222222222, \"#7201a8\"], [0.3333333333333333, \"#9c179e\"], [0.4444444444444444, \"#bd3786\"], [0.5555555555555556, \"#d8576b\"], [0.6666666666666666, \"#ed7953\"], [0.7777777777777778, \"#fb9f3a\"], [0.8888888888888888, \"#fdca26\"], [1.0, \"#f0f921\"]], \"type\": \"heatmapgl\"}], \"histogram\": [{\"marker\": {\"colorbar\": {\"outlinewidth\": 0, \"ticks\": \"\"}}, \"type\": \"histogram\"}], \"histogram2d\": [{\"colorbar\": {\"outlinewidth\": 0, \"ticks\": \"\"}, \"colorscale\": [[0.0, \"#0d0887\"], [0.1111111111111111, \"#46039f\"], [0.2222222222222222, \"#7201a8\"], [0.3333333333333333, \"#9c179e\"], [0.4444444444444444, \"#bd3786\"], [0.5555555555555556, \"#d8576b\"], [0.6666666666666666, \"#ed7953\"], [0.7777777777777778, \"#fb9f3a\"], [0.8888888888888888, \"#fdca26\"], [1.0, \"#f0f921\"]], \"type\": \"histogram2d\"}], \"histogram2dcontour\": [{\"colorbar\": {\"outlinewidth\": 0, \"ticks\": \"\"}, \"colorscale\": [[0.0, \"#0d0887\"], [0.1111111111111111, \"#46039f\"], [0.2222222222222222, \"#7201a8\"], [0.3333333333333333, \"#9c179e\"], [0.4444444444444444, \"#bd3786\"], [0.5555555555555556, \"#d8576b\"], [0.6666666666666666, \"#ed7953\"], [0.7777777777777778, \"#fb9f3a\"], [0.8888888888888888, \"#fdca26\"], [1.0, \"#f0f921\"]], \"type\": \"histogram2dcontour\"}], \"mesh3d\": [{\"colorbar\": {\"outlinewidth\": 0, \"ticks\": \"\"}, \"type\": \"mesh3d\"}], \"parcoords\": [{\"line\": {\"colorbar\": {\"outlinewidth\": 0, \"ticks\": \"\"}}, \"type\": \"parcoords\"}], \"pie\": [{\"automargin\": true, \"type\": \"pie\"}], \"scatter\": [{\"marker\": {\"colorbar\": {\"outlinewidth\": 0, \"ticks\": \"\"}}, \"type\": \"scatter\"}], \"scatter3d\": [{\"line\": {\"colorbar\": {\"outlinewidth\": 0, \"ticks\": \"\"}}, \"marker\": {\"colorbar\": {\"outlinewidth\": 0, \"ticks\": \"\"}}, \"type\": \"scatter3d\"}], \"scattercarpet\": [{\"marker\": {\"colorbar\": {\"outlinewidth\": 0, \"ticks\": \"\"}}, \"type\": \"scattercarpet\"}], \"scattergeo\": [{\"marker\": {\"colorbar\": {\"outlinewidth\": 0, \"ticks\": \"\"}}, \"type\": \"scattergeo\"}], \"scattergl\": [{\"marker\": {\"colorbar\": {\"outlinewidth\": 0, \"ticks\": \"\"}}, \"type\": \"scattergl\"}], \"scattermapbox\": [{\"marker\": {\"colorbar\": {\"outlinewidth\": 0, \"ticks\": \"\"}}, \"type\": \"scattermapbox\"}], \"scatterpolar\": [{\"marker\": {\"colorbar\": {\"outlinewidth\": 0, \"ticks\": \"\"}}, \"type\": \"scatterpolar\"}], \"scatterpolargl\": [{\"marker\": {\"colorbar\": {\"outlinewidth\": 0, \"ticks\": \"\"}}, \"type\": \"scatterpolargl\"}], \"scatterternary\": [{\"marker\": {\"colorbar\": {\"outlinewidth\": 0, \"ticks\": \"\"}}, \"type\": \"scatterternary\"}], \"surface\": [{\"colorbar\": {\"outlinewidth\": 0, \"ticks\": \"\"}, \"colorscale\": [[0.0, \"#0d0887\"], [0.1111111111111111, \"#46039f\"], [0.2222222222222222, \"#7201a8\"], [0.3333333333333333, \"#9c179e\"], [0.4444444444444444, \"#bd3786\"], [0.5555555555555556, \"#d8576b\"], [0.6666666666666666, \"#ed7953\"], [0.7777777777777778, \"#fb9f3a\"], [0.8888888888888888, \"#fdca26\"], [1.0, \"#f0f921\"]], \"type\": \"surface\"}], \"table\": [{\"cells\": {\"fill\": {\"color\": \"#EBF0F8\"}, \"line\": {\"color\": \"white\"}}, \"header\": {\"fill\": {\"color\": \"#C8D4E3\"}, \"line\": {\"color\": \"white\"}}, \"type\": \"table\"}]}, \"layout\": {\"annotationdefaults\": {\"arrowcolor\": \"#2a3f5f\", \"arrowhead\": 0, \"arrowwidth\": 1}, \"autotypenumbers\": \"strict\", \"coloraxis\": {\"colorbar\": {\"outlinewidth\": 0, \"ticks\": \"\"}}, \"colorscale\": {\"diverging\": [[0, \"#8e0152\"], [0.1, \"#c51b7d\"], [0.2, \"#de77ae\"], [0.3, \"#f1b6da\"], [0.4, \"#fde0ef\"], [0.5, \"#f7f7f7\"], [0.6, \"#e6f5d0\"], [0.7, \"#b8e186\"], [0.8, \"#7fbc41\"], [0.9, \"#4d9221\"], [1, \"#276419\"]], \"sequential\": [[0.0, \"#0d0887\"], [0.1111111111111111, \"#46039f\"], [0.2222222222222222, \"#7201a8\"], [0.3333333333333333, \"#9c179e\"], [0.4444444444444444, \"#bd3786\"], [0.5555555555555556, \"#d8576b\"], [0.6666666666666666, \"#ed7953\"], [0.7777777777777778, \"#fb9f3a\"], [0.8888888888888888, \"#fdca26\"], [1.0, \"#f0f921\"]], \"sequentialminus\": [[0.0, \"#0d0887\"], [0.1111111111111111, \"#46039f\"], [0.2222222222222222, \"#7201a8\"], [0.3333333333333333, \"#9c179e\"], [0.4444444444444444, \"#bd3786\"], [0.5555555555555556, \"#d8576b\"], [0.6666666666666666, \"#ed7953\"], [0.7777777777777778, \"#fb9f3a\"], [0.8888888888888888, \"#fdca26\"], [1.0, \"#f0f921\"]]}, \"colorway\": [\"#636efa\", \"#EF553B\", \"#00cc96\", \"#ab63fa\", \"#FFA15A\", \"#19d3f3\", \"#FF6692\", \"#B6E880\", \"#FF97FF\", \"#FECB52\"], \"font\": {\"color\": \"#2a3f5f\"}, \"geo\": {\"bgcolor\": \"white\", \"lakecolor\": \"white\", \"landcolor\": \"#E5ECF6\", \"showlakes\": true, \"showland\": true, \"subunitcolor\": \"white\"}, \"hoverlabel\": {\"align\": \"left\"}, \"hovermode\": \"closest\", \"mapbox\": {\"style\": \"light\"}, \"paper_bgcolor\": \"white\", \"plot_bgcolor\": \"#E5ECF6\", \"polar\": {\"angularaxis\": {\"gridcolor\": \"white\", \"linecolor\": \"white\", \"ticks\": \"\"}, \"bgcolor\": \"#E5ECF6\", \"radialaxis\": {\"gridcolor\": \"white\", \"linecolor\": \"white\", \"ticks\": \"\"}}, \"scene\": {\"xaxis\": {\"backgroundcolor\": \"#E5ECF6\", \"gridcolor\": \"white\", \"gridwidth\": 2, \"linecolor\": \"white\", \"showbackground\": true, \"ticks\": \"\", \"zerolinecolor\": \"white\"}, \"yaxis\": {\"backgroundcolor\": \"#E5ECF6\", \"gridcolor\": \"white\", \"gridwidth\": 2, \"linecolor\": \"white\", \"showbackground\": true, \"ticks\": \"\", \"zerolinecolor\": \"white\"}, \"zaxis\": {\"backgroundcolor\": \"#E5ECF6\", \"gridcolor\": \"white\", \"gridwidth\": 2, \"linecolor\": \"white\", \"showbackground\": true, \"ticks\": \"\", \"zerolinecolor\": \"white\"}}, \"shapedefaults\": {\"line\": {\"color\": \"#2a3f5f\"}}, \"ternary\": {\"aaxis\": {\"gridcolor\": \"white\", \"linecolor\": \"white\", \"ticks\": \"\"}, \"baxis\": {\"gridcolor\": \"white\", \"linecolor\": \"white\", \"ticks\": \"\"}, \"bgcolor\": \"#E5ECF6\", \"caxis\": {\"gridcolor\": \"white\", \"linecolor\": \"white\", \"ticks\": \"\"}}, \"title\": {\"x\": 0.05}, \"xaxis\": {\"automargin\": true, \"gridcolor\": \"white\", \"linecolor\": \"white\", \"ticks\": \"\", \"title\": {\"standoff\": 15}, \"zerolinecolor\": \"white\", \"zerolinewidth\": 2}, \"yaxis\": {\"automargin\": true, \"gridcolor\": \"white\", \"linecolor\": \"white\", \"ticks\": \"\", \"title\": {\"standoff\": 15}, \"zerolinecolor\": \"white\", \"zerolinewidth\": 2}}}},                        {\"responsive\": true}                    ).then(function(){\n",
       "                            \n",
       "var gd = document.getElementById('53c4d8c9-60c9-4520-8b57-db57ba8632de');\n",
       "var x = new MutationObserver(function (mutations, observer) {{\n",
       "        var display = window.getComputedStyle(gd).display;\n",
       "        if (!display || display === 'none') {{\n",
       "            console.log([gd, 'removed!']);\n",
       "            Plotly.purge(gd);\n",
       "            observer.disconnect();\n",
       "        }}\n",
       "}});\n",
       "\n",
       "// Listen for the removal of the full notebook cells\n",
       "var notebookContainer = gd.closest('#notebook-container');\n",
       "if (notebookContainer) {{\n",
       "    x.observe(notebookContainer, {childList: true});\n",
       "}}\n",
       "\n",
       "// Listen for the clearing of the current output cell\n",
       "var outputEl = gd.closest('.output');\n",
       "if (outputEl) {{\n",
       "    x.observe(outputEl, {childList: true});\n",
       "}}\n",
       "\n",
       "                        })                };                });            </script>        </div>"
      ]
     },
     "metadata": {},
     "output_type": "display_data"
    }
   ],
   "source": [
    "fig = px.sunburst(df, path=['race/ethnicity', 'parental level of education'], values='total')\n",
    "df = df.drop(['total'], axis  = 1)\n",
    "fig.show()"
   ]
  },
  {
   "cell_type": "markdown",
   "metadata": {},
   "source": [
    "Za pomocą interaktywnych wykresów z łatwością można sprawdzić liczbowo poszczególny poziom wykształcenia rodziców dla każdej z grup.\n",
    "\n",
    "Z wykresu wynika, że najwięcej osób z wykształceniem wyższym znajduje się w grupach D oraz C, a z wykształceniem średnim również w C i D. Jest to spowodowane przewagą liczebną obu grup nad resztą.\n",
    "\n",
    "Poniżej przedstawiono wykres typu histogram w celu zaprezentowania odbycia kursu przygotowawczego w poszczególnych grupach."
   ]
  },
  {
   "cell_type": "code",
   "execution_count": 42,
   "metadata": {},
   "outputs": [
    {
     "data": {
      "application/vnd.plotly.v1+json": {
       "config": {
        "plotlyServerURL": "https://plot.ly"
       },
       "data": [
        {
         "alignmentgroup": "True",
         "bingroup": "x",
         "hovertemplate": "test preparation course=none<br>race/ethnicity=%{x}<br>count=%{y}<extra></extra>",
         "legendgroup": "none",
         "marker": {
          "color": "#636efa"
         },
         "name": "none",
         "offsetgroup": "none",
         "orientation": "v",
         "showlegend": true,
         "type": "histogram",
         "x": [
          "group B",
          "group B",
          "group A",
          "group C",
          "group B",
          "group B",
          "group B",
          "group C",
          "group D",
          "group B",
          "group A",
          "group C",
          "group C",
          "group B",
          "group C",
          "group D",
          "group D",
          "group C",
          "group A",
          "group B",
          "group C",
          "group C",
          "group D",
          "group D",
          "group B",
          "group E",
          "group D",
          "group E",
          "group D",
          "group D",
          "group B",
          "group C",
          "group C",
          "group B",
          "group E",
          "group B",
          "group C",
          "group E",
          "group C",
          "group D",
          "group C",
          "group D",
          "group C",
          "group A",
          "group A",
          "group C",
          "group D",
          "group B",
          "group D",
          "group C",
          "group B",
          "group C",
          "group A",
          "group C",
          "group C",
          "group B",
          "group E",
          "group E",
          "group B",
          "group B",
          "group E",
          "group D",
          "group C",
          "group C",
          "group D",
          "group A",
          "group D",
          "group C",
          "group C",
          "group C",
          "group B",
          "group D",
          "group D",
          "group B",
          "group D",
          "group C",
          "group D",
          "group B",
          "group B",
          "group C",
          "group A",
          "group D",
          "group C",
          "group B",
          "group D",
          "group D",
          "group C",
          "group D",
          "group E",
          "group B",
          "group B",
          "group D",
          "group A",
          "group D",
          "group C",
          "group E",
          "group C",
          "group D",
          "group C",
          "group A",
          "group D",
          "group C",
          "group B",
          "group C",
          "group A",
          "group D",
          "group D",
          "group B",
          "group D",
          "group B",
          "group C",
          "group E",
          "group E",
          "group D",
          "group C",
          "group C",
          "group E",
          "group D",
          "group E",
          "group B",
          "group C",
          "group E",
          "group B",
          "group D",
          "group E",
          "group B",
          "group B",
          "group D",
          "group C",
          "group B",
          "group C",
          "group E",
          "group B",
          "group B",
          "group C",
          "group C",
          "group C",
          "group B",
          "group B",
          "group C",
          "group D",
          "group E",
          "group C",
          "group D",
          "group A",
          "group D",
          "group C",
          "group B",
          "group E",
          "group D",
          "group D",
          "group B",
          "group C",
          "group E",
          "group D",
          "group E",
          "group D",
          "group C",
          "group E",
          "group B",
          "group C",
          "group D",
          "group D",
          "group D",
          "group E",
          "group C",
          "group B",
          "group C",
          "group E",
          "group D",
          "group D",
          "group C",
          "group D",
          "group E",
          "group C",
          "group C",
          "group D",
          "group D",
          "group C",
          "group C",
          "group B",
          "group D",
          "group D",
          "group D",
          "group B",
          "group B",
          "group B",
          "group C",
          "group D",
          "group E",
          "group B",
          "group D",
          "group D",
          "group B",
          "group A",
          "group C",
          "group B",
          "group D",
          "group B",
          "group B",
          "group C",
          "group C",
          "group B",
          "group D",
          "group E",
          "group C",
          "group C",
          "group C",
          "group C",
          "group C",
          "group A",
          "group B",
          "group C",
          "group C",
          "group B",
          "group C",
          "group B",
          "group C",
          "group B",
          "group C",
          "group C",
          "group D",
          "group C",
          "group B",
          "group D",
          "group E",
          "group B",
          "group E",
          "group C",
          "group C",
          "group B",
          "group A",
          "group D",
          "group D",
          "group B",
          "group C",
          "group D",
          "group C",
          "group C",
          "group A",
          "group D",
          "group E",
          "group D",
          "group D",
          "group E",
          "group D",
          "group A",
          "group A",
          "group B",
          "group C",
          "group E",
          "group A",
          "group E",
          "group E",
          "group C",
          "group D",
          "group D",
          "group D",
          "group E",
          "group A",
          "group B",
          "group C",
          "group B",
          "group D",
          "group A",
          "group A",
          "group C",
          "group C",
          "group B",
          "group D",
          "group E",
          "group C",
          "group D",
          "group B",
          "group C",
          "group C",
          "group C",
          "group A",
          "group C",
          "group C",
          "group C",
          "group C",
          "group A",
          "group C",
          "group D",
          "group D",
          "group C",
          "group D",
          "group A",
          "group B",
          "group A",
          "group D",
          "group B",
          "group B",
          "group E",
          "group C",
          "group C",
          "group C",
          "group C",
          "group D",
          "group D",
          "group E",
          "group C",
          "group B",
          "group E",
          "group C",
          "group C",
          "group D",
          "group C",
          "group C",
          "group D",
          "group D",
          "group D",
          "group E",
          "group D",
          "group C",
          "group A",
          "group B",
          "group C",
          "group D",
          "group C",
          "group A",
          "group C",
          "group C",
          "group C",
          "group B",
          "group C",
          "group B",
          "group E",
          "group D",
          "group C",
          "group D",
          "group B",
          "group A",
          "group B",
          "group C",
          "group C",
          "group D",
          "group A",
          "group D",
          "group D",
          "group D",
          "group C",
          "group D",
          "group C",
          "group E",
          "group C",
          "group D",
          "group C",
          "group C",
          "group D",
          "group C",
          "group D",
          "group D",
          "group C",
          "group C",
          "group C",
          "group B",
          "group D",
          "group E",
          "group C",
          "group C",
          "group B",
          "group D",
          "group C",
          "group B",
          "group B",
          "group B",
          "group D",
          "group A",
          "group C",
          "group E",
          "group B",
          "group D",
          "group D",
          "group E",
          "group D",
          "group D",
          "group C",
          "group A",
          "group C",
          "group C",
          "group A",
          "group C",
          "group A",
          "group E",
          "group E",
          "group B",
          "group A",
          "group D",
          "group D",
          "group D",
          "group C",
          "group E",
          "group D",
          "group C",
          "group C",
          "group C",
          "group E",
          "group B",
          "group C",
          "group C",
          "group A",
          "group C",
          "group E",
          "group D",
          "group D",
          "group C",
          "group B",
          "group E",
          "group D",
          "group D",
          "group D",
          "group B",
          "group C",
          "group D",
          "group A",
          "group E",
          "group D",
          "group D",
          "group B",
          "group B",
          "group D",
          "group E",
          "group B",
          "group B",
          "group B",
          "group C",
          "group D",
          "group D",
          "group D",
          "group C",
          "group C",
          "group D",
          "group C",
          "group D",
          "group B",
          "group C",
          "group C",
          "group D",
          "group C",
          "group D",
          "group D",
          "group D",
          "group B",
          "group B",
          "group D",
          "group A",
          "group E",
          "group C",
          "group E",
          "group D",
          "group C",
          "group D",
          "group A",
          "group C",
          "group B",
          "group D",
          "group A",
          "group D",
          "group C",
          "group D",
          "group D",
          "group D",
          "group C",
          "group C",
          "group C",
          "group B",
          "group D",
          "group C",
          "group A",
          "group D",
          "group E",
          "group C",
          "group C",
          "group D",
          "group C",
          "group D",
          "group A",
          "group C",
          "group B",
          "group D",
          "group D",
          "group C",
          "group C",
          "group E",
          "group C",
          "group E",
          "group D",
          "group C",
          "group D",
          "group B",
          "group D",
          "group B",
          "group D",
          "group A",
          "group B",
          "group D",
          "group C",
          "group B",
          "group B",
          "group B",
          "group C",
          "group D",
          "group B",
          "group E",
          "group B",
          "group C",
          "group C",
          "group B",
          "group D",
          "group D",
          "group B",
          "group D",
          "group E",
          "group E",
          "group C",
          "group E",
          "group B",
          "group C",
          "group A",
          "group D",
          "group E",
          "group C",
          "group B",
          "group A",
          "group A",
          "group C",
          "group A",
          "group B",
          "group C",
          "group D",
          "group B",
          "group C",
          "group C",
          "group C",
          "group B",
          "group A",
          "group A",
          "group B",
          "group E",
          "group C",
          "group D",
          "group C",
          "group E",
          "group D",
          "group C",
          "group D",
          "group C",
          "group A",
          "group E",
          "group E",
          "group C",
          "group B",
          "group B",
          "group C",
          "group C",
          "group C",
          "group E",
          "group C",
          "group C",
          "group B",
          "group C",
          "group B",
          "group E",
          "group C",
          "group C",
          "group D",
          "group C",
          "group D",
          "group D",
          "group B",
          "group D",
          "group E",
          "group C",
          "group D",
          "group D",
          "group E",
          "group A",
          "group E",
          "group E",
          "group B",
          "group D",
          "group C",
          "group D",
          "group D",
          "group B",
          "group C",
          "group D",
          "group A",
          "group B",
          "group E",
          "group C",
          "group D",
          "group C",
          "group D",
          "group B",
          "group D",
          "group E",
          "group C",
          "group D",
          "group D",
          "group A",
          "group E",
          "group D",
          "group C",
          "group B",
          "group C",
          "group B",
          "group D",
          "group E",
          "group E",
          "group C",
          "group E",
          "group C",
          "group D",
          "group D",
          "group C",
          "group A",
          "group D",
          "group E",
          "group D",
          "group D",
          "group C",
          "group E",
          "group B",
          "group D",
          "group D",
          "group A",
          "group C",
          "group C",
          "group B",
          "group D",
          "group C",
          "group A",
          "group C",
          "group A",
          "group D",
          "group D",
          "group A",
          "group C",
          "group D"
         ],
         "xaxis": "x",
         "yaxis": "y"
        },
        {
         "alignmentgroup": "True",
         "bingroup": "x",
         "hovertemplate": "test preparation course=completed<br>race/ethnicity=%{x}<br>count=%{y}<extra></extra>",
         "legendgroup": "completed",
         "marker": {
          "color": "#EF553B"
         },
         "name": "completed",
         "offsetgroup": "completed",
         "orientation": "v",
         "showlegend": true,
         "type": "histogram",
         "x": [
          "group C",
          "group B",
          "group D",
          "group A",
          "group C",
          "group B",
          "group D",
          "group E",
          "group D",
          "group B",
          "group A",
          "group D",
          "group C",
          "group E",
          "group C",
          "group E",
          "group D",
          "group E",
          "group D",
          "group D",
          "group A",
          "group D",
          "group A",
          "group C",
          "group C",
          "group B",
          "group E",
          "group D",
          "group B",
          "group C",
          "group E",
          "group D",
          "group E",
          "group C",
          "group B",
          "group C",
          "group D",
          "group C",
          "group E",
          "group C",
          "group D",
          "group B",
          "group D",
          "group E",
          "group D",
          "group E",
          "group A",
          "group B",
          "group C",
          "group E",
          "group B",
          "group B",
          "group E",
          "group C",
          "group C",
          "group B",
          "group B",
          "group C",
          "group A",
          "group C",
          "group C",
          "group B",
          "group C",
          "group B",
          "group D",
          "group C",
          "group C",
          "group C",
          "group D",
          "group D",
          "group D",
          "group C",
          "group C",
          "group C",
          "group D",
          "group E",
          "group D",
          "group C",
          "group E",
          "group B",
          "group E",
          "group B",
          "group D",
          "group B",
          "group C",
          "group C",
          "group D",
          "group D",
          "group B",
          "group A",
          "group B",
          "group C",
          "group C",
          "group C",
          "group C",
          "group D",
          "group B",
          "group C",
          "group E",
          "group D",
          "group B",
          "group E",
          "group E",
          "group C",
          "group D",
          "group A",
          "group E",
          "group C",
          "group A",
          "group C",
          "group C",
          "group E",
          "group D",
          "group C",
          "group C",
          "group D",
          "group C",
          "group C",
          "group E",
          "group D",
          "group D",
          "group B",
          "group D",
          "group C",
          "group C",
          "group C",
          "group B",
          "group A",
          "group C",
          "group C",
          "group D",
          "group D",
          "group C",
          "group E",
          "group C",
          "group C",
          "group C",
          "group D",
          "group B",
          "group D",
          "group D",
          "group D",
          "group E",
          "group B",
          "group C",
          "group C",
          "group E",
          "group C",
          "group D",
          "group D",
          "group A",
          "group C",
          "group D",
          "group C",
          "group C",
          "group C",
          "group C",
          "group B",
          "group A",
          "group A",
          "group A",
          "group C",
          "group C",
          "group B",
          "group D",
          "group E",
          "group B",
          "group B",
          "group A",
          "group D",
          "group D",
          "group B",
          "group E",
          "group B",
          "group B",
          "group C",
          "group E",
          "group D",
          "group B",
          "group C",
          "group C",
          "group C",
          "group E",
          "group E",
          "group B",
          "group C",
          "group C",
          "group E",
          "group A",
          "group C",
          "group D",
          "group E",
          "group A",
          "group C",
          "group B",
          "group C",
          "group D",
          "group C",
          "group D",
          "group E",
          "group D",
          "group B",
          "group C",
          "group A",
          "group A",
          "group B",
          "group D",
          "group C",
          "group C",
          "group D",
          "group D",
          "group C",
          "group C",
          "group C",
          "group A",
          "group D",
          "group B",
          "group C",
          "group B",
          "group B",
          "group D",
          "group D",
          "group E",
          "group B",
          "group D",
          "group C",
          "group A",
          "group D",
          "group A",
          "group C",
          "group C",
          "group D",
          "group C",
          "group D",
          "group B",
          "group E",
          "group C",
          "group C",
          "group B",
          "group E",
          "group E",
          "group C",
          "group C",
          "group D",
          "group E",
          "group A",
          "group B",
          "group D",
          "group C",
          "group E",
          "group B",
          "group B",
          "group C",
          "group C",
          "group E",
          "group D",
          "group B",
          "group E",
          "group E",
          "group E",
          "group B",
          "group C",
          "group B",
          "group C",
          "group B",
          "group D",
          "group C",
          "group C",
          "group E",
          "group D",
          "group B",
          "group D",
          "group C",
          "group B",
          "group B",
          "group A",
          "group E",
          "group B",
          "group C",
          "group C",
          "group B",
          "group E",
          "group E",
          "group C",
          "group C",
          "group C",
          "group E",
          "group B",
          "group D",
          "group A",
          "group E",
          "group C",
          "group D",
          "group C",
          "group B",
          "group C",
          "group A",
          "group B",
          "group B",
          "group B",
          "group D",
          "group C",
          "group B",
          "group D",
          "group C",
          "group D",
          "group E",
          "group C",
          "group B",
          "group C",
          "group E",
          "group C",
          "group E",
          "group E",
          "group D",
          "group B",
          "group D",
          "group D",
          "group A",
          "group D",
          "group D",
          "group E",
          "group C",
          "group C",
          "group E",
          "group C",
          "group B",
          "group E",
          "group D",
          "group E",
          "group C",
          "group D",
          "group C",
          "group C",
          "group D",
          "group D",
          "group C",
          "group A",
          "group B",
          "group E",
          "group D",
          "group C",
          "group C",
          "group A",
          "group C",
          "group A",
          "group C",
          "group B",
          "group D",
          "group B",
          "group A",
          "group E",
          "group D",
          "group E",
          "group B",
          "group E",
          "group C",
          "group D"
         ],
         "xaxis": "x",
         "yaxis": "y"
        }
       ],
       "layout": {
        "barmode": "relative",
        "legend": {
         "title": {
          "text": "test preparation course"
         },
         "tracegroupgap": 0
        },
        "margin": {
         "t": 60
        },
        "template": {
         "data": {
          "bar": [
           {
            "error_x": {
             "color": "#2a3f5f"
            },
            "error_y": {
             "color": "#2a3f5f"
            },
            "marker": {
             "line": {
              "color": "#E5ECF6",
              "width": 0.5
             }
            },
            "type": "bar"
           }
          ],
          "barpolar": [
           {
            "marker": {
             "line": {
              "color": "#E5ECF6",
              "width": 0.5
             }
            },
            "type": "barpolar"
           }
          ],
          "carpet": [
           {
            "aaxis": {
             "endlinecolor": "#2a3f5f",
             "gridcolor": "white",
             "linecolor": "white",
             "minorgridcolor": "white",
             "startlinecolor": "#2a3f5f"
            },
            "baxis": {
             "endlinecolor": "#2a3f5f",
             "gridcolor": "white",
             "linecolor": "white",
             "minorgridcolor": "white",
             "startlinecolor": "#2a3f5f"
            },
            "type": "carpet"
           }
          ],
          "choropleth": [
           {
            "colorbar": {
             "outlinewidth": 0,
             "ticks": ""
            },
            "type": "choropleth"
           }
          ],
          "contour": [
           {
            "colorbar": {
             "outlinewidth": 0,
             "ticks": ""
            },
            "colorscale": [
             [
              0,
              "#0d0887"
             ],
             [
              0.1111111111111111,
              "#46039f"
             ],
             [
              0.2222222222222222,
              "#7201a8"
             ],
             [
              0.3333333333333333,
              "#9c179e"
             ],
             [
              0.4444444444444444,
              "#bd3786"
             ],
             [
              0.5555555555555556,
              "#d8576b"
             ],
             [
              0.6666666666666666,
              "#ed7953"
             ],
             [
              0.7777777777777778,
              "#fb9f3a"
             ],
             [
              0.8888888888888888,
              "#fdca26"
             ],
             [
              1,
              "#f0f921"
             ]
            ],
            "type": "contour"
           }
          ],
          "contourcarpet": [
           {
            "colorbar": {
             "outlinewidth": 0,
             "ticks": ""
            },
            "type": "contourcarpet"
           }
          ],
          "heatmap": [
           {
            "colorbar": {
             "outlinewidth": 0,
             "ticks": ""
            },
            "colorscale": [
             [
              0,
              "#0d0887"
             ],
             [
              0.1111111111111111,
              "#46039f"
             ],
             [
              0.2222222222222222,
              "#7201a8"
             ],
             [
              0.3333333333333333,
              "#9c179e"
             ],
             [
              0.4444444444444444,
              "#bd3786"
             ],
             [
              0.5555555555555556,
              "#d8576b"
             ],
             [
              0.6666666666666666,
              "#ed7953"
             ],
             [
              0.7777777777777778,
              "#fb9f3a"
             ],
             [
              0.8888888888888888,
              "#fdca26"
             ],
             [
              1,
              "#f0f921"
             ]
            ],
            "type": "heatmap"
           }
          ],
          "heatmapgl": [
           {
            "colorbar": {
             "outlinewidth": 0,
             "ticks": ""
            },
            "colorscale": [
             [
              0,
              "#0d0887"
             ],
             [
              0.1111111111111111,
              "#46039f"
             ],
             [
              0.2222222222222222,
              "#7201a8"
             ],
             [
              0.3333333333333333,
              "#9c179e"
             ],
             [
              0.4444444444444444,
              "#bd3786"
             ],
             [
              0.5555555555555556,
              "#d8576b"
             ],
             [
              0.6666666666666666,
              "#ed7953"
             ],
             [
              0.7777777777777778,
              "#fb9f3a"
             ],
             [
              0.8888888888888888,
              "#fdca26"
             ],
             [
              1,
              "#f0f921"
             ]
            ],
            "type": "heatmapgl"
           }
          ],
          "histogram": [
           {
            "marker": {
             "colorbar": {
              "outlinewidth": 0,
              "ticks": ""
             }
            },
            "type": "histogram"
           }
          ],
          "histogram2d": [
           {
            "colorbar": {
             "outlinewidth": 0,
             "ticks": ""
            },
            "colorscale": [
             [
              0,
              "#0d0887"
             ],
             [
              0.1111111111111111,
              "#46039f"
             ],
             [
              0.2222222222222222,
              "#7201a8"
             ],
             [
              0.3333333333333333,
              "#9c179e"
             ],
             [
              0.4444444444444444,
              "#bd3786"
             ],
             [
              0.5555555555555556,
              "#d8576b"
             ],
             [
              0.6666666666666666,
              "#ed7953"
             ],
             [
              0.7777777777777778,
              "#fb9f3a"
             ],
             [
              0.8888888888888888,
              "#fdca26"
             ],
             [
              1,
              "#f0f921"
             ]
            ],
            "type": "histogram2d"
           }
          ],
          "histogram2dcontour": [
           {
            "colorbar": {
             "outlinewidth": 0,
             "ticks": ""
            },
            "colorscale": [
             [
              0,
              "#0d0887"
             ],
             [
              0.1111111111111111,
              "#46039f"
             ],
             [
              0.2222222222222222,
              "#7201a8"
             ],
             [
              0.3333333333333333,
              "#9c179e"
             ],
             [
              0.4444444444444444,
              "#bd3786"
             ],
             [
              0.5555555555555556,
              "#d8576b"
             ],
             [
              0.6666666666666666,
              "#ed7953"
             ],
             [
              0.7777777777777778,
              "#fb9f3a"
             ],
             [
              0.8888888888888888,
              "#fdca26"
             ],
             [
              1,
              "#f0f921"
             ]
            ],
            "type": "histogram2dcontour"
           }
          ],
          "mesh3d": [
           {
            "colorbar": {
             "outlinewidth": 0,
             "ticks": ""
            },
            "type": "mesh3d"
           }
          ],
          "parcoords": [
           {
            "line": {
             "colorbar": {
              "outlinewidth": 0,
              "ticks": ""
             }
            },
            "type": "parcoords"
           }
          ],
          "pie": [
           {
            "automargin": true,
            "type": "pie"
           }
          ],
          "scatter": [
           {
            "marker": {
             "colorbar": {
              "outlinewidth": 0,
              "ticks": ""
             }
            },
            "type": "scatter"
           }
          ],
          "scatter3d": [
           {
            "line": {
             "colorbar": {
              "outlinewidth": 0,
              "ticks": ""
             }
            },
            "marker": {
             "colorbar": {
              "outlinewidth": 0,
              "ticks": ""
             }
            },
            "type": "scatter3d"
           }
          ],
          "scattercarpet": [
           {
            "marker": {
             "colorbar": {
              "outlinewidth": 0,
              "ticks": ""
             }
            },
            "type": "scattercarpet"
           }
          ],
          "scattergeo": [
           {
            "marker": {
             "colorbar": {
              "outlinewidth": 0,
              "ticks": ""
             }
            },
            "type": "scattergeo"
           }
          ],
          "scattergl": [
           {
            "marker": {
             "colorbar": {
              "outlinewidth": 0,
              "ticks": ""
             }
            },
            "type": "scattergl"
           }
          ],
          "scattermapbox": [
           {
            "marker": {
             "colorbar": {
              "outlinewidth": 0,
              "ticks": ""
             }
            },
            "type": "scattermapbox"
           }
          ],
          "scatterpolar": [
           {
            "marker": {
             "colorbar": {
              "outlinewidth": 0,
              "ticks": ""
             }
            },
            "type": "scatterpolar"
           }
          ],
          "scatterpolargl": [
           {
            "marker": {
             "colorbar": {
              "outlinewidth": 0,
              "ticks": ""
             }
            },
            "type": "scatterpolargl"
           }
          ],
          "scatterternary": [
           {
            "marker": {
             "colorbar": {
              "outlinewidth": 0,
              "ticks": ""
             }
            },
            "type": "scatterternary"
           }
          ],
          "surface": [
           {
            "colorbar": {
             "outlinewidth": 0,
             "ticks": ""
            },
            "colorscale": [
             [
              0,
              "#0d0887"
             ],
             [
              0.1111111111111111,
              "#46039f"
             ],
             [
              0.2222222222222222,
              "#7201a8"
             ],
             [
              0.3333333333333333,
              "#9c179e"
             ],
             [
              0.4444444444444444,
              "#bd3786"
             ],
             [
              0.5555555555555556,
              "#d8576b"
             ],
             [
              0.6666666666666666,
              "#ed7953"
             ],
             [
              0.7777777777777778,
              "#fb9f3a"
             ],
             [
              0.8888888888888888,
              "#fdca26"
             ],
             [
              1,
              "#f0f921"
             ]
            ],
            "type": "surface"
           }
          ],
          "table": [
           {
            "cells": {
             "fill": {
              "color": "#EBF0F8"
             },
             "line": {
              "color": "white"
             }
            },
            "header": {
             "fill": {
              "color": "#C8D4E3"
             },
             "line": {
              "color": "white"
             }
            },
            "type": "table"
           }
          ]
         },
         "layout": {
          "annotationdefaults": {
           "arrowcolor": "#2a3f5f",
           "arrowhead": 0,
           "arrowwidth": 1
          },
          "autotypenumbers": "strict",
          "coloraxis": {
           "colorbar": {
            "outlinewidth": 0,
            "ticks": ""
           }
          },
          "colorscale": {
           "diverging": [
            [
             0,
             "#8e0152"
            ],
            [
             0.1,
             "#c51b7d"
            ],
            [
             0.2,
             "#de77ae"
            ],
            [
             0.3,
             "#f1b6da"
            ],
            [
             0.4,
             "#fde0ef"
            ],
            [
             0.5,
             "#f7f7f7"
            ],
            [
             0.6,
             "#e6f5d0"
            ],
            [
             0.7,
             "#b8e186"
            ],
            [
             0.8,
             "#7fbc41"
            ],
            [
             0.9,
             "#4d9221"
            ],
            [
             1,
             "#276419"
            ]
           ],
           "sequential": [
            [
             0,
             "#0d0887"
            ],
            [
             0.1111111111111111,
             "#46039f"
            ],
            [
             0.2222222222222222,
             "#7201a8"
            ],
            [
             0.3333333333333333,
             "#9c179e"
            ],
            [
             0.4444444444444444,
             "#bd3786"
            ],
            [
             0.5555555555555556,
             "#d8576b"
            ],
            [
             0.6666666666666666,
             "#ed7953"
            ],
            [
             0.7777777777777778,
             "#fb9f3a"
            ],
            [
             0.8888888888888888,
             "#fdca26"
            ],
            [
             1,
             "#f0f921"
            ]
           ],
           "sequentialminus": [
            [
             0,
             "#0d0887"
            ],
            [
             0.1111111111111111,
             "#46039f"
            ],
            [
             0.2222222222222222,
             "#7201a8"
            ],
            [
             0.3333333333333333,
             "#9c179e"
            ],
            [
             0.4444444444444444,
             "#bd3786"
            ],
            [
             0.5555555555555556,
             "#d8576b"
            ],
            [
             0.6666666666666666,
             "#ed7953"
            ],
            [
             0.7777777777777778,
             "#fb9f3a"
            ],
            [
             0.8888888888888888,
             "#fdca26"
            ],
            [
             1,
             "#f0f921"
            ]
           ]
          },
          "colorway": [
           "#636efa",
           "#EF553B",
           "#00cc96",
           "#ab63fa",
           "#FFA15A",
           "#19d3f3",
           "#FF6692",
           "#B6E880",
           "#FF97FF",
           "#FECB52"
          ],
          "font": {
           "color": "#2a3f5f"
          },
          "geo": {
           "bgcolor": "white",
           "lakecolor": "white",
           "landcolor": "#E5ECF6",
           "showlakes": true,
           "showland": true,
           "subunitcolor": "white"
          },
          "hoverlabel": {
           "align": "left"
          },
          "hovermode": "closest",
          "mapbox": {
           "style": "light"
          },
          "paper_bgcolor": "white",
          "plot_bgcolor": "#E5ECF6",
          "polar": {
           "angularaxis": {
            "gridcolor": "white",
            "linecolor": "white",
            "ticks": ""
           },
           "bgcolor": "#E5ECF6",
           "radialaxis": {
            "gridcolor": "white",
            "linecolor": "white",
            "ticks": ""
           }
          },
          "scene": {
           "xaxis": {
            "backgroundcolor": "#E5ECF6",
            "gridcolor": "white",
            "gridwidth": 2,
            "linecolor": "white",
            "showbackground": true,
            "ticks": "",
            "zerolinecolor": "white"
           },
           "yaxis": {
            "backgroundcolor": "#E5ECF6",
            "gridcolor": "white",
            "gridwidth": 2,
            "linecolor": "white",
            "showbackground": true,
            "ticks": "",
            "zerolinecolor": "white"
           },
           "zaxis": {
            "backgroundcolor": "#E5ECF6",
            "gridcolor": "white",
            "gridwidth": 2,
            "linecolor": "white",
            "showbackground": true,
            "ticks": "",
            "zerolinecolor": "white"
           }
          },
          "shapedefaults": {
           "line": {
            "color": "#2a3f5f"
           }
          },
          "ternary": {
           "aaxis": {
            "gridcolor": "white",
            "linecolor": "white",
            "ticks": ""
           },
           "baxis": {
            "gridcolor": "white",
            "linecolor": "white",
            "ticks": ""
           },
           "bgcolor": "#E5ECF6",
           "caxis": {
            "gridcolor": "white",
            "linecolor": "white",
            "ticks": ""
           }
          },
          "title": {
           "x": 0.05
          },
          "xaxis": {
           "automargin": true,
           "gridcolor": "white",
           "linecolor": "white",
           "ticks": "",
           "title": {
            "standoff": 15
           },
           "zerolinecolor": "white",
           "zerolinewidth": 2
          },
          "yaxis": {
           "automargin": true,
           "gridcolor": "white",
           "linecolor": "white",
           "ticks": "",
           "title": {
            "standoff": 15
           },
           "zerolinecolor": "white",
           "zerolinewidth": 2
          }
         }
        },
        "xaxis": {
         "anchor": "y",
         "domain": [
          0,
          1
         ],
         "title": {
          "text": "race/ethnicity"
         }
        },
        "yaxis": {
         "anchor": "x",
         "domain": [
          0,
          1
         ],
         "title": {
          "text": "count"
         }
        }
       }
      },
      "text/html": [
       "<div>                            <div id=\"b6820e78-58a0-4119-9576-b51d224a0b14\" class=\"plotly-graph-div\" style=\"height:525px; width:100%;\"></div>            <script type=\"text/javascript\">                require([\"plotly\"], function(Plotly) {                    window.PLOTLYENV=window.PLOTLYENV || {};                                    if (document.getElementById(\"b6820e78-58a0-4119-9576-b51d224a0b14\")) {                    Plotly.newPlot(                        \"b6820e78-58a0-4119-9576-b51d224a0b14\",                        [{\"alignmentgroup\": \"True\", \"bingroup\": \"x\", \"hovertemplate\": \"test preparation course=none<br>race/ethnicity=%{x}<br>count=%{y}<extra></extra>\", \"legendgroup\": \"none\", \"marker\": {\"color\": \"#636efa\"}, \"name\": \"none\", \"offsetgroup\": \"none\", \"orientation\": \"v\", \"showlegend\": true, \"type\": \"histogram\", \"x\": [\"group B\", \"group B\", \"group A\", \"group C\", \"group B\", \"group B\", \"group B\", \"group C\", \"group D\", \"group B\", \"group A\", \"group C\", \"group C\", \"group B\", \"group C\", \"group D\", \"group D\", \"group C\", \"group A\", \"group B\", \"group C\", \"group C\", \"group D\", \"group D\", \"group B\", \"group E\", \"group D\", \"group E\", \"group D\", \"group D\", \"group B\", \"group C\", \"group C\", \"group B\", \"group E\", \"group B\", \"group C\", \"group E\", \"group C\", \"group D\", \"group C\", \"group D\", \"group C\", \"group A\", \"group A\", \"group C\", \"group D\", \"group B\", \"group D\", \"group C\", \"group B\", \"group C\", \"group A\", \"group C\", \"group C\", \"group B\", \"group E\", \"group E\", \"group B\", \"group B\", \"group E\", \"group D\", \"group C\", \"group C\", \"group D\", \"group A\", \"group D\", \"group C\", \"group C\", \"group C\", \"group B\", \"group D\", \"group D\", \"group B\", \"group D\", \"group C\", \"group D\", \"group B\", \"group B\", \"group C\", \"group A\", \"group D\", \"group C\", \"group B\", \"group D\", \"group D\", \"group C\", \"group D\", \"group E\", \"group B\", \"group B\", \"group D\", \"group A\", \"group D\", \"group C\", \"group E\", \"group C\", \"group D\", \"group C\", \"group A\", \"group D\", \"group C\", \"group B\", \"group C\", \"group A\", \"group D\", \"group D\", \"group B\", \"group D\", \"group B\", \"group C\", \"group E\", \"group E\", \"group D\", \"group C\", \"group C\", \"group E\", \"group D\", \"group E\", \"group B\", \"group C\", \"group E\", \"group B\", \"group D\", \"group E\", \"group B\", \"group B\", \"group D\", \"group C\", \"group B\", \"group C\", \"group E\", \"group B\", \"group B\", \"group C\", \"group C\", \"group C\", \"group B\", \"group B\", \"group C\", \"group D\", \"group E\", \"group C\", \"group D\", \"group A\", \"group D\", \"group C\", \"group B\", \"group E\", \"group D\", \"group D\", \"group B\", \"group C\", \"group E\", \"group D\", \"group E\", \"group D\", \"group C\", \"group E\", \"group B\", \"group C\", \"group D\", \"group D\", \"group D\", \"group E\", \"group C\", \"group B\", \"group C\", \"group E\", \"group D\", \"group D\", \"group C\", \"group D\", \"group E\", \"group C\", \"group C\", \"group D\", \"group D\", \"group C\", \"group C\", \"group B\", \"group D\", \"group D\", \"group D\", \"group B\", \"group B\", \"group B\", \"group C\", \"group D\", \"group E\", \"group B\", \"group D\", \"group D\", \"group B\", \"group A\", \"group C\", \"group B\", \"group D\", \"group B\", \"group B\", \"group C\", \"group C\", \"group B\", \"group D\", \"group E\", \"group C\", \"group C\", \"group C\", \"group C\", \"group C\", \"group A\", \"group B\", \"group C\", \"group C\", \"group B\", \"group C\", \"group B\", \"group C\", \"group B\", \"group C\", \"group C\", \"group D\", \"group C\", \"group B\", \"group D\", \"group E\", \"group B\", \"group E\", \"group C\", \"group C\", \"group B\", \"group A\", \"group D\", \"group D\", \"group B\", \"group C\", \"group D\", \"group C\", \"group C\", \"group A\", \"group D\", \"group E\", \"group D\", \"group D\", \"group E\", \"group D\", \"group A\", \"group A\", \"group B\", \"group C\", \"group E\", \"group A\", \"group E\", \"group E\", \"group C\", \"group D\", \"group D\", \"group D\", \"group E\", \"group A\", \"group B\", \"group C\", \"group B\", \"group D\", \"group A\", \"group A\", \"group C\", \"group C\", \"group B\", \"group D\", \"group E\", \"group C\", \"group D\", \"group B\", \"group C\", \"group C\", \"group C\", \"group A\", \"group C\", \"group C\", \"group C\", \"group C\", \"group A\", \"group C\", \"group D\", \"group D\", \"group C\", \"group D\", \"group A\", \"group B\", \"group A\", \"group D\", \"group B\", \"group B\", \"group E\", \"group C\", \"group C\", \"group C\", \"group C\", \"group D\", \"group D\", \"group E\", \"group C\", \"group B\", \"group E\", \"group C\", \"group C\", \"group D\", \"group C\", \"group C\", \"group D\", \"group D\", \"group D\", \"group E\", \"group D\", \"group C\", \"group A\", \"group B\", \"group C\", \"group D\", \"group C\", \"group A\", \"group C\", \"group C\", \"group C\", \"group B\", \"group C\", \"group B\", \"group E\", \"group D\", \"group C\", \"group D\", \"group B\", \"group A\", \"group B\", \"group C\", \"group C\", \"group D\", \"group A\", \"group D\", \"group D\", \"group D\", \"group C\", \"group D\", \"group C\", \"group E\", \"group C\", \"group D\", \"group C\", \"group C\", \"group D\", \"group C\", \"group D\", \"group D\", \"group C\", \"group C\", \"group C\", \"group B\", \"group D\", \"group E\", \"group C\", \"group C\", \"group B\", \"group D\", \"group C\", \"group B\", \"group B\", \"group B\", \"group D\", \"group A\", \"group C\", \"group E\", \"group B\", \"group D\", \"group D\", \"group E\", \"group D\", \"group D\", \"group C\", \"group A\", \"group C\", \"group C\", \"group A\", \"group C\", \"group A\", \"group E\", \"group E\", \"group B\", \"group A\", \"group D\", \"group D\", \"group D\", \"group C\", \"group E\", \"group D\", \"group C\", \"group C\", \"group C\", \"group E\", \"group B\", \"group C\", \"group C\", \"group A\", \"group C\", \"group E\", \"group D\", \"group D\", \"group C\", \"group B\", \"group E\", \"group D\", \"group D\", \"group D\", \"group B\", \"group C\", \"group D\", \"group A\", \"group E\", \"group D\", \"group D\", \"group B\", \"group B\", \"group D\", \"group E\", \"group B\", \"group B\", \"group B\", \"group C\", \"group D\", \"group D\", \"group D\", \"group C\", \"group C\", \"group D\", \"group C\", \"group D\", \"group B\", \"group C\", \"group C\", \"group D\", \"group C\", \"group D\", \"group D\", \"group D\", \"group B\", \"group B\", \"group D\", \"group A\", \"group E\", \"group C\", \"group E\", \"group D\", \"group C\", \"group D\", \"group A\", \"group C\", \"group B\", \"group D\", \"group A\", \"group D\", \"group C\", \"group D\", \"group D\", \"group D\", \"group C\", \"group C\", \"group C\", \"group B\", \"group D\", \"group C\", \"group A\", \"group D\", \"group E\", \"group C\", \"group C\", \"group D\", \"group C\", \"group D\", \"group A\", \"group C\", \"group B\", \"group D\", \"group D\", \"group C\", \"group C\", \"group E\", \"group C\", \"group E\", \"group D\", \"group C\", \"group D\", \"group B\", \"group D\", \"group B\", \"group D\", \"group A\", \"group B\", \"group D\", \"group C\", \"group B\", \"group B\", \"group B\", \"group C\", \"group D\", \"group B\", \"group E\", \"group B\", \"group C\", \"group C\", \"group B\", \"group D\", \"group D\", \"group B\", \"group D\", \"group E\", \"group E\", \"group C\", \"group E\", \"group B\", \"group C\", \"group A\", \"group D\", \"group E\", \"group C\", \"group B\", \"group A\", \"group A\", \"group C\", \"group A\", \"group B\", \"group C\", \"group D\", \"group B\", \"group C\", \"group C\", \"group C\", \"group B\", \"group A\", \"group A\", \"group B\", \"group E\", \"group C\", \"group D\", \"group C\", \"group E\", \"group D\", \"group C\", \"group D\", \"group C\", \"group A\", \"group E\", \"group E\", \"group C\", \"group B\", \"group B\", \"group C\", \"group C\", \"group C\", \"group E\", \"group C\", \"group C\", \"group B\", \"group C\", \"group B\", \"group E\", \"group C\", \"group C\", \"group D\", \"group C\", \"group D\", \"group D\", \"group B\", \"group D\", \"group E\", \"group C\", \"group D\", \"group D\", \"group E\", \"group A\", \"group E\", \"group E\", \"group B\", \"group D\", \"group C\", \"group D\", \"group D\", \"group B\", \"group C\", \"group D\", \"group A\", \"group B\", \"group E\", \"group C\", \"group D\", \"group C\", \"group D\", \"group B\", \"group D\", \"group E\", \"group C\", \"group D\", \"group D\", \"group A\", \"group E\", \"group D\", \"group C\", \"group B\", \"group C\", \"group B\", \"group D\", \"group E\", \"group E\", \"group C\", \"group E\", \"group C\", \"group D\", \"group D\", \"group C\", \"group A\", \"group D\", \"group E\", \"group D\", \"group D\", \"group C\", \"group E\", \"group B\", \"group D\", \"group D\", \"group A\", \"group C\", \"group C\", \"group B\", \"group D\", \"group C\", \"group A\", \"group C\", \"group A\", \"group D\", \"group D\", \"group A\", \"group C\", \"group D\"], \"xaxis\": \"x\", \"yaxis\": \"y\"}, {\"alignmentgroup\": \"True\", \"bingroup\": \"x\", \"hovertemplate\": \"test preparation course=completed<br>race/ethnicity=%{x}<br>count=%{y}<extra></extra>\", \"legendgroup\": \"completed\", \"marker\": {\"color\": \"#EF553B\"}, \"name\": \"completed\", \"offsetgroup\": \"completed\", \"orientation\": \"v\", \"showlegend\": true, \"type\": \"histogram\", \"x\": [\"group C\", \"group B\", \"group D\", \"group A\", \"group C\", \"group B\", \"group D\", \"group E\", \"group D\", \"group B\", \"group A\", \"group D\", \"group C\", \"group E\", \"group C\", \"group E\", \"group D\", \"group E\", \"group D\", \"group D\", \"group A\", \"group D\", \"group A\", \"group C\", \"group C\", \"group B\", \"group E\", \"group D\", \"group B\", \"group C\", \"group E\", \"group D\", \"group E\", \"group C\", \"group B\", \"group C\", \"group D\", \"group C\", \"group E\", \"group C\", \"group D\", \"group B\", \"group D\", \"group E\", \"group D\", \"group E\", \"group A\", \"group B\", \"group C\", \"group E\", \"group B\", \"group B\", \"group E\", \"group C\", \"group C\", \"group B\", \"group B\", \"group C\", \"group A\", \"group C\", \"group C\", \"group B\", \"group C\", \"group B\", \"group D\", \"group C\", \"group C\", \"group C\", \"group D\", \"group D\", \"group D\", \"group C\", \"group C\", \"group C\", \"group D\", \"group E\", \"group D\", \"group C\", \"group E\", \"group B\", \"group E\", \"group B\", \"group D\", \"group B\", \"group C\", \"group C\", \"group D\", \"group D\", \"group B\", \"group A\", \"group B\", \"group C\", \"group C\", \"group C\", \"group C\", \"group D\", \"group B\", \"group C\", \"group E\", \"group D\", \"group B\", \"group E\", \"group E\", \"group C\", \"group D\", \"group A\", \"group E\", \"group C\", \"group A\", \"group C\", \"group C\", \"group E\", \"group D\", \"group C\", \"group C\", \"group D\", \"group C\", \"group C\", \"group E\", \"group D\", \"group D\", \"group B\", \"group D\", \"group C\", \"group C\", \"group C\", \"group B\", \"group A\", \"group C\", \"group C\", \"group D\", \"group D\", \"group C\", \"group E\", \"group C\", \"group C\", \"group C\", \"group D\", \"group B\", \"group D\", \"group D\", \"group D\", \"group E\", \"group B\", \"group C\", \"group C\", \"group E\", \"group C\", \"group D\", \"group D\", \"group A\", \"group C\", \"group D\", \"group C\", \"group C\", \"group C\", \"group C\", \"group B\", \"group A\", \"group A\", \"group A\", \"group C\", \"group C\", \"group B\", \"group D\", \"group E\", \"group B\", \"group B\", \"group A\", \"group D\", \"group D\", \"group B\", \"group E\", \"group B\", \"group B\", \"group C\", \"group E\", \"group D\", \"group B\", \"group C\", \"group C\", \"group C\", \"group E\", \"group E\", \"group B\", \"group C\", \"group C\", \"group E\", \"group A\", \"group C\", \"group D\", \"group E\", \"group A\", \"group C\", \"group B\", \"group C\", \"group D\", \"group C\", \"group D\", \"group E\", \"group D\", \"group B\", \"group C\", \"group A\", \"group A\", \"group B\", \"group D\", \"group C\", \"group C\", \"group D\", \"group D\", \"group C\", \"group C\", \"group C\", \"group A\", \"group D\", \"group B\", \"group C\", \"group B\", \"group B\", \"group D\", \"group D\", \"group E\", \"group B\", \"group D\", \"group C\", \"group A\", \"group D\", \"group A\", \"group C\", \"group C\", \"group D\", \"group C\", \"group D\", \"group B\", \"group E\", \"group C\", \"group C\", \"group B\", \"group E\", \"group E\", \"group C\", \"group C\", \"group D\", \"group E\", \"group A\", \"group B\", \"group D\", \"group C\", \"group E\", \"group B\", \"group B\", \"group C\", \"group C\", \"group E\", \"group D\", \"group B\", \"group E\", \"group E\", \"group E\", \"group B\", \"group C\", \"group B\", \"group C\", \"group B\", \"group D\", \"group C\", \"group C\", \"group E\", \"group D\", \"group B\", \"group D\", \"group C\", \"group B\", \"group B\", \"group A\", \"group E\", \"group B\", \"group C\", \"group C\", \"group B\", \"group E\", \"group E\", \"group C\", \"group C\", \"group C\", \"group E\", \"group B\", \"group D\", \"group A\", \"group E\", \"group C\", \"group D\", \"group C\", \"group B\", \"group C\", \"group A\", \"group B\", \"group B\", \"group B\", \"group D\", \"group C\", \"group B\", \"group D\", \"group C\", \"group D\", \"group E\", \"group C\", \"group B\", \"group C\", \"group E\", \"group C\", \"group E\", \"group E\", \"group D\", \"group B\", \"group D\", \"group D\", \"group A\", \"group D\", \"group D\", \"group E\", \"group C\", \"group C\", \"group E\", \"group C\", \"group B\", \"group E\", \"group D\", \"group E\", \"group C\", \"group D\", \"group C\", \"group C\", \"group D\", \"group D\", \"group C\", \"group A\", \"group B\", \"group E\", \"group D\", \"group C\", \"group C\", \"group A\", \"group C\", \"group A\", \"group C\", \"group B\", \"group D\", \"group B\", \"group A\", \"group E\", \"group D\", \"group E\", \"group B\", \"group E\", \"group C\", \"group D\"], \"xaxis\": \"x\", \"yaxis\": \"y\"}],                        {\"barmode\": \"relative\", \"legend\": {\"title\": {\"text\": \"test preparation course\"}, \"tracegroupgap\": 0}, \"margin\": {\"t\": 60}, \"template\": {\"data\": {\"bar\": [{\"error_x\": {\"color\": \"#2a3f5f\"}, \"error_y\": {\"color\": \"#2a3f5f\"}, \"marker\": {\"line\": {\"color\": \"#E5ECF6\", \"width\": 0.5}}, \"type\": \"bar\"}], \"barpolar\": [{\"marker\": {\"line\": {\"color\": \"#E5ECF6\", \"width\": 0.5}}, \"type\": \"barpolar\"}], \"carpet\": [{\"aaxis\": {\"endlinecolor\": \"#2a3f5f\", \"gridcolor\": \"white\", \"linecolor\": \"white\", \"minorgridcolor\": \"white\", \"startlinecolor\": \"#2a3f5f\"}, \"baxis\": {\"endlinecolor\": \"#2a3f5f\", \"gridcolor\": \"white\", \"linecolor\": \"white\", \"minorgridcolor\": \"white\", \"startlinecolor\": \"#2a3f5f\"}, \"type\": \"carpet\"}], \"choropleth\": [{\"colorbar\": {\"outlinewidth\": 0, \"ticks\": \"\"}, \"type\": \"choropleth\"}], \"contour\": [{\"colorbar\": {\"outlinewidth\": 0, \"ticks\": \"\"}, \"colorscale\": [[0.0, \"#0d0887\"], [0.1111111111111111, \"#46039f\"], [0.2222222222222222, \"#7201a8\"], [0.3333333333333333, \"#9c179e\"], [0.4444444444444444, \"#bd3786\"], [0.5555555555555556, \"#d8576b\"], [0.6666666666666666, \"#ed7953\"], [0.7777777777777778, \"#fb9f3a\"], [0.8888888888888888, \"#fdca26\"], [1.0, \"#f0f921\"]], \"type\": \"contour\"}], \"contourcarpet\": [{\"colorbar\": {\"outlinewidth\": 0, \"ticks\": \"\"}, \"type\": \"contourcarpet\"}], \"heatmap\": [{\"colorbar\": {\"outlinewidth\": 0, \"ticks\": \"\"}, \"colorscale\": [[0.0, \"#0d0887\"], [0.1111111111111111, \"#46039f\"], [0.2222222222222222, \"#7201a8\"], [0.3333333333333333, \"#9c179e\"], [0.4444444444444444, \"#bd3786\"], [0.5555555555555556, \"#d8576b\"], [0.6666666666666666, \"#ed7953\"], [0.7777777777777778, \"#fb9f3a\"], [0.8888888888888888, \"#fdca26\"], [1.0, \"#f0f921\"]], \"type\": \"heatmap\"}], \"heatmapgl\": [{\"colorbar\": {\"outlinewidth\": 0, \"ticks\": \"\"}, \"colorscale\": [[0.0, \"#0d0887\"], [0.1111111111111111, \"#46039f\"], [0.2222222222222222, \"#7201a8\"], [0.3333333333333333, \"#9c179e\"], [0.4444444444444444, \"#bd3786\"], [0.5555555555555556, \"#d8576b\"], [0.6666666666666666, \"#ed7953\"], [0.7777777777777778, \"#fb9f3a\"], [0.8888888888888888, \"#fdca26\"], [1.0, \"#f0f921\"]], \"type\": \"heatmapgl\"}], \"histogram\": [{\"marker\": {\"colorbar\": {\"outlinewidth\": 0, \"ticks\": \"\"}}, \"type\": \"histogram\"}], \"histogram2d\": [{\"colorbar\": {\"outlinewidth\": 0, \"ticks\": \"\"}, \"colorscale\": [[0.0, \"#0d0887\"], [0.1111111111111111, \"#46039f\"], [0.2222222222222222, \"#7201a8\"], [0.3333333333333333, \"#9c179e\"], [0.4444444444444444, \"#bd3786\"], [0.5555555555555556, \"#d8576b\"], [0.6666666666666666, \"#ed7953\"], [0.7777777777777778, \"#fb9f3a\"], [0.8888888888888888, \"#fdca26\"], [1.0, \"#f0f921\"]], \"type\": \"histogram2d\"}], \"histogram2dcontour\": [{\"colorbar\": {\"outlinewidth\": 0, \"ticks\": \"\"}, \"colorscale\": [[0.0, \"#0d0887\"], [0.1111111111111111, \"#46039f\"], [0.2222222222222222, \"#7201a8\"], [0.3333333333333333, \"#9c179e\"], [0.4444444444444444, \"#bd3786\"], [0.5555555555555556, \"#d8576b\"], [0.6666666666666666, \"#ed7953\"], [0.7777777777777778, \"#fb9f3a\"], [0.8888888888888888, \"#fdca26\"], [1.0, \"#f0f921\"]], \"type\": \"histogram2dcontour\"}], \"mesh3d\": [{\"colorbar\": {\"outlinewidth\": 0, \"ticks\": \"\"}, \"type\": \"mesh3d\"}], \"parcoords\": [{\"line\": {\"colorbar\": {\"outlinewidth\": 0, \"ticks\": \"\"}}, \"type\": \"parcoords\"}], \"pie\": [{\"automargin\": true, \"type\": \"pie\"}], \"scatter\": [{\"marker\": {\"colorbar\": {\"outlinewidth\": 0, \"ticks\": \"\"}}, \"type\": \"scatter\"}], \"scatter3d\": [{\"line\": {\"colorbar\": {\"outlinewidth\": 0, \"ticks\": \"\"}}, \"marker\": {\"colorbar\": {\"outlinewidth\": 0, \"ticks\": \"\"}}, \"type\": \"scatter3d\"}], \"scattercarpet\": [{\"marker\": {\"colorbar\": {\"outlinewidth\": 0, \"ticks\": \"\"}}, \"type\": \"scattercarpet\"}], \"scattergeo\": [{\"marker\": {\"colorbar\": {\"outlinewidth\": 0, \"ticks\": \"\"}}, \"type\": \"scattergeo\"}], \"scattergl\": [{\"marker\": {\"colorbar\": {\"outlinewidth\": 0, \"ticks\": \"\"}}, \"type\": \"scattergl\"}], \"scattermapbox\": [{\"marker\": {\"colorbar\": {\"outlinewidth\": 0, \"ticks\": \"\"}}, \"type\": \"scattermapbox\"}], \"scatterpolar\": [{\"marker\": {\"colorbar\": {\"outlinewidth\": 0, \"ticks\": \"\"}}, \"type\": \"scatterpolar\"}], \"scatterpolargl\": [{\"marker\": {\"colorbar\": {\"outlinewidth\": 0, \"ticks\": \"\"}}, \"type\": \"scatterpolargl\"}], \"scatterternary\": [{\"marker\": {\"colorbar\": {\"outlinewidth\": 0, \"ticks\": \"\"}}, \"type\": \"scatterternary\"}], \"surface\": [{\"colorbar\": {\"outlinewidth\": 0, \"ticks\": \"\"}, \"colorscale\": [[0.0, \"#0d0887\"], [0.1111111111111111, \"#46039f\"], [0.2222222222222222, \"#7201a8\"], [0.3333333333333333, \"#9c179e\"], [0.4444444444444444, \"#bd3786\"], [0.5555555555555556, \"#d8576b\"], [0.6666666666666666, \"#ed7953\"], [0.7777777777777778, \"#fb9f3a\"], [0.8888888888888888, \"#fdca26\"], [1.0, \"#f0f921\"]], \"type\": \"surface\"}], \"table\": [{\"cells\": {\"fill\": {\"color\": \"#EBF0F8\"}, \"line\": {\"color\": \"white\"}}, \"header\": {\"fill\": {\"color\": \"#C8D4E3\"}, \"line\": {\"color\": \"white\"}}, \"type\": \"table\"}]}, \"layout\": {\"annotationdefaults\": {\"arrowcolor\": \"#2a3f5f\", \"arrowhead\": 0, \"arrowwidth\": 1}, \"autotypenumbers\": \"strict\", \"coloraxis\": {\"colorbar\": {\"outlinewidth\": 0, \"ticks\": \"\"}}, \"colorscale\": {\"diverging\": [[0, \"#8e0152\"], [0.1, \"#c51b7d\"], [0.2, \"#de77ae\"], [0.3, \"#f1b6da\"], [0.4, \"#fde0ef\"], [0.5, \"#f7f7f7\"], [0.6, \"#e6f5d0\"], [0.7, \"#b8e186\"], [0.8, \"#7fbc41\"], [0.9, \"#4d9221\"], [1, \"#276419\"]], \"sequential\": [[0.0, \"#0d0887\"], [0.1111111111111111, \"#46039f\"], [0.2222222222222222, \"#7201a8\"], [0.3333333333333333, \"#9c179e\"], [0.4444444444444444, \"#bd3786\"], [0.5555555555555556, \"#d8576b\"], [0.6666666666666666, \"#ed7953\"], [0.7777777777777778, \"#fb9f3a\"], [0.8888888888888888, \"#fdca26\"], [1.0, \"#f0f921\"]], \"sequentialminus\": [[0.0, \"#0d0887\"], [0.1111111111111111, \"#46039f\"], [0.2222222222222222, \"#7201a8\"], [0.3333333333333333, \"#9c179e\"], [0.4444444444444444, \"#bd3786\"], [0.5555555555555556, \"#d8576b\"], [0.6666666666666666, \"#ed7953\"], [0.7777777777777778, \"#fb9f3a\"], [0.8888888888888888, \"#fdca26\"], [1.0, \"#f0f921\"]]}, \"colorway\": [\"#636efa\", \"#EF553B\", \"#00cc96\", \"#ab63fa\", \"#FFA15A\", \"#19d3f3\", \"#FF6692\", \"#B6E880\", \"#FF97FF\", \"#FECB52\"], \"font\": {\"color\": \"#2a3f5f\"}, \"geo\": {\"bgcolor\": \"white\", \"lakecolor\": \"white\", \"landcolor\": \"#E5ECF6\", \"showlakes\": true, \"showland\": true, \"subunitcolor\": \"white\"}, \"hoverlabel\": {\"align\": \"left\"}, \"hovermode\": \"closest\", \"mapbox\": {\"style\": \"light\"}, \"paper_bgcolor\": \"white\", \"plot_bgcolor\": \"#E5ECF6\", \"polar\": {\"angularaxis\": {\"gridcolor\": \"white\", \"linecolor\": \"white\", \"ticks\": \"\"}, \"bgcolor\": \"#E5ECF6\", \"radialaxis\": {\"gridcolor\": \"white\", \"linecolor\": \"white\", \"ticks\": \"\"}}, \"scene\": {\"xaxis\": {\"backgroundcolor\": \"#E5ECF6\", \"gridcolor\": \"white\", \"gridwidth\": 2, \"linecolor\": \"white\", \"showbackground\": true, \"ticks\": \"\", \"zerolinecolor\": \"white\"}, \"yaxis\": {\"backgroundcolor\": \"#E5ECF6\", \"gridcolor\": \"white\", \"gridwidth\": 2, \"linecolor\": \"white\", \"showbackground\": true, \"ticks\": \"\", \"zerolinecolor\": \"white\"}, \"zaxis\": {\"backgroundcolor\": \"#E5ECF6\", \"gridcolor\": \"white\", \"gridwidth\": 2, \"linecolor\": \"white\", \"showbackground\": true, \"ticks\": \"\", \"zerolinecolor\": \"white\"}}, \"shapedefaults\": {\"line\": {\"color\": \"#2a3f5f\"}}, \"ternary\": {\"aaxis\": {\"gridcolor\": \"white\", \"linecolor\": \"white\", \"ticks\": \"\"}, \"baxis\": {\"gridcolor\": \"white\", \"linecolor\": \"white\", \"ticks\": \"\"}, \"bgcolor\": \"#E5ECF6\", \"caxis\": {\"gridcolor\": \"white\", \"linecolor\": \"white\", \"ticks\": \"\"}}, \"title\": {\"x\": 0.05}, \"xaxis\": {\"automargin\": true, \"gridcolor\": \"white\", \"linecolor\": \"white\", \"ticks\": \"\", \"title\": {\"standoff\": 15}, \"zerolinecolor\": \"white\", \"zerolinewidth\": 2}, \"yaxis\": {\"automargin\": true, \"gridcolor\": \"white\", \"linecolor\": \"white\", \"ticks\": \"\", \"title\": {\"standoff\": 15}, \"zerolinecolor\": \"white\", \"zerolinewidth\": 2}}}, \"xaxis\": {\"anchor\": \"y\", \"domain\": [0.0, 1.0], \"title\": {\"text\": \"race/ethnicity\"}}, \"yaxis\": {\"anchor\": \"x\", \"domain\": [0.0, 1.0], \"title\": {\"text\": \"count\"}}},                        {\"responsive\": true}                    ).then(function(){\n",
       "                            \n",
       "var gd = document.getElementById('b6820e78-58a0-4119-9576-b51d224a0b14');\n",
       "var x = new MutationObserver(function (mutations, observer) {{\n",
       "        var display = window.getComputedStyle(gd).display;\n",
       "        if (!display || display === 'none') {{\n",
       "            console.log([gd, 'removed!']);\n",
       "            Plotly.purge(gd);\n",
       "            observer.disconnect();\n",
       "        }}\n",
       "}});\n",
       "\n",
       "// Listen for the removal of the full notebook cells\n",
       "var notebookContainer = gd.closest('#notebook-container');\n",
       "if (notebookContainer) {{\n",
       "    x.observe(notebookContainer, {childList: true});\n",
       "}}\n",
       "\n",
       "// Listen for the clearing of the current output cell\n",
       "var outputEl = gd.closest('.output');\n",
       "if (outputEl) {{\n",
       "    x.observe(outputEl, {childList: true});\n",
       "}}\n",
       "\n",
       "                        })                };                });            </script>        </div>"
      ]
     },
     "metadata": {},
     "output_type": "display_data"
    }
   ],
   "source": [
    "fig = px.histogram(df, x=\"race/ethnicity\", color = 'test preparation course')\n",
    "fig.show()"
   ]
  },
  {
   "cell_type": "markdown",
   "metadata": {},
   "source": [
    "Z wykresu można stwierdzić, że ponad połowa studentów w każdej grupie nie odbyła kursu przygotowawczego przed podejściem do egzaminu.\n",
    "\n",
    "Najlepsza sytuacja w odbyciu kursu przygotowawczego ma miejsce w grupa C oraz E. Najgorsza sytuacja dotyczy ponownie grupy A. Przy analizie należy również zwrócić uwagę na liczebność każdej z grup.\n",
    "\n",
    "W tym momencie przejdziemy do danych numerycznych, które w zbiorze określone są jako wyniki testów z matematyki, pisania oraz czytania. Do zaprezentowania wyników posłużono się wykresem rozkładu z biblioteki seaborn."
   ]
  },
  {
   "cell_type": "code",
   "execution_count": 43,
   "metadata": {},
   "outputs": [
    {
     "data": {
      "text/plain": [
       "<seaborn.axisgrid.FacetGrid at 0x21ff00acca0>"
      ]
     },
     "execution_count": 43,
     "metadata": {},
     "output_type": "execute_result"
    },
    {
     "data": {
      "image/png": "[encoded data removed]",
      "text/plain": [
       "<Figure size 360x360 with 1 Axes>"
      ]
     },
     "metadata": {
      "needs_background": "light"
     },
     "output_type": "display_data"
    }
   ],
   "source": [
    "sns.displot(df['math score'], kde=True, color = 'goldenrod')"
   ]
  },
  {
   "cell_type": "code",
   "execution_count": 44,
   "metadata": {},
   "outputs": [
    {
     "data": {
      "text/plain": [
       "<seaborn.axisgrid.FacetGrid at 0x21ff013df70>"
      ]
     },
     "execution_count": 44,
     "metadata": {},
     "output_type": "execute_result"
    },
    {
     "data": {
      "image/png": "[encoded data removed]",
      "text/plain": [
       "<Figure size 360x360 with 1 Axes>"
      ]
     },
     "metadata": {
      "needs_background": "light"
     },
     "output_type": "display_data"
    }
   ],
   "source": [
    "sns.displot(df['reading score'], kde=True, color = 'lightcoral')"
   ]
  },
  {
   "cell_type": "code",
   "execution_count": 45,
   "metadata": {},
   "outputs": [
    {
     "data": {
      "text/plain": [
       "<seaborn.axisgrid.FacetGrid at 0x21ff02c7250>"
      ]
     },
     "execution_count": 45,
     "metadata": {},
     "output_type": "execute_result"
    },
    {
     "data": {
      "image/png": "[encoded data removed]",
      "text/plain": [
       "<Figure size 360x360 with 1 Axes>"
      ]
     },
     "metadata": {
      "needs_background": "light"
     },
     "output_type": "display_data"
    }
   ],
   "source": [
    "sns.displot(df['reading score'], kde=True, color = 'darkorchid')"
   ]
  },
  {
   "cell_type": "markdown",
   "metadata": {},
   "source": [
    "W każdym z przypadków można zauważyć, że najbardziej liczna grupa studentów osiągała wyniki pomiędzy 60, a 80. Wartość prawdopodobieństwa rozkładu normalnego w przypadku matematyki jest niższa w porównaniu do egzaminu z pisania oraz czytania. Można zatem stwierdzić, że dobre wyniki z matematyki były najcięższe do osiągniecia.\n",
    "\n",
    "Kolejnym typem wykresu prezentowanym poniżej będzie pairplot, który będzie miał za zadanie zaprezentowanie różnych zależności uwzględniając wszystkie typy egzaminów oraz płeć studentów."
   ]
  },
  {
   "cell_type": "code",
   "execution_count": 46,
   "metadata": {
    "scrolled": false
   },
   "outputs": [
    {
     "data": {
      "application/vnd.plotly.v1+json": {
       "config": {
        "plotlyServerURL": "https://plot.ly"
       },
       "data": [
        {
         "dimensions": [
          {
           "axis": {
            "matches": true
           },
           "label": "math score",
           "values": [
            72,
            69,
            90,
            71,
            88,
            38,
            65,
            50,
            69,
            18,
            54,
            65,
            69,
            67,
            62,
            69,
            63,
            56,
            74,
            50,
            75,
            58,
            53,
            50,
            55,
            66,
            57,
            71,
            33,
            82,
            0,
            69,
            59,
            60,
            39,
            58,
            41,
            61,
            62,
            47,
            73,
            76,
            71,
            58,
            73,
            65,
            79,
            63,
            58,
            65,
            85,
            58,
            87,
            52,
            70,
            77,
            51,
            99,
            75,
            78,
            51,
            55,
            79,
            88,
            87,
            51,
            75,
            59,
            76,
            59,
            42,
            22,
            68,
            59,
            70,
            66,
            61,
            75,
            81,
            96,
            58,
            68,
            67,
            79,
            63,
            43,
            81,
            46,
            71,
            52,
            97,
            46,
            50,
            65,
            77,
            66,
            62,
            69,
            45,
            78,
            67,
            65,
            57,
            74,
            58,
            42,
            83,
            34,
            56,
            55,
            52,
            45,
            72,
            88,
            67,
            64,
            80,
            56,
            58,
            65,
            71,
            60,
            62,
            64,
            70,
            65,
            64,
            44,
            99,
            63,
            69,
            88,
            71,
            47,
            65,
            85,
            59,
            65,
            73,
            70,
            37,
            67,
            65,
            67,
            74,
            53,
            49,
            73,
            68,
            59,
            77,
            56,
            67,
            75,
            71,
            43,
            41,
            82,
            41,
            83,
            61,
            24,
            35,
            61,
            69,
            72,
            77,
            52,
            63,
            46,
            59,
            61,
            42,
            80,
            58,
            52,
            27,
            44,
            73,
            45,
            82,
            59,
            80,
            85,
            71,
            80,
            38,
            38,
            67,
            64,
            57,
            62,
            77,
            65,
            50,
            85,
            59,
            49,
            88,
            54,
            63,
            82,
            52,
            70,
            51,
            82,
            57,
            47,
            59,
            62,
            61,
            47,
            67,
            78,
            59,
            73,
            67,
            64,
            100,
            65,
            53,
            79,
            100,
            71,
            77,
            84,
            26,
            77,
            83,
            63,
            68,
            59,
            90,
            71,
            55,
            52,
            49,
            60,
            65,
            64,
            83,
            81,
            54,
            54,
            59,
            66,
            74,
            94,
            95,
            40,
            82,
            86,
            54,
            77,
            76,
            74,
            66,
            66,
            67,
            91,
            36,
            29,
            62,
            68,
            47,
            79,
            66,
            51,
            81,
            82,
            64,
            92,
            62,
            40,
            32,
            55,
            53,
            74,
            63,
            63,
            92,
            61,
            53,
            50,
            74,
            81,
            48,
            53,
            81,
            77,
            63,
            73,
            69,
            65,
            55,
            44,
            54,
            48,
            74,
            92,
            56,
            69,
            65,
            54,
            29,
            76,
            85,
            40,
            61,
            58,
            58,
            65,
            82,
            60,
            37,
            35,
            61,
            44,
            66,
            75,
            67,
            80,
            76,
            74,
            72,
            74,
            65,
            59,
            64,
            50,
            69,
            68,
            85,
            65,
            73,
            62,
            43,
            55,
            65,
            50,
            63,
            77,
            66,
            69,
            65,
            69,
            50,
            73,
            70,
            67,
            29,
            94,
            49,
            73,
            66,
            77,
            49,
            79,
            75,
            59,
            57,
            79,
            57,
            63,
            59,
            42,
            80,
            98,
            60,
            76,
            96,
            76,
            62,
            74,
            65,
            73,
            68,
            87,
            53,
            53,
            37,
            81,
            59,
            50,
            77,
            84,
            52,
            53,
            48,
            62,
            74,
            58,
            68,
            52,
            62,
            49,
            66,
            35,
            72,
            46,
            77,
            76,
            52,
            32,
            72,
            19,
            52,
            48,
            60,
            42,
            57,
            70,
            52,
            87,
            82,
            73,
            64,
            41,
            54,
            72,
            45,
            60,
            77,
            85,
            78,
            71,
            48,
            56,
            65,
            69,
            61,
            74,
            77,
            60,
            75,
            66,
            39,
            23,
            40,
            59,
            61,
            87,
            97,
            65,
            53,
            81,
            71,
            70,
            43,
            59,
            64,
            71,
            64,
            51,
            62,
            93,
            69,
            86,
            85,
            50,
            59,
            32,
            63,
            65,
            73,
            34,
            93,
            67,
            79,
            67,
            69,
            52,
            47,
            46,
            68,
            44,
            57,
            35,
            54,
            65,
            48,
            57,
            78,
            58,
            54,
            49,
            57,
            75,
            74,
            62,
            92,
            45,
            56,
            48,
            100,
            65,
            62,
            68,
            75,
            89,
            53,
            49,
            54,
            64,
            91,
            8,
            78,
            74,
            40,
            44,
            67,
            65,
            55,
            62,
            88,
            59,
            68,
            77
           ]
          },
          {
           "axis": {
            "matches": true
           },
           "label": "reading score",
           "values": [
            72,
            90,
            95,
            83,
            95,
            60,
            81,
            53,
            75,
            32,
            58,
            75,
            73,
            69,
            70,
            74,
            65,
            72,
            81,
            64,
            90,
            73,
            58,
            56,
            65,
            71,
            74,
            84,
            41,
            85,
            17,
            80,
            58,
            72,
            64,
            63,
            51,
            74,
            68,
            49,
            80,
            83,
            71,
            70,
            86,
            72,
            86,
            72,
            67,
            67,
            91,
            67,
            100,
            76,
            64,
            89,
            58,
            100,
            85,
            82,
            63,
            69,
            92,
            93,
            95,
            49,
            81,
            66,
            72,
            62,
            55,
            39,
            75,
            70,
            89,
            74,
            86,
            88,
            92,
            100,
            76,
            83,
            75,
            86,
            67,
            51,
            91,
            54,
            77,
            70,
            100,
            64,
            50,
            69,
            88,
            65,
            64,
            84,
            53,
            79,
            84,
            81,
            69,
            81,
            61,
            62,
            86,
            42,
            68,
            65,
            66,
            56,
            72,
            95,
            86,
            60,
            83,
            52,
            70,
            64,
            83,
            70,
            73,
            73,
            75,
            81,
            79,
            50,
            93,
            75,
            72,
            92,
            76,
            53,
            70,
            92,
            63,
            86,
            79,
            78,
            46,
            89,
            73,
            84,
            75,
            71,
            57,
            76,
            67,
            64,
            82,
            65,
            79,
            86,
            81,
            53,
            46,
            90,
            55,
            93,
            68,
            38,
            55,
            73,
            76,
            80,
            94,
            65,
            78,
            58,
            71,
            72,
            66,
            90,
            62,
            58,
            34,
            64,
            84,
            73,
            97,
            70,
            90,
            95,
            83,
            86,
            49,
            43,
            76,
            73,
            78,
            64,
            68,
            74,
            67,
            89,
            54,
            65,
            99,
            59,
            73,
            80,
            57,
            71,
            72,
            93,
            58,
            58,
            85,
            67,
            72,
            59,
            81,
            81,
            73,
            83,
            74,
            85,
            92,
            77,
            61,
            89,
            100,
            70,
            90,
            87,
            31,
            88,
            85,
            69,
            86,
            67,
            90,
            76,
            64,
            59,
            52,
            75,
            85,
            64,
            83,
            88,
            64,
            48,
            78,
            69,
            79,
            87,
            89,
            59,
            82,
            92,
            61,
            97,
            87,
            89,
            74,
            78,
            78,
            86,
            53,
            41,
            74,
            67,
            54,
            88,
            83,
            66,
            77,
            95,
            63,
            100,
            67,
            48,
            39,
            72,
            70,
            75,
            74,
            80,
            100,
            71,
            62,
            66,
            81,
            91,
            56,
            61,
            97,
            79,
            73,
            75,
            77,
            76,
            73,
            63,
            64,
            66,
            76,
            100,
            79,
            77,
            82,
            60,
            29,
            78,
            84,
            58,
            64,
            63,
            59,
            77,
            93,
            68,
            45,
            61,
            58,
            51,
            74,
            88,
            80,
            92,
            74,
            88,
            81,
            79,
            81,
            70,
            62,
            53,
            79,
            80,
            86,
            70,
            79,
            67,
            60,
            71,
            69,
            60,
            73,
            85,
            76,
            78,
            84,
            77,
            64,
            78,
            82,
            72,
            40,
            99,
            53,
            76,
            74,
            77,
            63,
            89,
            82,
            72,
            78,
            81,
            67,
            64,
            63,
            61,
            85,
            100,
            70,
            94,
            96,
            76,
            72,
            90,
            75,
            92,
            77,
            89,
            58,
            66,
            57,
            84,
            73,
            60,
            90,
            95,
            59,
            72,
            58,
            62,
            72,
            75,
            71,
            67,
            78,
            58,
            72,
            44,
            79,
            56,
            90,
            85,
            59,
            51,
            79,
            38,
            65,
            62,
            66,
            52,
            68,
            84,
            55,
            94,
            85,
            76,
            74,
            45,
            64,
            80,
            59,
            72,
            91,
            90,
            90,
            87,
            58,
            68,
            69,
            86,
            60,
            86,
            82,
            64,
            82,
            77,
            52,
            44,
            65,
            72,
            68,
            85,
            97,
            79,
            62,
            86,
            71,
            72,
            62,
            72,
            76,
            70,
            73,
            51,
            76,
            100,
            65,
            85,
            92,
            67,
            62,
            34,
            78,
            78,
            78,
            48,
            100,
            84,
            84,
            75,
            84,
            61,
            62,
            61,
            70,
            61,
            77,
            53,
            65,
            61,
            56,
            58,
            91,
            68,
            61,
            58,
            75,
            77,
            74,
            69,
            100,
            63,
            58,
            54,
            100,
            76,
            70,
            76,
            84,
            100,
            50,
            65,
            63,
            82,
            95,
            24,
            87,
            75,
            59,
            45,
            86,
            82,
            76,
            72,
            99,
            71,
            78,
            86
           ]
          },
          {
           "axis": {
            "matches": true
           },
           "label": "writing score",
           "values": [
            74,
            88,
            93,
            78,
            92,
            50,
            73,
            58,
            78,
            28,
            61,
            70,
            73,
            75,
            75,
            74,
            61,
            65,
            83,
            59,
            88,
            68,
            65,
            54,
            62,
            76,
            76,
            87,
            43,
            86,
            10,
            71,
            59,
            74,
            57,
            73,
            48,
            72,
            68,
            50,
            82,
            88,
            74,
            67,
            82,
            74,
            92,
            70,
            62,
            62,
            89,
            72,
            100,
            70,
            72,
            98,
            54,
            100,
            82,
            79,
            61,
            65,
            89,
            93,
            86,
            51,
            84,
            67,
            71,
            64,
            54,
            33,
            81,
            66,
            88,
            78,
            87,
            85,
            91,
            100,
            78,
            78,
            70,
            81,
            70,
            54,
            87,
            58,
            77,
            62,
            100,
            66,
            47,
            70,
            87,
            69,
            66,
            85,
            55,
            76,
            86,
            77,
            68,
            76,
            66,
            60,
            88,
            39,
            74,
            62,
            73,
            54,
            71,
            94,
            83,
            74,
            83,
            55,
            68,
            62,
            83,
            70,
            70,
            68,
            78,
            81,
            77,
            51,
            90,
            81,
            77,
            95,
            70,
            58,
            71,
            93,
            75,
            80,
            84,
            78,
            46,
            82,
            75,
            81,
            83,
            67,
            52,
            80,
            69,
            75,
            91,
            63,
            84,
            79,
            80,
            53,
            43,
            94,
            51,
            95,
            66,
            27,
            60,
            63,
            74,
            75,
            95,
            69,
            80,
            57,
            70,
            70,
            69,
            89,
            59,
            58,
            32,
            58,
            85,
            70,
            96,
            73,
            82,
            100,
            77,
            83,
            45,
            43,
            75,
            70,
            67,
            64,
            77,
            77,
            63,
            95,
            67,
            55,
            100,
            62,
            68,
            77,
            56,
            74,
            79,
            93,
            64,
            67,
            80,
            62,
            70,
            50,
            79,
            80,
            69,
            76,
            77,
            85,
            97,
            74,
            62,
            89,
            100,
            76,
            91,
            91,
            38,
            85,
            90,
            74,
            84,
            61,
            91,
            83,
            70,
            56,
            54,
            74,
            76,
            70,
            90,
            90,
            68,
            52,
            76,
            68,
            82,
            92,
            92,
            54,
            80,
            87,
            62,
            94,
            85,
            84,
            73,
            78,
            79,
            84,
            43,
            47,
            70,
            73,
            53,
            94,
            83,
            62,
            79,
            89,
            66,
            97,
            64,
            50,
            33,
            79,
            70,
            79,
            74,
            80,
            100,
            78,
            56,
            64,
            71,
            89,
            58,
            68,
            96,
            80,
            78,
            80,
            77,
            76,
            73,
            62,
            65,
            65,
            73,
            99,
            72,
            73,
            81,
            63,
            30,
            80,
            82,
            54,
            62,
            65,
            66,
            74,
            93,
            72,
            38,
            54,
            62,
            55,
            81,
            85,
            81,
            88,
            73,
            90,
            79,
            80,
            81,
            65,
            68,
            55,
            81,
            76,
            98,
            74,
            79,
            67,
            58,
            69,
            67,
            60,
            71,
            87,
            68,
            76,
            84,
            78,
            66,
            76,
            76,
            74,
            44,
            100,
            53,
            78,
            81,
            73,
            56,
            86,
            90,
            70,
            79,
            82,
            72,
            67,
            64,
            58,
            85,
            99,
            74,
            87,
            99,
            74,
            70,
            88,
            77,
            84,
            80,
            94,
            57,
            73,
            56,
            82,
            72,
            59,
            85,
            92,
            65,
            64,
            54,
            63,
            72,
            77,
            75,
            72,
            79,
            55,
            70,
            43,
            82,
            57,
            84,
            82,
            62,
            44,
            77,
            32,
            61,
            60,
            70,
            51,
            73,
            81,
            57,
            95,
            87,
            78,
            75,
            40,
            67,
            83,
            64,
            68,
            88,
            92,
            93,
            82,
            52,
            70,
            76,
            81,
            57,
            89,
            89,
            74,
            79,
            73,
            46,
            36,
            64,
            68,
            63,
            93,
            96,
            81,
            53,
            87,
            80,
            76,
            61,
            80,
            74,
            70,
            71,
            54,
            80,
            95,
            74,
            91,
            85,
            73,
            69,
            38,
            79,
            82,
            74,
            41,
            100,
            84,
            91,
            72,
            82,
            66,
            66,
            55,
            66,
            52,
            80,
            46,
            65,
            71,
            51,
            57,
            96,
            61,
            58,
            60,
            73,
            83,
            72,
            69,
            100,
            59,
            64,
            53,
            100,
            75,
            72,
            67,
            80,
            100,
            60,
            61,
            67,
            77,
            94,
            23,
            91,
            82,
            51,
            45,
            83,
            78,
            76,
            74,
            95,
            65,
            77,
            86
           ]
          }
         ],
         "hovertemplate": "gender=female<br>%{xaxis.title.text}=%{x}<br>%{yaxis.title.text}=%{y}<extra></extra>",
         "legendgroup": "female",
         "marker": {
          "color": "#636efa",
          "symbol": "circle"
         },
         "name": "female",
         "showlegend": true,
         "type": "splom"
        },
        {
         "dimensions": [
          {
           "axis": {
            "matches": true
           },
           "label": "math score",
           "values": [
            47,
            76,
            40,
            64,
            58,
            40,
            78,
            88,
            46,
            66,
            44,
            74,
            73,
            69,
            70,
            40,
            97,
            81,
            57,
            55,
            59,
            65,
            82,
            53,
            77,
            53,
            88,
            52,
            58,
            79,
            39,
            62,
            67,
            45,
            61,
            63,
            61,
            49,
            44,
            30,
            80,
            49,
            50,
            72,
            42,
            27,
            71,
            43,
            78,
            65,
            79,
            68,
            60,
            98,
            66,
            62,
            54,
            84,
            91,
            63,
            83,
            72,
            65,
            82,
            89,
            53,
            87,
            74,
            58,
            51,
            70,
            71,
            57,
            88,
            88,
            73,
            100,
            62,
            77,
            54,
            62,
            60,
            66,
            82,
            49,
            52,
            53,
            72,
            94,
            62,
            45,
            65,
            80,
            62,
            48,
            76,
            77,
            61,
            59,
            55,
            69,
            59,
            74,
            82,
            81,
            80,
            35,
            60,
            87,
            84,
            66,
            61,
            87,
            86,
            57,
            68,
            76,
            46,
            92,
            83,
            80,
            63,
            54,
            84,
            73,
            59,
            75,
            85,
            89,
            68,
            47,
            80,
            54,
            78,
            79,
            76,
            59,
            69,
            58,
            88,
            83,
            73,
            53,
            45,
            81,
            97,
            88,
            77,
            76,
            86,
            63,
            78,
            67,
            46,
            71,
            40,
            90,
            81,
            56,
            80,
            69,
            99,
            51,
            66,
            67,
            71,
            83,
            63,
            61,
            28,
            82,
            71,
            47,
            62,
            90,
            76,
            49,
            58,
            67,
            79,
            62,
            75,
            87,
            66,
            63,
            59,
            85,
            59,
            49,
            69,
            61,
            84,
            74,
            46,
            66,
            87,
            79,
            73,
            73,
            76,
            57,
            48,
            74,
            60,
            53,
            65,
            87,
            84,
            71,
            63,
            84,
            71,
            74,
            68,
            57,
            41,
            86,
            69,
            65,
            68,
            64,
            61,
            73,
            50,
            75,
            75,
            70,
            89,
            79,
            69,
            86,
            47,
            81,
            65,
            37,
            53,
            72,
            53,
            54,
            75,
            72,
            91,
            76,
            80,
            76,
            73,
            68,
            59,
            70,
            61,
            64,
            79,
            68,
            76,
            63,
            68,
            55,
            79,
            76,
            64,
            62,
            71,
            69,
            54,
            53,
            68,
            56,
            62,
            73,
            51,
            85,
            97,
            75,
            79,
            78,
            72,
            79,
            79,
            87,
            77,
            53,
            61,
            73,
            96,
            48,
            48,
            63,
            68,
            71,
            91,
            40,
            61,
            58,
            71,
            68,
            30,
            53,
            60,
            84,
            75,
            69,
            94,
            88,
            95,
            65,
            62,
            58,
            100,
            100,
            69,
            61,
            49,
            67,
            79,
            84,
            71,
            86,
            41,
            70,
            51,
            77,
            69,
            90,
            74,
            73,
            80,
            73,
            81,
            52,
            81,
            63,
            60,
            62,
            62,
            85,
            77,
            53,
            93,
            66,
            87,
            62,
            46,
            66,
            89,
            93,
            81,
            73,
            91,
            55,
            50,
            47,
            81,
            68,
            53,
            55,
            55,
            67,
            92,
            81,
            61,
            80,
            55,
            72,
            69,
            69,
            87,
            71,
            68,
            79,
            58,
            55,
            70,
            69,
            78,
            60,
            76,
            58,
            52,
            75,
            66,
            94,
            91,
            68,
            66,
            89,
            70,
            69,
            67,
            76,
            75,
            90,
            59,
            51,
            45,
            87,
            94,
            61,
            49,
            62,
            68,
            64,
            58,
            73,
            58,
            64,
            74,
            90,
            91,
            64,
            80,
            71,
            82,
            62,
            75,
            52,
            87,
            39,
            97,
            82,
            59,
            61,
            78,
            49,
            59,
            82,
            90,
            80,
            81,
            57,
            63,
            55,
            54,
            44,
            88,
            36,
            67,
            85,
            88,
            57,
            70,
            50,
            100,
            91,
            69,
            72,
            74,
            74,
            64,
            46,
            67,
            62,
            61,
            70,
            98,
            70,
            67,
            85,
            77,
            72,
            81,
            61,
            82,
            49,
            94,
            58,
            72,
            84,
            75,
            72,
            66,
            63,
            78,
            60,
            62,
            55,
            81,
            79,
            57,
            81,
            86,
            63,
            62
           ]
          },
          {
           "axis": {
            "matches": true
           },
           "label": "reading score",
           "values": [
            57,
            78,
            43,
            64,
            54,
            52,
            72,
            89,
            42,
            69,
            54,
            71,
            74,
            54,
            70,
            42,
            87,
            81,
            56,
            61,
            65,
            54,
            84,
            55,
            69,
            44,
            78,
            55,
            59,
            74,
            39,
            61,
            64,
            37,
            58,
            55,
            57,
            49,
            41,
            26,
            78,
            45,
            47,
            64,
            39,
            34,
            79,
            45,
            81,
            66,
            67,
            74,
            44,
            86,
            63,
            55,
            53,
            77,
            89,
            57,
            80,
            68,
            77,
            82,
            84,
            37,
            74,
            79,
            55,
            54,
            55,
            61,
            43,
            73,
            84,
            68,
            100,
            67,
            67,
            49,
            67,
            60,
            62,
            78,
            53,
            53,
            51,
            73,
            88,
            68,
            52,
            67,
            76,
            66,
            52,
            83,
            62,
            55,
            69,
            56,
            77,
            41,
            71,
            62,
            80,
            79,
            28,
            51,
            91,
            83,
            77,
            56,
            85,
            80,
            50,
            72,
            64,
            43,
            87,
            82,
            75,
            66,
            52,
            80,
            68,
            51,
            74,
            76,
            76,
            60,
            49,
            80,
            52,
            77,
            79,
            73,
            42,
            63,
            49,
            85,
            78,
            56,
            52,
            48,
            82,
            82,
            75,
            76,
            70,
            73,
            60,
            77,
            62,
            41,
            74,
            46,
            87,
            78,
            54,
            76,
            67,
            87,
            52,
            60,
            61,
            66,
            72,
            71,
            61,
            23,
            75,
            60,
            37,
            56,
            78,
            70,
            51,
            61,
            72,
            73,
            61,
            74,
            74,
            57,
            61,
            62,
            84,
            60,
            58,
            58,
            66,
            77,
            74,
            43,
            64,
            100,
            81,
            70,
            67,
            67,
            54,
            45,
            63,
            59,
            43,
            65,
            84,
            83,
            66,
            67,
            73,
            74,
            73,
            59,
            56,
            39,
            83,
            71,
            59,
            63,
            66,
            56,
            66,
            48,
            68,
            66,
            56,
            88,
            82,
            66,
            81,
            46,
            73,
            58,
            56,
            54,
            65,
            58,
            54,
            58,
            67,
            74,
            62,
            68,
            71,
            71,
            68,
            52,
            74,
            47,
            53,
            82,
            64,
            71,
            61,
            70,
            59,
            78,
            71,
            50,
            49,
            49,
            58,
            59,
            52,
            60,
            61,
            61,
            69,
            60,
            66,
            92,
            69,
            82,
            83,
            67,
            72,
            76,
            90,
            62,
            45,
            67,
            66,
            90,
            51,
            43,
            48,
            68,
            75,
            96,
            55,
            51,
            57,
            62,
            68,
            24,
            54,
            57,
            89,
            72,
            60,
            90,
            78,
            81,
            73,
            63,
            51,
            96,
            97,
            70,
            48,
            57,
            64,
            60,
            84,
            74,
            76,
            52,
            65,
            56,
            67,
            66,
            87,
            77,
            66,
            63,
            74,
            72,
            57,
            75,
            61,
            68,
            55,
            66,
            75,
            78,
            58,
            90,
            66,
            84,
            72,
            34,
            59,
            87,
            84,
            81,
            78,
            73,
            59,
            48,
            43,
            74,
            51,
            39,
            46,
            47,
            57,
            79,
            71,
            60,
            73,
            55,
            79,
            75,
            64,
            84,
            69,
            72,
            77,
            55,
            58,
            68,
            77,
            81,
            63,
            62,
            60,
            48,
            73,
            65,
            85,
            81,
            65,
            74,
            84,
            70,
            60,
            73,
            80,
            81,
            75,
            54,
            31,
            47,
            84,
            86,
            70,
            52,
            67,
            54,
            60,
            50,
            64,
            57,
            58,
            77,
            85,
            85,
            54,
            75,
            67,
            67,
            64,
            68,
            49,
            73,
            42,
            93,
            82,
            53,
            42,
            74,
            51,
            58,
            84,
            90,
            64,
            82,
            61,
            64,
            46,
            72,
            51,
            74,
            29,
            54,
            84,
            77,
            48,
            64,
            42,
            100,
            96,
            70,
            66,
            70,
            64,
            56,
            43,
            74,
            57,
            71,
            75,
            87,
            63,
            57,
            81,
            68,
            66,
            66,
            62,
            82,
            50,
            73,
            52,
            57,
            87,
            81,
            57,
            68,
            63,
            72,
            62,
            65,
            41,
            78,
            85,
            51,
            75,
            81,
            63,
            55
           ]
          },
          {
           "axis": {
            "matches": true
           },
           "label": "writing score",
           "values": [
            44,
            75,
            39,
            67,
            52,
            43,
            70,
            86,
            46,
            63,
            53,
            80,
            72,
            55,
            65,
            38,
            82,
            79,
            57,
            54,
            66,
            57,
            82,
            48,
            68,
            42,
            75,
            49,
            58,
            72,
            34,
            55,
            61,
            37,
            56,
            63,
            56,
            41,
            38,
            22,
            81,
            45,
            54,
            63,
            34,
            36,
            71,
            50,
            82,
            62,
            67,
            74,
            47,
            90,
            64,
            49,
            47,
            74,
            92,
            56,
            73,
            67,
            74,
            74,
            82,
            40,
            70,
            75,
            48,
            41,
            56,
            69,
            47,
            78,
            75,
            66,
            93,
            69,
            68,
            47,
            61,
            60,
            64,
            74,
            52,
            49,
            51,
            74,
            78,
            75,
            49,
            65,
            65,
            68,
            45,
            79,
            62,
            52,
            65,
            51,
            69,
            42,
            78,
            62,
            76,
            79,
            27,
            56,
            81,
            75,
            70,
            56,
            73,
            75,
            54,
            64,
            66,
            42,
            78,
            84,
            77,
            67,
            51,
            80,
            66,
            43,
            69,
            71,
            74,
            53,
            49,
            72,
            52,
            77,
            78,
            68,
            41,
            61,
            42,
            76,
            73,
            57,
            42,
            46,
            82,
            88,
            76,
            77,
            68,
            70,
            57,
            80,
            60,
            43,
            68,
            50,
            75,
            81,
            52,
            64,
            69,
            81,
            44,
            57,
            68,
            65,
            78,
            69,
            62,
            19,
            77,
            61,
            35,
            53,
            81,
            69,
            43,
            52,
            67,
            67,
            57,
            66,
            76,
            52,
            61,
            61,
            78,
            58,
            60,
            53,
            61,
            71,
            72,
            41,
            62,
            95,
            71,
            75,
            59,
            67,
            56,
            41,
            57,
            54,
            43,
            63,
            85,
            78,
            60,
            67,
            69,
            68,
            67,
            62,
            54,
            34,
            86,
            65,
            53,
            54,
            59,
            55,
            66,
            53,
            64,
            73,
            51,
            82,
            73,
            60,
            80,
            42,
            72,
            49,
            47,
            48,
            68,
            55,
            45,
            62,
            65,
            76,
            66,
            72,
            67,
            68,
            61,
            46,
            71,
            56,
            57,
            82,
            66,
            72,
            54,
            66,
            54,
            77,
            73,
            43,
            52,
            52,
            57,
            50,
            49,
            59,
            60,
            58,
            68,
            58,
            71,
            86,
            68,
            80,
            80,
            64,
            69,
            65,
            88,
            64,
            40,
            66,
            62,
            92,
            46,
            45,
            47,
            67,
            70,
            92,
            53,
            52,
            54,
            50,
            64,
            15,
            48,
            51,
            90,
            62,
            63,
            91,
            83,
            84,
            68,
            56,
            52,
            86,
            99,
            63,
            46,
            46,
            70,
            65,
            80,
            64,
            74,
            51,
            60,
            53,
            64,
            61,
            85,
            73,
            63,
            63,
            61,
            77,
            50,
            78,
            60,
            60,
            54,
            68,
            68,
            73,
            44,
            83,
            59,
            87,
            65,
            36,
            52,
            79,
            90,
            84,
            72,
            80,
            59,
            42,
            41,
            71,
            57,
            37,
            43,
            44,
            59,
            84,
            73,
            55,
            72,
            47,
            74,
            71,
            68,
            86,
            68,
            65,
            75,
            53,
            52,
            72,
            77,
            86,
            59,
            60,
            57,
            49,
            74,
            60,
            82,
            79,
            61,
            69,
            77,
            70,
            54,
            68,
            73,
            74,
            69,
            51,
            36,
            49,
            76,
            87,
            76,
            51,
            58,
            53,
            58,
            45,
            57,
            53,
            51,
            76,
            84,
            85,
            50,
            69,
            67,
            61,
            55,
            65,
            46,
            72,
            38,
            91,
            88,
            52,
            41,
            72,
            51,
            47,
            78,
            82,
            66,
            84,
            54,
            66,
            44,
            59,
            48,
            75,
            27,
            63,
            89,
            77,
            51,
            70,
            48,
            100,
            91,
            67,
            66,
            69,
            60,
            52,
            44,
            70,
            62,
            73,
            74,
            90,
            58,
            53,
            85,
            69,
            72,
            64,
            61,
            80,
            52,
            71,
            54,
            62,
            81,
            71,
            58,
            64,
            60,
            69,
            60,
            58,
            48,
            78,
            86,
            54,
            76,
            75,
            62,
            55
           ]
          }
         ],
         "hovertemplate": "gender=male<br>%{xaxis.title.text}=%{x}<br>%{yaxis.title.text}=%{y}<extra></extra>",
         "legendgroup": "male",
         "marker": {
          "color": "#EF553B",
          "symbol": "circle"
         },
         "name": "male",
         "showlegend": true,
         "type": "splom"
        }
       ],
       "layout": {
        "dragmode": "select",
        "legend": {
         "title": {
          "text": "gender"
         },
         "tracegroupgap": 0
        },
        "margin": {
         "t": 60
        },
        "template": {
         "data": {
          "bar": [
           {
            "error_x": {
             "color": "#2a3f5f"
            },
            "error_y": {
             "color": "#2a3f5f"
            },
            "marker": {
             "line": {
              "color": "#E5ECF6",
              "width": 0.5
             }
            },
            "type": "bar"
           }
          ],
          "barpolar": [
           {
            "marker": {
             "line": {
              "color": "#E5ECF6",
              "width": 0.5
             }
            },
            "type": "barpolar"
           }
          ],
          "carpet": [
           {
            "aaxis": {
             "endlinecolor": "#2a3f5f",
             "gridcolor": "white",
             "linecolor": "white",
             "minorgridcolor": "white",
             "startlinecolor": "#2a3f5f"
            },
            "baxis": {
             "endlinecolor": "#2a3f5f",
             "gridcolor": "white",
             "linecolor": "white",
             "minorgridcolor": "white",
             "startlinecolor": "#2a3f5f"
            },
            "type": "carpet"
           }
          ],
          "choropleth": [
           {
            "colorbar": {
             "outlinewidth": 0,
             "ticks": ""
            },
            "type": "choropleth"
           }
          ],
          "contour": [
           {
            "colorbar": {
             "outlinewidth": 0,
             "ticks": ""
            },
            "colorscale": [
             [
              0,
              "#0d0887"
             ],
             [
              0.1111111111111111,
              "#46039f"
             ],
             [
              0.2222222222222222,
              "#7201a8"
             ],
             [
              0.3333333333333333,
              "#9c179e"
             ],
             [
              0.4444444444444444,
              "#bd3786"
             ],
             [
              0.5555555555555556,
              "#d8576b"
             ],
             [
              0.6666666666666666,
              "#ed7953"
             ],
             [
              0.7777777777777778,
              "#fb9f3a"
             ],
             [
              0.8888888888888888,
              "#fdca26"
             ],
             [
              1,
              "#f0f921"
             ]
            ],
            "type": "contour"
           }
          ],
          "contourcarpet": [
           {
            "colorbar": {
             "outlinewidth": 0,
             "ticks": ""
            },
            "type": "contourcarpet"
           }
          ],
          "heatmap": [
           {
            "colorbar": {
             "outlinewidth": 0,
             "ticks": ""
            },
            "colorscale": [
             [
              0,
              "#0d0887"
             ],
             [
              0.1111111111111111,
              "#46039f"
             ],
             [
              0.2222222222222222,
              "#7201a8"
             ],
             [
              0.3333333333333333,
              "#9c179e"
             ],
             [
              0.4444444444444444,
              "#bd3786"
             ],
             [
              0.5555555555555556,
              "#d8576b"
             ],
             [
              0.6666666666666666,
              "#ed7953"
             ],
             [
              0.7777777777777778,
              "#fb9f3a"
             ],
             [
              0.8888888888888888,
              "#fdca26"
             ],
             [
              1,
              "#f0f921"
             ]
            ],
            "type": "heatmap"
           }
          ],
          "heatmapgl": [
           {
            "colorbar": {
             "outlinewidth": 0,
             "ticks": ""
            },
            "colorscale": [
             [
              0,
              "#0d0887"
             ],
             [
              0.1111111111111111,
              "#46039f"
             ],
             [
              0.2222222222222222,
              "#7201a8"
             ],
             [
              0.3333333333333333,
              "#9c179e"
             ],
             [
              0.4444444444444444,
              "#bd3786"
             ],
             [
              0.5555555555555556,
              "#d8576b"
             ],
             [
              0.6666666666666666,
              "#ed7953"
             ],
             [
              0.7777777777777778,
              "#fb9f3a"
             ],
             [
              0.8888888888888888,
              "#fdca26"
             ],
             [
              1,
              "#f0f921"
             ]
            ],
            "type": "heatmapgl"
           }
          ],
          "histogram": [
           {
            "marker": {
             "colorbar": {
              "outlinewidth": 0,
              "ticks": ""
             }
            },
            "type": "histogram"
           }
          ],
          "histogram2d": [
           {
            "colorbar": {
             "outlinewidth": 0,
             "ticks": ""
            },
            "colorscale": [
             [
              0,
              "#0d0887"
             ],
             [
              0.1111111111111111,
              "#46039f"
             ],
             [
              0.2222222222222222,
              "#7201a8"
             ],
             [
              0.3333333333333333,
              "#9c179e"
             ],
             [
              0.4444444444444444,
              "#bd3786"
             ],
             [
              0.5555555555555556,
              "#d8576b"
             ],
             [
              0.6666666666666666,
              "#ed7953"
             ],
             [
              0.7777777777777778,
              "#fb9f3a"
             ],
             [
              0.8888888888888888,
              "#fdca26"
             ],
             [
              1,
              "#f0f921"
             ]
            ],
            "type": "histogram2d"
           }
          ],
          "histogram2dcontour": [
           {
            "colorbar": {
             "outlinewidth": 0,
             "ticks": ""
            },
            "colorscale": [
             [
              0,
              "#0d0887"
             ],
             [
              0.1111111111111111,
              "#46039f"
             ],
             [
              0.2222222222222222,
              "#7201a8"
             ],
             [
              0.3333333333333333,
              "#9c179e"
             ],
             [
              0.4444444444444444,
              "#bd3786"
             ],
             [
              0.5555555555555556,
              "#d8576b"
             ],
             [
              0.6666666666666666,
              "#ed7953"
             ],
             [
              0.7777777777777778,
              "#fb9f3a"
             ],
             [
              0.8888888888888888,
              "#fdca26"
             ],
             [
              1,
              "#f0f921"
             ]
            ],
            "type": "histogram2dcontour"
           }
          ],
          "mesh3d": [
           {
            "colorbar": {
             "outlinewidth": 0,
             "ticks": ""
            },
            "type": "mesh3d"
           }
          ],
          "parcoords": [
           {
            "line": {
             "colorbar": {
              "outlinewidth": 0,
              "ticks": ""
             }
            },
            "type": "parcoords"
           }
          ],
          "pie": [
           {
            "automargin": true,
            "type": "pie"
           }
          ],
          "scatter": [
           {
            "marker": {
             "colorbar": {
              "outlinewidth": 0,
              "ticks": ""
             }
            },
            "type": "scatter"
           }
          ],
          "scatter3d": [
           {
            "line": {
             "colorbar": {
              "outlinewidth": 0,
              "ticks": ""
             }
            },
            "marker": {
             "colorbar": {
              "outlinewidth": 0,
              "ticks": ""
             }
            },
            "type": "scatter3d"
           }
          ],
          "scattercarpet": [
           {
            "marker": {
             "colorbar": {
              "outlinewidth": 0,
              "ticks": ""
             }
            },
            "type": "scattercarpet"
           }
          ],
          "scattergeo": [
           {
            "marker": {
             "colorbar": {
              "outlinewidth": 0,
              "ticks": ""
             }
            },
            "type": "scattergeo"
           }
          ],
          "scattergl": [
           {
            "marker": {
             "colorbar": {
              "outlinewidth": 0,
              "ticks": ""
             }
            },
            "type": "scattergl"
           }
          ],
          "scattermapbox": [
           {
            "marker": {
             "colorbar": {
              "outlinewidth": 0,
              "ticks": ""
             }
            },
            "type": "scattermapbox"
           }
          ],
          "scatterpolar": [
           {
            "marker": {
             "colorbar": {
              "outlinewidth": 0,
              "ticks": ""
             }
            },
            "type": "scatterpolar"
           }
          ],
          "scatterpolargl": [
           {
            "marker": {
             "colorbar": {
              "outlinewidth": 0,
              "ticks": ""
             }
            },
            "type": "scatterpolargl"
           }
          ],
          "scatterternary": [
           {
            "marker": {
             "colorbar": {
              "outlinewidth": 0,
              "ticks": ""
             }
            },
            "type": "scatterternary"
           }
          ],
          "surface": [
           {
            "colorbar": {
             "outlinewidth": 0,
             "ticks": ""
            },
            "colorscale": [
             [
              0,
              "#0d0887"
             ],
             [
              0.1111111111111111,
              "#46039f"
             ],
             [
              0.2222222222222222,
              "#7201a8"
             ],
             [
              0.3333333333333333,
              "#9c179e"
             ],
             [
              0.4444444444444444,
              "#bd3786"
             ],
             [
              0.5555555555555556,
              "#d8576b"
             ],
             [
              0.6666666666666666,
              "#ed7953"
             ],
             [
              0.7777777777777778,
              "#fb9f3a"
             ],
             [
              0.8888888888888888,
              "#fdca26"
             ],
             [
              1,
              "#f0f921"
             ]
            ],
            "type": "surface"
           }
          ],
          "table": [
           {
            "cells": {
             "fill": {
              "color": "#EBF0F8"
             },
             "line": {
              "color": "white"
             }
            },
            "header": {
             "fill": {
              "color": "#C8D4E3"
             },
             "line": {
              "color": "white"
             }
            },
            "type": "table"
           }
          ]
         },
         "layout": {
          "annotationdefaults": {
           "arrowcolor": "#2a3f5f",
           "arrowhead": 0,
           "arrowwidth": 1
          },
          "autotypenumbers": "strict",
          "coloraxis": {
           "colorbar": {
            "outlinewidth": 0,
            "ticks": ""
           }
          },
          "colorscale": {
           "diverging": [
            [
             0,
             "#8e0152"
            ],
            [
             0.1,
             "#c51b7d"
            ],
            [
             0.2,
             "#de77ae"
            ],
            [
             0.3,
             "#f1b6da"
            ],
            [
             0.4,
             "#fde0ef"
            ],
            [
             0.5,
             "#f7f7f7"
            ],
            [
             0.6,
             "#e6f5d0"
            ],
            [
             0.7,
             "#b8e186"
            ],
            [
             0.8,
             "#7fbc41"
            ],
            [
             0.9,
             "#4d9221"
            ],
            [
             1,
             "#276419"
            ]
           ],
           "sequential": [
            [
             0,
             "#0d0887"
            ],
            [
             0.1111111111111111,
             "#46039f"
            ],
            [
             0.2222222222222222,
             "#7201a8"
            ],
            [
             0.3333333333333333,
             "#9c179e"
            ],
            [
             0.4444444444444444,
             "#bd3786"
            ],
            [
             0.5555555555555556,
             "#d8576b"
            ],
            [
             0.6666666666666666,
             "#ed7953"
            ],
            [
             0.7777777777777778,
             "#fb9f3a"
            ],
            [
             0.8888888888888888,
             "#fdca26"
            ],
            [
             1,
             "#f0f921"
            ]
           ],
           "sequentialminus": [
            [
             0,
             "#0d0887"
            ],
            [
             0.1111111111111111,
             "#46039f"
            ],
            [
             0.2222222222222222,
             "#7201a8"
            ],
            [
             0.3333333333333333,
             "#9c179e"
            ],
            [
             0.4444444444444444,
             "#bd3786"
            ],
            [
             0.5555555555555556,
             "#d8576b"
            ],
            [
             0.6666666666666666,
             "#ed7953"
            ],
            [
             0.7777777777777778,
             "#fb9f3a"
            ],
            [
             0.8888888888888888,
             "#fdca26"
            ],
            [
             1,
             "#f0f921"
            ]
           ]
          },
          "colorway": [
           "#636efa",
           "#EF553B",
           "#00cc96",
           "#ab63fa",
           "#FFA15A",
           "#19d3f3",
           "#FF6692",
           "#B6E880",
           "#FF97FF",
           "#FECB52"
          ],
          "font": {
           "color": "#2a3f5f"
          },
          "geo": {
           "bgcolor": "white",
           "lakecolor": "white",
           "landcolor": "#E5ECF6",
           "showlakes": true,
           "showland": true,
           "subunitcolor": "white"
          },
          "hoverlabel": {
           "align": "left"
          },
          "hovermode": "closest",
          "mapbox": {
           "style": "light"
          },
          "paper_bgcolor": "white",
          "plot_bgcolor": "#E5ECF6",
          "polar": {
           "angularaxis": {
            "gridcolor": "white",
            "linecolor": "white",
            "ticks": ""
           },
           "bgcolor": "#E5ECF6",
           "radialaxis": {
            "gridcolor": "white",
            "linecolor": "white",
            "ticks": ""
           }
          },
          "scene": {
           "xaxis": {
            "backgroundcolor": "#E5ECF6",
            "gridcolor": "white",
            "gridwidth": 2,
            "linecolor": "white",
            "showbackground": true,
            "ticks": "",
            "zerolinecolor": "white"
           },
           "yaxis": {
            "backgroundcolor": "#E5ECF6",
            "gridcolor": "white",
            "gridwidth": 2,
            "linecolor": "white",
            "showbackground": true,
            "ticks": "",
            "zerolinecolor": "white"
           },
           "zaxis": {
            "backgroundcolor": "#E5ECF6",
            "gridcolor": "white",
            "gridwidth": 2,
            "linecolor": "white",
            "showbackground": true,
            "ticks": "",
            "zerolinecolor": "white"
           }
          },
          "shapedefaults": {
           "line": {
            "color": "#2a3f5f"
           }
          },
          "ternary": {
           "aaxis": {
            "gridcolor": "white",
            "linecolor": "white",
            "ticks": ""
           },
           "baxis": {
            "gridcolor": "white",
            "linecolor": "white",
            "ticks": ""
           },
           "bgcolor": "#E5ECF6",
           "caxis": {
            "gridcolor": "white",
            "linecolor": "white",
            "ticks": ""
           }
          },
          "title": {
           "x": 0.05
          },
          "xaxis": {
           "automargin": true,
           "gridcolor": "white",
           "linecolor": "white",
           "ticks": "",
           "title": {
            "standoff": 15
           },
           "zerolinecolor": "white",
           "zerolinewidth": 2
          },
          "yaxis": {
           "automargin": true,
           "gridcolor": "white",
           "linecolor": "white",
           "ticks": "",
           "title": {
            "standoff": 15
           },
           "zerolinecolor": "white",
           "zerolinewidth": 2
          }
         }
        }
       }
      },
      "text/html": [
       "<div>                            <div id=\"ce6afd29-7af1-42d3-9449-d158814cb57e\" class=\"plotly-graph-div\" style=\"height:525px; width:100%;\"></div>            <script type=\"text/javascript\">                require([\"plotly\"], function(Plotly) {                    window.PLOTLYENV=window.PLOTLYENV || {};                                    if (document.getElementById(\"ce6afd29-7af1-42d3-9449-d158814cb57e\")) {                    Plotly.newPlot(                        \"ce6afd29-7af1-42d3-9449-d158814cb57e\",                        [{\"dimensions\": [{\"axis\": {\"matches\": true}, \"label\": \"math score\", \"values\": [72, 69, 90, 71, 88, 38, 65, 50, 69, 18, 54, 65, 69, 67, 62, 69, 63, 56, 74, 50, 75, 58, 53, 50, 55, 66, 57, 71, 33, 82, 0, 69, 59, 60, 39, 58, 41, 61, 62, 47, 73, 76, 71, 58, 73, 65, 79, 63, 58, 65, 85, 58, 87, 52, 70, 77, 51, 99, 75, 78, 51, 55, 79, 88, 87, 51, 75, 59, 76, 59, 42, 22, 68, 59, 70, 66, 61, 75, 81, 96, 58, 68, 67, 79, 63, 43, 81, 46, 71, 52, 97, 46, 50, 65, 77, 66, 62, 69, 45, 78, 67, 65, 57, 74, 58, 42, 83, 34, 56, 55, 52, 45, 72, 88, 67, 64, 80, 56, 58, 65, 71, 60, 62, 64, 70, 65, 64, 44, 99, 63, 69, 88, 71, 47, 65, 85, 59, 65, 73, 70, 37, 67, 65, 67, 74, 53, 49, 73, 68, 59, 77, 56, 67, 75, 71, 43, 41, 82, 41, 83, 61, 24, 35, 61, 69, 72, 77, 52, 63, 46, 59, 61, 42, 80, 58, 52, 27, 44, 73, 45, 82, 59, 80, 85, 71, 80, 38, 38, 67, 64, 57, 62, 77, 65, 50, 85, 59, 49, 88, 54, 63, 82, 52, 70, 51, 82, 57, 47, 59, 62, 61, 47, 67, 78, 59, 73, 67, 64, 100, 65, 53, 79, 100, 71, 77, 84, 26, 77, 83, 63, 68, 59, 90, 71, 55, 52, 49, 60, 65, 64, 83, 81, 54, 54, 59, 66, 74, 94, 95, 40, 82, 86, 54, 77, 76, 74, 66, 66, 67, 91, 36, 29, 62, 68, 47, 79, 66, 51, 81, 82, 64, 92, 62, 40, 32, 55, 53, 74, 63, 63, 92, 61, 53, 50, 74, 81, 48, 53, 81, 77, 63, 73, 69, 65, 55, 44, 54, 48, 74, 92, 56, 69, 65, 54, 29, 76, 85, 40, 61, 58, 58, 65, 82, 60, 37, 35, 61, 44, 66, 75, 67, 80, 76, 74, 72, 74, 65, 59, 64, 50, 69, 68, 85, 65, 73, 62, 43, 55, 65, 50, 63, 77, 66, 69, 65, 69, 50, 73, 70, 67, 29, 94, 49, 73, 66, 77, 49, 79, 75, 59, 57, 79, 57, 63, 59, 42, 80, 98, 60, 76, 96, 76, 62, 74, 65, 73, 68, 87, 53, 53, 37, 81, 59, 50, 77, 84, 52, 53, 48, 62, 74, 58, 68, 52, 62, 49, 66, 35, 72, 46, 77, 76, 52, 32, 72, 19, 52, 48, 60, 42, 57, 70, 52, 87, 82, 73, 64, 41, 54, 72, 45, 60, 77, 85, 78, 71, 48, 56, 65, 69, 61, 74, 77, 60, 75, 66, 39, 23, 40, 59, 61, 87, 97, 65, 53, 81, 71, 70, 43, 59, 64, 71, 64, 51, 62, 93, 69, 86, 85, 50, 59, 32, 63, 65, 73, 34, 93, 67, 79, 67, 69, 52, 47, 46, 68, 44, 57, 35, 54, 65, 48, 57, 78, 58, 54, 49, 57, 75, 74, 62, 92, 45, 56, 48, 100, 65, 62, 68, 75, 89, 53, 49, 54, 64, 91, 8, 78, 74, 40, 44, 67, 65, 55, 62, 88, 59, 68, 77]}, {\"axis\": {\"matches\": true}, \"label\": \"reading score\", \"values\": [72, 90, 95, 83, 95, 60, 81, 53, 75, 32, 58, 75, 73, 69, 70, 74, 65, 72, 81, 64, 90, 73, 58, 56, 65, 71, 74, 84, 41, 85, 17, 80, 58, 72, 64, 63, 51, 74, 68, 49, 80, 83, 71, 70, 86, 72, 86, 72, 67, 67, 91, 67, 100, 76, 64, 89, 58, 100, 85, 82, 63, 69, 92, 93, 95, 49, 81, 66, 72, 62, 55, 39, 75, 70, 89, 74, 86, 88, 92, 100, 76, 83, 75, 86, 67, 51, 91, 54, 77, 70, 100, 64, 50, 69, 88, 65, 64, 84, 53, 79, 84, 81, 69, 81, 61, 62, 86, 42, 68, 65, 66, 56, 72, 95, 86, 60, 83, 52, 70, 64, 83, 70, 73, 73, 75, 81, 79, 50, 93, 75, 72, 92, 76, 53, 70, 92, 63, 86, 79, 78, 46, 89, 73, 84, 75, 71, 57, 76, 67, 64, 82, 65, 79, 86, 81, 53, 46, 90, 55, 93, 68, 38, 55, 73, 76, 80, 94, 65, 78, 58, 71, 72, 66, 90, 62, 58, 34, 64, 84, 73, 97, 70, 90, 95, 83, 86, 49, 43, 76, 73, 78, 64, 68, 74, 67, 89, 54, 65, 99, 59, 73, 80, 57, 71, 72, 93, 58, 58, 85, 67, 72, 59, 81, 81, 73, 83, 74, 85, 92, 77, 61, 89, 100, 70, 90, 87, 31, 88, 85, 69, 86, 67, 90, 76, 64, 59, 52, 75, 85, 64, 83, 88, 64, 48, 78, 69, 79, 87, 89, 59, 82, 92, 61, 97, 87, 89, 74, 78, 78, 86, 53, 41, 74, 67, 54, 88, 83, 66, 77, 95, 63, 100, 67, 48, 39, 72, 70, 75, 74, 80, 100, 71, 62, 66, 81, 91, 56, 61, 97, 79, 73, 75, 77, 76, 73, 63, 64, 66, 76, 100, 79, 77, 82, 60, 29, 78, 84, 58, 64, 63, 59, 77, 93, 68, 45, 61, 58, 51, 74, 88, 80, 92, 74, 88, 81, 79, 81, 70, 62, 53, 79, 80, 86, 70, 79, 67, 60, 71, 69, 60, 73, 85, 76, 78, 84, 77, 64, 78, 82, 72, 40, 99, 53, 76, 74, 77, 63, 89, 82, 72, 78, 81, 67, 64, 63, 61, 85, 100, 70, 94, 96, 76, 72, 90, 75, 92, 77, 89, 58, 66, 57, 84, 73, 60, 90, 95, 59, 72, 58, 62, 72, 75, 71, 67, 78, 58, 72, 44, 79, 56, 90, 85, 59, 51, 79, 38, 65, 62, 66, 52, 68, 84, 55, 94, 85, 76, 74, 45, 64, 80, 59, 72, 91, 90, 90, 87, 58, 68, 69, 86, 60, 86, 82, 64, 82, 77, 52, 44, 65, 72, 68, 85, 97, 79, 62, 86, 71, 72, 62, 72, 76, 70, 73, 51, 76, 100, 65, 85, 92, 67, 62, 34, 78, 78, 78, 48, 100, 84, 84, 75, 84, 61, 62, 61, 70, 61, 77, 53, 65, 61, 56, 58, 91, 68, 61, 58, 75, 77, 74, 69, 100, 63, 58, 54, 100, 76, 70, 76, 84, 100, 50, 65, 63, 82, 95, 24, 87, 75, 59, 45, 86, 82, 76, 72, 99, 71, 78, 86]}, {\"axis\": {\"matches\": true}, \"label\": \"writing score\", \"values\": [74, 88, 93, 78, 92, 50, 73, 58, 78, 28, 61, 70, 73, 75, 75, 74, 61, 65, 83, 59, 88, 68, 65, 54, 62, 76, 76, 87, 43, 86, 10, 71, 59, 74, 57, 73, 48, 72, 68, 50, 82, 88, 74, 67, 82, 74, 92, 70, 62, 62, 89, 72, 100, 70, 72, 98, 54, 100, 82, 79, 61, 65, 89, 93, 86, 51, 84, 67, 71, 64, 54, 33, 81, 66, 88, 78, 87, 85, 91, 100, 78, 78, 70, 81, 70, 54, 87, 58, 77, 62, 100, 66, 47, 70, 87, 69, 66, 85, 55, 76, 86, 77, 68, 76, 66, 60, 88, 39, 74, 62, 73, 54, 71, 94, 83, 74, 83, 55, 68, 62, 83, 70, 70, 68, 78, 81, 77, 51, 90, 81, 77, 95, 70, 58, 71, 93, 75, 80, 84, 78, 46, 82, 75, 81, 83, 67, 52, 80, 69, 75, 91, 63, 84, 79, 80, 53, 43, 94, 51, 95, 66, 27, 60, 63, 74, 75, 95, 69, 80, 57, 70, 70, 69, 89, 59, 58, 32, 58, 85, 70, 96, 73, 82, 100, 77, 83, 45, 43, 75, 70, 67, 64, 77, 77, 63, 95, 67, 55, 100, 62, 68, 77, 56, 74, 79, 93, 64, 67, 80, 62, 70, 50, 79, 80, 69, 76, 77, 85, 97, 74, 62, 89, 100, 76, 91, 91, 38, 85, 90, 74, 84, 61, 91, 83, 70, 56, 54, 74, 76, 70, 90, 90, 68, 52, 76, 68, 82, 92, 92, 54, 80, 87, 62, 94, 85, 84, 73, 78, 79, 84, 43, 47, 70, 73, 53, 94, 83, 62, 79, 89, 66, 97, 64, 50, 33, 79, 70, 79, 74, 80, 100, 78, 56, 64, 71, 89, 58, 68, 96, 80, 78, 80, 77, 76, 73, 62, 65, 65, 73, 99, 72, 73, 81, 63, 30, 80, 82, 54, 62, 65, 66, 74, 93, 72, 38, 54, 62, 55, 81, 85, 81, 88, 73, 90, 79, 80, 81, 65, 68, 55, 81, 76, 98, 74, 79, 67, 58, 69, 67, 60, 71, 87, 68, 76, 84, 78, 66, 76, 76, 74, 44, 100, 53, 78, 81, 73, 56, 86, 90, 70, 79, 82, 72, 67, 64, 58, 85, 99, 74, 87, 99, 74, 70, 88, 77, 84, 80, 94, 57, 73, 56, 82, 72, 59, 85, 92, 65, 64, 54, 63, 72, 77, 75, 72, 79, 55, 70, 43, 82, 57, 84, 82, 62, 44, 77, 32, 61, 60, 70, 51, 73, 81, 57, 95, 87, 78, 75, 40, 67, 83, 64, 68, 88, 92, 93, 82, 52, 70, 76, 81, 57, 89, 89, 74, 79, 73, 46, 36, 64, 68, 63, 93, 96, 81, 53, 87, 80, 76, 61, 80, 74, 70, 71, 54, 80, 95, 74, 91, 85, 73, 69, 38, 79, 82, 74, 41, 100, 84, 91, 72, 82, 66, 66, 55, 66, 52, 80, 46, 65, 71, 51, 57, 96, 61, 58, 60, 73, 83, 72, 69, 100, 59, 64, 53, 100, 75, 72, 67, 80, 100, 60, 61, 67, 77, 94, 23, 91, 82, 51, 45, 83, 78, 76, 74, 95, 65, 77, 86]}], \"hovertemplate\": \"gender=female<br>%{xaxis.title.text}=%{x}<br>%{yaxis.title.text}=%{y}<extra></extra>\", \"legendgroup\": \"female\", \"marker\": {\"color\": \"#636efa\", \"symbol\": \"circle\"}, \"name\": \"female\", \"showlegend\": true, \"type\": \"splom\"}, {\"dimensions\": [{\"axis\": {\"matches\": true}, \"label\": \"math score\", \"values\": [47, 76, 40, 64, 58, 40, 78, 88, 46, 66, 44, 74, 73, 69, 70, 40, 97, 81, 57, 55, 59, 65, 82, 53, 77, 53, 88, 52, 58, 79, 39, 62, 67, 45, 61, 63, 61, 49, 44, 30, 80, 49, 50, 72, 42, 27, 71, 43, 78, 65, 79, 68, 60, 98, 66, 62, 54, 84, 91, 63, 83, 72, 65, 82, 89, 53, 87, 74, 58, 51, 70, 71, 57, 88, 88, 73, 100, 62, 77, 54, 62, 60, 66, 82, 49, 52, 53, 72, 94, 62, 45, 65, 80, 62, 48, 76, 77, 61, 59, 55, 69, 59, 74, 82, 81, 80, 35, 60, 87, 84, 66, 61, 87, 86, 57, 68, 76, 46, 92, 83, 80, 63, 54, 84, 73, 59, 75, 85, 89, 68, 47, 80, 54, 78, 79, 76, 59, 69, 58, 88, 83, 73, 53, 45, 81, 97, 88, 77, 76, 86, 63, 78, 67, 46, 71, 40, 90, 81, 56, 80, 69, 99, 51, 66, 67, 71, 83, 63, 61, 28, 82, 71, 47, 62, 90, 76, 49, 58, 67, 79, 62, 75, 87, 66, 63, 59, 85, 59, 49, 69, 61, 84, 74, 46, 66, 87, 79, 73, 73, 76, 57, 48, 74, 60, 53, 65, 87, 84, 71, 63, 84, 71, 74, 68, 57, 41, 86, 69, 65, 68, 64, 61, 73, 50, 75, 75, 70, 89, 79, 69, 86, 47, 81, 65, 37, 53, 72, 53, 54, 75, 72, 91, 76, 80, 76, 73, 68, 59, 70, 61, 64, 79, 68, 76, 63, 68, 55, 79, 76, 64, 62, 71, 69, 54, 53, 68, 56, 62, 73, 51, 85, 97, 75, 79, 78, 72, 79, 79, 87, 77, 53, 61, 73, 96, 48, 48, 63, 68, 71, 91, 40, 61, 58, 71, 68, 30, 53, 60, 84, 75, 69, 94, 88, 95, 65, 62, 58, 100, 100, 69, 61, 49, 67, 79, 84, 71, 86, 41, 70, 51, 77, 69, 90, 74, 73, 80, 73, 81, 52, 81, 63, 60, 62, 62, 85, 77, 53, 93, 66, 87, 62, 46, 66, 89, 93, 81, 73, 91, 55, 50, 47, 81, 68, 53, 55, 55, 67, 92, 81, 61, 80, 55, 72, 69, 69, 87, 71, 68, 79, 58, 55, 70, 69, 78, 60, 76, 58, 52, 75, 66, 94, 91, 68, 66, 89, 70, 69, 67, 76, 75, 90, 59, 51, 45, 87, 94, 61, 49, 62, 68, 64, 58, 73, 58, 64, 74, 90, 91, 64, 80, 71, 82, 62, 75, 52, 87, 39, 97, 82, 59, 61, 78, 49, 59, 82, 90, 80, 81, 57, 63, 55, 54, 44, 88, 36, 67, 85, 88, 57, 70, 50, 100, 91, 69, 72, 74, 74, 64, 46, 67, 62, 61, 70, 98, 70, 67, 85, 77, 72, 81, 61, 82, 49, 94, 58, 72, 84, 75, 72, 66, 63, 78, 60, 62, 55, 81, 79, 57, 81, 86, 63, 62]}, {\"axis\": {\"matches\": true}, \"label\": \"reading score\", \"values\": [57, 78, 43, 64, 54, 52, 72, 89, 42, 69, 54, 71, 74, 54, 70, 42, 87, 81, 56, 61, 65, 54, 84, 55, 69, 44, 78, 55, 59, 74, 39, 61, 64, 37, 58, 55, 57, 49, 41, 26, 78, 45, 47, 64, 39, 34, 79, 45, 81, 66, 67, 74, 44, 86, 63, 55, 53, 77, 89, 57, 80, 68, 77, 82, 84, 37, 74, 79, 55, 54, 55, 61, 43, 73, 84, 68, 100, 67, 67, 49, 67, 60, 62, 78, 53, 53, 51, 73, 88, 68, 52, 67, 76, 66, 52, 83, 62, 55, 69, 56, 77, 41, 71, 62, 80, 79, 28, 51, 91, 83, 77, 56, 85, 80, 50, 72, 64, 43, 87, 82, 75, 66, 52, 80, 68, 51, 74, 76, 76, 60, 49, 80, 52, 77, 79, 73, 42, 63, 49, 85, 78, 56, 52, 48, 82, 82, 75, 76, 70, 73, 60, 77, 62, 41, 74, 46, 87, 78, 54, 76, 67, 87, 52, 60, 61, 66, 72, 71, 61, 23, 75, 60, 37, 56, 78, 70, 51, 61, 72, 73, 61, 74, 74, 57, 61, 62, 84, 60, 58, 58, 66, 77, 74, 43, 64, 100, 81, 70, 67, 67, 54, 45, 63, 59, 43, 65, 84, 83, 66, 67, 73, 74, 73, 59, 56, 39, 83, 71, 59, 63, 66, 56, 66, 48, 68, 66, 56, 88, 82, 66, 81, 46, 73, 58, 56, 54, 65, 58, 54, 58, 67, 74, 62, 68, 71, 71, 68, 52, 74, 47, 53, 82, 64, 71, 61, 70, 59, 78, 71, 50, 49, 49, 58, 59, 52, 60, 61, 61, 69, 60, 66, 92, 69, 82, 83, 67, 72, 76, 90, 62, 45, 67, 66, 90, 51, 43, 48, 68, 75, 96, 55, 51, 57, 62, 68, 24, 54, 57, 89, 72, 60, 90, 78, 81, 73, 63, 51, 96, 97, 70, 48, 57, 64, 60, 84, 74, 76, 52, 65, 56, 67, 66, 87, 77, 66, 63, 74, 72, 57, 75, 61, 68, 55, 66, 75, 78, 58, 90, 66, 84, 72, 34, 59, 87, 84, 81, 78, 73, 59, 48, 43, 74, 51, 39, 46, 47, 57, 79, 71, 60, 73, 55, 79, 75, 64, 84, 69, 72, 77, 55, 58, 68, 77, 81, 63, 62, 60, 48, 73, 65, 85, 81, 65, 74, 84, 70, 60, 73, 80, 81, 75, 54, 31, 47, 84, 86, 70, 52, 67, 54, 60, 50, 64, 57, 58, 77, 85, 85, 54, 75, 67, 67, 64, 68, 49, 73, 42, 93, 82, 53, 42, 74, 51, 58, 84, 90, 64, 82, 61, 64, 46, 72, 51, 74, 29, 54, 84, 77, 48, 64, 42, 100, 96, 70, 66, 70, 64, 56, 43, 74, 57, 71, 75, 87, 63, 57, 81, 68, 66, 66, 62, 82, 50, 73, 52, 57, 87, 81, 57, 68, 63, 72, 62, 65, 41, 78, 85, 51, 75, 81, 63, 55]}, {\"axis\": {\"matches\": true}, \"label\": \"writing score\", \"values\": [44, 75, 39, 67, 52, 43, 70, 86, 46, 63, 53, 80, 72, 55, 65, 38, 82, 79, 57, 54, 66, 57, 82, 48, 68, 42, 75, 49, 58, 72, 34, 55, 61, 37, 56, 63, 56, 41, 38, 22, 81, 45, 54, 63, 34, 36, 71, 50, 82, 62, 67, 74, 47, 90, 64, 49, 47, 74, 92, 56, 73, 67, 74, 74, 82, 40, 70, 75, 48, 41, 56, 69, 47, 78, 75, 66, 93, 69, 68, 47, 61, 60, 64, 74, 52, 49, 51, 74, 78, 75, 49, 65, 65, 68, 45, 79, 62, 52, 65, 51, 69, 42, 78, 62, 76, 79, 27, 56, 81, 75, 70, 56, 73, 75, 54, 64, 66, 42, 78, 84, 77, 67, 51, 80, 66, 43, 69, 71, 74, 53, 49, 72, 52, 77, 78, 68, 41, 61, 42, 76, 73, 57, 42, 46, 82, 88, 76, 77, 68, 70, 57, 80, 60, 43, 68, 50, 75, 81, 52, 64, 69, 81, 44, 57, 68, 65, 78, 69, 62, 19, 77, 61, 35, 53, 81, 69, 43, 52, 67, 67, 57, 66, 76, 52, 61, 61, 78, 58, 60, 53, 61, 71, 72, 41, 62, 95, 71, 75, 59, 67, 56, 41, 57, 54, 43, 63, 85, 78, 60, 67, 69, 68, 67, 62, 54, 34, 86, 65, 53, 54, 59, 55, 66, 53, 64, 73, 51, 82, 73, 60, 80, 42, 72, 49, 47, 48, 68, 55, 45, 62, 65, 76, 66, 72, 67, 68, 61, 46, 71, 56, 57, 82, 66, 72, 54, 66, 54, 77, 73, 43, 52, 52, 57, 50, 49, 59, 60, 58, 68, 58, 71, 86, 68, 80, 80, 64, 69, 65, 88, 64, 40, 66, 62, 92, 46, 45, 47, 67, 70, 92, 53, 52, 54, 50, 64, 15, 48, 51, 90, 62, 63, 91, 83, 84, 68, 56, 52, 86, 99, 63, 46, 46, 70, 65, 80, 64, 74, 51, 60, 53, 64, 61, 85, 73, 63, 63, 61, 77, 50, 78, 60, 60, 54, 68, 68, 73, 44, 83, 59, 87, 65, 36, 52, 79, 90, 84, 72, 80, 59, 42, 41, 71, 57, 37, 43, 44, 59, 84, 73, 55, 72, 47, 74, 71, 68, 86, 68, 65, 75, 53, 52, 72, 77, 86, 59, 60, 57, 49, 74, 60, 82, 79, 61, 69, 77, 70, 54, 68, 73, 74, 69, 51, 36, 49, 76, 87, 76, 51, 58, 53, 58, 45, 57, 53, 51, 76, 84, 85, 50, 69, 67, 61, 55, 65, 46, 72, 38, 91, 88, 52, 41, 72, 51, 47, 78, 82, 66, 84, 54, 66, 44, 59, 48, 75, 27, 63, 89, 77, 51, 70, 48, 100, 91, 67, 66, 69, 60, 52, 44, 70, 62, 73, 74, 90, 58, 53, 85, 69, 72, 64, 61, 80, 52, 71, 54, 62, 81, 71, 58, 64, 60, 69, 60, 58, 48, 78, 86, 54, 76, 75, 62, 55]}], \"hovertemplate\": \"gender=male<br>%{xaxis.title.text}=%{x}<br>%{yaxis.title.text}=%{y}<extra></extra>\", \"legendgroup\": \"male\", \"marker\": {\"color\": \"#EF553B\", \"symbol\": \"circle\"}, \"name\": \"male\", \"showlegend\": true, \"type\": \"splom\"}],                        {\"dragmode\": \"select\", \"legend\": {\"title\": {\"text\": \"gender\"}, \"tracegroupgap\": 0}, \"margin\": {\"t\": 60}, \"template\": {\"data\": {\"bar\": [{\"error_x\": {\"color\": \"#2a3f5f\"}, \"error_y\": {\"color\": \"#2a3f5f\"}, \"marker\": {\"line\": {\"color\": \"#E5ECF6\", \"width\": 0.5}}, \"type\": \"bar\"}], \"barpolar\": [{\"marker\": {\"line\": {\"color\": \"#E5ECF6\", \"width\": 0.5}}, \"type\": \"barpolar\"}], \"carpet\": [{\"aaxis\": {\"endlinecolor\": \"#2a3f5f\", \"gridcolor\": \"white\", \"linecolor\": \"white\", \"minorgridcolor\": \"white\", \"startlinecolor\": \"#2a3f5f\"}, \"baxis\": {\"endlinecolor\": \"#2a3f5f\", \"gridcolor\": \"white\", \"linecolor\": \"white\", \"minorgridcolor\": \"white\", \"startlinecolor\": \"#2a3f5f\"}, \"type\": \"carpet\"}], \"choropleth\": [{\"colorbar\": {\"outlinewidth\": 0, \"ticks\": \"\"}, \"type\": \"choropleth\"}], \"contour\": [{\"colorbar\": {\"outlinewidth\": 0, \"ticks\": \"\"}, \"colorscale\": [[0.0, \"#0d0887\"], [0.1111111111111111, \"#46039f\"], [0.2222222222222222, \"#7201a8\"], [0.3333333333333333, \"#9c179e\"], [0.4444444444444444, \"#bd3786\"], [0.5555555555555556, \"#d8576b\"], [0.6666666666666666, \"#ed7953\"], [0.7777777777777778, \"#fb9f3a\"], [0.8888888888888888, \"#fdca26\"], [1.0, \"#f0f921\"]], \"type\": \"contour\"}], \"contourcarpet\": [{\"colorbar\": {\"outlinewidth\": 0, \"ticks\": \"\"}, \"type\": \"contourcarpet\"}], \"heatmap\": [{\"colorbar\": {\"outlinewidth\": 0, \"ticks\": \"\"}, \"colorscale\": [[0.0, \"#0d0887\"], [0.1111111111111111, \"#46039f\"], [0.2222222222222222, \"#7201a8\"], [0.3333333333333333, \"#9c179e\"], [0.4444444444444444, \"#bd3786\"], [0.5555555555555556, \"#d8576b\"], [0.6666666666666666, \"#ed7953\"], [0.7777777777777778, \"#fb9f3a\"], [0.8888888888888888, \"#fdca26\"], [1.0, \"#f0f921\"]], \"type\": \"heatmap\"}], \"heatmapgl\": [{\"colorbar\": {\"outlinewidth\": 0, \"ticks\": \"\"}, \"colorscale\": [[0.0, \"#0d0887\"], [0.1111111111111111, \"#46039f\"], [0.2222222222222222, \"#7201a8\"], [0.3333333333333333, \"#9c179e\"], [0.4444444444444444, \"#bd3786\"], [0.5555555555555556, \"#d8576b\"], [0.6666666666666666, \"#ed7953\"], [0.7777777777777778, \"#fb9f3a\"], [0.8888888888888888, \"#fdca26\"], [1.0, \"#f0f921\"]], \"type\": \"heatmapgl\"}], \"histogram\": [{\"marker\": {\"colorbar\": {\"outlinewidth\": 0, \"ticks\": \"\"}}, \"type\": \"histogram\"}], \"histogram2d\": [{\"colorbar\": {\"outlinewidth\": 0, \"ticks\": \"\"}, \"colorscale\": [[0.0, \"#0d0887\"], [0.1111111111111111, \"#46039f\"], [0.2222222222222222, \"#7201a8\"], [0.3333333333333333, \"#9c179e\"], [0.4444444444444444, \"#bd3786\"], [0.5555555555555556, \"#d8576b\"], [0.6666666666666666, \"#ed7953\"], [0.7777777777777778, \"#fb9f3a\"], [0.8888888888888888, \"#fdca26\"], [1.0, \"#f0f921\"]], \"type\": \"histogram2d\"}], \"histogram2dcontour\": [{\"colorbar\": {\"outlinewidth\": 0, \"ticks\": \"\"}, \"colorscale\": [[0.0, \"#0d0887\"], [0.1111111111111111, \"#46039f\"], [0.2222222222222222, \"#7201a8\"], [0.3333333333333333, \"#9c179e\"], [0.4444444444444444, \"#bd3786\"], [0.5555555555555556, \"#d8576b\"], [0.6666666666666666, \"#ed7953\"], [0.7777777777777778, \"#fb9f3a\"], [0.8888888888888888, \"#fdca26\"], [1.0, \"#f0f921\"]], \"type\": \"histogram2dcontour\"}], \"mesh3d\": [{\"colorbar\": {\"outlinewidth\": 0, \"ticks\": \"\"}, \"type\": \"mesh3d\"}], \"parcoords\": [{\"line\": {\"colorbar\": {\"outlinewidth\": 0, \"ticks\": \"\"}}, \"type\": \"parcoords\"}], \"pie\": [{\"automargin\": true, \"type\": \"pie\"}], \"scatter\": [{\"marker\": {\"colorbar\": {\"outlinewidth\": 0, \"ticks\": \"\"}}, \"type\": \"scatter\"}], \"scatter3d\": [{\"line\": {\"colorbar\": {\"outlinewidth\": 0, \"ticks\": \"\"}}, \"marker\": {\"colorbar\": {\"outlinewidth\": 0, \"ticks\": \"\"}}, \"type\": \"scatter3d\"}], \"scattercarpet\": [{\"marker\": {\"colorbar\": {\"outlinewidth\": 0, \"ticks\": \"\"}}, \"type\": \"scattercarpet\"}], \"scattergeo\": [{\"marker\": {\"colorbar\": {\"outlinewidth\": 0, \"ticks\": \"\"}}, \"type\": \"scattergeo\"}], \"scattergl\": [{\"marker\": {\"colorbar\": {\"outlinewidth\": 0, \"ticks\": \"\"}}, \"type\": \"scattergl\"}], \"scattermapbox\": [{\"marker\": {\"colorbar\": {\"outlinewidth\": 0, \"ticks\": \"\"}}, \"type\": \"scattermapbox\"}], \"scatterpolar\": [{\"marker\": {\"colorbar\": {\"outlinewidth\": 0, \"ticks\": \"\"}}, \"type\": \"scatterpolar\"}], \"scatterpolargl\": [{\"marker\": {\"colorbar\": {\"outlinewidth\": 0, \"ticks\": \"\"}}, \"type\": \"scatterpolargl\"}], \"scatterternary\": [{\"marker\": {\"colorbar\": {\"outlinewidth\": 0, \"ticks\": \"\"}}, \"type\": \"scatterternary\"}], \"surface\": [{\"colorbar\": {\"outlinewidth\": 0, \"ticks\": \"\"}, \"colorscale\": [[0.0, \"#0d0887\"], [0.1111111111111111, \"#46039f\"], [0.2222222222222222, \"#7201a8\"], [0.3333333333333333, \"#9c179e\"], [0.4444444444444444, \"#bd3786\"], [0.5555555555555556, \"#d8576b\"], [0.6666666666666666, \"#ed7953\"], [0.7777777777777778, \"#fb9f3a\"], [0.8888888888888888, \"#fdca26\"], [1.0, \"#f0f921\"]], \"type\": \"surface\"}], \"table\": [{\"cells\": {\"fill\": {\"color\": \"#EBF0F8\"}, \"line\": {\"color\": \"white\"}}, \"header\": {\"fill\": {\"color\": \"#C8D4E3\"}, \"line\": {\"color\": \"white\"}}, \"type\": \"table\"}]}, \"layout\": {\"annotationdefaults\": {\"arrowcolor\": \"#2a3f5f\", \"arrowhead\": 0, \"arrowwidth\": 1}, \"autotypenumbers\": \"strict\", \"coloraxis\": {\"colorbar\": {\"outlinewidth\": 0, \"ticks\": \"\"}}, \"colorscale\": {\"diverging\": [[0, \"#8e0152\"], [0.1, \"#c51b7d\"], [0.2, \"#de77ae\"], [0.3, \"#f1b6da\"], [0.4, \"#fde0ef\"], [0.5, \"#f7f7f7\"], [0.6, \"#e6f5d0\"], [0.7, \"#b8e186\"], [0.8, \"#7fbc41\"], [0.9, \"#4d9221\"], [1, \"#276419\"]], \"sequential\": [[0.0, \"#0d0887\"], [0.1111111111111111, \"#46039f\"], [0.2222222222222222, \"#7201a8\"], [0.3333333333333333, \"#9c179e\"], [0.4444444444444444, \"#bd3786\"], [0.5555555555555556, \"#d8576b\"], [0.6666666666666666, \"#ed7953\"], [0.7777777777777778, \"#fb9f3a\"], [0.8888888888888888, \"#fdca26\"], [1.0, \"#f0f921\"]], \"sequentialminus\": [[0.0, \"#0d0887\"], [0.1111111111111111, \"#46039f\"], [0.2222222222222222, \"#7201a8\"], [0.3333333333333333, \"#9c179e\"], [0.4444444444444444, \"#bd3786\"], [0.5555555555555556, \"#d8576b\"], [0.6666666666666666, \"#ed7953\"], [0.7777777777777778, \"#fb9f3a\"], [0.8888888888888888, \"#fdca26\"], [1.0, \"#f0f921\"]]}, \"colorway\": [\"#636efa\", \"#EF553B\", \"#00cc96\", \"#ab63fa\", \"#FFA15A\", \"#19d3f3\", \"#FF6692\", \"#B6E880\", \"#FF97FF\", \"#FECB52\"], \"font\": {\"color\": \"#2a3f5f\"}, \"geo\": {\"bgcolor\": \"white\", \"lakecolor\": \"white\", \"landcolor\": \"#E5ECF6\", \"showlakes\": true, \"showland\": true, \"subunitcolor\": \"white\"}, \"hoverlabel\": {\"align\": \"left\"}, \"hovermode\": \"closest\", \"mapbox\": {\"style\": \"light\"}, \"paper_bgcolor\": \"white\", \"plot_bgcolor\": \"#E5ECF6\", \"polar\": {\"angularaxis\": {\"gridcolor\": \"white\", \"linecolor\": \"white\", \"ticks\": \"\"}, \"bgcolor\": \"#E5ECF6\", \"radialaxis\": {\"gridcolor\": \"white\", \"linecolor\": \"white\", \"ticks\": \"\"}}, \"scene\": {\"xaxis\": {\"backgroundcolor\": \"#E5ECF6\", \"gridcolor\": \"white\", \"gridwidth\": 2, \"linecolor\": \"white\", \"showbackground\": true, \"ticks\": \"\", \"zerolinecolor\": \"white\"}, \"yaxis\": {\"backgroundcolor\": \"#E5ECF6\", \"gridcolor\": \"white\", \"gridwidth\": 2, \"linecolor\": \"white\", \"showbackground\": true, \"ticks\": \"\", \"zerolinecolor\": \"white\"}, \"zaxis\": {\"backgroundcolor\": \"#E5ECF6\", \"gridcolor\": \"white\", \"gridwidth\": 2, \"linecolor\": \"white\", \"showbackground\": true, \"ticks\": \"\", \"zerolinecolor\": \"white\"}}, \"shapedefaults\": {\"line\": {\"color\": \"#2a3f5f\"}}, \"ternary\": {\"aaxis\": {\"gridcolor\": \"white\", \"linecolor\": \"white\", \"ticks\": \"\"}, \"baxis\": {\"gridcolor\": \"white\", \"linecolor\": \"white\", \"ticks\": \"\"}, \"bgcolor\": \"#E5ECF6\", \"caxis\": {\"gridcolor\": \"white\", \"linecolor\": \"white\", \"ticks\": \"\"}}, \"title\": {\"x\": 0.05}, \"xaxis\": {\"automargin\": true, \"gridcolor\": \"white\", \"linecolor\": \"white\", \"ticks\": \"\", \"title\": {\"standoff\": 15}, \"zerolinecolor\": \"white\", \"zerolinewidth\": 2}, \"yaxis\": {\"automargin\": true, \"gridcolor\": \"white\", \"linecolor\": \"white\", \"ticks\": \"\", \"title\": {\"standoff\": 15}, \"zerolinecolor\": \"white\", \"zerolinewidth\": 2}}}},                        {\"responsive\": true}                    ).then(function(){\n",
       "                            \n",
       "var gd = document.getElementById('ce6afd29-7af1-42d3-9449-d158814cb57e');\n",
       "var x = new MutationObserver(function (mutations, observer) {{\n",
       "        var display = window.getComputedStyle(gd).display;\n",
       "        if (!display || display === 'none') {{\n",
       "            console.log([gd, 'removed!']);\n",
       "            Plotly.purge(gd);\n",
       "            observer.disconnect();\n",
       "        }}\n",
       "}});\n",
       "\n",
       "// Listen for the removal of the full notebook cells\n",
       "var notebookContainer = gd.closest('#notebook-container');\n",
       "if (notebookContainer) {{\n",
       "    x.observe(notebookContainer, {childList: true});\n",
       "}}\n",
       "\n",
       "// Listen for the clearing of the current output cell\n",
       "var outputEl = gd.closest('.output');\n",
       "if (outputEl) {{\n",
       "    x.observe(outputEl, {childList: true});\n",
       "}}\n",
       "\n",
       "                        })                };                });            </script>        </div>"
      ]
     },
     "metadata": {},
     "output_type": "display_data"
    }
   ],
   "source": [
    "fig = px.scatter_matrix(df,\n",
    "    dimensions=[\"math score\", \"reading score\", \"writing score\"],color=\"gender\")\n",
    "fig.show()"
   ]
  },
  {
   "cell_type": "markdown",
   "metadata": {},
   "source": [
    "Z wykresu można odczytać predyspozycje płci z poszczególnych egzaminów, \n",
    "jak również zauważyć zależność otrzymania dobrego wyniku z egzaminu.\n",
    "\n",
    "Analizując wykres można zauważyć dużą relację pomiędzy dobrym wynikiem z części pisemnej jak i czytanej.\n",
    "\n",
    "Do sprawdzenia tej hipotezy posłużono się typem wykresu heatmap."
   ]
  },
  {
   "cell_type": "code",
   "execution_count": 47,
   "metadata": {},
   "outputs": [
    {
     "data": {
      "application/vnd.plotly.v1+json": {
       "config": {
        "plotlyServerURL": "https://plot.ly"
       },
       "data": [
        {
         "coloraxis": "coloraxis",
         "hovertemplate": "x: %{x}<br>y: %{y}<br>color: %{z}<extra></extra>",
         "name": "0",
         "type": "heatmap",
         "x": [
          "math score",
          "reading score",
          "writing score"
         ],
         "xaxis": "x",
         "y": [
          "math score",
          "reading score",
          "writing score"
         ],
         "yaxis": "y",
         "z": [
          [
           1,
           0.8175796636720533,
           0.8026420459498071
          ],
          [
           0.8175796636720533,
           1,
           0.9545980771462477
          ],
          [
           0.8026420459498071,
           0.9545980771462477,
           1
          ]
         ]
        }
       ],
       "layout": {
        "coloraxis": {
         "colorscale": [
          [
           0,
           "#440154"
          ],
          [
           0.1111111111111111,
           "#482878"
          ],
          [
           0.2222222222222222,
           "#3e4989"
          ],
          [
           0.3333333333333333,
           "#31688e"
          ],
          [
           0.4444444444444444,
           "#26828e"
          ],
          [
           0.5555555555555556,
           "#1f9e89"
          ],
          [
           0.6666666666666666,
           "#35b779"
          ],
          [
           0.7777777777777778,
           "#6ece58"
          ],
          [
           0.8888888888888888,
           "#b5de2b"
          ],
          [
           1,
           "#fde725"
          ]
         ]
        },
        "margin": {
         "t": 60
        },
        "template": {
         "data": {
          "bar": [
           {
            "error_x": {
             "color": "#2a3f5f"
            },
            "error_y": {
             "color": "#2a3f5f"
            },
            "marker": {
             "line": {
              "color": "#E5ECF6",
              "width": 0.5
             }
            },
            "type": "bar"
           }
          ],
          "barpolar": [
           {
            "marker": {
             "line": {
              "color": "#E5ECF6",
              "width": 0.5
             }
            },
            "type": "barpolar"
           }
          ],
          "carpet": [
           {
            "aaxis": {
             "endlinecolor": "#2a3f5f",
             "gridcolor": "white",
             "linecolor": "white",
             "minorgridcolor": "white",
             "startlinecolor": "#2a3f5f"
            },
            "baxis": {
             "endlinecolor": "#2a3f5f",
             "gridcolor": "white",
             "linecolor": "white",
             "minorgridcolor": "white",
             "startlinecolor": "#2a3f5f"
            },
            "type": "carpet"
           }
          ],
          "choropleth": [
           {
            "colorbar": {
             "outlinewidth": 0,
             "ticks": ""
            },
            "type": "choropleth"
           }
          ],
          "contour": [
           {
            "colorbar": {
             "outlinewidth": 0,
             "ticks": ""
            },
            "colorscale": [
             [
              0,
              "#0d0887"
             ],
             [
              0.1111111111111111,
              "#46039f"
             ],
             [
              0.2222222222222222,
              "#7201a8"
             ],
             [
              0.3333333333333333,
              "#9c179e"
             ],
             [
              0.4444444444444444,
              "#bd3786"
             ],
             [
              0.5555555555555556,
              "#d8576b"
             ],
             [
              0.6666666666666666,
              "#ed7953"
             ],
             [
              0.7777777777777778,
              "#fb9f3a"
             ],
             [
              0.8888888888888888,
              "#fdca26"
             ],
             [
              1,
              "#f0f921"
             ]
            ],
            "type": "contour"
           }
          ],
          "contourcarpet": [
           {
            "colorbar": {
             "outlinewidth": 0,
             "ticks": ""
            },
            "type": "contourcarpet"
           }
          ],
          "heatmap": [
           {
            "colorbar": {
             "outlinewidth": 0,
             "ticks": ""
            },
            "colorscale": [
             [
              0,
              "#0d0887"
             ],
             [
              0.1111111111111111,
              "#46039f"
             ],
             [
              0.2222222222222222,
              "#7201a8"
             ],
             [
              0.3333333333333333,
              "#9c179e"
             ],
             [
              0.4444444444444444,
              "#bd3786"
             ],
             [
              0.5555555555555556,
              "#d8576b"
             ],
             [
              0.6666666666666666,
              "#ed7953"
             ],
             [
              0.7777777777777778,
              "#fb9f3a"
             ],
             [
              0.8888888888888888,
              "#fdca26"
             ],
             [
              1,
              "#f0f921"
             ]
            ],
            "type": "heatmap"
           }
          ],
          "heatmapgl": [
           {
            "colorbar": {
             "outlinewidth": 0,
             "ticks": ""
            },
            "colorscale": [
             [
              0,
              "#0d0887"
             ],
             [
              0.1111111111111111,
              "#46039f"
             ],
             [
              0.2222222222222222,
              "#7201a8"
             ],
             [
              0.3333333333333333,
              "#9c179e"
             ],
             [
              0.4444444444444444,
              "#bd3786"
             ],
             [
              0.5555555555555556,
              "#d8576b"
             ],
             [
              0.6666666666666666,
              "#ed7953"
             ],
             [
              0.7777777777777778,
              "#fb9f3a"
             ],
             [
              0.8888888888888888,
              "#fdca26"
             ],
             [
              1,
              "#f0f921"
             ]
            ],
            "type": "heatmapgl"
           }
          ],
          "histogram": [
           {
            "marker": {
             "colorbar": {
              "outlinewidth": 0,
              "ticks": ""
             }
            },
            "type": "histogram"
           }
          ],
          "histogram2d": [
           {
            "colorbar": {
             "outlinewidth": 0,
             "ticks": ""
            },
            "colorscale": [
             [
              0,
              "#0d0887"
             ],
             [
              0.1111111111111111,
              "#46039f"
             ],
             [
              0.2222222222222222,
              "#7201a8"
             ],
             [
              0.3333333333333333,
              "#9c179e"
             ],
             [
              0.4444444444444444,
              "#bd3786"
             ],
             [
              0.5555555555555556,
              "#d8576b"
             ],
             [
              0.6666666666666666,
              "#ed7953"
             ],
             [
              0.7777777777777778,
              "#fb9f3a"
             ],
             [
              0.8888888888888888,
              "#fdca26"
             ],
             [
              1,
              "#f0f921"
             ]
            ],
            "type": "histogram2d"
           }
          ],
          "histogram2dcontour": [
           {
            "colorbar": {
             "outlinewidth": 0,
             "ticks": ""
            },
            "colorscale": [
             [
              0,
              "#0d0887"
             ],
             [
              0.1111111111111111,
              "#46039f"
             ],
             [
              0.2222222222222222,
              "#7201a8"
             ],
             [
              0.3333333333333333,
              "#9c179e"
             ],
             [
              0.4444444444444444,
              "#bd3786"
             ],
             [
              0.5555555555555556,
              "#d8576b"
             ],
             [
              0.6666666666666666,
              "#ed7953"
             ],
             [
              0.7777777777777778,
              "#fb9f3a"
             ],
             [
              0.8888888888888888,
              "#fdca26"
             ],
             [
              1,
              "#f0f921"
             ]
            ],
            "type": "histogram2dcontour"
           }
          ],
          "mesh3d": [
           {
            "colorbar": {
             "outlinewidth": 0,
             "ticks": ""
            },
            "type": "mesh3d"
           }
          ],
          "parcoords": [
           {
            "line": {
             "colorbar": {
              "outlinewidth": 0,
              "ticks": ""
             }
            },
            "type": "parcoords"
           }
          ],
          "pie": [
           {
            "automargin": true,
            "type": "pie"
           }
          ],
          "scatter": [
           {
            "marker": {
             "colorbar": {
              "outlinewidth": 0,
              "ticks": ""
             }
            },
            "type": "scatter"
           }
          ],
          "scatter3d": [
           {
            "line": {
             "colorbar": {
              "outlinewidth": 0,
              "ticks": ""
             }
            },
            "marker": {
             "colorbar": {
              "outlinewidth": 0,
              "ticks": ""
             }
            },
            "type": "scatter3d"
           }
          ],
          "scattercarpet": [
           {
            "marker": {
             "colorbar": {
              "outlinewidth": 0,
              "ticks": ""
             }
            },
            "type": "scattercarpet"
           }
          ],
          "scattergeo": [
           {
            "marker": {
             "colorbar": {
              "outlinewidth": 0,
              "ticks": ""
             }
            },
            "type": "scattergeo"
           }
          ],
          "scattergl": [
           {
            "marker": {
             "colorbar": {
              "outlinewidth": 0,
              "ticks": ""
             }
            },
            "type": "scattergl"
           }
          ],
          "scattermapbox": [
           {
            "marker": {
             "colorbar": {
              "outlinewidth": 0,
              "ticks": ""
             }
            },
            "type": "scattermapbox"
           }
          ],
          "scatterpolar": [
           {
            "marker": {
             "colorbar": {
              "outlinewidth": 0,
              "ticks": ""
             }
            },
            "type": "scatterpolar"
           }
          ],
          "scatterpolargl": [
           {
            "marker": {
             "colorbar": {
              "outlinewidth": 0,
              "ticks": ""
             }
            },
            "type": "scatterpolargl"
           }
          ],
          "scatterternary": [
           {
            "marker": {
             "colorbar": {
              "outlinewidth": 0,
              "ticks": ""
             }
            },
            "type": "scatterternary"
           }
          ],
          "surface": [
           {
            "colorbar": {
             "outlinewidth": 0,
             "ticks": ""
            },
            "colorscale": [
             [
              0,
              "#0d0887"
             ],
             [
              0.1111111111111111,
              "#46039f"
             ],
             [
              0.2222222222222222,
              "#7201a8"
             ],
             [
              0.3333333333333333,
              "#9c179e"
             ],
             [
              0.4444444444444444,
              "#bd3786"
             ],
             [
              0.5555555555555556,
              "#d8576b"
             ],
             [
              0.6666666666666666,
              "#ed7953"
             ],
             [
              0.7777777777777778,
              "#fb9f3a"
             ],
             [
              0.8888888888888888,
              "#fdca26"
             ],
             [
              1,
              "#f0f921"
             ]
            ],
            "type": "surface"
           }
          ],
          "table": [
           {
            "cells": {
             "fill": {
              "color": "#EBF0F8"
             },
             "line": {
              "color": "white"
             }
            },
            "header": {
             "fill": {
              "color": "#C8D4E3"
             },
             "line": {
              "color": "white"
             }
            },
            "type": "table"
           }
          ]
         },
         "layout": {
          "annotationdefaults": {
           "arrowcolor": "#2a3f5f",
           "arrowhead": 0,
           "arrowwidth": 1
          },
          "autotypenumbers": "strict",
          "coloraxis": {
           "colorbar": {
            "outlinewidth": 0,
            "ticks": ""
           }
          },
          "colorscale": {
           "diverging": [
            [
             0,
             "#8e0152"
            ],
            [
             0.1,
             "#c51b7d"
            ],
            [
             0.2,
             "#de77ae"
            ],
            [
             0.3,
             "#f1b6da"
            ],
            [
             0.4,
             "#fde0ef"
            ],
            [
             0.5,
             "#f7f7f7"
            ],
            [
             0.6,
             "#e6f5d0"
            ],
            [
             0.7,
             "#b8e186"
            ],
            [
             0.8,
             "#7fbc41"
            ],
            [
             0.9,
             "#4d9221"
            ],
            [
             1,
             "#276419"
            ]
           ],
           "sequential": [
            [
             0,
             "#0d0887"
            ],
            [
             0.1111111111111111,
             "#46039f"
            ],
            [
             0.2222222222222222,
             "#7201a8"
            ],
            [
             0.3333333333333333,
             "#9c179e"
            ],
            [
             0.4444444444444444,
             "#bd3786"
            ],
            [
             0.5555555555555556,
             "#d8576b"
            ],
            [
             0.6666666666666666,
             "#ed7953"
            ],
            [
             0.7777777777777778,
             "#fb9f3a"
            ],
            [
             0.8888888888888888,
             "#fdca26"
            ],
            [
             1,
             "#f0f921"
            ]
           ],
           "sequentialminus": [
            [
             0,
             "#0d0887"
            ],
            [
             0.1111111111111111,
             "#46039f"
            ],
            [
             0.2222222222222222,
             "#7201a8"
            ],
            [
             0.3333333333333333,
             "#9c179e"
            ],
            [
             0.4444444444444444,
             "#bd3786"
            ],
            [
             0.5555555555555556,
             "#d8576b"
            ],
            [
             0.6666666666666666,
             "#ed7953"
            ],
            [
             0.7777777777777778,
             "#fb9f3a"
            ],
            [
             0.8888888888888888,
             "#fdca26"
            ],
            [
             1,
             "#f0f921"
            ]
           ]
          },
          "colorway": [
           "#636efa",
           "#EF553B",
           "#00cc96",
           "#ab63fa",
           "#FFA15A",
           "#19d3f3",
           "#FF6692",
           "#B6E880",
           "#FF97FF",
           "#FECB52"
          ],
          "font": {
           "color": "#2a3f5f"
          },
          "geo": {
           "bgcolor": "white",
           "lakecolor": "white",
           "landcolor": "#E5ECF6",
           "showlakes": true,
           "showland": true,
           "subunitcolor": "white"
          },
          "hoverlabel": {
           "align": "left"
          },
          "hovermode": "closest",
          "mapbox": {
           "style": "light"
          },
          "paper_bgcolor": "white",
          "plot_bgcolor": "#E5ECF6",
          "polar": {
           "angularaxis": {
            "gridcolor": "white",
            "linecolor": "white",
            "ticks": ""
           },
           "bgcolor": "#E5ECF6",
           "radialaxis": {
            "gridcolor": "white",
            "linecolor": "white",
            "ticks": ""
           }
          },
          "scene": {
           "xaxis": {
            "backgroundcolor": "#E5ECF6",
            "gridcolor": "white",
            "gridwidth": 2,
            "linecolor": "white",
            "showbackground": true,
            "ticks": "",
            "zerolinecolor": "white"
           },
           "yaxis": {
            "backgroundcolor": "#E5ECF6",
            "gridcolor": "white",
            "gridwidth": 2,
            "linecolor": "white",
            "showbackground": true,
            "ticks": "",
            "zerolinecolor": "white"
           },
           "zaxis": {
            "backgroundcolor": "#E5ECF6",
            "gridcolor": "white",
            "gridwidth": 2,
            "linecolor": "white",
            "showbackground": true,
            "ticks": "",
            "zerolinecolor": "white"
           }
          },
          "shapedefaults": {
           "line": {
            "color": "#2a3f5f"
           }
          },
          "ternary": {
           "aaxis": {
            "gridcolor": "white",
            "linecolor": "white",
            "ticks": ""
           },
           "baxis": {
            "gridcolor": "white",
            "linecolor": "white",
            "ticks": ""
           },
           "bgcolor": "#E5ECF6",
           "caxis": {
            "gridcolor": "white",
            "linecolor": "white",
            "ticks": ""
           }
          },
          "title": {
           "x": 0.05
          },
          "xaxis": {
           "automargin": true,
           "gridcolor": "white",
           "linecolor": "white",
           "ticks": "",
           "title": {
            "standoff": 15
           },
           "zerolinecolor": "white",
           "zerolinewidth": 2
          },
          "yaxis": {
           "automargin": true,
           "gridcolor": "white",
           "linecolor": "white",
           "ticks": "",
           "title": {
            "standoff": 15
           },
           "zerolinecolor": "white",
           "zerolinewidth": 2
          }
         }
        },
        "xaxis": {
         "anchor": "y",
         "constrain": "domain",
         "domain": [
          0,
          1
         ],
         "scaleanchor": "y"
        },
        "yaxis": {
         "anchor": "x",
         "autorange": "reversed",
         "constrain": "domain",
         "domain": [
          0,
          1
         ]
        }
       }
      },
      "text/html": [
       "<div>                            <div id=\"9876b71a-90d1-4c50-9f1f-1cc7d35dc289\" class=\"plotly-graph-div\" style=\"height:525px; width:100%;\"></div>            <script type=\"text/javascript\">                require([\"plotly\"], function(Plotly) {                    window.PLOTLYENV=window.PLOTLYENV || {};                                    if (document.getElementById(\"9876b71a-90d1-4c50-9f1f-1cc7d35dc289\")) {                    Plotly.newPlot(                        \"9876b71a-90d1-4c50-9f1f-1cc7d35dc289\",                        [{\"coloraxis\": \"coloraxis\", \"hovertemplate\": \"x: %{x}<br>y: %{y}<br>color: %{z}<extra></extra>\", \"name\": \"0\", \"type\": \"heatmap\", \"x\": [\"math score\", \"reading score\", \"writing score\"], \"xaxis\": \"x\", \"y\": [\"math score\", \"reading score\", \"writing score\"], \"yaxis\": \"y\", \"z\": [[1.0, 0.8175796636720533, 0.8026420459498071], [0.8175796636720533, 1.0, 0.9545980771462477], [0.8026420459498071, 0.9545980771462477, 1.0]]}],                        {\"coloraxis\": {\"colorscale\": [[0.0, \"#440154\"], [0.1111111111111111, \"#482878\"], [0.2222222222222222, \"#3e4989\"], [0.3333333333333333, \"#31688e\"], [0.4444444444444444, \"#26828e\"], [0.5555555555555556, \"#1f9e89\"], [0.6666666666666666, \"#35b779\"], [0.7777777777777778, \"#6ece58\"], [0.8888888888888888, \"#b5de2b\"], [1.0, \"#fde725\"]]}, \"margin\": {\"t\": 60}, \"template\": {\"data\": {\"bar\": [{\"error_x\": {\"color\": \"#2a3f5f\"}, \"error_y\": {\"color\": \"#2a3f5f\"}, \"marker\": {\"line\": {\"color\": \"#E5ECF6\", \"width\": 0.5}}, \"type\": \"bar\"}], \"barpolar\": [{\"marker\": {\"line\": {\"color\": \"#E5ECF6\", \"width\": 0.5}}, \"type\": \"barpolar\"}], \"carpet\": [{\"aaxis\": {\"endlinecolor\": \"#2a3f5f\", \"gridcolor\": \"white\", \"linecolor\": \"white\", \"minorgridcolor\": \"white\", \"startlinecolor\": \"#2a3f5f\"}, \"baxis\": {\"endlinecolor\": \"#2a3f5f\", \"gridcolor\": \"white\", \"linecolor\": \"white\", \"minorgridcolor\": \"white\", \"startlinecolor\": \"#2a3f5f\"}, \"type\": \"carpet\"}], \"choropleth\": [{\"colorbar\": {\"outlinewidth\": 0, \"ticks\": \"\"}, \"type\": \"choropleth\"}], \"contour\": [{\"colorbar\": {\"outlinewidth\": 0, \"ticks\": \"\"}, \"colorscale\": [[0.0, \"#0d0887\"], [0.1111111111111111, \"#46039f\"], [0.2222222222222222, \"#7201a8\"], [0.3333333333333333, \"#9c179e\"], [0.4444444444444444, \"#bd3786\"], [0.5555555555555556, \"#d8576b\"], [0.6666666666666666, \"#ed7953\"], [0.7777777777777778, \"#fb9f3a\"], [0.8888888888888888, \"#fdca26\"], [1.0, \"#f0f921\"]], \"type\": \"contour\"}], \"contourcarpet\": [{\"colorbar\": {\"outlinewidth\": 0, \"ticks\": \"\"}, \"type\": \"contourcarpet\"}], \"heatmap\": [{\"colorbar\": {\"outlinewidth\": 0, \"ticks\": \"\"}, \"colorscale\": [[0.0, \"#0d0887\"], [0.1111111111111111, \"#46039f\"], [0.2222222222222222, \"#7201a8\"], [0.3333333333333333, \"#9c179e\"], [0.4444444444444444, \"#bd3786\"], [0.5555555555555556, \"#d8576b\"], [0.6666666666666666, \"#ed7953\"], [0.7777777777777778, \"#fb9f3a\"], [0.8888888888888888, \"#fdca26\"], [1.0, \"#f0f921\"]], \"type\": \"heatmap\"}], \"heatmapgl\": [{\"colorbar\": {\"outlinewidth\": 0, \"ticks\": \"\"}, \"colorscale\": [[0.0, \"#0d0887\"], [0.1111111111111111, \"#46039f\"], [0.2222222222222222, \"#7201a8\"], [0.3333333333333333, \"#9c179e\"], [0.4444444444444444, \"#bd3786\"], [0.5555555555555556, \"#d8576b\"], [0.6666666666666666, \"#ed7953\"], [0.7777777777777778, \"#fb9f3a\"], [0.8888888888888888, \"#fdca26\"], [1.0, \"#f0f921\"]], \"type\": \"heatmapgl\"}], \"histogram\": [{\"marker\": {\"colorbar\": {\"outlinewidth\": 0, \"ticks\": \"\"}}, \"type\": \"histogram\"}], \"histogram2d\": [{\"colorbar\": {\"outlinewidth\": 0, \"ticks\": \"\"}, \"colorscale\": [[0.0, \"#0d0887\"], [0.1111111111111111, \"#46039f\"], [0.2222222222222222, \"#7201a8\"], [0.3333333333333333, \"#9c179e\"], [0.4444444444444444, \"#bd3786\"], [0.5555555555555556, \"#d8576b\"], [0.6666666666666666, \"#ed7953\"], [0.7777777777777778, \"#fb9f3a\"], [0.8888888888888888, \"#fdca26\"], [1.0, \"#f0f921\"]], \"type\": \"histogram2d\"}], \"histogram2dcontour\": [{\"colorbar\": {\"outlinewidth\": 0, \"ticks\": \"\"}, \"colorscale\": [[0.0, \"#0d0887\"], [0.1111111111111111, \"#46039f\"], [0.2222222222222222, \"#7201a8\"], [0.3333333333333333, \"#9c179e\"], [0.4444444444444444, \"#bd3786\"], [0.5555555555555556, \"#d8576b\"], [0.6666666666666666, \"#ed7953\"], [0.7777777777777778, \"#fb9f3a\"], [0.8888888888888888, \"#fdca26\"], [1.0, \"#f0f921\"]], \"type\": \"histogram2dcontour\"}], \"mesh3d\": [{\"colorbar\": {\"outlinewidth\": 0, \"ticks\": \"\"}, \"type\": \"mesh3d\"}], \"parcoords\": [{\"line\": {\"colorbar\": {\"outlinewidth\": 0, \"ticks\": \"\"}}, \"type\": \"parcoords\"}], \"pie\": [{\"automargin\": true, \"type\": \"pie\"}], \"scatter\": [{\"marker\": {\"colorbar\": {\"outlinewidth\": 0, \"ticks\": \"\"}}, \"type\": \"scatter\"}], \"scatter3d\": [{\"line\": {\"colorbar\": {\"outlinewidth\": 0, \"ticks\": \"\"}}, \"marker\": {\"colorbar\": {\"outlinewidth\": 0, \"ticks\": \"\"}}, \"type\": \"scatter3d\"}], \"scattercarpet\": [{\"marker\": {\"colorbar\": {\"outlinewidth\": 0, \"ticks\": \"\"}}, \"type\": \"scattercarpet\"}], \"scattergeo\": [{\"marker\": {\"colorbar\": {\"outlinewidth\": 0, \"ticks\": \"\"}}, \"type\": \"scattergeo\"}], \"scattergl\": [{\"marker\": {\"colorbar\": {\"outlinewidth\": 0, \"ticks\": \"\"}}, \"type\": \"scattergl\"}], \"scattermapbox\": [{\"marker\": {\"colorbar\": {\"outlinewidth\": 0, \"ticks\": \"\"}}, \"type\": \"scattermapbox\"}], \"scatterpolar\": [{\"marker\": {\"colorbar\": {\"outlinewidth\": 0, \"ticks\": \"\"}}, \"type\": \"scatterpolar\"}], \"scatterpolargl\": [{\"marker\": {\"colorbar\": {\"outlinewidth\": 0, \"ticks\": \"\"}}, \"type\": \"scatterpolargl\"}], \"scatterternary\": [{\"marker\": {\"colorbar\": {\"outlinewidth\": 0, \"ticks\": \"\"}}, \"type\": \"scatterternary\"}], \"surface\": [{\"colorbar\": {\"outlinewidth\": 0, \"ticks\": \"\"}, \"colorscale\": [[0.0, \"#0d0887\"], [0.1111111111111111, \"#46039f\"], [0.2222222222222222, \"#7201a8\"], [0.3333333333333333, \"#9c179e\"], [0.4444444444444444, \"#bd3786\"], [0.5555555555555556, \"#d8576b\"], [0.6666666666666666, \"#ed7953\"], [0.7777777777777778, \"#fb9f3a\"], [0.8888888888888888, \"#fdca26\"], [1.0, \"#f0f921\"]], \"type\": \"surface\"}], \"table\": [{\"cells\": {\"fill\": {\"color\": \"#EBF0F8\"}, \"line\": {\"color\": \"white\"}}, \"header\": {\"fill\": {\"color\": \"#C8D4E3\"}, \"line\": {\"color\": \"white\"}}, \"type\": \"table\"}]}, \"layout\": {\"annotationdefaults\": {\"arrowcolor\": \"#2a3f5f\", \"arrowhead\": 0, \"arrowwidth\": 1}, \"autotypenumbers\": \"strict\", \"coloraxis\": {\"colorbar\": {\"outlinewidth\": 0, \"ticks\": \"\"}}, \"colorscale\": {\"diverging\": [[0, \"#8e0152\"], [0.1, \"#c51b7d\"], [0.2, \"#de77ae\"], [0.3, \"#f1b6da\"], [0.4, \"#fde0ef\"], [0.5, \"#f7f7f7\"], [0.6, \"#e6f5d0\"], [0.7, \"#b8e186\"], [0.8, \"#7fbc41\"], [0.9, \"#4d9221\"], [1, \"#276419\"]], \"sequential\": [[0.0, \"#0d0887\"], [0.1111111111111111, \"#46039f\"], [0.2222222222222222, \"#7201a8\"], [0.3333333333333333, \"#9c179e\"], [0.4444444444444444, \"#bd3786\"], [0.5555555555555556, \"#d8576b\"], [0.6666666666666666, \"#ed7953\"], [0.7777777777777778, \"#fb9f3a\"], [0.8888888888888888, \"#fdca26\"], [1.0, \"#f0f921\"]], \"sequentialminus\": [[0.0, \"#0d0887\"], [0.1111111111111111, \"#46039f\"], [0.2222222222222222, \"#7201a8\"], [0.3333333333333333, \"#9c179e\"], [0.4444444444444444, \"#bd3786\"], [0.5555555555555556, \"#d8576b\"], [0.6666666666666666, \"#ed7953\"], [0.7777777777777778, \"#fb9f3a\"], [0.8888888888888888, \"#fdca26\"], [1.0, \"#f0f921\"]]}, \"colorway\": [\"#636efa\", \"#EF553B\", \"#00cc96\", \"#ab63fa\", \"#FFA15A\", \"#19d3f3\", \"#FF6692\", \"#B6E880\", \"#FF97FF\", \"#FECB52\"], \"font\": {\"color\": \"#2a3f5f\"}, \"geo\": {\"bgcolor\": \"white\", \"lakecolor\": \"white\", \"landcolor\": \"#E5ECF6\", \"showlakes\": true, \"showland\": true, \"subunitcolor\": \"white\"}, \"hoverlabel\": {\"align\": \"left\"}, \"hovermode\": \"closest\", \"mapbox\": {\"style\": \"light\"}, \"paper_bgcolor\": \"white\", \"plot_bgcolor\": \"#E5ECF6\", \"polar\": {\"angularaxis\": {\"gridcolor\": \"white\", \"linecolor\": \"white\", \"ticks\": \"\"}, \"bgcolor\": \"#E5ECF6\", \"radialaxis\": {\"gridcolor\": \"white\", \"linecolor\": \"white\", \"ticks\": \"\"}}, \"scene\": {\"xaxis\": {\"backgroundcolor\": \"#E5ECF6\", \"gridcolor\": \"white\", \"gridwidth\": 2, \"linecolor\": \"white\", \"showbackground\": true, \"ticks\": \"\", \"zerolinecolor\": \"white\"}, \"yaxis\": {\"backgroundcolor\": \"#E5ECF6\", \"gridcolor\": \"white\", \"gridwidth\": 2, \"linecolor\": \"white\", \"showbackground\": true, \"ticks\": \"\", \"zerolinecolor\": \"white\"}, \"zaxis\": {\"backgroundcolor\": \"#E5ECF6\", \"gridcolor\": \"white\", \"gridwidth\": 2, \"linecolor\": \"white\", \"showbackground\": true, \"ticks\": \"\", \"zerolinecolor\": \"white\"}}, \"shapedefaults\": {\"line\": {\"color\": \"#2a3f5f\"}}, \"ternary\": {\"aaxis\": {\"gridcolor\": \"white\", \"linecolor\": \"white\", \"ticks\": \"\"}, \"baxis\": {\"gridcolor\": \"white\", \"linecolor\": \"white\", \"ticks\": \"\"}, \"bgcolor\": \"#E5ECF6\", \"caxis\": {\"gridcolor\": \"white\", \"linecolor\": \"white\", \"ticks\": \"\"}}, \"title\": {\"x\": 0.05}, \"xaxis\": {\"automargin\": true, \"gridcolor\": \"white\", \"linecolor\": \"white\", \"ticks\": \"\", \"title\": {\"standoff\": 15}, \"zerolinecolor\": \"white\", \"zerolinewidth\": 2}, \"yaxis\": {\"automargin\": true, \"gridcolor\": \"white\", \"linecolor\": \"white\", \"ticks\": \"\", \"title\": {\"standoff\": 15}, \"zerolinecolor\": \"white\", \"zerolinewidth\": 2}}}, \"xaxis\": {\"anchor\": \"y\", \"constrain\": \"domain\", \"domain\": [0.0, 1.0], \"scaleanchor\": \"y\"}, \"yaxis\": {\"anchor\": \"x\", \"autorange\": \"reversed\", \"constrain\": \"domain\", \"domain\": [0.0, 1.0]}},                        {\"responsive\": true}                    ).then(function(){\n",
       "                            \n",
       "var gd = document.getElementById('9876b71a-90d1-4c50-9f1f-1cc7d35dc289');\n",
       "var x = new MutationObserver(function (mutations, observer) {{\n",
       "        var display = window.getComputedStyle(gd).display;\n",
       "        if (!display || display === 'none') {{\n",
       "            console.log([gd, 'removed!']);\n",
       "            Plotly.purge(gd);\n",
       "            observer.disconnect();\n",
       "        }}\n",
       "}});\n",
       "\n",
       "// Listen for the removal of the full notebook cells\n",
       "var notebookContainer = gd.closest('#notebook-container');\n",
       "if (notebookContainer) {{\n",
       "    x.observe(notebookContainer, {childList: true});\n",
       "}}\n",
       "\n",
       "// Listen for the clearing of the current output cell\n",
       "var outputEl = gd.closest('.output');\n",
       "if (outputEl) {{\n",
       "    x.observe(outputEl, {childList: true});\n",
       "}}\n",
       "\n",
       "                        })                };                });            </script>        </div>"
      ]
     },
     "metadata": {},
     "output_type": "display_data"
    }
   ],
   "source": [
    "correlation = df.corr()\n",
    "fig = px.imshow(correlation,color_continuous_scale='viridis')\n",
    "fig.show()"
   ]
  },
  {
   "cell_type": "markdown",
   "metadata": {},
   "source": [
    "Z wykresu wynika, że jest duża relacja pomiędzy dobrym wynikiem z pisania oraz czytania, ponieważ współczynik korelacji wynosi 0,95.\n",
    "Zależność opisująca dobry wynik z egzaminu z matematyki odnoszący się do pozostałych dwóch egzaminów jest mniejsza i wynosi około 0,80 wartości współczynnika korelacji.\n",
    "\n",
    "Następnie sprawdzono wpływ poziomu wykształcenia rodziców na otrzymane rezulaty z egzaminów."
   ]
  },
  {
   "cell_type": "code",
   "execution_count": 48,
   "metadata": {
    "scrolled": false
   },
   "outputs": [
    {
     "data": {
      "application/vnd.plotly.v1+json": {
       "config": {
        "plotlyServerURL": "https://plot.ly"
       },
       "data": [
        {
         "hovertemplate": "parental level of education=bachelor's degree<br>writing score=%{x}<br>reading score=%{y}<extra></extra>",
         "legendgroup": "bachelor's degree",
         "marker": {
          "color": "#636efa",
          "opacity": 0.5,
          "symbol": "circle"
         },
         "mode": "markers",
         "name": "bachelor's degree",
         "orientation": "v",
         "showlegend": true,
         "type": "scatter",
         "x": [
          74,
          80,
          75,
          72,
          81,
          74,
          62,
          74,
          100,
          82,
          79,
          89,
          51,
          75,
          48,
          81,
          68,
          47,
          100,
          54,
          87,
          76,
          62,
          83,
          84,
          67,
          83,
          81,
          61,
          73,
          57,
          84,
          76,
          75,
          57,
          68,
          75,
          69,
          95,
          95,
          69,
          70,
          60,
          61,
          73,
          62,
          70,
          79,
          68,
          86,
          47,
          89,
          100,
          55,
          62,
          83,
          66,
          90,
          54,
          87,
          57,
          47,
          83,
          71,
          88,
          92,
          46,
          100,
          67,
          92,
          78,
          62,
          64,
          99,
          72,
          91,
          38,
          83,
          56,
          62,
          81,
          81,
          87,
          81,
          70,
          82,
          87,
          65,
          72,
          59,
          72,
          74,
          79,
          79,
          51,
          64,
          76,
          93,
          89,
          58,
          96,
          81,
          38,
          61,
          66,
          70,
          44,
          100,
          72,
          70,
          48,
          66,
          66,
          100,
          74,
          80,
          100,
          74
         ],
         "xaxis": "x",
         "y": [
          72,
          71,
          69,
          74,
          78,
          72,
          67,
          74,
          100,
          85,
          82,
          92,
          49,
          79,
          55,
          75,
          67,
          49,
          100,
          51,
          88,
          79,
          62,
          86,
          82,
          66,
          83,
          75,
          63,
          78,
          56,
          79,
          75,
          73,
          60,
          61,
          64,
          71,
          93,
          94,
          65,
          72,
          58,
          66,
          70,
          64,
          73,
          72,
          74,
          83,
          56,
          89,
          100,
          58,
          58,
          76,
          62,
          88,
          59,
          92,
          58,
          41,
          83,
          66,
          90,
          90,
          51,
          100,
          68,
          96,
          73,
          63,
          68,
          100,
          79,
          90,
          45,
          78,
          63,
          58,
          74,
          81,
          85,
          74,
          72,
          81,
          84,
          72,
          73,
          60,
          68,
          73,
          78,
          81,
          54,
          59,
          70,
          90,
          86,
          60,
          97,
          79,
          42,
          62,
          64,
          70,
          46,
          100,
          75,
          64,
          42,
          61,
          62,
          100,
          75,
          84,
          100,
          72
         ],
         "yaxis": "y"
        },
        {
         "hovertemplate": "parental level of education=some college<br>writing score=%{x}<br>reading score=%{y}<extra></extra>",
         "legendgroup": "some college",
         "marker": {
          "color": "#EF553B",
          "opacity": 0.5,
          "symbol": "circle"
         },
         "mode": "markers",
         "name": "some college",
         "orientation": "v",
         "showlegend": true,
         "type": "scatter",
         "x": [
          88,
          75,
          92,
          39,
          70,
          70,
          53,
          55,
          74,
          61,
          38,
          82,
          66,
          48,
          42,
          58,
          74,
          73,
          63,
          54,
          82,
          88,
          67,
          92,
          70,
          62,
          67,
          90,
          72,
          54,
          65,
          93,
          73,
          74,
          70,
          84,
          69,
          64,
          54,
          78,
          33,
          88,
          60,
          85,
          70,
          81,
          66,
          79,
          62,
          55,
          77,
          42,
          76,
          66,
          27,
          71,
          94,
          66,
          51,
          43,
          83,
          70,
          78,
          78,
          70,
          42,
          71,
          76,
          78,
          81,
          69,
          81,
          80,
          94,
          62,
          19,
          66,
          67,
          57,
          52,
          80,
          70,
          69,
          61,
          89,
          58,
          58,
          71,
          70,
          96,
          75,
          77,
          67,
          43,
          55,
          78,
          62,
          34,
          62,
          53,
          79,
          60,
          85,
          97,
          49,
          45,
          76,
          91,
          91,
          76,
          61,
          56,
          90,
          52,
          76,
          72,
          54,
          73,
          84,
          73,
          52,
          59,
          64,
          33,
          79,
          74,
          80,
          70,
          56,
          52,
          58,
          77,
          65,
          54,
          80,
          62,
          63,
          66,
          86,
          99,
          46,
          70,
          74,
          81,
          98,
          67,
          73,
          69,
          71,
          61,
          76,
          66,
          76,
          60,
          68,
          68,
          83,
          86,
          67,
          52,
          90,
          99,
          70,
          41,
          71,
          37,
          94,
          57,
          73,
          47,
          68,
          86,
          65,
          52,
          65,
          77,
          59,
          57,
          60,
          43,
          82,
          32,
          70,
          54,
          87,
          78,
          74,
          75,
          51,
          57,
          45,
          76,
          93,
          65,
          80,
          88,
          76,
          66,
          84,
          74,
          91,
          77,
          91,
          82,
          66,
          91,
          70,
          62,
          58,
          85,
          60,
          83,
          69,
          81,
          64,
          58,
          72,
          60,
          61,
          67,
          77,
          60,
          91,
          83,
          77,
          86
         ],
         "xaxis": "x",
         "y": [
          90,
          78,
          95,
          43,
          72,
          75,
          54,
          54,
          74,
          65,
          42,
          87,
          65,
          55,
          44,
          59,
          72,
          63,
          55,
          47,
          80,
          83,
          70,
          86,
          72,
          67,
          67,
          86,
          67,
          58,
          69,
          93,
          80,
          77,
          74,
          81,
          61,
          62,
          55,
          73,
          39,
          89,
          60,
          88,
          75,
          86,
          64,
          83,
          62,
          53,
          81,
          41,
          81,
          61,
          28,
          72,
          95,
          64,
          52,
          51,
          83,
          73,
          75,
          79,
          76,
          49,
          70,
          85,
          78,
          78,
          67,
          87,
          81,
          90,
          61,
          23,
          68,
          73,
          61,
          57,
          78,
          71,
          66,
          62,
          90,
          58,
          60,
          77,
          73,
          97,
          76,
          68,
          67,
          43,
          65,
          83,
          59,
          39,
          67,
          48,
          81,
          66,
          85,
          92,
          58,
          54,
          70,
          90,
          87,
          74,
          68,
          47,
          83,
          48,
          78,
          71,
          61,
          71,
          89,
          74,
          49,
          60,
          62,
          39,
          75,
          74,
          80,
          75,
          62,
          51,
          56,
          77,
          64,
          57,
          78,
          64,
          60,
          59,
          96,
          97,
          57,
          64,
          76,
          79,
          86,
          67,
          77,
          71,
          73,
          74,
          78,
          64,
          78,
          61,
          66,
          75,
          90,
          89,
          64,
          59,
          84,
          100,
          72,
          43,
          74,
          39,
          89,
          58,
          66,
          55,
          64,
          84,
          72,
          58,
          59,
          77,
          63,
          60,
          65,
          44,
          79,
          38,
          66,
          60,
          85,
          76,
          81,
          74,
          52,
          60,
          50,
          77,
          85,
          68,
          71,
          82,
          72,
          64,
          82,
          65,
          85,
          77,
          84,
          84,
          70,
          96,
          74,
          57,
          63,
          81,
          58,
          77,
          69,
          87,
          58,
          57,
          70,
          63,
          65,
          63,
          82,
          62,
          87,
          86,
          78,
          86
         ],
         "yaxis": "y"
        },
        {
         "hovertemplate": "parental level of education=master's degree<br>writing score=%{x}<br>reading score=%{y}<extra></extra>",
         "legendgroup": "master's degree",
         "marker": {
          "color": "#00cc96",
          "opacity": 0.5,
          "symbol": "circle"
         },
         "mode": "markers",
         "name": "master's degree",
         "orientation": "v",
         "showlegend": true,
         "type": "scatter",
         "x": [
          93,
          58,
          46,
          72,
          75,
          65,
          68,
          100,
          74,
          82,
          52,
          91,
          78,
          87,
          62,
          75,
          85,
          54,
          72,
          81,
          91,
          100,
          71,
          75,
          74,
          67,
          70,
          82,
          54,
          77,
          94,
          50,
          66,
          69,
          66,
          78,
          68,
          63,
          90,
          54,
          84,
          100,
          84,
          59,
          75,
          84,
          61,
          67,
          84,
          85,
          67,
          87,
          73,
          89,
          74,
          72,
          96,
          100,
          95
         ],
         "xaxis": "x",
         "y": [
          95,
          53,
          42,
          74,
          70,
          72,
          68,
          100,
          82,
          84,
          53,
          92,
          76,
          91,
          70,
          68,
          84,
          56,
          80,
          81,
          82,
          95,
          81,
          70,
          71,
          58,
          64,
          79,
          59,
          78,
          97,
          59,
          63,
          72,
          67,
          71,
          61,
          60,
          89,
          58,
          81,
          99,
          81,
          57,
          77,
          90,
          65,
          64,
          85,
          85,
          67,
          86,
          67,
          84,
          78,
          66,
          91,
          100,
          99
         ],
         "yaxis": "y"
        },
        {
         "hovertemplate": "parental level of education=associate's degree<br>writing score=%{x}<br>reading score=%{y}<extra></extra>",
         "legendgroup": "associate's degree",
         "marker": {
          "color": "#ab63fa",
          "opacity": 0.5,
          "symbol": "circle"
         },
         "mode": "markers",
         "name": "associate's degree",
         "orientation": "v",
         "showlegend": true,
         "type": "scatter",
         "x": [
          44,
          78,
          52,
          43,
          61,
          79,
          83,
          88,
          57,
          54,
          68,
          65,
          54,
          57,
          62,
          76,
          68,
          86,
          49,
          55,
          71,
          56,
          57,
          48,
          38,
          50,
          63,
          74,
          50,
          82,
          89,
          64,
          70,
          98,
          47,
          92,
          67,
          66,
          93,
          66,
          87,
          64,
          74,
          70,
          77,
          70,
          65,
          69,
          52,
          86,
          69,
          68,
          56,
          88,
          73,
          73,
          42,
          77,
          80,
          71,
          74,
          68,
          77,
          95,
          58,
          82,
          88,
          68,
          60,
          68,
          75,
          81,
          64,
          83,
          67,
          80,
          69,
          78,
          63,
          77,
          35,
          53,
          81,
          43,
          67,
          76,
          57,
          61,
          41,
          83,
          95,
          67,
          56,
          95,
          63,
          77,
          85,
          60,
          67,
          93,
          59,
          64,
          73,
          76,
          72,
          74,
          62,
          48,
          38,
          90,
          84,
          91,
          72,
          67,
          56,
          54,
          74,
          82,
          76,
          70,
          92,
          92,
          84,
          70,
          73,
          58,
          94,
          58,
          86,
          80,
          79,
          89,
          50,
          40,
          79,
          70,
          45,
          53,
          80,
          76,
          82,
          65,
          74,
          93,
          68,
          63,
          46,
          73,
          90,
          65,
          74,
          64,
          58,
          85,
          63,
          77,
          50,
          84,
          78,
          73,
          53,
          78,
          73,
          90,
          79,
          58,
          87,
          72,
          99,
          80,
          77,
          80,
          84,
          73,
          56,
          72,
          74,
          53,
          92,
          82,
          57,
          62,
          61,
          73,
          81,
          57,
          95,
          70,
          53,
          73,
          69,
          72,
          53,
          91,
          41,
          72,
          51,
          78,
          82,
          74,
          54,
          80,
          95,
          85,
          69,
          63,
          55,
          80,
          65,
          52,
          44,
          73,
          90,
          53,
          58,
          62,
          100,
          67,
          58,
          94,
          51,
          76
         ],
         "xaxis": "x",
         "y": [
          57,
          83,
          54,
          52,
          58,
          81,
          81,
          90,
          56,
          61,
          73,
          58,
          56,
          54,
          65,
          74,
          69,
          85,
          55,
          61,
          80,
          58,
          64,
          51,
          41,
          49,
          64,
          71,
          45,
          81,
          91,
          63,
          76,
          89,
          53,
          89,
          66,
          68,
          100,
          70,
          86,
          62,
          78,
          67,
          77,
          69,
          67,
          65,
          55,
          84,
          77,
          69,
          51,
          86,
          85,
          66,
          43,
          75,
          80,
          76,
          76,
          73,
          77,
          92,
          53,
          82,
          82,
          70,
          62,
          74,
          87,
          84,
          76,
          75,
          71,
          76,
          67,
          72,
          65,
          75,
          37,
          56,
          78,
          51,
          72,
          74,
          58,
          61,
          43,
          86,
          100,
          78,
          54,
          89,
          65,
          80,
          84,
          66,
          73,
          93,
          66,
          68,
          66,
          83,
          73,
          77,
          61,
          54,
          31,
          85,
          86,
          90,
          68,
          71,
          59,
          52,
          75,
          82,
          85,
          64,
          87,
          89,
          86,
          74,
          67,
          61,
          88,
          60,
          92,
          82,
          77,
          95,
          48,
          45,
          72,
          70,
          43,
          55,
          75,
          76,
          84,
          63,
          77,
          93,
          73,
          70,
          48,
          74,
          88,
          70,
          70,
          67,
          60,
          87,
          63,
          72,
          57,
          84,
          75,
          78,
          53,
          76,
          77,
          82,
          78,
          61,
          94,
          78,
          96,
          73,
          75,
          77,
          79,
          71,
          57,
          73,
          79,
          55,
          95,
          85,
          56,
          59,
          65,
          68,
          84,
          55,
          94,
          68,
          57,
          77,
          75,
          73,
          62,
          93,
          42,
          74,
          51,
          84,
          90,
          76,
          51,
          76,
          100,
          92,
          62,
          54,
          61,
          77,
          65,
          56,
          43,
          71,
          87,
          57,
          61,
          57,
          100,
          76,
          65,
          95,
          59,
          76
         ],
         "yaxis": "y"
        },
        {
         "hovertemplate": "parental level of education=high school<br>writing score=%{x}<br>reading score=%{y}<extra></extra>",
         "legendgroup": "high school",
         "marker": {
          "color": "#FFA15A",
          "opacity": 0.5,
          "symbol": "circle"
         },
         "mode": "markers",
         "name": "high school",
         "orientation": "v",
         "showlegend": true,
         "type": "scatter",
         "x": [
          67,
          50,
          73,
          86,
          63,
          65,
          76,
          82,
          75,
          43,
          45,
          34,
          36,
          71,
          47,
          49,
          74,
          56,
          86,
          56,
          47,
          78,
          49,
          51,
          78,
          74,
          58,
          47,
          65,
          51,
          76,
          60,
          81,
          39,
          70,
          74,
          54,
          66,
          55,
          68,
          62,
          53,
          52,
          90,
          68,
          77,
          75,
          42,
          46,
          80,
          50,
          52,
          65,
          84,
          79,
          43,
          61,
          52,
          63,
          74,
          75,
          66,
          59,
          53,
          64,
          41,
          63,
          100,
          62,
          56,
          69,
          54,
          64,
          70,
          55,
          51,
          80,
          80,
          42,
          68,
          65,
          85,
          74,
          68,
          46,
          71,
          68,
          66,
          66,
          79,
          49,
          43,
          68,
          62,
          68,
          64,
          64,
          47,
          64,
          71,
          89,
          73,
          73,
          15,
          73,
          30,
          51,
          72,
          54,
          52,
          65,
          85,
          64,
          81,
          51,
          80,
          60,
          68,
          55,
          76,
          67,
          68,
          78,
          74,
          60,
          54,
          44,
          59,
          36,
          79,
          74,
          42,
          84,
          55,
          82,
          71,
          64,
          63,
          72,
          77,
          60,
          49,
          70,
          82,
          60,
          69,
          51,
          70,
          40,
          69,
          49,
          83,
          68,
          82,
          58,
          89,
          74,
          57,
          79,
          46,
          36,
          50,
          68,
          63,
          46,
          52,
          47,
          71,
          59,
          48,
          27,
          41,
          51,
          52,
          67,
          46,
          66,
          69,
          71,
          57,
          64,
          61,
          80,
          73,
          71,
          54,
          59,
          71,
          60,
          48,
          23,
          54,
          75,
          62,
          55,
          65
         ],
         "xaxis": "x",
         "y": [
          64,
          60,
          81,
          89,
          69,
          70,
          71,
          84,
          78,
          41,
          45,
          39,
          34,
          79,
          44,
          55,
          77,
          57,
          95,
          55,
          43,
          74,
          53,
          51,
          83,
          73,
          54,
          50,
          76,
          56,
          80,
          62,
          91,
          42,
          77,
          68,
          50,
          68,
          52,
          70,
          64,
          60,
          52,
          93,
          73,
          72,
          63,
          52,
          48,
          77,
          46,
          57,
          66,
          79,
          86,
          46,
          60,
          61,
          73,
          76,
          80,
          74,
          62,
          58,
          64,
          45,
          67,
          99,
          59,
          57,
          73,
          56,
          58,
          72,
          56,
          56,
          81,
          81,
          46,
          65,
          67,
          88,
          69,
          71,
          52,
          74,
          64,
          64,
          70,
          78,
          52,
          53,
          69,
          66,
          69,
          67,
          67,
          48,
          66,
          81,
          91,
          73,
          76,
          24,
          77,
          29,
          57,
          68,
          61,
          51,
          60,
          88,
          74,
          80,
          52,
          79,
          65,
          62,
          53,
          80,
          69,
          76,
          77,
          72,
          68,
          55,
          58,
          66,
          34,
          87,
          76,
          48,
          92,
          60,
          84,
          75,
          72,
          62,
          72,
          75,
          62,
          48,
          72,
          85,
          62,
          74,
          52,
          70,
          45,
          75,
          47,
          80,
          72,
          87,
          67,
          82,
          64,
          64,
          82,
          52,
          44,
          54,
          72,
          68,
          49,
          53,
          58,
          73,
          72,
          51,
          29,
          48,
          48,
          61,
          70,
          53,
          66,
          70,
          61,
          58,
          66,
          68,
          82,
          75,
          73,
          52,
          63,
          81,
          50,
          41,
          24,
          51,
          81,
          63,
          55,
          71
         ],
         "yaxis": "y"
        },
        {
         "hovertemplate": "parental level of education=some high school<br>writing score=%{x}<br>reading score=%{y}<extra></extra>",
         "legendgroup": "some high school",
         "marker": {
          "color": "#19d3f3",
          "opacity": 0.5,
          "symbol": "circle"
         },
         "mode": "markers",
         "name": "some high school",
         "orientation": "v",
         "showlegend": true,
         "type": "scatter",
         "x": [
          78,
          28,
          73,
          59,
          87,
          10,
          34,
          59,
          61,
          37,
          56,
          41,
          22,
          72,
          82,
          62,
          72,
          61,
          67,
          40,
          41,
          71,
          75,
          69,
          61,
          78,
          100,
          49,
          68,
          45,
          66,
          65,
          78,
          79,
          75,
          56,
          62,
          75,
          64,
          78,
          74,
          69,
          49,
          70,
          77,
          51,
          41,
          93,
          80,
          46,
          82,
          77,
          70,
          57,
          43,
          52,
          44,
          53,
          51,
          69,
          27,
          60,
          78,
          32,
          58,
          85,
          72,
          82,
          77,
          45,
          43,
          59,
          77,
          57,
          54,
          67,
          68,
          67,
          80,
          65,
          53,
          54,
          50,
          66,
          82,
          69,
          73,
          77,
          61,
          57,
          68,
          80,
          43,
          52,
          62,
          85,
          78,
          60,
          53,
          80,
          97,
          65,
          62,
          96,
          80,
          65,
          50,
          48,
          81,
          62,
          55,
          80,
          88,
          79,
          53,
          79,
          61,
          63,
          60,
          76,
          44,
          56,
          72,
          64,
          85,
          74,
          59,
          88,
          57,
          43,
          44,
          68,
          85,
          54,
          86,
          75,
          72,
          55,
          44,
          77,
          77,
          68,
          73,
          36,
          76,
          87,
          88,
          92,
          52,
          76,
          81,
          53,
          51,
          64,
          61,
          55,
          54,
          80,
          75,
          38,
          79,
          82,
          84,
          60,
          51,
          69,
          61,
          52,
          72,
          53,
          75,
          64,
          69,
          78,
          86,
          82,
          76,
          45,
          78
         ],
         "xaxis": "x",
         "y": [
          75,
          32,
          73,
          64,
          84,
          17,
          39,
          58,
          64,
          37,
          57,
          49,
          26,
          74,
          86,
          66,
          64,
          63,
          68,
          37,
          54,
          72,
          84,
          67,
          67,
          88,
          100,
          52,
          66,
          52,
          64,
          69,
          71,
          79,
          83,
          56,
          65,
          80,
          72,
          87,
          60,
          74,
          49,
          70,
          79,
          50,
          42,
          92,
          86,
          46,
          89,
          76,
          73,
          60,
          41,
          54,
          52,
          53,
          55,
          70,
          38,
          55,
          84,
          34,
          64,
          84,
          74,
          90,
          83,
          49,
          43,
          67,
          74,
          63,
          59,
          54,
          73,
          67,
          85,
          71,
          59,
          63,
          59,
          66,
          88,
          73,
          82,
          74,
          67,
          53,
          69,
          82,
          50,
          49,
          61,
          87,
          78,
          61,
          54,
          83,
          100,
          76,
          66,
          97,
          79,
          66,
          62,
          54,
          82,
          72,
          51,
          84,
          92,
          81,
          56,
          79,
          66,
          66,
          60,
          82,
          40,
          63,
          67,
          63,
          85,
          70,
          59,
          90,
          51,
          46,
          47,
          69,
          90,
          58,
          81,
          71,
          67,
          58,
          51,
          79,
          84,
          73,
          80,
          31,
          84,
          86,
          91,
          90,
          58,
          69,
          86,
          54,
          58,
          65,
          67,
          64,
          61,
          72,
          74,
          34,
          78,
          78,
          84,
          64,
          56,
          68,
          62,
          50,
          74,
          54,
          76,
          68,
          72,
          78,
          85,
          75,
          75,
          45,
          82
         ],
         "yaxis": "y"
        }
       ],
       "layout": {
        "legend": {
         "title": {
          "text": "parental level of education"
         },
         "tracegroupgap": 0
        },
        "margin": {
         "t": 60
        },
        "template": {
         "data": {
          "bar": [
           {
            "error_x": {
             "color": "#2a3f5f"
            },
            "error_y": {
             "color": "#2a3f5f"
            },
            "marker": {
             "line": {
              "color": "#E5ECF6",
              "width": 0.5
             }
            },
            "type": "bar"
           }
          ],
          "barpolar": [
           {
            "marker": {
             "line": {
              "color": "#E5ECF6",
              "width": 0.5
             }
            },
            "type": "barpolar"
           }
          ],
          "carpet": [
           {
            "aaxis": {
             "endlinecolor": "#2a3f5f",
             "gridcolor": "white",
             "linecolor": "white",
             "minorgridcolor": "white",
             "startlinecolor": "#2a3f5f"
            },
            "baxis": {
             "endlinecolor": "#2a3f5f",
             "gridcolor": "white",
             "linecolor": "white",
             "minorgridcolor": "white",
             "startlinecolor": "#2a3f5f"
            },
            "type": "carpet"
           }
          ],
          "choropleth": [
           {
            "colorbar": {
             "outlinewidth": 0,
             "ticks": ""
            },
            "type": "choropleth"
           }
          ],
          "contour": [
           {
            "colorbar": {
             "outlinewidth": 0,
             "ticks": ""
            },
            "colorscale": [
             [
              0,
              "#0d0887"
             ],
             [
              0.1111111111111111,
              "#46039f"
             ],
             [
              0.2222222222222222,
              "#7201a8"
             ],
             [
              0.3333333333333333,
              "#9c179e"
             ],
             [
              0.4444444444444444,
              "#bd3786"
             ],
             [
              0.5555555555555556,
              "#d8576b"
             ],
             [
              0.6666666666666666,
              "#ed7953"
             ],
             [
              0.7777777777777778,
              "#fb9f3a"
             ],
             [
              0.8888888888888888,
              "#fdca26"
             ],
             [
              1,
              "#f0f921"
             ]
            ],
            "type": "contour"
           }
          ],
          "contourcarpet": [
           {
            "colorbar": {
             "outlinewidth": 0,
             "ticks": ""
            },
            "type": "contourcarpet"
           }
          ],
          "heatmap": [
           {
            "colorbar": {
             "outlinewidth": 0,
             "ticks": ""
            },
            "colorscale": [
             [
              0,
              "#0d0887"
             ],
             [
              0.1111111111111111,
              "#46039f"
             ],
             [
              0.2222222222222222,
              "#7201a8"
             ],
             [
              0.3333333333333333,
              "#9c179e"
             ],
             [
              0.4444444444444444,
              "#bd3786"
             ],
             [
              0.5555555555555556,
              "#d8576b"
             ],
             [
              0.6666666666666666,
              "#ed7953"
             ],
             [
              0.7777777777777778,
              "#fb9f3a"
             ],
             [
              0.8888888888888888,
              "#fdca26"
             ],
             [
              1,
              "#f0f921"
             ]
            ],
            "type": "heatmap"
           }
          ],
          "heatmapgl": [
           {
            "colorbar": {
             "outlinewidth": 0,
             "ticks": ""
            },
            "colorscale": [
             [
              0,
              "#0d0887"
             ],
             [
              0.1111111111111111,
              "#46039f"
             ],
             [
              0.2222222222222222,
              "#7201a8"
             ],
             [
              0.3333333333333333,
              "#9c179e"
             ],
             [
              0.4444444444444444,
              "#bd3786"
             ],
             [
              0.5555555555555556,
              "#d8576b"
             ],
             [
              0.6666666666666666,
              "#ed7953"
             ],
             [
              0.7777777777777778,
              "#fb9f3a"
             ],
             [
              0.8888888888888888,
              "#fdca26"
             ],
             [
              1,
              "#f0f921"
             ]
            ],
            "type": "heatmapgl"
           }
          ],
          "histogram": [
           {
            "marker": {
             "colorbar": {
              "outlinewidth": 0,
              "ticks": ""
             }
            },
            "type": "histogram"
           }
          ],
          "histogram2d": [
           {
            "colorbar": {
             "outlinewidth": 0,
             "ticks": ""
            },
            "colorscale": [
             [
              0,
              "#0d0887"
             ],
             [
              0.1111111111111111,
              "#46039f"
             ],
             [
              0.2222222222222222,
              "#7201a8"
             ],
             [
              0.3333333333333333,
              "#9c179e"
             ],
             [
              0.4444444444444444,
              "#bd3786"
             ],
             [
              0.5555555555555556,
              "#d8576b"
             ],
             [
              0.6666666666666666,
              "#ed7953"
             ],
             [
              0.7777777777777778,
              "#fb9f3a"
             ],
             [
              0.8888888888888888,
              "#fdca26"
             ],
             [
              1,
              "#f0f921"
             ]
            ],
            "type": "histogram2d"
           }
          ],
          "histogram2dcontour": [
           {
            "colorbar": {
             "outlinewidth": 0,
             "ticks": ""
            },
            "colorscale": [
             [
              0,
              "#0d0887"
             ],
             [
              0.1111111111111111,
              "#46039f"
             ],
             [
              0.2222222222222222,
              "#7201a8"
             ],
             [
              0.3333333333333333,
              "#9c179e"
             ],
             [
              0.4444444444444444,
              "#bd3786"
             ],
             [
              0.5555555555555556,
              "#d8576b"
             ],
             [
              0.6666666666666666,
              "#ed7953"
             ],
             [
              0.7777777777777778,
              "#fb9f3a"
             ],
             [
              0.8888888888888888,
              "#fdca26"
             ],
             [
              1,
              "#f0f921"
             ]
            ],
            "type": "histogram2dcontour"
           }
          ],
          "mesh3d": [
           {
            "colorbar": {
             "outlinewidth": 0,
             "ticks": ""
            },
            "type": "mesh3d"
           }
          ],
          "parcoords": [
           {
            "line": {
             "colorbar": {
              "outlinewidth": 0,
              "ticks": ""
             }
            },
            "type": "parcoords"
           }
          ],
          "pie": [
           {
            "automargin": true,
            "type": "pie"
           }
          ],
          "scatter": [
           {
            "marker": {
             "colorbar": {
              "outlinewidth": 0,
              "ticks": ""
             }
            },
            "type": "scatter"
           }
          ],
          "scatter3d": [
           {
            "line": {
             "colorbar": {
              "outlinewidth": 0,
              "ticks": ""
             }
            },
            "marker": {
             "colorbar": {
              "outlinewidth": 0,
              "ticks": ""
             }
            },
            "type": "scatter3d"
           }
          ],
          "scattercarpet": [
           {
            "marker": {
             "colorbar": {
              "outlinewidth": 0,
              "ticks": ""
             }
            },
            "type": "scattercarpet"
           }
          ],
          "scattergeo": [
           {
            "marker": {
             "colorbar": {
              "outlinewidth": 0,
              "ticks": ""
             }
            },
            "type": "scattergeo"
           }
          ],
          "scattergl": [
           {
            "marker": {
             "colorbar": {
              "outlinewidth": 0,
              "ticks": ""
             }
            },
            "type": "scattergl"
           }
          ],
          "scattermapbox": [
           {
            "marker": {
             "colorbar": {
              "outlinewidth": 0,
              "ticks": ""
             }
            },
            "type": "scattermapbox"
           }
          ],
          "scatterpolar": [
           {
            "marker": {
             "colorbar": {
              "outlinewidth": 0,
              "ticks": ""
             }
            },
            "type": "scatterpolar"
           }
          ],
          "scatterpolargl": [
           {
            "marker": {
             "colorbar": {
              "outlinewidth": 0,
              "ticks": ""
             }
            },
            "type": "scatterpolargl"
           }
          ],
          "scatterternary": [
           {
            "marker": {
             "colorbar": {
              "outlinewidth": 0,
              "ticks": ""
             }
            },
            "type": "scatterternary"
           }
          ],
          "surface": [
           {
            "colorbar": {
             "outlinewidth": 0,
             "ticks": ""
            },
            "colorscale": [
             [
              0,
              "#0d0887"
             ],
             [
              0.1111111111111111,
              "#46039f"
             ],
             [
              0.2222222222222222,
              "#7201a8"
             ],
             [
              0.3333333333333333,
              "#9c179e"
             ],
             [
              0.4444444444444444,
              "#bd3786"
             ],
             [
              0.5555555555555556,
              "#d8576b"
             ],
             [
              0.6666666666666666,
              "#ed7953"
             ],
             [
              0.7777777777777778,
              "#fb9f3a"
             ],
             [
              0.8888888888888888,
              "#fdca26"
             ],
             [
              1,
              "#f0f921"
             ]
            ],
            "type": "surface"
           }
          ],
          "table": [
           {
            "cells": {
             "fill": {
              "color": "#EBF0F8"
             },
             "line": {
              "color": "white"
             }
            },
            "header": {
             "fill": {
              "color": "#C8D4E3"
             },
             "line": {
              "color": "white"
             }
            },
            "type": "table"
           }
          ]
         },
         "layout": {
          "annotationdefaults": {
           "arrowcolor": "#2a3f5f",
           "arrowhead": 0,
           "arrowwidth": 1
          },
          "autotypenumbers": "strict",
          "coloraxis": {
           "colorbar": {
            "outlinewidth": 0,
            "ticks": ""
           }
          },
          "colorscale": {
           "diverging": [
            [
             0,
             "#8e0152"
            ],
            [
             0.1,
             "#c51b7d"
            ],
            [
             0.2,
             "#de77ae"
            ],
            [
             0.3,
             "#f1b6da"
            ],
            [
             0.4,
             "#fde0ef"
            ],
            [
             0.5,
             "#f7f7f7"
            ],
            [
             0.6,
             "#e6f5d0"
            ],
            [
             0.7,
             "#b8e186"
            ],
            [
             0.8,
             "#7fbc41"
            ],
            [
             0.9,
             "#4d9221"
            ],
            [
             1,
             "#276419"
            ]
           ],
           "sequential": [
            [
             0,
             "#0d0887"
            ],
            [
             0.1111111111111111,
             "#46039f"
            ],
            [
             0.2222222222222222,
             "#7201a8"
            ],
            [
             0.3333333333333333,
             "#9c179e"
            ],
            [
             0.4444444444444444,
             "#bd3786"
            ],
            [
             0.5555555555555556,
             "#d8576b"
            ],
            [
             0.6666666666666666,
             "#ed7953"
            ],
            [
             0.7777777777777778,
             "#fb9f3a"
            ],
            [
             0.8888888888888888,
             "#fdca26"
            ],
            [
             1,
             "#f0f921"
            ]
           ],
           "sequentialminus": [
            [
             0,
             "#0d0887"
            ],
            [
             0.1111111111111111,
             "#46039f"
            ],
            [
             0.2222222222222222,
             "#7201a8"
            ],
            [
             0.3333333333333333,
             "#9c179e"
            ],
            [
             0.4444444444444444,
             "#bd3786"
            ],
            [
             0.5555555555555556,
             "#d8576b"
            ],
            [
             0.6666666666666666,
             "#ed7953"
            ],
            [
             0.7777777777777778,
             "#fb9f3a"
            ],
            [
             0.8888888888888888,
             "#fdca26"
            ],
            [
             1,
             "#f0f921"
            ]
           ]
          },
          "colorway": [
           "#636efa",
           "#EF553B",
           "#00cc96",
           "#ab63fa",
           "#FFA15A",
           "#19d3f3",
           "#FF6692",
           "#B6E880",
           "#FF97FF",
           "#FECB52"
          ],
          "font": {
           "color": "#2a3f5f"
          },
          "geo": {
           "bgcolor": "white",
           "lakecolor": "white",
           "landcolor": "#E5ECF6",
           "showlakes": true,
           "showland": true,
           "subunitcolor": "white"
          },
          "hoverlabel": {
           "align": "left"
          },
          "hovermode": "closest",
          "mapbox": {
           "style": "light"
          },
          "paper_bgcolor": "white",
          "plot_bgcolor": "#E5ECF6",
          "polar": {
           "angularaxis": {
            "gridcolor": "white",
            "linecolor": "white",
            "ticks": ""
           },
           "bgcolor": "#E5ECF6",
           "radialaxis": {
            "gridcolor": "white",
            "linecolor": "white",
            "ticks": ""
           }
          },
          "scene": {
           "xaxis": {
            "backgroundcolor": "#E5ECF6",
            "gridcolor": "white",
            "gridwidth": 2,
            "linecolor": "white",
            "showbackground": true,
            "ticks": "",
            "zerolinecolor": "white"
           },
           "yaxis": {
            "backgroundcolor": "#E5ECF6",
            "gridcolor": "white",
            "gridwidth": 2,
            "linecolor": "white",
            "showbackground": true,
            "ticks": "",
            "zerolinecolor": "white"
           },
           "zaxis": {
            "backgroundcolor": "#E5ECF6",
            "gridcolor": "white",
            "gridwidth": 2,
            "linecolor": "white",
            "showbackground": true,
            "ticks": "",
            "zerolinecolor": "white"
           }
          },
          "shapedefaults": {
           "line": {
            "color": "#2a3f5f"
           }
          },
          "ternary": {
           "aaxis": {
            "gridcolor": "white",
            "linecolor": "white",
            "ticks": ""
           },
           "baxis": {
            "gridcolor": "white",
            "linecolor": "white",
            "ticks": ""
           },
           "bgcolor": "#E5ECF6",
           "caxis": {
            "gridcolor": "white",
            "linecolor": "white",
            "ticks": ""
           }
          },
          "title": {
           "x": 0.05
          },
          "xaxis": {
           "automargin": true,
           "gridcolor": "white",
           "linecolor": "white",
           "ticks": "",
           "title": {
            "standoff": 15
           },
           "zerolinecolor": "white",
           "zerolinewidth": 2
          },
          "yaxis": {
           "automargin": true,
           "gridcolor": "white",
           "linecolor": "white",
           "ticks": "",
           "title": {
            "standoff": 15
           },
           "zerolinecolor": "white",
           "zerolinewidth": 2
          }
         }
        },
        "xaxis": {
         "anchor": "y",
         "domain": [
          0,
          1
         ],
         "title": {
          "text": "writing score"
         }
        },
        "yaxis": {
         "anchor": "x",
         "domain": [
          0,
          1
         ],
         "title": {
          "text": "reading score"
         }
        }
       }
      },
      "text/html": [
       "<div>                            <div id=\"ba613ff0-2e3f-42ad-b2c3-634893c645a3\" class=\"plotly-graph-div\" style=\"height:525px; width:100%;\"></div>            <script type=\"text/javascript\">                require([\"plotly\"], function(Plotly) {                    window.PLOTLYENV=window.PLOTLYENV || {};                                    if (document.getElementById(\"ba613ff0-2e3f-42ad-b2c3-634893c645a3\")) {                    Plotly.newPlot(                        \"ba613ff0-2e3f-42ad-b2c3-634893c645a3\",                        [{\"hovertemplate\": \"parental level of education=bachelor's degree<br>writing score=%{x}<br>reading score=%{y}<extra></extra>\", \"legendgroup\": \"bachelor's degree\", \"marker\": {\"color\": \"#636efa\", \"opacity\": 0.5, \"symbol\": \"circle\"}, \"mode\": \"markers\", \"name\": \"bachelor's degree\", \"orientation\": \"v\", \"showlegend\": true, \"type\": \"scatter\", \"x\": [74, 80, 75, 72, 81, 74, 62, 74, 100, 82, 79, 89, 51, 75, 48, 81, 68, 47, 100, 54, 87, 76, 62, 83, 84, 67, 83, 81, 61, 73, 57, 84, 76, 75, 57, 68, 75, 69, 95, 95, 69, 70, 60, 61, 73, 62, 70, 79, 68, 86, 47, 89, 100, 55, 62, 83, 66, 90, 54, 87, 57, 47, 83, 71, 88, 92, 46, 100, 67, 92, 78, 62, 64, 99, 72, 91, 38, 83, 56, 62, 81, 81, 87, 81, 70, 82, 87, 65, 72, 59, 72, 74, 79, 79, 51, 64, 76, 93, 89, 58, 96, 81, 38, 61, 66, 70, 44, 100, 72, 70, 48, 66, 66, 100, 74, 80, 100, 74], \"xaxis\": \"x\", \"y\": [72, 71, 69, 74, 78, 72, 67, 74, 100, 85, 82, 92, 49, 79, 55, 75, 67, 49, 100, 51, 88, 79, 62, 86, 82, 66, 83, 75, 63, 78, 56, 79, 75, 73, 60, 61, 64, 71, 93, 94, 65, 72, 58, 66, 70, 64, 73, 72, 74, 83, 56, 89, 100, 58, 58, 76, 62, 88, 59, 92, 58, 41, 83, 66, 90, 90, 51, 100, 68, 96, 73, 63, 68, 100, 79, 90, 45, 78, 63, 58, 74, 81, 85, 74, 72, 81, 84, 72, 73, 60, 68, 73, 78, 81, 54, 59, 70, 90, 86, 60, 97, 79, 42, 62, 64, 70, 46, 100, 75, 64, 42, 61, 62, 100, 75, 84, 100, 72], \"yaxis\": \"y\"}, {\"hovertemplate\": \"parental level of education=some college<br>writing score=%{x}<br>reading score=%{y}<extra></extra>\", \"legendgroup\": \"some college\", \"marker\": {\"color\": \"#EF553B\", \"opacity\": 0.5, \"symbol\": \"circle\"}, \"mode\": \"markers\", \"name\": \"some college\", \"orientation\": \"v\", \"showlegend\": true, \"type\": \"scatter\", \"x\": [88, 75, 92, 39, 70, 70, 53, 55, 74, 61, 38, 82, 66, 48, 42, 58, 74, 73, 63, 54, 82, 88, 67, 92, 70, 62, 67, 90, 72, 54, 65, 93, 73, 74, 70, 84, 69, 64, 54, 78, 33, 88, 60, 85, 70, 81, 66, 79, 62, 55, 77, 42, 76, 66, 27, 71, 94, 66, 51, 43, 83, 70, 78, 78, 70, 42, 71, 76, 78, 81, 69, 81, 80, 94, 62, 19, 66, 67, 57, 52, 80, 70, 69, 61, 89, 58, 58, 71, 70, 96, 75, 77, 67, 43, 55, 78, 62, 34, 62, 53, 79, 60, 85, 97, 49, 45, 76, 91, 91, 76, 61, 56, 90, 52, 76, 72, 54, 73, 84, 73, 52, 59, 64, 33, 79, 74, 80, 70, 56, 52, 58, 77, 65, 54, 80, 62, 63, 66, 86, 99, 46, 70, 74, 81, 98, 67, 73, 69, 71, 61, 76, 66, 76, 60, 68, 68, 83, 86, 67, 52, 90, 99, 70, 41, 71, 37, 94, 57, 73, 47, 68, 86, 65, 52, 65, 77, 59, 57, 60, 43, 82, 32, 70, 54, 87, 78, 74, 75, 51, 57, 45, 76, 93, 65, 80, 88, 76, 66, 84, 74, 91, 77, 91, 82, 66, 91, 70, 62, 58, 85, 60, 83, 69, 81, 64, 58, 72, 60, 61, 67, 77, 60, 91, 83, 77, 86], \"xaxis\": \"x\", \"y\": [90, 78, 95, 43, 72, 75, 54, 54, 74, 65, 42, 87, 65, 55, 44, 59, 72, 63, 55, 47, 80, 83, 70, 86, 72, 67, 67, 86, 67, 58, 69, 93, 80, 77, 74, 81, 61, 62, 55, 73, 39, 89, 60, 88, 75, 86, 64, 83, 62, 53, 81, 41, 81, 61, 28, 72, 95, 64, 52, 51, 83, 73, 75, 79, 76, 49, 70, 85, 78, 78, 67, 87, 81, 90, 61, 23, 68, 73, 61, 57, 78, 71, 66, 62, 90, 58, 60, 77, 73, 97, 76, 68, 67, 43, 65, 83, 59, 39, 67, 48, 81, 66, 85, 92, 58, 54, 70, 90, 87, 74, 68, 47, 83, 48, 78, 71, 61, 71, 89, 74, 49, 60, 62, 39, 75, 74, 80, 75, 62, 51, 56, 77, 64, 57, 78, 64, 60, 59, 96, 97, 57, 64, 76, 79, 86, 67, 77, 71, 73, 74, 78, 64, 78, 61, 66, 75, 90, 89, 64, 59, 84, 100, 72, 43, 74, 39, 89, 58, 66, 55, 64, 84, 72, 58, 59, 77, 63, 60, 65, 44, 79, 38, 66, 60, 85, 76, 81, 74, 52, 60, 50, 77, 85, 68, 71, 82, 72, 64, 82, 65, 85, 77, 84, 84, 70, 96, 74, 57, 63, 81, 58, 77, 69, 87, 58, 57, 70, 63, 65, 63, 82, 62, 87, 86, 78, 86], \"yaxis\": \"y\"}, {\"hovertemplate\": \"parental level of education=master's degree<br>writing score=%{x}<br>reading score=%{y}<extra></extra>\", \"legendgroup\": \"master's degree\", \"marker\": {\"color\": \"#00cc96\", \"opacity\": 0.5, \"symbol\": \"circle\"}, \"mode\": \"markers\", \"name\": \"master's degree\", \"orientation\": \"v\", \"showlegend\": true, \"type\": \"scatter\", \"x\": [93, 58, 46, 72, 75, 65, 68, 100, 74, 82, 52, 91, 78, 87, 62, 75, 85, 54, 72, 81, 91, 100, 71, 75, 74, 67, 70, 82, 54, 77, 94, 50, 66, 69, 66, 78, 68, 63, 90, 54, 84, 100, 84, 59, 75, 84, 61, 67, 84, 85, 67, 87, 73, 89, 74, 72, 96, 100, 95], \"xaxis\": \"x\", \"y\": [95, 53, 42, 74, 70, 72, 68, 100, 82, 84, 53, 92, 76, 91, 70, 68, 84, 56, 80, 81, 82, 95, 81, 70, 71, 58, 64, 79, 59, 78, 97, 59, 63, 72, 67, 71, 61, 60, 89, 58, 81, 99, 81, 57, 77, 90, 65, 64, 85, 85, 67, 86, 67, 84, 78, 66, 91, 100, 99], \"yaxis\": \"y\"}, {\"hovertemplate\": \"parental level of education=associate's degree<br>writing score=%{x}<br>reading score=%{y}<extra></extra>\", \"legendgroup\": \"associate's degree\", \"marker\": {\"color\": \"#ab63fa\", \"opacity\": 0.5, \"symbol\": \"circle\"}, \"mode\": \"markers\", \"name\": \"associate's degree\", \"orientation\": \"v\", \"showlegend\": true, \"type\": \"scatter\", \"x\": [44, 78, 52, 43, 61, 79, 83, 88, 57, 54, 68, 65, 54, 57, 62, 76, 68, 86, 49, 55, 71, 56, 57, 48, 38, 50, 63, 74, 50, 82, 89, 64, 70, 98, 47, 92, 67, 66, 93, 66, 87, 64, 74, 70, 77, 70, 65, 69, 52, 86, 69, 68, 56, 88, 73, 73, 42, 77, 80, 71, 74, 68, 77, 95, 58, 82, 88, 68, 60, 68, 75, 81, 64, 83, 67, 80, 69, 78, 63, 77, 35, 53, 81, 43, 67, 76, 57, 61, 41, 83, 95, 67, 56, 95, 63, 77, 85, 60, 67, 93, 59, 64, 73, 76, 72, 74, 62, 48, 38, 90, 84, 91, 72, 67, 56, 54, 74, 82, 76, 70, 92, 92, 84, 70, 73, 58, 94, 58, 86, 80, 79, 89, 50, 40, 79, 70, 45, 53, 80, 76, 82, 65, 74, 93, 68, 63, 46, 73, 90, 65, 74, 64, 58, 85, 63, 77, 50, 84, 78, 73, 53, 78, 73, 90, 79, 58, 87, 72, 99, 80, 77, 80, 84, 73, 56, 72, 74, 53, 92, 82, 57, 62, 61, 73, 81, 57, 95, 70, 53, 73, 69, 72, 53, 91, 41, 72, 51, 78, 82, 74, 54, 80, 95, 85, 69, 63, 55, 80, 65, 52, 44, 73, 90, 53, 58, 62, 100, 67, 58, 94, 51, 76], \"xaxis\": \"x\", \"y\": [57, 83, 54, 52, 58, 81, 81, 90, 56, 61, 73, 58, 56, 54, 65, 74, 69, 85, 55, 61, 80, 58, 64, 51, 41, 49, 64, 71, 45, 81, 91, 63, 76, 89, 53, 89, 66, 68, 100, 70, 86, 62, 78, 67, 77, 69, 67, 65, 55, 84, 77, 69, 51, 86, 85, 66, 43, 75, 80, 76, 76, 73, 77, 92, 53, 82, 82, 70, 62, 74, 87, 84, 76, 75, 71, 76, 67, 72, 65, 75, 37, 56, 78, 51, 72, 74, 58, 61, 43, 86, 100, 78, 54, 89, 65, 80, 84, 66, 73, 93, 66, 68, 66, 83, 73, 77, 61, 54, 31, 85, 86, 90, 68, 71, 59, 52, 75, 82, 85, 64, 87, 89, 86, 74, 67, 61, 88, 60, 92, 82, 77, 95, 48, 45, 72, 70, 43, 55, 75, 76, 84, 63, 77, 93, 73, 70, 48, 74, 88, 70, 70, 67, 60, 87, 63, 72, 57, 84, 75, 78, 53, 76, 77, 82, 78, 61, 94, 78, 96, 73, 75, 77, 79, 71, 57, 73, 79, 55, 95, 85, 56, 59, 65, 68, 84, 55, 94, 68, 57, 77, 75, 73, 62, 93, 42, 74, 51, 84, 90, 76, 51, 76, 100, 92, 62, 54, 61, 77, 65, 56, 43, 71, 87, 57, 61, 57, 100, 76, 65, 95, 59, 76], \"yaxis\": \"y\"}, {\"hovertemplate\": \"parental level of education=high school<br>writing score=%{x}<br>reading score=%{y}<extra></extra>\", \"legendgroup\": \"high school\", \"marker\": {\"color\": \"#FFA15A\", \"opacity\": 0.5, \"symbol\": \"circle\"}, \"mode\": \"markers\", \"name\": \"high school\", \"orientation\": \"v\", \"showlegend\": true, \"type\": \"scatter\", \"x\": [67, 50, 73, 86, 63, 65, 76, 82, 75, 43, 45, 34, 36, 71, 47, 49, 74, 56, 86, 56, 47, 78, 49, 51, 78, 74, 58, 47, 65, 51, 76, 60, 81, 39, 70, 74, 54, 66, 55, 68, 62, 53, 52, 90, 68, 77, 75, 42, 46, 80, 50, 52, 65, 84, 79, 43, 61, 52, 63, 74, 75, 66, 59, 53, 64, 41, 63, 100, 62, 56, 69, 54, 64, 70, 55, 51, 80, 80, 42, 68, 65, 85, 74, 68, 46, 71, 68, 66, 66, 79, 49, 43, 68, 62, 68, 64, 64, 47, 64, 71, 89, 73, 73, 15, 73, 30, 51, 72, 54, 52, 65, 85, 64, 81, 51, 80, 60, 68, 55, 76, 67, 68, 78, 74, 60, 54, 44, 59, 36, 79, 74, 42, 84, 55, 82, 71, 64, 63, 72, 77, 60, 49, 70, 82, 60, 69, 51, 70, 40, 69, 49, 83, 68, 82, 58, 89, 74, 57, 79, 46, 36, 50, 68, 63, 46, 52, 47, 71, 59, 48, 27, 41, 51, 52, 67, 46, 66, 69, 71, 57, 64, 61, 80, 73, 71, 54, 59, 71, 60, 48, 23, 54, 75, 62, 55, 65], \"xaxis\": \"x\", \"y\": [64, 60, 81, 89, 69, 70, 71, 84, 78, 41, 45, 39, 34, 79, 44, 55, 77, 57, 95, 55, 43, 74, 53, 51, 83, 73, 54, 50, 76, 56, 80, 62, 91, 42, 77, 68, 50, 68, 52, 70, 64, 60, 52, 93, 73, 72, 63, 52, 48, 77, 46, 57, 66, 79, 86, 46, 60, 61, 73, 76, 80, 74, 62, 58, 64, 45, 67, 99, 59, 57, 73, 56, 58, 72, 56, 56, 81, 81, 46, 65, 67, 88, 69, 71, 52, 74, 64, 64, 70, 78, 52, 53, 69, 66, 69, 67, 67, 48, 66, 81, 91, 73, 76, 24, 77, 29, 57, 68, 61, 51, 60, 88, 74, 80, 52, 79, 65, 62, 53, 80, 69, 76, 77, 72, 68, 55, 58, 66, 34, 87, 76, 48, 92, 60, 84, 75, 72, 62, 72, 75, 62, 48, 72, 85, 62, 74, 52, 70, 45, 75, 47, 80, 72, 87, 67, 82, 64, 64, 82, 52, 44, 54, 72, 68, 49, 53, 58, 73, 72, 51, 29, 48, 48, 61, 70, 53, 66, 70, 61, 58, 66, 68, 82, 75, 73, 52, 63, 81, 50, 41, 24, 51, 81, 63, 55, 71], \"yaxis\": \"y\"}, {\"hovertemplate\": \"parental level of education=some high school<br>writing score=%{x}<br>reading score=%{y}<extra></extra>\", \"legendgroup\": \"some high school\", \"marker\": {\"color\": \"#19d3f3\", \"opacity\": 0.5, \"symbol\": \"circle\"}, \"mode\": \"markers\", \"name\": \"some high school\", \"orientation\": \"v\", \"showlegend\": true, \"type\": \"scatter\", \"x\": [78, 28, 73, 59, 87, 10, 34, 59, 61, 37, 56, 41, 22, 72, 82, 62, 72, 61, 67, 40, 41, 71, 75, 69, 61, 78, 100, 49, 68, 45, 66, 65, 78, 79, 75, 56, 62, 75, 64, 78, 74, 69, 49, 70, 77, 51, 41, 93, 80, 46, 82, 77, 70, 57, 43, 52, 44, 53, 51, 69, 27, 60, 78, 32, 58, 85, 72, 82, 77, 45, 43, 59, 77, 57, 54, 67, 68, 67, 80, 65, 53, 54, 50, 66, 82, 69, 73, 77, 61, 57, 68, 80, 43, 52, 62, 85, 78, 60, 53, 80, 97, 65, 62, 96, 80, 65, 50, 48, 81, 62, 55, 80, 88, 79, 53, 79, 61, 63, 60, 76, 44, 56, 72, 64, 85, 74, 59, 88, 57, 43, 44, 68, 85, 54, 86, 75, 72, 55, 44, 77, 77, 68, 73, 36, 76, 87, 88, 92, 52, 76, 81, 53, 51, 64, 61, 55, 54, 80, 75, 38, 79, 82, 84, 60, 51, 69, 61, 52, 72, 53, 75, 64, 69, 78, 86, 82, 76, 45, 78], \"xaxis\": \"x\", \"y\": [75, 32, 73, 64, 84, 17, 39, 58, 64, 37, 57, 49, 26, 74, 86, 66, 64, 63, 68, 37, 54, 72, 84, 67, 67, 88, 100, 52, 66, 52, 64, 69, 71, 79, 83, 56, 65, 80, 72, 87, 60, 74, 49, 70, 79, 50, 42, 92, 86, 46, 89, 76, 73, 60, 41, 54, 52, 53, 55, 70, 38, 55, 84, 34, 64, 84, 74, 90, 83, 49, 43, 67, 74, 63, 59, 54, 73, 67, 85, 71, 59, 63, 59, 66, 88, 73, 82, 74, 67, 53, 69, 82, 50, 49, 61, 87, 78, 61, 54, 83, 100, 76, 66, 97, 79, 66, 62, 54, 82, 72, 51, 84, 92, 81, 56, 79, 66, 66, 60, 82, 40, 63, 67, 63, 85, 70, 59, 90, 51, 46, 47, 69, 90, 58, 81, 71, 67, 58, 51, 79, 84, 73, 80, 31, 84, 86, 91, 90, 58, 69, 86, 54, 58, 65, 67, 64, 61, 72, 74, 34, 78, 78, 84, 64, 56, 68, 62, 50, 74, 54, 76, 68, 72, 78, 85, 75, 75, 45, 82], \"yaxis\": \"y\"}],                        {\"legend\": {\"title\": {\"text\": \"parental level of education\"}, \"tracegroupgap\": 0}, \"margin\": {\"t\": 60}, \"template\": {\"data\": {\"bar\": [{\"error_x\": {\"color\": \"#2a3f5f\"}, \"error_y\": {\"color\": \"#2a3f5f\"}, \"marker\": {\"line\": {\"color\": \"#E5ECF6\", \"width\": 0.5}}, \"type\": \"bar\"}], \"barpolar\": [{\"marker\": {\"line\": {\"color\": \"#E5ECF6\", \"width\": 0.5}}, \"type\": \"barpolar\"}], \"carpet\": [{\"aaxis\": {\"endlinecolor\": \"#2a3f5f\", \"gridcolor\": \"white\", \"linecolor\": \"white\", \"minorgridcolor\": \"white\", \"startlinecolor\": \"#2a3f5f\"}, \"baxis\": {\"endlinecolor\": \"#2a3f5f\", \"gridcolor\": \"white\", \"linecolor\": \"white\", \"minorgridcolor\": \"white\", \"startlinecolor\": \"#2a3f5f\"}, \"type\": \"carpet\"}], \"choropleth\": [{\"colorbar\": {\"outlinewidth\": 0, \"ticks\": \"\"}, \"type\": \"choropleth\"}], \"contour\": [{\"colorbar\": {\"outlinewidth\": 0, \"ticks\": \"\"}, \"colorscale\": [[0.0, \"#0d0887\"], [0.1111111111111111, \"#46039f\"], [0.2222222222222222, \"#7201a8\"], [0.3333333333333333, \"#9c179e\"], [0.4444444444444444, \"#bd3786\"], [0.5555555555555556, \"#d8576b\"], [0.6666666666666666, \"#ed7953\"], [0.7777777777777778, \"#fb9f3a\"], [0.8888888888888888, \"#fdca26\"], [1.0, \"#f0f921\"]], \"type\": \"contour\"}], \"contourcarpet\": [{\"colorbar\": {\"outlinewidth\": 0, \"ticks\": \"\"}, \"type\": \"contourcarpet\"}], \"heatmap\": [{\"colorbar\": {\"outlinewidth\": 0, \"ticks\": \"\"}, \"colorscale\": [[0.0, \"#0d0887\"], [0.1111111111111111, \"#46039f\"], [0.2222222222222222, \"#7201a8\"], [0.3333333333333333, \"#9c179e\"], [0.4444444444444444, \"#bd3786\"], [0.5555555555555556, \"#d8576b\"], [0.6666666666666666, \"#ed7953\"], [0.7777777777777778, \"#fb9f3a\"], [0.8888888888888888, \"#fdca26\"], [1.0, \"#f0f921\"]], \"type\": \"heatmap\"}], \"heatmapgl\": [{\"colorbar\": {\"outlinewidth\": 0, \"ticks\": \"\"}, \"colorscale\": [[0.0, \"#0d0887\"], [0.1111111111111111, \"#46039f\"], [0.2222222222222222, \"#7201a8\"], [0.3333333333333333, \"#9c179e\"], [0.4444444444444444, \"#bd3786\"], [0.5555555555555556, \"#d8576b\"], [0.6666666666666666, \"#ed7953\"], [0.7777777777777778, \"#fb9f3a\"], [0.8888888888888888, \"#fdca26\"], [1.0, \"#f0f921\"]], \"type\": \"heatmapgl\"}], \"histogram\": [{\"marker\": {\"colorbar\": {\"outlinewidth\": 0, \"ticks\": \"\"}}, \"type\": \"histogram\"}], \"histogram2d\": [{\"colorbar\": {\"outlinewidth\": 0, \"ticks\": \"\"}, \"colorscale\": [[0.0, \"#0d0887\"], [0.1111111111111111, \"#46039f\"], [0.2222222222222222, \"#7201a8\"], [0.3333333333333333, \"#9c179e\"], [0.4444444444444444, \"#bd3786\"], [0.5555555555555556, \"#d8576b\"], [0.6666666666666666, \"#ed7953\"], [0.7777777777777778, \"#fb9f3a\"], [0.8888888888888888, \"#fdca26\"], [1.0, \"#f0f921\"]], \"type\": \"histogram2d\"}], \"histogram2dcontour\": [{\"colorbar\": {\"outlinewidth\": 0, \"ticks\": \"\"}, \"colorscale\": [[0.0, \"#0d0887\"], [0.1111111111111111, \"#46039f\"], [0.2222222222222222, \"#7201a8\"], [0.3333333333333333, \"#9c179e\"], [0.4444444444444444, \"#bd3786\"], [0.5555555555555556, \"#d8576b\"], [0.6666666666666666, \"#ed7953\"], [0.7777777777777778, \"#fb9f3a\"], [0.8888888888888888, \"#fdca26\"], [1.0, \"#f0f921\"]], \"type\": \"histogram2dcontour\"}], \"mesh3d\": [{\"colorbar\": {\"outlinewidth\": 0, \"ticks\": \"\"}, \"type\": \"mesh3d\"}], \"parcoords\": [{\"line\": {\"colorbar\": {\"outlinewidth\": 0, \"ticks\": \"\"}}, \"type\": \"parcoords\"}], \"pie\": [{\"automargin\": true, \"type\": \"pie\"}], \"scatter\": [{\"marker\": {\"colorbar\": {\"outlinewidth\": 0, \"ticks\": \"\"}}, \"type\": \"scatter\"}], \"scatter3d\": [{\"line\": {\"colorbar\": {\"outlinewidth\": 0, \"ticks\": \"\"}}, \"marker\": {\"colorbar\": {\"outlinewidth\": 0, \"ticks\": \"\"}}, \"type\": \"scatter3d\"}], \"scattercarpet\": [{\"marker\": {\"colorbar\": {\"outlinewidth\": 0, \"ticks\": \"\"}}, \"type\": \"scattercarpet\"}], \"scattergeo\": [{\"marker\": {\"colorbar\": {\"outlinewidth\": 0, \"ticks\": \"\"}}, \"type\": \"scattergeo\"}], \"scattergl\": [{\"marker\": {\"colorbar\": {\"outlinewidth\": 0, \"ticks\": \"\"}}, \"type\": \"scattergl\"}], \"scattermapbox\": [{\"marker\": {\"colorbar\": {\"outlinewidth\": 0, \"ticks\": \"\"}}, \"type\": \"scattermapbox\"}], \"scatterpolar\": [{\"marker\": {\"colorbar\": {\"outlinewidth\": 0, \"ticks\": \"\"}}, \"type\": \"scatterpolar\"}], \"scatterpolargl\": [{\"marker\": {\"colorbar\": {\"outlinewidth\": 0, \"ticks\": \"\"}}, \"type\": \"scatterpolargl\"}], \"scatterternary\": [{\"marker\": {\"colorbar\": {\"outlinewidth\": 0, \"ticks\": \"\"}}, \"type\": \"scatterternary\"}], \"surface\": [{\"colorbar\": {\"outlinewidth\": 0, \"ticks\": \"\"}, \"colorscale\": [[0.0, \"#0d0887\"], [0.1111111111111111, \"#46039f\"], [0.2222222222222222, \"#7201a8\"], [0.3333333333333333, \"#9c179e\"], [0.4444444444444444, \"#bd3786\"], [0.5555555555555556, \"#d8576b\"], [0.6666666666666666, \"#ed7953\"], [0.7777777777777778, \"#fb9f3a\"], [0.8888888888888888, \"#fdca26\"], [1.0, \"#f0f921\"]], \"type\": \"surface\"}], \"table\": [{\"cells\": {\"fill\": {\"color\": \"#EBF0F8\"}, \"line\": {\"color\": \"white\"}}, \"header\": {\"fill\": {\"color\": \"#C8D4E3\"}, \"line\": {\"color\": \"white\"}}, \"type\": \"table\"}]}, \"layout\": {\"annotationdefaults\": {\"arrowcolor\": \"#2a3f5f\", \"arrowhead\": 0, \"arrowwidth\": 1}, \"autotypenumbers\": \"strict\", \"coloraxis\": {\"colorbar\": {\"outlinewidth\": 0, \"ticks\": \"\"}}, \"colorscale\": {\"diverging\": [[0, \"#8e0152\"], [0.1, \"#c51b7d\"], [0.2, \"#de77ae\"], [0.3, \"#f1b6da\"], [0.4, \"#fde0ef\"], [0.5, \"#f7f7f7\"], [0.6, \"#e6f5d0\"], [0.7, \"#b8e186\"], [0.8, \"#7fbc41\"], [0.9, \"#4d9221\"], [1, \"#276419\"]], \"sequential\": [[0.0, \"#0d0887\"], [0.1111111111111111, \"#46039f\"], [0.2222222222222222, \"#7201a8\"], [0.3333333333333333, \"#9c179e\"], [0.4444444444444444, \"#bd3786\"], [0.5555555555555556, \"#d8576b\"], [0.6666666666666666, \"#ed7953\"], [0.7777777777777778, \"#fb9f3a\"], [0.8888888888888888, \"#fdca26\"], [1.0, \"#f0f921\"]], \"sequentialminus\": [[0.0, \"#0d0887\"], [0.1111111111111111, \"#46039f\"], [0.2222222222222222, \"#7201a8\"], [0.3333333333333333, \"#9c179e\"], [0.4444444444444444, \"#bd3786\"], [0.5555555555555556, \"#d8576b\"], [0.6666666666666666, \"#ed7953\"], [0.7777777777777778, \"#fb9f3a\"], [0.8888888888888888, \"#fdca26\"], [1.0, \"#f0f921\"]]}, \"colorway\": [\"#636efa\", \"#EF553B\", \"#00cc96\", \"#ab63fa\", \"#FFA15A\", \"#19d3f3\", \"#FF6692\", \"#B6E880\", \"#FF97FF\", \"#FECB52\"], \"font\": {\"color\": \"#2a3f5f\"}, \"geo\": {\"bgcolor\": \"white\", \"lakecolor\": \"white\", \"landcolor\": \"#E5ECF6\", \"showlakes\": true, \"showland\": true, \"subunitcolor\": \"white\"}, \"hoverlabel\": {\"align\": \"left\"}, \"hovermode\": \"closest\", \"mapbox\": {\"style\": \"light\"}, \"paper_bgcolor\": \"white\", \"plot_bgcolor\": \"#E5ECF6\", \"polar\": {\"angularaxis\": {\"gridcolor\": \"white\", \"linecolor\": \"white\", \"ticks\": \"\"}, \"bgcolor\": \"#E5ECF6\", \"radialaxis\": {\"gridcolor\": \"white\", \"linecolor\": \"white\", \"ticks\": \"\"}}, \"scene\": {\"xaxis\": {\"backgroundcolor\": \"#E5ECF6\", \"gridcolor\": \"white\", \"gridwidth\": 2, \"linecolor\": \"white\", \"showbackground\": true, \"ticks\": \"\", \"zerolinecolor\": \"white\"}, \"yaxis\": {\"backgroundcolor\": \"#E5ECF6\", \"gridcolor\": \"white\", \"gridwidth\": 2, \"linecolor\": \"white\", \"showbackground\": true, \"ticks\": \"\", \"zerolinecolor\": \"white\"}, \"zaxis\": {\"backgroundcolor\": \"#E5ECF6\", \"gridcolor\": \"white\", \"gridwidth\": 2, \"linecolor\": \"white\", \"showbackground\": true, \"ticks\": \"\", \"zerolinecolor\": \"white\"}}, \"shapedefaults\": {\"line\": {\"color\": \"#2a3f5f\"}}, \"ternary\": {\"aaxis\": {\"gridcolor\": \"white\", \"linecolor\": \"white\", \"ticks\": \"\"}, \"baxis\": {\"gridcolor\": \"white\", \"linecolor\": \"white\", \"ticks\": \"\"}, \"bgcolor\": \"#E5ECF6\", \"caxis\": {\"gridcolor\": \"white\", \"linecolor\": \"white\", \"ticks\": \"\"}}, \"title\": {\"x\": 0.05}, \"xaxis\": {\"automargin\": true, \"gridcolor\": \"white\", \"linecolor\": \"white\", \"ticks\": \"\", \"title\": {\"standoff\": 15}, \"zerolinecolor\": \"white\", \"zerolinewidth\": 2}, \"yaxis\": {\"automargin\": true, \"gridcolor\": \"white\", \"linecolor\": \"white\", \"ticks\": \"\", \"title\": {\"standoff\": 15}, \"zerolinecolor\": \"white\", \"zerolinewidth\": 2}}}, \"xaxis\": {\"anchor\": \"y\", \"domain\": [0.0, 1.0], \"title\": {\"text\": \"writing score\"}}, \"yaxis\": {\"anchor\": \"x\", \"domain\": [0.0, 1.0], \"title\": {\"text\": \"reading score\"}}},                        {\"responsive\": true}                    ).then(function(){\n",
       "                            \n",
       "var gd = document.getElementById('ba613ff0-2e3f-42ad-b2c3-634893c645a3');\n",
       "var x = new MutationObserver(function (mutations, observer) {{\n",
       "        var display = window.getComputedStyle(gd).display;\n",
       "        if (!display || display === 'none') {{\n",
       "            console.log([gd, 'removed!']);\n",
       "            Plotly.purge(gd);\n",
       "            observer.disconnect();\n",
       "        }}\n",
       "}});\n",
       "\n",
       "// Listen for the removal of the full notebook cells\n",
       "var notebookContainer = gd.closest('#notebook-container');\n",
       "if (notebookContainer) {{\n",
       "    x.observe(notebookContainer, {childList: true});\n",
       "}}\n",
       "\n",
       "// Listen for the clearing of the current output cell\n",
       "var outputEl = gd.closest('.output');\n",
       "if (outputEl) {{\n",
       "    x.observe(outputEl, {childList: true});\n",
       "}}\n",
       "\n",
       "                        })                };                });            </script>        </div>"
      ]
     },
     "metadata": {},
     "output_type": "display_data"
    }
   ],
   "source": [
    "fig = px.scatter(df, x='writing score', y='reading score', color='parental level of education', opacity=0.5)\n",
    "fig.show()"
   ]
  },
  {
   "cell_type": "markdown",
   "metadata": {},
   "source": [
    "Nachodząc na wybrane kropki można sprawdzić jaki wynik osiągnął student z pisania oraz czytania ze względu na poziom wykształcenia swoich rodziców. Analizując kropki z najniższymi wynikami można zauważyć, że są to zazwyczaj studenci, których rodzice mają tylko średnie wykształcenie. \n",
    "\n",
    "Kolejnym krokiem analizy było wyciągnięcie średniej z trzech wyników egzaminu oraz dodanie do wykorzystywanego zbioru danych."
   ]
  },
  {
   "cell_type": "code",
   "execution_count": 49,
   "metadata": {},
   "outputs": [
    {
     "data": {
      "text/html": [
       "<div>\n",
       "<style scoped>\n",
       "    .dataframe tbody tr th:only-of-type {\n",
       "        vertical-align: middle;\n",
       "    }\n",
       "\n",
       "    .dataframe tbody tr th {\n",
       "        vertical-align: top;\n",
       "    }\n",
       "\n",
       "    .dataframe thead th {\n",
       "        text-align: right;\n",
       "    }\n",
       "</style>\n",
       "<table border=\"1\" class=\"dataframe\">\n",
       "  <thead>\n",
       "    <tr style=\"text-align: right;\">\n",
       "      <th></th>\n",
       "      <th>gender</th>\n",
       "      <th>race/ethnicity</th>\n",
       "      <th>parental level of education</th>\n",
       "      <th>lunch</th>\n",
       "      <th>test preparation course</th>\n",
       "      <th>math score</th>\n",
       "      <th>reading score</th>\n",
       "      <th>writing score</th>\n",
       "      <th>mean score</th>\n",
       "    </tr>\n",
       "  </thead>\n",
       "  <tbody>\n",
       "    <tr>\n",
       "      <th>913</th>\n",
       "      <td>female</td>\n",
       "      <td>group C</td>\n",
       "      <td>bachelor's degree</td>\n",
       "      <td>free/reduced</td>\n",
       "      <td>completed</td>\n",
       "      <td>47</td>\n",
       "      <td>62</td>\n",
       "      <td>66</td>\n",
       "      <td>58.0</td>\n",
       "    </tr>\n",
       "    <tr>\n",
       "      <th>693</th>\n",
       "      <td>female</td>\n",
       "      <td>group D</td>\n",
       "      <td>associate's degree</td>\n",
       "      <td>standard</td>\n",
       "      <td>none</td>\n",
       "      <td>77</td>\n",
       "      <td>77</td>\n",
       "      <td>73</td>\n",
       "      <td>76.0</td>\n",
       "    </tr>\n",
       "    <tr>\n",
       "      <th>572</th>\n",
       "      <td>female</td>\n",
       "      <td>group C</td>\n",
       "      <td>some college</td>\n",
       "      <td>standard</td>\n",
       "      <td>none</td>\n",
       "      <td>53</td>\n",
       "      <td>62</td>\n",
       "      <td>56</td>\n",
       "      <td>57.0</td>\n",
       "    </tr>\n",
       "    <tr>\n",
       "      <th>792</th>\n",
       "      <td>male</td>\n",
       "      <td>group D</td>\n",
       "      <td>high school</td>\n",
       "      <td>free/reduced</td>\n",
       "      <td>none</td>\n",
       "      <td>66</td>\n",
       "      <td>74</td>\n",
       "      <td>69</td>\n",
       "      <td>70.0</td>\n",
       "    </tr>\n",
       "    <tr>\n",
       "      <th>229</th>\n",
       "      <td>female</td>\n",
       "      <td>group C</td>\n",
       "      <td>some college</td>\n",
       "      <td>standard</td>\n",
       "      <td>completed</td>\n",
       "      <td>88</td>\n",
       "      <td>95</td>\n",
       "      <td>94</td>\n",
       "      <td>92.0</td>\n",
       "    </tr>\n",
       "  </tbody>\n",
       "</table>\n",
       "</div>"
      ],
      "text/plain": [
       "     gender race/ethnicity parental level of education         lunch  \\\n",
       "913  female        group C           bachelor's degree  free/reduced   \n",
       "693  female        group D          associate's degree      standard   \n",
       "572  female        group C                some college      standard   \n",
       "792    male        group D                 high school  free/reduced   \n",
       "229  female        group C                some college      standard   \n",
       "\n",
       "    test preparation course  math score  reading score  writing score  \\\n",
       "913               completed          47             62             66   \n",
       "693                    none          77             77             73   \n",
       "572                    none          53             62             56   \n",
       "792                    none          66             74             69   \n",
       "229               completed          88             95             94   \n",
       "\n",
       "     mean score  \n",
       "913        58.0  \n",
       "693        76.0  \n",
       "572        57.0  \n",
       "792        70.0  \n",
       "229        92.0  "
      ]
     },
     "execution_count": 49,
     "metadata": {},
     "output_type": "execute_result"
    }
   ],
   "source": [
    "df[\"mean score\"] = ((df['math score'] + df[\"reading score\"] + df[\"writing score\"]) / 3).round()\n",
    "df.sample(5)"
   ]
  },
  {
   "cell_type": "markdown",
   "metadata": {},
   "source": [
    "Następnie za pomocą biblioteki sklearn zakodowano dane tekstowe na liczbowe. Operacja ma na celu możliwość przejścia do bardziej złożonych analiz opartych wyłącznie na liczbach."
   ]
  },
  {
   "cell_type": "code",
   "execution_count": 50,
   "metadata": {},
   "outputs": [
    {
     "data": {
      "text/html": [
       "<div>\n",
       "<style scoped>\n",
       "    .dataframe tbody tr th:only-of-type {\n",
       "        vertical-align: middle;\n",
       "    }\n",
       "\n",
       "    .dataframe tbody tr th {\n",
       "        vertical-align: top;\n",
       "    }\n",
       "\n",
       "    .dataframe thead th {\n",
       "        text-align: right;\n",
       "    }\n",
       "</style>\n",
       "<table border=\"1\" class=\"dataframe\">\n",
       "  <thead>\n",
       "    <tr style=\"text-align: right;\">\n",
       "      <th></th>\n",
       "      <th>gender</th>\n",
       "      <th>race/ethnicity</th>\n",
       "      <th>parental level of education</th>\n",
       "      <th>lunch</th>\n",
       "      <th>test preparation course</th>\n",
       "      <th>math score</th>\n",
       "      <th>reading score</th>\n",
       "      <th>writing score</th>\n",
       "      <th>mean score</th>\n",
       "    </tr>\n",
       "  </thead>\n",
       "  <tbody>\n",
       "    <tr>\n",
       "      <th>106</th>\n",
       "      <td>0</td>\n",
       "      <td>3</td>\n",
       "      <td>3</td>\n",
       "      <td>1</td>\n",
       "      <td>1</td>\n",
       "      <td>87</td>\n",
       "      <td>100</td>\n",
       "      <td>100</td>\n",
       "      <td>96.0</td>\n",
       "    </tr>\n",
       "    <tr>\n",
       "      <th>880</th>\n",
       "      <td>1</td>\n",
       "      <td>2</td>\n",
       "      <td>1</td>\n",
       "      <td>1</td>\n",
       "      <td>0</td>\n",
       "      <td>63</td>\n",
       "      <td>64</td>\n",
       "      <td>66</td>\n",
       "      <td>64.0</td>\n",
       "    </tr>\n",
       "    <tr>\n",
       "      <th>477</th>\n",
       "      <td>1</td>\n",
       "      <td>3</td>\n",
       "      <td>0</td>\n",
       "      <td>1</td>\n",
       "      <td>1</td>\n",
       "      <td>80</td>\n",
       "      <td>68</td>\n",
       "      <td>72</td>\n",
       "      <td>73.0</td>\n",
       "    </tr>\n",
       "    <tr>\n",
       "      <th>288</th>\n",
       "      <td>1</td>\n",
       "      <td>1</td>\n",
       "      <td>1</td>\n",
       "      <td>0</td>\n",
       "      <td>1</td>\n",
       "      <td>88</td>\n",
       "      <td>75</td>\n",
       "      <td>76</td>\n",
       "      <td>80.0</td>\n",
       "    </tr>\n",
       "    <tr>\n",
       "      <th>485</th>\n",
       "      <td>1</td>\n",
       "      <td>2</td>\n",
       "      <td>2</td>\n",
       "      <td>1</td>\n",
       "      <td>1</td>\n",
       "      <td>70</td>\n",
       "      <td>74</td>\n",
       "      <td>71</td>\n",
       "      <td>72.0</td>\n",
       "    </tr>\n",
       "  </tbody>\n",
       "</table>\n",
       "</div>"
      ],
      "text/plain": [
       "     gender  race/ethnicity  parental level of education  lunch  \\\n",
       "106       0               3                            3      1   \n",
       "880       1               2                            1      1   \n",
       "477       1               3                            0      1   \n",
       "288       1               1                            1      0   \n",
       "485       1               2                            2      1   \n",
       "\n",
       "     test preparation course  math score  reading score  writing score  \\\n",
       "106                        1          87            100            100   \n",
       "880                        0          63             64             66   \n",
       "477                        1          80             68             72   \n",
       "288                        1          88             75             76   \n",
       "485                        1          70             74             71   \n",
       "\n",
       "     mean score  \n",
       "106        96.0  \n",
       "880        64.0  \n",
       "477        73.0  \n",
       "288        80.0  \n",
       "485        72.0  "
      ]
     },
     "execution_count": 50,
     "metadata": {},
     "output_type": "execute_result"
    }
   ],
   "source": [
    "lc = LabelEncoder()\n",
    "df['gender'] = lc.fit_transform(df['gender'])\n",
    "df['race/ethnicity'] = lc.fit_transform(df['race/ethnicity'])\n",
    "df['parental level of education'] = lc.fit_transform(df['parental level of education'])\n",
    "df['lunch'] = lc.fit_transform(df['lunch'])\n",
    "df['test preparation course'] = lc.fit_transform(df['test preparation course'])\n",
    "df.sample(5)"
   ]
  },
  {
   "cell_type": "markdown",
   "metadata": {},
   "source": [
    "Do zaprezentowania uśrednionych wyników z egzaminu na podstawie pochodzenia etnicznego posłużono się wykresem pudełkowym."
   ]
  },
  {
   "cell_type": "code",
   "execution_count": 51,
   "metadata": {},
   "outputs": [
    {
     "data": {
      "application/vnd.plotly.v1+json": {
       "config": {
        "plotlyServerURL": "https://plot.ly"
       },
       "data": [
        {
         "alignmentgroup": "True",
         "hovertemplate": "gender=0<br>race/ethnicity=%{x}<br>mean score=%{y}<extra></extra>",
         "legendgroup": "0",
         "marker": {
          "color": "#636efa"
         },
         "name": "0",
         "notched": false,
         "offsetgroup": "0",
         "orientation": "v",
         "showlegend": true,
         "type": "box",
         "x": [
          1,
          2,
          1,
          1,
          1,
          1,
          1,
          0,
          2,
          1,
          2,
          1,
          2,
          2,
          3,
          3,
          1,
          4,
          3,
          3,
          3,
          2,
          1,
          4,
          0,
          2,
          3,
          2,
          2,
          4,
          2,
          2,
          3,
          2,
          2,
          3,
          0,
          3,
          4,
          1,
          2,
          2,
          3,
          0,
          3,
          2,
          1,
          4,
          3,
          3,
          3,
          2,
          3,
          1,
          1,
          3,
          3,
          4,
          1,
          3,
          3,
          2,
          2,
          2,
          1,
          0,
          2,
          2,
          3,
          2,
          4,
          2,
          3,
          1,
          2,
          4,
          1,
          4,
          4,
          2,
          1,
          1,
          2,
          3,
          2,
          2,
          2,
          1,
          2,
          1,
          3,
          2,
          4,
          3,
          2,
          4,
          1,
          2,
          1,
          1,
          2,
          3,
          1,
          1,
          1,
          2,
          4,
          2,
          3,
          2,
          1,
          4,
          2,
          2,
          1,
          3,
          4,
          3,
          1,
          1,
          3,
          1,
          4,
          2,
          1,
          2,
          2,
          2,
          4,
          2,
          3,
          3,
          4,
          3,
          3,
          2,
          4,
          2,
          3,
          3,
          1,
          1,
          4,
          2,
          2,
          1,
          3,
          1,
          2,
          2,
          3,
          3,
          2,
          4,
          2,
          2,
          2,
          2,
          1,
          2,
          1,
          1,
          3,
          2,
          1,
          2,
          2,
          1,
          2,
          2,
          2,
          1,
          2,
          3,
          1,
          2,
          3,
          0,
          3,
          2,
          3,
          3,
          3,
          3,
          0,
          1,
          4,
          0,
          4,
          4,
          2,
          3,
          3,
          2,
          1,
          2,
          2,
          0,
          3,
          2,
          2,
          1,
          3,
          3,
          2,
          2,
          3,
          3,
          0,
          2,
          2,
          0,
          2,
          3,
          0,
          1,
          2,
          2,
          4,
          2,
          2,
          3,
          4,
          4,
          2,
          2,
          3,
          0,
          2,
          2,
          2,
          3,
          1,
          3,
          3,
          3,
          1,
          2,
          0,
          2,
          2,
          2,
          1,
          2,
          3,
          1,
          3,
          1,
          4,
          3,
          1,
          2,
          1,
          1,
          2,
          3,
          4,
          3,
          1,
          2,
          2,
          3,
          2,
          2,
          2,
          4,
          2,
          3,
          2,
          3,
          3,
          0,
          2,
          1,
          2,
          2,
          1,
          3,
          2,
          3,
          4,
          3,
          2,
          2,
          4,
          1,
          1,
          3,
          3,
          4,
          3,
          3,
          3,
          2,
          0,
          2,
          2,
          0,
          4,
          2,
          2,
          3,
          3,
          3,
          2,
          4,
          2,
          2,
          4,
          1,
          2,
          2,
          0,
          2,
          4,
          2,
          4,
          2,
          1,
          2,
          1,
          3,
          3,
          3,
          1,
          4,
          1,
          3,
          4,
          1,
          3,
          0,
          3,
          0,
          1,
          1,
          3,
          3,
          2,
          2,
          2,
          1,
          2,
          2,
          2,
          3,
          1,
          4,
          2,
          3,
          2,
          4,
          2,
          4,
          2,
          3,
          2,
          3,
          2,
          0,
          3,
          4,
          1,
          3,
          1,
          3,
          4,
          3,
          1,
          1,
          2,
          2,
          2,
          1,
          4,
          3,
          1,
          2,
          4,
          1,
          0,
          2,
          2,
          2,
          2,
          4,
          3,
          2,
          3,
          1,
          1,
          2,
          3,
          1,
          2,
          1,
          1,
          2,
          0,
          3,
          1,
          1,
          2,
          1,
          4,
          1,
          2,
          1,
          3,
          1,
          4,
          4,
          2,
          4,
          1,
          2,
          3,
          4,
          2,
          2,
          0,
          1,
          2,
          0,
          3,
          1,
          2,
          2,
          2,
          3,
          0,
          2,
          1,
          2,
          0,
          2,
          3,
          1,
          3,
          2,
          0,
          4,
          1,
          2,
          2,
          4,
          2,
          2,
          2,
          3,
          3,
          4,
          1,
          4,
          2,
          4,
          3,
          4,
          4,
          0,
          4,
          4,
          1,
          3,
          2,
          0,
          3,
          3,
          3,
          2,
          0,
          2,
          2,
          1,
          4,
          2,
          2,
          2,
          1,
          3,
          2,
          4,
          3,
          1,
          2,
          3,
          4,
          3,
          4,
          2,
          3,
          3,
          0,
          3,
          4,
          2,
          3,
          4,
          1,
          3,
          0,
          3,
          0,
          2,
          2,
          1,
          0,
          2,
          2,
          0,
          3,
          1,
          3,
          3,
          4,
          2,
          3,
          3
         ],
         "x0": " ",
         "xaxis": "x",
         "y": [
          73,
          82,
          93,
          77,
          92,
          49,
          73,
          54,
          74,
          26,
          58,
          70,
          72,
          70,
          69,
          72,
          63,
          64,
          79,
          58,
          84,
          66,
          59,
          53,
          61,
          71,
          69,
          81,
          39,
          84,
          9,
          73,
          59,
          69,
          53,
          65,
          47,
          69,
          66,
          49,
          78,
          82,
          72,
          65,
          80,
          70,
          86,
          68,
          62,
          65,
          88,
          66,
          96,
          66,
          69,
          88,
          54,
          100,
          81,
          80,
          58,
          63,
          87,
          91,
          89,
          50,
          80,
          64,
          73,
          62,
          50,
          31,
          75,
          65,
          82,
          73,
          78,
          83,
          88,
          99,
          71,
          76,
          71,
          82,
          67,
          49,
          86,
          53,
          75,
          61,
          99,
          59,
          49,
          68,
          84,
          67,
          64,
          79,
          51,
          78,
          79,
          74,
          65,
          77,
          62,
          55,
          86,
          38,
          66,
          61,
          64,
          52,
          72,
          92,
          79,
          66,
          82,
          54,
          65,
          64,
          79,
          67,
          68,
          68,
          74,
          76,
          73,
          48,
          94,
          73,
          73,
          92,
          72,
          53,
          69,
          90,
          66,
          77,
          79,
          75,
          43,
          79,
          71,
          77,
          77,
          64,
          53,
          76,
          68,
          66,
          83,
          61,
          77,
          80,
          77,
          50,
          43,
          89,
          49,
          90,
          65,
          30,
          50,
          66,
          73,
          76,
          89,
          62,
          74,
          54,
          67,
          68,
          59,
          86,
          60,
          56,
          31,
          55,
          81,
          63,
          92,
          67,
          84,
          93,
          77,
          83,
          44,
          41,
          73,
          69,
          67,
          63,
          74,
          72,
          60,
          90,
          60,
          56,
          96,
          58,
          68,
          80,
          55,
          72,
          67,
          89,
          60,
          57,
          75,
          64,
          68,
          52,
          76,
          80,
          67,
          77,
          73,
          78,
          96,
          72,
          59,
          86,
          100,
          72,
          86,
          87,
          32,
          83,
          86,
          69,
          79,
          62,
          90,
          77,
          63,
          56,
          52,
          70,
          75,
          66,
          85,
          86,
          62,
          51,
          71,
          68,
          78,
          91,
          92,
          51,
          81,
          88,
          59,
          89,
          83,
          82,
          71,
          74,
          75,
          87,
          44,
          39,
          69,
          69,
          51,
          87,
          77,
          60,
          79,
          89,
          64,
          96,
          64,
          46,
          35,
          69,
          64,
          76,
          70,
          74,
          97,
          70,
          57,
          60,
          75,
          87,
          54,
          61,
          91,
          79,
          71,
          76,
          74,
          72,
          67,
          56,
          61,
          60,
          74,
          97,
          69,
          73,
          76,
          59,
          29,
          78,
          84,
          51,
          62,
          62,
          61,
          72,
          89,
          67,
          40,
          50,
          60,
          50,
          74,
          83,
          76,
          87,
          74,
          84,
          77,
          78,
          76,
          65,
          65,
          53,
          76,
          75,
          90,
          70,
          77,
          65,
          54,
          65,
          67,
          57,
          69,
          83,
          70,
          74,
          78,
          75,
          60,
          76,
          76,
          71,
          38,
          98,
          52,
          76,
          74,
          76,
          56,
          85,
          82,
          67,
          71,
          81,
          65,
          65,
          62,
          54,
          83,
          99,
          68,
          86,
          97,
          75,
          68,
          84,
          72,
          83,
          75,
          90,
          56,
          64,
          50,
          82,
          68,
          56,
          84,
          90,
          59,
          63,
          53,
          62,
          73,
          70,
          71,
          64,
          73,
          54,
          69,
          41,
          78,
          53,
          84,
          81,
          58,
          42,
          76,
          30,
          59,
          57,
          65,
          48,
          66,
          78,
          55,
          92,
          85,
          76,
          71,
          42,
          62,
          78,
          56,
          67,
          85,
          89,
          87,
          80,
          53,
          65,
          70,
          79,
          59,
          83,
          83,
          66,
          79,
          72,
          46,
          34,
          56,
          66,
          64,
          88,
          97,
          75,
          56,
          85,
          74,
          73,
          55,
          70,
          71,
          70,
          69,
          52,
          73,
          96,
          69,
          87,
          87,
          63,
          63,
          35,
          73,
          75,
          75,
          41,
          98,
          78,
          85,
          71,
          78,
          60,
          58,
          54,
          68,
          52,
          71,
          45,
          61,
          66,
          52,
          57,
          88,
          62,
          58,
          56,
          68,
          78,
          73,
          67,
          97,
          56,
          59,
          52,
          100,
          72,
          68,
          70,
          80,
          96,
          54,
          58,
          61,
          74,
          93,
          18,
          85,
          77,
          50,
          45,
          79,
          75,
          69,
          69,
          94,
          65,
          74,
          83
         ],
         "y0": " ",
         "yaxis": "y"
        },
        {
         "alignmentgroup": "True",
         "hovertemplate": "gender=1<br>race/ethnicity=%{x}<br>mean score=%{y}<extra></extra>",
         "legendgroup": "1",
         "marker": {
          "color": "#EF553B"
         },
         "name": "1",
         "notched": false,
         "offsetgroup": "1",
         "orientation": "v",
         "showlegend": true,
         "type": "box",
         "x": [
          0,
          2,
          1,
          3,
          2,
          3,
          0,
          2,
          2,
          3,
          3,
          3,
          0,
          1,
          2,
          3,
          4,
          4,
          1,
          2,
          1,
          1,
          2,
          4,
          4,
          2,
          3,
          3,
          3,
          4,
          0,
          0,
          1,
          3,
          1,
          3,
          2,
          2,
          1,
          4,
          0,
          1,
          0,
          4,
          3,
          2,
          2,
          2,
          2,
          1,
          1,
          3,
          1,
          2,
          4,
          2,
          0,
          2,
          1,
          3,
          4,
          1,
          3,
          3,
          3,
          2,
          4,
          3,
          2,
          1,
          4,
          3,
          0,
          3,
          1,
          2,
          4,
          0,
          0,
          3,
          3,
          1,
          3,
          1,
          1,
          2,
          2,
          0,
          4,
          2,
          2,
          2,
          4,
          3,
          1,
          3,
          3,
          3,
          2,
          4,
          2,
          2,
          3,
          4,
          4,
          3,
          2,
          2,
          4,
          1,
          1,
          1,
          1,
          3,
          3,
          0,
          3,
          2,
          4,
          2,
          3,
          3,
          1,
          2,
          3,
          4,
          3,
          2,
          4,
          2,
          0,
          3,
          3,
          2,
          2,
          3,
          3,
          2,
          2,
          1,
          2,
          1,
          3,
          3,
          1,
          4,
          1,
          4,
          2,
          3,
          2,
          3,
          1,
          0,
          4,
          2,
          3,
          0,
          3,
          1,
          0,
          4,
          2,
          1,
          3,
          2,
          2,
          1,
          2,
          0,
          2,
          2,
          2,
          4,
          1,
          3,
          2,
          2,
          3,
          3,
          1,
          3,
          4,
          4,
          0,
          3,
          1,
          2,
          0,
          2,
          2,
          4,
          3,
          4,
          0,
          2,
          2,
          3,
          4,
          4,
          2,
          0,
          1,
          3,
          0,
          1,
          3,
          4,
          3,
          1,
          4,
          2,
          2,
          3,
          4,
          1,
          2,
          2,
          0,
          2,
          2,
          2,
          2,
          2,
          3,
          3,
          2,
          3,
          0,
          3,
          2,
          1,
          1,
          2,
          2,
          3,
          1,
          2,
          1,
          0,
          0,
          2,
          4,
          3,
          4,
          1,
          2,
          0,
          2,
          3,
          1,
          0,
          3,
          4,
          2,
          0,
          1,
          2,
          3,
          0,
          3,
          3,
          3,
          2,
          2,
          4,
          2,
          4,
          1,
          2,
          4,
          0,
          2,
          3,
          4,
          2,
          2,
          2,
          1,
          3,
          4,
          2,
          3,
          2,
          1,
          1,
          1,
          3,
          1,
          0,
          0,
          0,
          2,
          0,
          4,
          1,
          0,
          3,
          3,
          2,
          3,
          2,
          3,
          3,
          2,
          1,
          2,
          0,
          3,
          1,
          3,
          3,
          3,
          1,
          3,
          0,
          4,
          3,
          1,
          2,
          2,
          3,
          3,
          2,
          2,
          3,
          2,
          3,
          3,
          3,
          3,
          1,
          1,
          1,
          4,
          3,
          0,
          4,
          2,
          0,
          0,
          3,
          2,
          3,
          2,
          3,
          2,
          4,
          3,
          2,
          1,
          4,
          4,
          2,
          0,
          3,
          2,
          2,
          3,
          2,
          3,
          1,
          3,
          3,
          2,
          1,
          3,
          4,
          2,
          2,
          3,
          4,
          1,
          3,
          3,
          1,
          0,
          1,
          3,
          1,
          4,
          2,
          2,
          3,
          4,
          3,
          4,
          2,
          2,
          0,
          2,
          1,
          0,
          0,
          4,
          1,
          3,
          4,
          2,
          1,
          0,
          1,
          4,
          1,
          2,
          1,
          4,
          2,
          3,
          3,
          2,
          4,
          2,
          1,
          1,
          2,
          3,
          2,
          3,
          2,
          1,
          4,
          2,
          1,
          1,
          4,
          2,
          3,
          2,
          2,
          3,
          2,
          3,
          3,
          1,
          3,
          3,
          3,
          1,
          4,
          3,
          4,
          1,
          3,
          3,
          3,
          4,
          4,
          4,
          2,
          3,
          3,
          2,
          2,
          3,
          0,
          3,
          3,
          2,
          2,
          0,
          1,
          1,
          4,
          2,
          4,
          2,
          2,
          3,
          0,
          2,
          2,
          1,
          2,
          3,
          3,
          1,
          0,
          4,
          4,
          0,
          2
         ],
         "x0": " ",
         "xaxis": "x",
         "y": [
          49,
          76,
          41,
          65,
          55,
          45,
          73,
          88,
          45,
          66,
          50,
          75,
          73,
          59,
          68,
          40,
          89,
          80,
          57,
          57,
          63,
          59,
          83,
          52,
          71,
          46,
          80,
          52,
          58,
          75,
          37,
          59,
          64,
          40,
          58,
          60,
          58,
          46,
          41,
          26,
          80,
          46,
          50,
          66,
          38,
          32,
          74,
          46,
          80,
          64,
          71,
          72,
          50,
          91,
          64,
          55,
          51,
          78,
          91,
          59,
          79,
          69,
          72,
          79,
          85,
          43,
          77,
          76,
          54,
          49,
          60,
          67,
          49,
          80,
          82,
          69,
          98,
          66,
          71,
          50,
          63,
          60,
          64,
          78,
          51,
          51,
          52,
          73,
          87,
          68,
          49,
          66,
          74,
          65,
          48,
          79,
          67,
          56,
          64,
          54,
          72,
          47,
          74,
          69,
          79,
          79,
          30,
          56,
          86,
          81,
          71,
          58,
          82,
          80,
          54,
          68,
          69,
          44,
          86,
          83,
          77,
          65,
          52,
          81,
          69,
          51,
          73,
          77,
          80,
          60,
          48,
          77,
          53,
          77,
          79,
          72,
          47,
          64,
          50,
          83,
          78,
          62,
          49,
          46,
          82,
          89,
          80,
          77,
          71,
          76,
          60,
          78,
          63,
          43,
          71,
          45,
          84,
          80,
          54,
          73,
          68,
          89,
          49,
          61,
          65,
          67,
          78,
          68,
          61,
          23,
          78,
          64,
          40,
          57,
          83,
          72,
          48,
          57,
          69,
          73,
          60,
          72,
          79,
          58,
          62,
          61,
          82,
          59,
          56,
          60,
          63,
          77,
          73,
          43,
          64,
          94,
          77,
          73,
          66,
          70,
          56,
          45,
          65,
          58,
          46,
          64,
          85,
          82,
          66,
          66,
          75,
          71,
          71,
          63,
          56,
          38,
          85,
          68,
          59,
          62,
          63,
          57,
          68,
          50,
          69,
          71,
          59,
          86,
          78,
          65,
          82,
          45,
          75,
          57,
          47,
          52,
          68,
          55,
          51,
          65,
          68,
          80,
          68,
          73,
          71,
          71,
          66,
          52,
          72,
          55,
          58,
          81,
          66,
          73,
          59,
          68,
          56,
          78,
          73,
          52,
          54,
          57,
          61,
          54,
          51,
          62,
          59,
          60,
          70,
          56,
          74,
          92,
          71,
          80,
          80,
          68,
          73,
          73,
          88,
          68,
          46,
          65,
          67,
          93,
          48,
          45,
          53,
          68,
          72,
          93,
          49,
          55,
          56,
          61,
          67,
          23,
          52,
          56,
          88,
          70,
          64,
          92,
          83,
          87,
          69,
          60,
          54,
          94,
          99,
          67,
          52,
          51,
          67,
          68,
          83,
          70,
          79,
          48,
          65,
          53,
          69,
          65,
          87,
          75,
          67,
          69,
          69,
          77,
          53,
          78,
          61,
          63,
          57,
          65,
          76,
          76,
          52,
          89,
          64,
          86,
          66,
          39,
          59,
          85,
          89,
          82,
          74,
          81,
          58,
          47,
          44,
          75,
          59,
          43,
          48,
          49,
          61,
          85,
          75,
          59,
          75,
          52,
          75,
          72,
          67,
          86,
          69,
          68,
          77,
          55,
          55,
          70,
          74,
          82,
          61,
          66,
          58,
          50,
          74,
          64,
          87,
          84,
          65,
          70,
          83,
          70,
          61,
          69,
          76,
          77,
          78,
          55,
          39,
          47,
          82,
          89,
          69,
          51,
          62,
          58,
          61,
          51,
          65,
          56,
          58,
          76,
          86,
          87,
          56,
          75,
          68,
          70,
          60,
          69,
          49,
          77,
          40,
          94,
          84,
          55,
          48,
          75,
          50,
          55,
          81,
          87,
          70,
          82,
          57,
          64,
          48,
          62,
          48,
          79,
          31,
          61,
          86,
          81,
          52,
          68,
          47,
          100,
          93,
          69,
          68,
          71,
          66,
          57,
          44,
          70,
          60,
          68,
          73,
          92,
          64,
          59,
          84,
          71,
          70,
          70,
          61,
          81,
          50,
          79,
          55,
          64,
          84,
          76,
          62,
          66,
          62,
          73,
          61,
          62,
          48,
          79,
          83,
          54,
          77,
          81,
          63,
          57
         ],
         "y0": " ",
         "yaxis": "y"
        }
       ],
       "layout": {
        "boxmode": "group",
        "legend": {
         "title": {
          "text": "gender"
         },
         "tracegroupgap": 0
        },
        "margin": {
         "t": 60
        },
        "template": {
         "data": {
          "bar": [
           {
            "error_x": {
             "color": "#2a3f5f"
            },
            "error_y": {
             "color": "#2a3f5f"
            },
            "marker": {
             "line": {
              "color": "#E5ECF6",
              "width": 0.5
             }
            },
            "type": "bar"
           }
          ],
          "barpolar": [
           {
            "marker": {
             "line": {
              "color": "#E5ECF6",
              "width": 0.5
             }
            },
            "type": "barpolar"
           }
          ],
          "carpet": [
           {
            "aaxis": {
             "endlinecolor": "#2a3f5f",
             "gridcolor": "white",
             "linecolor": "white",
             "minorgridcolor": "white",
             "startlinecolor": "#2a3f5f"
            },
            "baxis": {
             "endlinecolor": "#2a3f5f",
             "gridcolor": "white",
             "linecolor": "white",
             "minorgridcolor": "white",
             "startlinecolor": "#2a3f5f"
            },
            "type": "carpet"
           }
          ],
          "choropleth": [
           {
            "colorbar": {
             "outlinewidth": 0,
             "ticks": ""
            },
            "type": "choropleth"
           }
          ],
          "contour": [
           {
            "colorbar": {
             "outlinewidth": 0,
             "ticks": ""
            },
            "colorscale": [
             [
              0,
              "#0d0887"
             ],
             [
              0.1111111111111111,
              "#46039f"
             ],
             [
              0.2222222222222222,
              "#7201a8"
             ],
             [
              0.3333333333333333,
              "#9c179e"
             ],
             [
              0.4444444444444444,
              "#bd3786"
             ],
             [
              0.5555555555555556,
              "#d8576b"
             ],
             [
              0.6666666666666666,
              "#ed7953"
             ],
             [
              0.7777777777777778,
              "#fb9f3a"
             ],
             [
              0.8888888888888888,
              "#fdca26"
             ],
             [
              1,
              "#f0f921"
             ]
            ],
            "type": "contour"
           }
          ],
          "contourcarpet": [
           {
            "colorbar": {
             "outlinewidth": 0,
             "ticks": ""
            },
            "type": "contourcarpet"
           }
          ],
          "heatmap": [
           {
            "colorbar": {
             "outlinewidth": 0,
             "ticks": ""
            },
            "colorscale": [
             [
              0,
              "#0d0887"
             ],
             [
              0.1111111111111111,
              "#46039f"
             ],
             [
              0.2222222222222222,
              "#7201a8"
             ],
             [
              0.3333333333333333,
              "#9c179e"
             ],
             [
              0.4444444444444444,
              "#bd3786"
             ],
             [
              0.5555555555555556,
              "#d8576b"
             ],
             [
              0.6666666666666666,
              "#ed7953"
             ],
             [
              0.7777777777777778,
              "#fb9f3a"
             ],
             [
              0.8888888888888888,
              "#fdca26"
             ],
             [
              1,
              "#f0f921"
             ]
            ],
            "type": "heatmap"
           }
          ],
          "heatmapgl": [
           {
            "colorbar": {
             "outlinewidth": 0,
             "ticks": ""
            },
            "colorscale": [
             [
              0,
              "#0d0887"
             ],
             [
              0.1111111111111111,
              "#46039f"
             ],
             [
              0.2222222222222222,
              "#7201a8"
             ],
             [
              0.3333333333333333,
              "#9c179e"
             ],
             [
              0.4444444444444444,
              "#bd3786"
             ],
             [
              0.5555555555555556,
              "#d8576b"
             ],
             [
              0.6666666666666666,
              "#ed7953"
             ],
             [
              0.7777777777777778,
              "#fb9f3a"
             ],
             [
              0.8888888888888888,
              "#fdca26"
             ],
             [
              1,
              "#f0f921"
             ]
            ],
            "type": "heatmapgl"
           }
          ],
          "histogram": [
           {
            "marker": {
             "colorbar": {
              "outlinewidth": 0,
              "ticks": ""
             }
            },
            "type": "histogram"
           }
          ],
          "histogram2d": [
           {
            "colorbar": {
             "outlinewidth": 0,
             "ticks": ""
            },
            "colorscale": [
             [
              0,
              "#0d0887"
             ],
             [
              0.1111111111111111,
              "#46039f"
             ],
             [
              0.2222222222222222,
              "#7201a8"
             ],
             [
              0.3333333333333333,
              "#9c179e"
             ],
             [
              0.4444444444444444,
              "#bd3786"
             ],
             [
              0.5555555555555556,
              "#d8576b"
             ],
             [
              0.6666666666666666,
              "#ed7953"
             ],
             [
              0.7777777777777778,
              "#fb9f3a"
             ],
             [
              0.8888888888888888,
              "#fdca26"
             ],
             [
              1,
              "#f0f921"
             ]
            ],
            "type": "histogram2d"
           }
          ],
          "histogram2dcontour": [
           {
            "colorbar": {
             "outlinewidth": 0,
             "ticks": ""
            },
            "colorscale": [
             [
              0,
              "#0d0887"
             ],
             [
              0.1111111111111111,
              "#46039f"
             ],
             [
              0.2222222222222222,
              "#7201a8"
             ],
             [
              0.3333333333333333,
              "#9c179e"
             ],
             [
              0.4444444444444444,
              "#bd3786"
             ],
             [
              0.5555555555555556,
              "#d8576b"
             ],
             [
              0.6666666666666666,
              "#ed7953"
             ],
             [
              0.7777777777777778,
              "#fb9f3a"
             ],
             [
              0.8888888888888888,
              "#fdca26"
             ],
             [
              1,
              "#f0f921"
             ]
            ],
            "type": "histogram2dcontour"
           }
          ],
          "mesh3d": [
           {
            "colorbar": {
             "outlinewidth": 0,
             "ticks": ""
            },
            "type": "mesh3d"
           }
          ],
          "parcoords": [
           {
            "line": {
             "colorbar": {
              "outlinewidth": 0,
              "ticks": ""
             }
            },
            "type": "parcoords"
           }
          ],
          "pie": [
           {
            "automargin": true,
            "type": "pie"
           }
          ],
          "scatter": [
           {
            "marker": {
             "colorbar": {
              "outlinewidth": 0,
              "ticks": ""
             }
            },
            "type": "scatter"
           }
          ],
          "scatter3d": [
           {
            "line": {
             "colorbar": {
              "outlinewidth": 0,
              "ticks": ""
             }
            },
            "marker": {
             "colorbar": {
              "outlinewidth": 0,
              "ticks": ""
             }
            },
            "type": "scatter3d"
           }
          ],
          "scattercarpet": [
           {
            "marker": {
             "colorbar": {
              "outlinewidth": 0,
              "ticks": ""
             }
            },
            "type": "scattercarpet"
           }
          ],
          "scattergeo": [
           {
            "marker": {
             "colorbar": {
              "outlinewidth": 0,
              "ticks": ""
             }
            },
            "type": "scattergeo"
           }
          ],
          "scattergl": [
           {
            "marker": {
             "colorbar": {
              "outlinewidth": 0,
              "ticks": ""
             }
            },
            "type": "scattergl"
           }
          ],
          "scattermapbox": [
           {
            "marker": {
             "colorbar": {
              "outlinewidth": 0,
              "ticks": ""
             }
            },
            "type": "scattermapbox"
           }
          ],
          "scatterpolar": [
           {
            "marker": {
             "colorbar": {
              "outlinewidth": 0,
              "ticks": ""
             }
            },
            "type": "scatterpolar"
           }
          ],
          "scatterpolargl": [
           {
            "marker": {
             "colorbar": {
              "outlinewidth": 0,
              "ticks": ""
             }
            },
            "type": "scatterpolargl"
           }
          ],
          "scatterternary": [
           {
            "marker": {
             "colorbar": {
              "outlinewidth": 0,
              "ticks": ""
             }
            },
            "type": "scatterternary"
           }
          ],
          "surface": [
           {
            "colorbar": {
             "outlinewidth": 0,
             "ticks": ""
            },
            "colorscale": [
             [
              0,
              "#0d0887"
             ],
             [
              0.1111111111111111,
              "#46039f"
             ],
             [
              0.2222222222222222,
              "#7201a8"
             ],
             [
              0.3333333333333333,
              "#9c179e"
             ],
             [
              0.4444444444444444,
              "#bd3786"
             ],
             [
              0.5555555555555556,
              "#d8576b"
             ],
             [
              0.6666666666666666,
              "#ed7953"
             ],
             [
              0.7777777777777778,
              "#fb9f3a"
             ],
             [
              0.8888888888888888,
              "#fdca26"
             ],
             [
              1,
              "#f0f921"
             ]
            ],
            "type": "surface"
           }
          ],
          "table": [
           {
            "cells": {
             "fill": {
              "color": "#EBF0F8"
             },
             "line": {
              "color": "white"
             }
            },
            "header": {
             "fill": {
              "color": "#C8D4E3"
             },
             "line": {
              "color": "white"
             }
            },
            "type": "table"
           }
          ]
         },
         "layout": {
          "annotationdefaults": {
           "arrowcolor": "#2a3f5f",
           "arrowhead": 0,
           "arrowwidth": 1
          },
          "autotypenumbers": "strict",
          "coloraxis": {
           "colorbar": {
            "outlinewidth": 0,
            "ticks": ""
           }
          },
          "colorscale": {
           "diverging": [
            [
             0,
             "#8e0152"
            ],
            [
             0.1,
             "#c51b7d"
            ],
            [
             0.2,
             "#de77ae"
            ],
            [
             0.3,
             "#f1b6da"
            ],
            [
             0.4,
             "#fde0ef"
            ],
            [
             0.5,
             "#f7f7f7"
            ],
            [
             0.6,
             "#e6f5d0"
            ],
            [
             0.7,
             "#b8e186"
            ],
            [
             0.8,
             "#7fbc41"
            ],
            [
             0.9,
             "#4d9221"
            ],
            [
             1,
             "#276419"
            ]
           ],
           "sequential": [
            [
             0,
             "#0d0887"
            ],
            [
             0.1111111111111111,
             "#46039f"
            ],
            [
             0.2222222222222222,
             "#7201a8"
            ],
            [
             0.3333333333333333,
             "#9c179e"
            ],
            [
             0.4444444444444444,
             "#bd3786"
            ],
            [
             0.5555555555555556,
             "#d8576b"
            ],
            [
             0.6666666666666666,
             "#ed7953"
            ],
            [
             0.7777777777777778,
             "#fb9f3a"
            ],
            [
             0.8888888888888888,
             "#fdca26"
            ],
            [
             1,
             "#f0f921"
            ]
           ],
           "sequentialminus": [
            [
             0,
             "#0d0887"
            ],
            [
             0.1111111111111111,
             "#46039f"
            ],
            [
             0.2222222222222222,
             "#7201a8"
            ],
            [
             0.3333333333333333,
             "#9c179e"
            ],
            [
             0.4444444444444444,
             "#bd3786"
            ],
            [
             0.5555555555555556,
             "#d8576b"
            ],
            [
             0.6666666666666666,
             "#ed7953"
            ],
            [
             0.7777777777777778,
             "#fb9f3a"
            ],
            [
             0.8888888888888888,
             "#fdca26"
            ],
            [
             1,
             "#f0f921"
            ]
           ]
          },
          "colorway": [
           "#636efa",
           "#EF553B",
           "#00cc96",
           "#ab63fa",
           "#FFA15A",
           "#19d3f3",
           "#FF6692",
           "#B6E880",
           "#FF97FF",
           "#FECB52"
          ],
          "font": {
           "color": "#2a3f5f"
          },
          "geo": {
           "bgcolor": "white",
           "lakecolor": "white",
           "landcolor": "#E5ECF6",
           "showlakes": true,
           "showland": true,
           "subunitcolor": "white"
          },
          "hoverlabel": {
           "align": "left"
          },
          "hovermode": "closest",
          "mapbox": {
           "style": "light"
          },
          "paper_bgcolor": "white",
          "plot_bgcolor": "#E5ECF6",
          "polar": {
           "angularaxis": {
            "gridcolor": "white",
            "linecolor": "white",
            "ticks": ""
           },
           "bgcolor": "#E5ECF6",
           "radialaxis": {
            "gridcolor": "white",
            "linecolor": "white",
            "ticks": ""
           }
          },
          "scene": {
           "xaxis": {
            "backgroundcolor": "#E5ECF6",
            "gridcolor": "white",
            "gridwidth": 2,
            "linecolor": "white",
            "showbackground": true,
            "ticks": "",
            "zerolinecolor": "white"
           },
           "yaxis": {
            "backgroundcolor": "#E5ECF6",
            "gridcolor": "white",
            "gridwidth": 2,
            "linecolor": "white",
            "showbackground": true,
            "ticks": "",
            "zerolinecolor": "white"
           },
           "zaxis": {
            "backgroundcolor": "#E5ECF6",
            "gridcolor": "white",
            "gridwidth": 2,
            "linecolor": "white",
            "showbackground": true,
            "ticks": "",
            "zerolinecolor": "white"
           }
          },
          "shapedefaults": {
           "line": {
            "color": "#2a3f5f"
           }
          },
          "ternary": {
           "aaxis": {
            "gridcolor": "white",
            "linecolor": "white",
            "ticks": ""
           },
           "baxis": {
            "gridcolor": "white",
            "linecolor": "white",
            "ticks": ""
           },
           "bgcolor": "#E5ECF6",
           "caxis": {
            "gridcolor": "white",
            "linecolor": "white",
            "ticks": ""
           }
          },
          "title": {
           "x": 0.05
          },
          "xaxis": {
           "automargin": true,
           "gridcolor": "white",
           "linecolor": "white",
           "ticks": "",
           "title": {
            "standoff": 15
           },
           "zerolinecolor": "white",
           "zerolinewidth": 2
          },
          "yaxis": {
           "automargin": true,
           "gridcolor": "white",
           "linecolor": "white",
           "ticks": "",
           "title": {
            "standoff": 15
           },
           "zerolinecolor": "white",
           "zerolinewidth": 2
          }
         }
        },
        "xaxis": {
         "anchor": "y",
         "domain": [
          0,
          1
         ],
         "title": {
          "text": "race/ethnicity"
         }
        },
        "yaxis": {
         "anchor": "x",
         "domain": [
          0,
          1
         ],
         "title": {
          "text": "mean score"
         }
        }
       }
      },
      "text/html": [
       "<div>                            <div id=\"22b12c39-9098-4a5e-a5ba-0df8f100e853\" class=\"plotly-graph-div\" style=\"height:525px; width:100%;\"></div>            <script type=\"text/javascript\">                require([\"plotly\"], function(Plotly) {                    window.PLOTLYENV=window.PLOTLYENV || {};                                    if (document.getElementById(\"22b12c39-9098-4a5e-a5ba-0df8f100e853\")) {                    Plotly.newPlot(                        \"22b12c39-9098-4a5e-a5ba-0df8f100e853\",                        [{\"alignmentgroup\": \"True\", \"hovertemplate\": \"gender=0<br>race/ethnicity=%{x}<br>mean score=%{y}<extra></extra>\", \"legendgroup\": \"0\", \"marker\": {\"color\": \"#636efa\"}, \"name\": \"0\", \"notched\": false, \"offsetgroup\": \"0\", \"orientation\": \"v\", \"showlegend\": true, \"type\": \"box\", \"x\": [1, 2, 1, 1, 1, 1, 1, 0, 2, 1, 2, 1, 2, 2, 3, 3, 1, 4, 3, 3, 3, 2, 1, 4, 0, 2, 3, 2, 2, 4, 2, 2, 3, 2, 2, 3, 0, 3, 4, 1, 2, 2, 3, 0, 3, 2, 1, 4, 3, 3, 3, 2, 3, 1, 1, 3, 3, 4, 1, 3, 3, 2, 2, 2, 1, 0, 2, 2, 3, 2, 4, 2, 3, 1, 2, 4, 1, 4, 4, 2, 1, 1, 2, 3, 2, 2, 2, 1, 2, 1, 3, 2, 4, 3, 2, 4, 1, 2, 1, 1, 2, 3, 1, 1, 1, 2, 4, 2, 3, 2, 1, 4, 2, 2, 1, 3, 4, 3, 1, 1, 3, 1, 4, 2, 1, 2, 2, 2, 4, 2, 3, 3, 4, 3, 3, 2, 4, 2, 3, 3, 1, 1, 4, 2, 2, 1, 3, 1, 2, 2, 3, 3, 2, 4, 2, 2, 2, 2, 1, 2, 1, 1, 3, 2, 1, 2, 2, 1, 2, 2, 2, 1, 2, 3, 1, 2, 3, 0, 3, 2, 3, 3, 3, 3, 0, 1, 4, 0, 4, 4, 2, 3, 3, 2, 1, 2, 2, 0, 3, 2, 2, 1, 3, 3, 2, 2, 3, 3, 0, 2, 2, 0, 2, 3, 0, 1, 2, 2, 4, 2, 2, 3, 4, 4, 2, 2, 3, 0, 2, 2, 2, 3, 1, 3, 3, 3, 1, 2, 0, 2, 2, 2, 1, 2, 3, 1, 3, 1, 4, 3, 1, 2, 1, 1, 2, 3, 4, 3, 1, 2, 2, 3, 2, 2, 2, 4, 2, 3, 2, 3, 3, 0, 2, 1, 2, 2, 1, 3, 2, 3, 4, 3, 2, 2, 4, 1, 1, 3, 3, 4, 3, 3, 3, 2, 0, 2, 2, 0, 4, 2, 2, 3, 3, 3, 2, 4, 2, 2, 4, 1, 2, 2, 0, 2, 4, 2, 4, 2, 1, 2, 1, 3, 3, 3, 1, 4, 1, 3, 4, 1, 3, 0, 3, 0, 1, 1, 3, 3, 2, 2, 2, 1, 2, 2, 2, 3, 1, 4, 2, 3, 2, 4, 2, 4, 2, 3, 2, 3, 2, 0, 3, 4, 1, 3, 1, 3, 4, 3, 1, 1, 2, 2, 2, 1, 4, 3, 1, 2, 4, 1, 0, 2, 2, 2, 2, 4, 3, 2, 3, 1, 1, 2, 3, 1, 2, 1, 1, 2, 0, 3, 1, 1, 2, 1, 4, 1, 2, 1, 3, 1, 4, 4, 2, 4, 1, 2, 3, 4, 2, 2, 0, 1, 2, 0, 3, 1, 2, 2, 2, 3, 0, 2, 1, 2, 0, 2, 3, 1, 3, 2, 0, 4, 1, 2, 2, 4, 2, 2, 2, 3, 3, 4, 1, 4, 2, 4, 3, 4, 4, 0, 4, 4, 1, 3, 2, 0, 3, 3, 3, 2, 0, 2, 2, 1, 4, 2, 2, 2, 1, 3, 2, 4, 3, 1, 2, 3, 4, 3, 4, 2, 3, 3, 0, 3, 4, 2, 3, 4, 1, 3, 0, 3, 0, 2, 2, 1, 0, 2, 2, 0, 3, 1, 3, 3, 4, 2, 3, 3], \"x0\": \" \", \"xaxis\": \"x\", \"y\": [73.0, 82.0, 93.0, 77.0, 92.0, 49.0, 73.0, 54.0, 74.0, 26.0, 58.0, 70.0, 72.0, 70.0, 69.0, 72.0, 63.0, 64.0, 79.0, 58.0, 84.0, 66.0, 59.0, 53.0, 61.0, 71.0, 69.0, 81.0, 39.0, 84.0, 9.0, 73.0, 59.0, 69.0, 53.0, 65.0, 47.0, 69.0, 66.0, 49.0, 78.0, 82.0, 72.0, 65.0, 80.0, 70.0, 86.0, 68.0, 62.0, 65.0, 88.0, 66.0, 96.0, 66.0, 69.0, 88.0, 54.0, 100.0, 81.0, 80.0, 58.0, 63.0, 87.0, 91.0, 89.0, 50.0, 80.0, 64.0, 73.0, 62.0, 50.0, 31.0, 75.0, 65.0, 82.0, 73.0, 78.0, 83.0, 88.0, 99.0, 71.0, 76.0, 71.0, 82.0, 67.0, 49.0, 86.0, 53.0, 75.0, 61.0, 99.0, 59.0, 49.0, 68.0, 84.0, 67.0, 64.0, 79.0, 51.0, 78.0, 79.0, 74.0, 65.0, 77.0, 62.0, 55.0, 86.0, 38.0, 66.0, 61.0, 64.0, 52.0, 72.0, 92.0, 79.0, 66.0, 82.0, 54.0, 65.0, 64.0, 79.0, 67.0, 68.0, 68.0, 74.0, 76.0, 73.0, 48.0, 94.0, 73.0, 73.0, 92.0, 72.0, 53.0, 69.0, 90.0, 66.0, 77.0, 79.0, 75.0, 43.0, 79.0, 71.0, 77.0, 77.0, 64.0, 53.0, 76.0, 68.0, 66.0, 83.0, 61.0, 77.0, 80.0, 77.0, 50.0, 43.0, 89.0, 49.0, 90.0, 65.0, 30.0, 50.0, 66.0, 73.0, 76.0, 89.0, 62.0, 74.0, 54.0, 67.0, 68.0, 59.0, 86.0, 60.0, 56.0, 31.0, 55.0, 81.0, 63.0, 92.0, 67.0, 84.0, 93.0, 77.0, 83.0, 44.0, 41.0, 73.0, 69.0, 67.0, 63.0, 74.0, 72.0, 60.0, 90.0, 60.0, 56.0, 96.0, 58.0, 68.0, 80.0, 55.0, 72.0, 67.0, 89.0, 60.0, 57.0, 75.0, 64.0, 68.0, 52.0, 76.0, 80.0, 67.0, 77.0, 73.0, 78.0, 96.0, 72.0, 59.0, 86.0, 100.0, 72.0, 86.0, 87.0, 32.0, 83.0, 86.0, 69.0, 79.0, 62.0, 90.0, 77.0, 63.0, 56.0, 52.0, 70.0, 75.0, 66.0, 85.0, 86.0, 62.0, 51.0, 71.0, 68.0, 78.0, 91.0, 92.0, 51.0, 81.0, 88.0, 59.0, 89.0, 83.0, 82.0, 71.0, 74.0, 75.0, 87.0, 44.0, 39.0, 69.0, 69.0, 51.0, 87.0, 77.0, 60.0, 79.0, 89.0, 64.0, 96.0, 64.0, 46.0, 35.0, 69.0, 64.0, 76.0, 70.0, 74.0, 97.0, 70.0, 57.0, 60.0, 75.0, 87.0, 54.0, 61.0, 91.0, 79.0, 71.0, 76.0, 74.0, 72.0, 67.0, 56.0, 61.0, 60.0, 74.0, 97.0, 69.0, 73.0, 76.0, 59.0, 29.0, 78.0, 84.0, 51.0, 62.0, 62.0, 61.0, 72.0, 89.0, 67.0, 40.0, 50.0, 60.0, 50.0, 74.0, 83.0, 76.0, 87.0, 74.0, 84.0, 77.0, 78.0, 76.0, 65.0, 65.0, 53.0, 76.0, 75.0, 90.0, 70.0, 77.0, 65.0, 54.0, 65.0, 67.0, 57.0, 69.0, 83.0, 70.0, 74.0, 78.0, 75.0, 60.0, 76.0, 76.0, 71.0, 38.0, 98.0, 52.0, 76.0, 74.0, 76.0, 56.0, 85.0, 82.0, 67.0, 71.0, 81.0, 65.0, 65.0, 62.0, 54.0, 83.0, 99.0, 68.0, 86.0, 97.0, 75.0, 68.0, 84.0, 72.0, 83.0, 75.0, 90.0, 56.0, 64.0, 50.0, 82.0, 68.0, 56.0, 84.0, 90.0, 59.0, 63.0, 53.0, 62.0, 73.0, 70.0, 71.0, 64.0, 73.0, 54.0, 69.0, 41.0, 78.0, 53.0, 84.0, 81.0, 58.0, 42.0, 76.0, 30.0, 59.0, 57.0, 65.0, 48.0, 66.0, 78.0, 55.0, 92.0, 85.0, 76.0, 71.0, 42.0, 62.0, 78.0, 56.0, 67.0, 85.0, 89.0, 87.0, 80.0, 53.0, 65.0, 70.0, 79.0, 59.0, 83.0, 83.0, 66.0, 79.0, 72.0, 46.0, 34.0, 56.0, 66.0, 64.0, 88.0, 97.0, 75.0, 56.0, 85.0, 74.0, 73.0, 55.0, 70.0, 71.0, 70.0, 69.0, 52.0, 73.0, 96.0, 69.0, 87.0, 87.0, 63.0, 63.0, 35.0, 73.0, 75.0, 75.0, 41.0, 98.0, 78.0, 85.0, 71.0, 78.0, 60.0, 58.0, 54.0, 68.0, 52.0, 71.0, 45.0, 61.0, 66.0, 52.0, 57.0, 88.0, 62.0, 58.0, 56.0, 68.0, 78.0, 73.0, 67.0, 97.0, 56.0, 59.0, 52.0, 100.0, 72.0, 68.0, 70.0, 80.0, 96.0, 54.0, 58.0, 61.0, 74.0, 93.0, 18.0, 85.0, 77.0, 50.0, 45.0, 79.0, 75.0, 69.0, 69.0, 94.0, 65.0, 74.0, 83.0], \"y0\": \" \", \"yaxis\": \"y\"}, {\"alignmentgroup\": \"True\", \"hovertemplate\": \"gender=1<br>race/ethnicity=%{x}<br>mean score=%{y}<extra></extra>\", \"legendgroup\": \"1\", \"marker\": {\"color\": \"#EF553B\"}, \"name\": \"1\", \"notched\": false, \"offsetgroup\": \"1\", \"orientation\": \"v\", \"showlegend\": true, \"type\": \"box\", \"x\": [0, 2, 1, 3, 2, 3, 0, 2, 2, 3, 3, 3, 0, 1, 2, 3, 4, 4, 1, 2, 1, 1, 2, 4, 4, 2, 3, 3, 3, 4, 0, 0, 1, 3, 1, 3, 2, 2, 1, 4, 0, 1, 0, 4, 3, 2, 2, 2, 2, 1, 1, 3, 1, 2, 4, 2, 0, 2, 1, 3, 4, 1, 3, 3, 3, 2, 4, 3, 2, 1, 4, 3, 0, 3, 1, 2, 4, 0, 0, 3, 3, 1, 3, 1, 1, 2, 2, 0, 4, 2, 2, 2, 4, 3, 1, 3, 3, 3, 2, 4, 2, 2, 3, 4, 4, 3, 2, 2, 4, 1, 1, 1, 1, 3, 3, 0, 3, 2, 4, 2, 3, 3, 1, 2, 3, 4, 3, 2, 4, 2, 0, 3, 3, 2, 2, 3, 3, 2, 2, 1, 2, 1, 3, 3, 1, 4, 1, 4, 2, 3, 2, 3, 1, 0, 4, 2, 3, 0, 3, 1, 0, 4, 2, 1, 3, 2, 2, 1, 2, 0, 2, 2, 2, 4, 1, 3, 2, 2, 3, 3, 1, 3, 4, 4, 0, 3, 1, 2, 0, 2, 2, 4, 3, 4, 0, 2, 2, 3, 4, 4, 2, 0, 1, 3, 0, 1, 3, 4, 3, 1, 4, 2, 2, 3, 4, 1, 2, 2, 0, 2, 2, 2, 2, 2, 3, 3, 2, 3, 0, 3, 2, 1, 1, 2, 2, 3, 1, 2, 1, 0, 0, 2, 4, 3, 4, 1, 2, 0, 2, 3, 1, 0, 3, 4, 2, 0, 1, 2, 3, 0, 3, 3, 3, 2, 2, 4, 2, 4, 1, 2, 4, 0, 2, 3, 4, 2, 2, 2, 1, 3, 4, 2, 3, 2, 1, 1, 1, 3, 1, 0, 0, 0, 2, 0, 4, 1, 0, 3, 3, 2, 3, 2, 3, 3, 2, 1, 2, 0, 3, 1, 3, 3, 3, 1, 3, 0, 4, 3, 1, 2, 2, 3, 3, 2, 2, 3, 2, 3, 3, 3, 3, 1, 1, 1, 4, 3, 0, 4, 2, 0, 0, 3, 2, 3, 2, 3, 2, 4, 3, 2, 1, 4, 4, 2, 0, 3, 2, 2, 3, 2, 3, 1, 3, 3, 2, 1, 3, 4, 2, 2, 3, 4, 1, 3, 3, 1, 0, 1, 3, 1, 4, 2, 2, 3, 4, 3, 4, 2, 2, 0, 2, 1, 0, 0, 4, 1, 3, 4, 2, 1, 0, 1, 4, 1, 2, 1, 4, 2, 3, 3, 2, 4, 2, 1, 1, 2, 3, 2, 3, 2, 1, 4, 2, 1, 1, 4, 2, 3, 2, 2, 3, 2, 3, 3, 1, 3, 3, 3, 1, 4, 3, 4, 1, 3, 3, 3, 4, 4, 4, 2, 3, 3, 2, 2, 3, 0, 3, 3, 2, 2, 0, 1, 1, 4, 2, 4, 2, 2, 3, 0, 2, 2, 1, 2, 3, 3, 1, 0, 4, 4, 0, 2], \"x0\": \" \", \"xaxis\": \"x\", \"y\": [49.0, 76.0, 41.0, 65.0, 55.0, 45.0, 73.0, 88.0, 45.0, 66.0, 50.0, 75.0, 73.0, 59.0, 68.0, 40.0, 89.0, 80.0, 57.0, 57.0, 63.0, 59.0, 83.0, 52.0, 71.0, 46.0, 80.0, 52.0, 58.0, 75.0, 37.0, 59.0, 64.0, 40.0, 58.0, 60.0, 58.0, 46.0, 41.0, 26.0, 80.0, 46.0, 50.0, 66.0, 38.0, 32.0, 74.0, 46.0, 80.0, 64.0, 71.0, 72.0, 50.0, 91.0, 64.0, 55.0, 51.0, 78.0, 91.0, 59.0, 79.0, 69.0, 72.0, 79.0, 85.0, 43.0, 77.0, 76.0, 54.0, 49.0, 60.0, 67.0, 49.0, 80.0, 82.0, 69.0, 98.0, 66.0, 71.0, 50.0, 63.0, 60.0, 64.0, 78.0, 51.0, 51.0, 52.0, 73.0, 87.0, 68.0, 49.0, 66.0, 74.0, 65.0, 48.0, 79.0, 67.0, 56.0, 64.0, 54.0, 72.0, 47.0, 74.0, 69.0, 79.0, 79.0, 30.0, 56.0, 86.0, 81.0, 71.0, 58.0, 82.0, 80.0, 54.0, 68.0, 69.0, 44.0, 86.0, 83.0, 77.0, 65.0, 52.0, 81.0, 69.0, 51.0, 73.0, 77.0, 80.0, 60.0, 48.0, 77.0, 53.0, 77.0, 79.0, 72.0, 47.0, 64.0, 50.0, 83.0, 78.0, 62.0, 49.0, 46.0, 82.0, 89.0, 80.0, 77.0, 71.0, 76.0, 60.0, 78.0, 63.0, 43.0, 71.0, 45.0, 84.0, 80.0, 54.0, 73.0, 68.0, 89.0, 49.0, 61.0, 65.0, 67.0, 78.0, 68.0, 61.0, 23.0, 78.0, 64.0, 40.0, 57.0, 83.0, 72.0, 48.0, 57.0, 69.0, 73.0, 60.0, 72.0, 79.0, 58.0, 62.0, 61.0, 82.0, 59.0, 56.0, 60.0, 63.0, 77.0, 73.0, 43.0, 64.0, 94.0, 77.0, 73.0, 66.0, 70.0, 56.0, 45.0, 65.0, 58.0, 46.0, 64.0, 85.0, 82.0, 66.0, 66.0, 75.0, 71.0, 71.0, 63.0, 56.0, 38.0, 85.0, 68.0, 59.0, 62.0, 63.0, 57.0, 68.0, 50.0, 69.0, 71.0, 59.0, 86.0, 78.0, 65.0, 82.0, 45.0, 75.0, 57.0, 47.0, 52.0, 68.0, 55.0, 51.0, 65.0, 68.0, 80.0, 68.0, 73.0, 71.0, 71.0, 66.0, 52.0, 72.0, 55.0, 58.0, 81.0, 66.0, 73.0, 59.0, 68.0, 56.0, 78.0, 73.0, 52.0, 54.0, 57.0, 61.0, 54.0, 51.0, 62.0, 59.0, 60.0, 70.0, 56.0, 74.0, 92.0, 71.0, 80.0, 80.0, 68.0, 73.0, 73.0, 88.0, 68.0, 46.0, 65.0, 67.0, 93.0, 48.0, 45.0, 53.0, 68.0, 72.0, 93.0, 49.0, 55.0, 56.0, 61.0, 67.0, 23.0, 52.0, 56.0, 88.0, 70.0, 64.0, 92.0, 83.0, 87.0, 69.0, 60.0, 54.0, 94.0, 99.0, 67.0, 52.0, 51.0, 67.0, 68.0, 83.0, 70.0, 79.0, 48.0, 65.0, 53.0, 69.0, 65.0, 87.0, 75.0, 67.0, 69.0, 69.0, 77.0, 53.0, 78.0, 61.0, 63.0, 57.0, 65.0, 76.0, 76.0, 52.0, 89.0, 64.0, 86.0, 66.0, 39.0, 59.0, 85.0, 89.0, 82.0, 74.0, 81.0, 58.0, 47.0, 44.0, 75.0, 59.0, 43.0, 48.0, 49.0, 61.0, 85.0, 75.0, 59.0, 75.0, 52.0, 75.0, 72.0, 67.0, 86.0, 69.0, 68.0, 77.0, 55.0, 55.0, 70.0, 74.0, 82.0, 61.0, 66.0, 58.0, 50.0, 74.0, 64.0, 87.0, 84.0, 65.0, 70.0, 83.0, 70.0, 61.0, 69.0, 76.0, 77.0, 78.0, 55.0, 39.0, 47.0, 82.0, 89.0, 69.0, 51.0, 62.0, 58.0, 61.0, 51.0, 65.0, 56.0, 58.0, 76.0, 86.0, 87.0, 56.0, 75.0, 68.0, 70.0, 60.0, 69.0, 49.0, 77.0, 40.0, 94.0, 84.0, 55.0, 48.0, 75.0, 50.0, 55.0, 81.0, 87.0, 70.0, 82.0, 57.0, 64.0, 48.0, 62.0, 48.0, 79.0, 31.0, 61.0, 86.0, 81.0, 52.0, 68.0, 47.0, 100.0, 93.0, 69.0, 68.0, 71.0, 66.0, 57.0, 44.0, 70.0, 60.0, 68.0, 73.0, 92.0, 64.0, 59.0, 84.0, 71.0, 70.0, 70.0, 61.0, 81.0, 50.0, 79.0, 55.0, 64.0, 84.0, 76.0, 62.0, 66.0, 62.0, 73.0, 61.0, 62.0, 48.0, 79.0, 83.0, 54.0, 77.0, 81.0, 63.0, 57.0], \"y0\": \" \", \"yaxis\": \"y\"}],                        {\"boxmode\": \"group\", \"legend\": {\"title\": {\"text\": \"gender\"}, \"tracegroupgap\": 0}, \"margin\": {\"t\": 60}, \"template\": {\"data\": {\"bar\": [{\"error_x\": {\"color\": \"#2a3f5f\"}, \"error_y\": {\"color\": \"#2a3f5f\"}, \"marker\": {\"line\": {\"color\": \"#E5ECF6\", \"width\": 0.5}}, \"type\": \"bar\"}], \"barpolar\": [{\"marker\": {\"line\": {\"color\": \"#E5ECF6\", \"width\": 0.5}}, \"type\": \"barpolar\"}], \"carpet\": [{\"aaxis\": {\"endlinecolor\": \"#2a3f5f\", \"gridcolor\": \"white\", \"linecolor\": \"white\", \"minorgridcolor\": \"white\", \"startlinecolor\": \"#2a3f5f\"}, \"baxis\": {\"endlinecolor\": \"#2a3f5f\", \"gridcolor\": \"white\", \"linecolor\": \"white\", \"minorgridcolor\": \"white\", \"startlinecolor\": \"#2a3f5f\"}, \"type\": \"carpet\"}], \"choropleth\": [{\"colorbar\": {\"outlinewidth\": 0, \"ticks\": \"\"}, \"type\": \"choropleth\"}], \"contour\": [{\"colorbar\": {\"outlinewidth\": 0, \"ticks\": \"\"}, \"colorscale\": [[0.0, \"#0d0887\"], [0.1111111111111111, \"#46039f\"], [0.2222222222222222, \"#7201a8\"], [0.3333333333333333, \"#9c179e\"], [0.4444444444444444, \"#bd3786\"], [0.5555555555555556, \"#d8576b\"], [0.6666666666666666, \"#ed7953\"], [0.7777777777777778, \"#fb9f3a\"], [0.8888888888888888, \"#fdca26\"], [1.0, \"#f0f921\"]], \"type\": \"contour\"}], \"contourcarpet\": [{\"colorbar\": {\"outlinewidth\": 0, \"ticks\": \"\"}, \"type\": \"contourcarpet\"}], \"heatmap\": [{\"colorbar\": {\"outlinewidth\": 0, \"ticks\": \"\"}, \"colorscale\": [[0.0, \"#0d0887\"], [0.1111111111111111, \"#46039f\"], [0.2222222222222222, \"#7201a8\"], [0.3333333333333333, \"#9c179e\"], [0.4444444444444444, \"#bd3786\"], [0.5555555555555556, \"#d8576b\"], [0.6666666666666666, \"#ed7953\"], [0.7777777777777778, \"#fb9f3a\"], [0.8888888888888888, \"#fdca26\"], [1.0, \"#f0f921\"]], \"type\": \"heatmap\"}], \"heatmapgl\": [{\"colorbar\": {\"outlinewidth\": 0, \"ticks\": \"\"}, \"colorscale\": [[0.0, \"#0d0887\"], [0.1111111111111111, \"#46039f\"], [0.2222222222222222, \"#7201a8\"], [0.3333333333333333, \"#9c179e\"], [0.4444444444444444, \"#bd3786\"], [0.5555555555555556, \"#d8576b\"], [0.6666666666666666, \"#ed7953\"], [0.7777777777777778, \"#fb9f3a\"], [0.8888888888888888, \"#fdca26\"], [1.0, \"#f0f921\"]], \"type\": \"heatmapgl\"}], \"histogram\": [{\"marker\": {\"colorbar\": {\"outlinewidth\": 0, \"ticks\": \"\"}}, \"type\": \"histogram\"}], \"histogram2d\": [{\"colorbar\": {\"outlinewidth\": 0, \"ticks\": \"\"}, \"colorscale\": [[0.0, \"#0d0887\"], [0.1111111111111111, \"#46039f\"], [0.2222222222222222, \"#7201a8\"], [0.3333333333333333, \"#9c179e\"], [0.4444444444444444, \"#bd3786\"], [0.5555555555555556, \"#d8576b\"], [0.6666666666666666, \"#ed7953\"], [0.7777777777777778, \"#fb9f3a\"], [0.8888888888888888, \"#fdca26\"], [1.0, \"#f0f921\"]], \"type\": \"histogram2d\"}], \"histogram2dcontour\": [{\"colorbar\": {\"outlinewidth\": 0, \"ticks\": \"\"}, \"colorscale\": [[0.0, \"#0d0887\"], [0.1111111111111111, \"#46039f\"], [0.2222222222222222, \"#7201a8\"], [0.3333333333333333, \"#9c179e\"], [0.4444444444444444, \"#bd3786\"], [0.5555555555555556, \"#d8576b\"], [0.6666666666666666, \"#ed7953\"], [0.7777777777777778, \"#fb9f3a\"], [0.8888888888888888, \"#fdca26\"], [1.0, \"#f0f921\"]], \"type\": \"histogram2dcontour\"}], \"mesh3d\": [{\"colorbar\": {\"outlinewidth\": 0, \"ticks\": \"\"}, \"type\": \"mesh3d\"}], \"parcoords\": [{\"line\": {\"colorbar\": {\"outlinewidth\": 0, \"ticks\": \"\"}}, \"type\": \"parcoords\"}], \"pie\": [{\"automargin\": true, \"type\": \"pie\"}], \"scatter\": [{\"marker\": {\"colorbar\": {\"outlinewidth\": 0, \"ticks\": \"\"}}, \"type\": \"scatter\"}], \"scatter3d\": [{\"line\": {\"colorbar\": {\"outlinewidth\": 0, \"ticks\": \"\"}}, \"marker\": {\"colorbar\": {\"outlinewidth\": 0, \"ticks\": \"\"}}, \"type\": \"scatter3d\"}], \"scattercarpet\": [{\"marker\": {\"colorbar\": {\"outlinewidth\": 0, \"ticks\": \"\"}}, \"type\": \"scattercarpet\"}], \"scattergeo\": [{\"marker\": {\"colorbar\": {\"outlinewidth\": 0, \"ticks\": \"\"}}, \"type\": \"scattergeo\"}], \"scattergl\": [{\"marker\": {\"colorbar\": {\"outlinewidth\": 0, \"ticks\": \"\"}}, \"type\": \"scattergl\"}], \"scattermapbox\": [{\"marker\": {\"colorbar\": {\"outlinewidth\": 0, \"ticks\": \"\"}}, \"type\": \"scattermapbox\"}], \"scatterpolar\": [{\"marker\": {\"colorbar\": {\"outlinewidth\": 0, \"ticks\": \"\"}}, \"type\": \"scatterpolar\"}], \"scatterpolargl\": [{\"marker\": {\"colorbar\": {\"outlinewidth\": 0, \"ticks\": \"\"}}, \"type\": \"scatterpolargl\"}], \"scatterternary\": [{\"marker\": {\"colorbar\": {\"outlinewidth\": 0, \"ticks\": \"\"}}, \"type\": \"scatterternary\"}], \"surface\": [{\"colorbar\": {\"outlinewidth\": 0, \"ticks\": \"\"}, \"colorscale\": [[0.0, \"#0d0887\"], [0.1111111111111111, \"#46039f\"], [0.2222222222222222, \"#7201a8\"], [0.3333333333333333, \"#9c179e\"], [0.4444444444444444, \"#bd3786\"], [0.5555555555555556, \"#d8576b\"], [0.6666666666666666, \"#ed7953\"], [0.7777777777777778, \"#fb9f3a\"], [0.8888888888888888, \"#fdca26\"], [1.0, \"#f0f921\"]], \"type\": \"surface\"}], \"table\": [{\"cells\": {\"fill\": {\"color\": \"#EBF0F8\"}, \"line\": {\"color\": \"white\"}}, \"header\": {\"fill\": {\"color\": \"#C8D4E3\"}, \"line\": {\"color\": \"white\"}}, \"type\": \"table\"}]}, \"layout\": {\"annotationdefaults\": {\"arrowcolor\": \"#2a3f5f\", \"arrowhead\": 0, \"arrowwidth\": 1}, \"autotypenumbers\": \"strict\", \"coloraxis\": {\"colorbar\": {\"outlinewidth\": 0, \"ticks\": \"\"}}, \"colorscale\": {\"diverging\": [[0, \"#8e0152\"], [0.1, \"#c51b7d\"], [0.2, \"#de77ae\"], [0.3, \"#f1b6da\"], [0.4, \"#fde0ef\"], [0.5, \"#f7f7f7\"], [0.6, \"#e6f5d0\"], [0.7, \"#b8e186\"], [0.8, \"#7fbc41\"], [0.9, \"#4d9221\"], [1, \"#276419\"]], \"sequential\": [[0.0, \"#0d0887\"], [0.1111111111111111, \"#46039f\"], [0.2222222222222222, \"#7201a8\"], [0.3333333333333333, \"#9c179e\"], [0.4444444444444444, \"#bd3786\"], [0.5555555555555556, \"#d8576b\"], [0.6666666666666666, \"#ed7953\"], [0.7777777777777778, \"#fb9f3a\"], [0.8888888888888888, \"#fdca26\"], [1.0, \"#f0f921\"]], \"sequentialminus\": [[0.0, \"#0d0887\"], [0.1111111111111111, \"#46039f\"], [0.2222222222222222, \"#7201a8\"], [0.3333333333333333, \"#9c179e\"], [0.4444444444444444, \"#bd3786\"], [0.5555555555555556, \"#d8576b\"], [0.6666666666666666, \"#ed7953\"], [0.7777777777777778, \"#fb9f3a\"], [0.8888888888888888, \"#fdca26\"], [1.0, \"#f0f921\"]]}, \"colorway\": [\"#636efa\", \"#EF553B\", \"#00cc96\", \"#ab63fa\", \"#FFA15A\", \"#19d3f3\", \"#FF6692\", \"#B6E880\", \"#FF97FF\", \"#FECB52\"], \"font\": {\"color\": \"#2a3f5f\"}, \"geo\": {\"bgcolor\": \"white\", \"lakecolor\": \"white\", \"landcolor\": \"#E5ECF6\", \"showlakes\": true, \"showland\": true, \"subunitcolor\": \"white\"}, \"hoverlabel\": {\"align\": \"left\"}, \"hovermode\": \"closest\", \"mapbox\": {\"style\": \"light\"}, \"paper_bgcolor\": \"white\", \"plot_bgcolor\": \"#E5ECF6\", \"polar\": {\"angularaxis\": {\"gridcolor\": \"white\", \"linecolor\": \"white\", \"ticks\": \"\"}, \"bgcolor\": \"#E5ECF6\", \"radialaxis\": {\"gridcolor\": \"white\", \"linecolor\": \"white\", \"ticks\": \"\"}}, \"scene\": {\"xaxis\": {\"backgroundcolor\": \"#E5ECF6\", \"gridcolor\": \"white\", \"gridwidth\": 2, \"linecolor\": \"white\", \"showbackground\": true, \"ticks\": \"\", \"zerolinecolor\": \"white\"}, \"yaxis\": {\"backgroundcolor\": \"#E5ECF6\", \"gridcolor\": \"white\", \"gridwidth\": 2, \"linecolor\": \"white\", \"showbackground\": true, \"ticks\": \"\", \"zerolinecolor\": \"white\"}, \"zaxis\": {\"backgroundcolor\": \"#E5ECF6\", \"gridcolor\": \"white\", \"gridwidth\": 2, \"linecolor\": \"white\", \"showbackground\": true, \"ticks\": \"\", \"zerolinecolor\": \"white\"}}, \"shapedefaults\": {\"line\": {\"color\": \"#2a3f5f\"}}, \"ternary\": {\"aaxis\": {\"gridcolor\": \"white\", \"linecolor\": \"white\", \"ticks\": \"\"}, \"baxis\": {\"gridcolor\": \"white\", \"linecolor\": \"white\", \"ticks\": \"\"}, \"bgcolor\": \"#E5ECF6\", \"caxis\": {\"gridcolor\": \"white\", \"linecolor\": \"white\", \"ticks\": \"\"}}, \"title\": {\"x\": 0.05}, \"xaxis\": {\"automargin\": true, \"gridcolor\": \"white\", \"linecolor\": \"white\", \"ticks\": \"\", \"title\": {\"standoff\": 15}, \"zerolinecolor\": \"white\", \"zerolinewidth\": 2}, \"yaxis\": {\"automargin\": true, \"gridcolor\": \"white\", \"linecolor\": \"white\", \"ticks\": \"\", \"title\": {\"standoff\": 15}, \"zerolinecolor\": \"white\", \"zerolinewidth\": 2}}}, \"xaxis\": {\"anchor\": \"y\", \"domain\": [0.0, 1.0], \"title\": {\"text\": \"race/ethnicity\"}}, \"yaxis\": {\"anchor\": \"x\", \"domain\": [0.0, 1.0], \"title\": {\"text\": \"mean score\"}}},                        {\"responsive\": true}                    ).then(function(){\n",
       "                            \n",
       "var gd = document.getElementById('22b12c39-9098-4a5e-a5ba-0df8f100e853');\n",
       "var x = new MutationObserver(function (mutations, observer) {{\n",
       "        var display = window.getComputedStyle(gd).display;\n",
       "        if (!display || display === 'none') {{\n",
       "            console.log([gd, 'removed!']);\n",
       "            Plotly.purge(gd);\n",
       "            observer.disconnect();\n",
       "        }}\n",
       "}});\n",
       "\n",
       "// Listen for the removal of the full notebook cells\n",
       "var notebookContainer = gd.closest('#notebook-container');\n",
       "if (notebookContainer) {{\n",
       "    x.observe(notebookContainer, {childList: true});\n",
       "}}\n",
       "\n",
       "// Listen for the clearing of the current output cell\n",
       "var outputEl = gd.closest('.output');\n",
       "if (outputEl) {{\n",
       "    x.observe(outputEl, {childList: true});\n",
       "}}\n",
       "\n",
       "                        })                };                });            </script>        </div>"
      ]
     },
     "metadata": {},
     "output_type": "display_data"
    }
   ],
   "source": [
    "fig = px.box(df, x='race/ethnicity', y='mean score', color=\"gender\")\n",
    "fig.show()"
   ]
  },
  {
   "cell_type": "markdown",
   "metadata": {},
   "source": [
    "Z wykresu typu pudełkowego możemy odczytać dla każdej grupy etnicznej wartość minimalną oraz mayksymalną, medianę, a także pierwszy i trzeci kwartał pudełka. Dodatkowo poza wąsami czasami znajdują się kropki. Są to wartości które znacznie odbiegają od tych które zostały wzięte do skontruowania pudełka. Im dłuższe pudełko tym dane są bardziej rozproszone.\n",
    "\n",
    "Ostatnim z wykorzystanych wykresów w projekcie będzie wykres typu violin. Do zaprezentowania zależności poziomu wykształcenia rodziców do uśrednionego wyniku ze wszystkich egzaminów."
   ]
  },
  {
   "cell_type": "code",
   "execution_count": 52,
   "metadata": {},
   "outputs": [
    {
     "data": {
      "application/vnd.plotly.v1+json": {
       "config": {
        "plotlyServerURL": "https://plot.ly"
       },
       "data": [
        {
         "alignmentgroup": "True",
         "box": {
          "visible": false
         },
         "hovertemplate": "gender=0<br>parental level of education=%{x}<br>mean score=%{y}<extra></extra>",
         "legendgroup": "0",
         "marker": {
          "color": "#636efa"
         },
         "name": "0",
         "offsetgroup": "0",
         "orientation": "v",
         "scalegroup": "True",
         "showlegend": true,
         "type": "violin",
         "x": [
          1,
          4,
          3,
          0,
          4,
          2,
          2,
          3,
          5,
          5,
          0,
          4,
          5,
          1,
          3,
          4,
          4,
          3,
          0,
          5,
          0,
          0,
          0,
          0,
          0,
          2,
          0,
          5,
          2,
          0,
          5,
          0,
          5,
          4,
          0,
          4,
          0,
          5,
          3,
          0,
          4,
          4,
          0,
          4,
          5,
          1,
          4,
          4,
          4,
          1,
          0,
          4,
          3,
          0,
          5,
          0,
          4,
          1,
          1,
          1,
          5,
          4,
          1,
          4,
          2,
          1,
          4,
          0,
          5,
          4,
          4,
          4,
          1,
          0,
          4,
          2,
          0,
          4,
          3,
          1,
          3,
          2,
          4,
          4,
          0,
          1,
          3,
          2,
          0,
          3,
          5,
          4,
          2,
          0,
          1,
          0,
          5,
          3,
          4,
          1,
          0,
          4,
          0,
          4,
          4,
          2,
          0,
          2,
          2,
          5,
          0,
          3,
          4,
          4,
          1,
          5,
          1,
          2,
          2,
          2,
          4,
          5,
          4,
          0,
          4,
          3,
          5,
          5,
          2,
          1,
          2,
          0,
          4,
          0,
          4,
          5,
          2,
          5,
          1,
          4,
          5,
          5,
          1,
          0,
          0,
          0,
          2,
          0,
          0,
          1,
          3,
          0,
          2,
          2,
          4,
          5,
          2,
          4,
          5,
          1,
          4,
          5,
          5,
          2,
          2,
          2,
          1,
          1,
          4,
          0,
          4,
          1,
          4,
          4,
          2,
          4,
          5,
          5,
          5,
          4,
          4,
          1,
          5,
          3,
          5,
          0,
          5,
          5,
          4,
          1,
          0,
          2,
          4,
          5,
          2,
          0,
          5,
          4,
          2,
          2,
          5,
          0,
          2,
          3,
          1,
          0,
          2,
          3,
          5,
          4,
          2,
          5,
          4,
          2,
          5,
          0,
          5,
          4,
          4,
          0,
          0,
          1,
          1,
          4,
          4,
          4,
          0,
          2,
          0,
          2,
          0,
          5,
          0,
          1,
          3,
          0,
          0,
          0,
          0,
          0,
          4,
          1,
          2,
          4,
          4,
          5,
          3,
          0,
          0,
          3,
          5,
          1,
          5,
          3,
          5,
          4,
          4,
          5,
          2,
          0,
          2,
          1,
          0,
          0,
          5,
          0,
          1,
          2,
          0,
          0,
          3,
          5,
          2,
          0,
          4,
          0,
          0,
          4,
          4,
          4,
          1,
          3,
          4,
          2,
          2,
          2,
          4,
          3,
          5,
          5,
          1,
          0,
          4,
          0,
          2,
          1,
          4,
          5,
          2,
          1,
          1,
          2,
          5,
          3,
          2,
          4,
          0,
          3,
          4,
          0,
          4,
          0,
          0,
          2,
          1,
          2,
          1,
          5,
          1,
          2,
          2,
          5,
          0,
          0,
          5,
          2,
          1,
          0,
          2,
          2,
          4,
          2,
          4,
          0,
          5,
          4,
          0,
          4,
          2,
          5,
          4,
          1,
          2,
          4,
          0,
          2,
          4,
          4,
          5,
          2,
          5,
          3,
          0,
          0,
          1,
          0,
          5,
          4,
          0,
          1,
          0,
          1,
          5,
          4,
          5,
          0,
          5,
          4,
          5,
          0,
          0,
          2,
          4,
          5,
          0,
          2,
          0,
          4,
          4,
          4,
          0,
          2,
          0,
          1,
          5,
          0,
          4,
          2,
          5,
          2,
          2,
          2,
          5,
          5,
          1,
          5,
          2,
          4,
          4,
          0,
          3,
          2,
          0,
          5,
          5,
          4,
          3,
          2,
          4,
          2,
          0,
          0,
          0,
          0,
          4,
          4,
          4,
          2,
          3,
          2,
          1,
          2,
          5,
          5,
          1,
          2,
          5,
          0,
          5,
          5,
          4,
          1,
          2,
          2,
          2,
          0,
          2,
          2,
          5,
          2,
          2,
          4,
          1,
          1,
          0,
          3,
          4,
          4,
          1,
          5,
          0,
          1,
          2,
          0,
          0,
          0,
          4,
          4,
          0,
          3,
          0,
          5,
          5,
          5,
          3,
          2,
          1,
          5,
          4,
          1,
          4,
          1,
          1,
          0,
          4,
          2,
          0,
          2,
          0,
          2,
          5,
          2,
          3,
          2,
          0,
          4,
          2,
          4,
          5,
          4,
          3,
          2,
          4,
          5,
          0,
          5,
          4,
          0,
          1,
          1,
          2,
          4,
          4,
          4,
          0,
          2,
          4,
          5,
          0,
          5,
          4,
          5,
          0,
          1,
          3,
          2,
          4,
          4
         ],
         "x0": " ",
         "xaxis": "x",
         "y": [
          73,
          82,
          93,
          77,
          92,
          49,
          73,
          54,
          74,
          26,
          58,
          70,
          72,
          70,
          69,
          72,
          63,
          64,
          79,
          58,
          84,
          66,
          59,
          53,
          61,
          71,
          69,
          81,
          39,
          84,
          9,
          73,
          59,
          69,
          53,
          65,
          47,
          69,
          66,
          49,
          78,
          82,
          72,
          65,
          80,
          70,
          86,
          68,
          62,
          65,
          88,
          66,
          96,
          66,
          69,
          88,
          54,
          100,
          81,
          80,
          58,
          63,
          87,
          91,
          89,
          50,
          80,
          64,
          73,
          62,
          50,
          31,
          75,
          65,
          82,
          73,
          78,
          83,
          88,
          99,
          71,
          76,
          71,
          82,
          67,
          49,
          86,
          53,
          75,
          61,
          99,
          59,
          49,
          68,
          84,
          67,
          64,
          79,
          51,
          78,
          79,
          74,
          65,
          77,
          62,
          55,
          86,
          38,
          66,
          61,
          64,
          52,
          72,
          92,
          79,
          66,
          82,
          54,
          65,
          64,
          79,
          67,
          68,
          68,
          74,
          76,
          73,
          48,
          94,
          73,
          73,
          92,
          72,
          53,
          69,
          90,
          66,
          77,
          79,
          75,
          43,
          79,
          71,
          77,
          77,
          64,
          53,
          76,
          68,
          66,
          83,
          61,
          77,
          80,
          77,
          50,
          43,
          89,
          49,
          90,
          65,
          30,
          50,
          66,
          73,
          76,
          89,
          62,
          74,
          54,
          67,
          68,
          59,
          86,
          60,
          56,
          31,
          55,
          81,
          63,
          92,
          67,
          84,
          93,
          77,
          83,
          44,
          41,
          73,
          69,
          67,
          63,
          74,
          72,
          60,
          90,
          60,
          56,
          96,
          58,
          68,
          80,
          55,
          72,
          67,
          89,
          60,
          57,
          75,
          64,
          68,
          52,
          76,
          80,
          67,
          77,
          73,
          78,
          96,
          72,
          59,
          86,
          100,
          72,
          86,
          87,
          32,
          83,
          86,
          69,
          79,
          62,
          90,
          77,
          63,
          56,
          52,
          70,
          75,
          66,
          85,
          86,
          62,
          51,
          71,
          68,
          78,
          91,
          92,
          51,
          81,
          88,
          59,
          89,
          83,
          82,
          71,
          74,
          75,
          87,
          44,
          39,
          69,
          69,
          51,
          87,
          77,
          60,
          79,
          89,
          64,
          96,
          64,
          46,
          35,
          69,
          64,
          76,
          70,
          74,
          97,
          70,
          57,
          60,
          75,
          87,
          54,
          61,
          91,
          79,
          71,
          76,
          74,
          72,
          67,
          56,
          61,
          60,
          74,
          97,
          69,
          73,
          76,
          59,
          29,
          78,
          84,
          51,
          62,
          62,
          61,
          72,
          89,
          67,
          40,
          50,
          60,
          50,
          74,
          83,
          76,
          87,
          74,
          84,
          77,
          78,
          76,
          65,
          65,
          53,
          76,
          75,
          90,
          70,
          77,
          65,
          54,
          65,
          67,
          57,
          69,
          83,
          70,
          74,
          78,
          75,
          60,
          76,
          76,
          71,
          38,
          98,
          52,
          76,
          74,
          76,
          56,
          85,
          82,
          67,
          71,
          81,
          65,
          65,
          62,
          54,
          83,
          99,
          68,
          86,
          97,
          75,
          68,
          84,
          72,
          83,
          75,
          90,
          56,
          64,
          50,
          82,
          68,
          56,
          84,
          90,
          59,
          63,
          53,
          62,
          73,
          70,
          71,
          64,
          73,
          54,
          69,
          41,
          78,
          53,
          84,
          81,
          58,
          42,
          76,
          30,
          59,
          57,
          65,
          48,
          66,
          78,
          55,
          92,
          85,
          76,
          71,
          42,
          62,
          78,
          56,
          67,
          85,
          89,
          87,
          80,
          53,
          65,
          70,
          79,
          59,
          83,
          83,
          66,
          79,
          72,
          46,
          34,
          56,
          66,
          64,
          88,
          97,
          75,
          56,
          85,
          74,
          73,
          55,
          70,
          71,
          70,
          69,
          52,
          73,
          96,
          69,
          87,
          87,
          63,
          63,
          35,
          73,
          75,
          75,
          41,
          98,
          78,
          85,
          71,
          78,
          60,
          58,
          54,
          68,
          52,
          71,
          45,
          61,
          66,
          52,
          57,
          88,
          62,
          58,
          56,
          68,
          78,
          73,
          67,
          97,
          56,
          59,
          52,
          100,
          72,
          68,
          70,
          80,
          96,
          54,
          58,
          61,
          74,
          93,
          18,
          85,
          77,
          50,
          45,
          79,
          75,
          69,
          69,
          94,
          65,
          74,
          83
         ],
         "y0": " ",
         "yaxis": "y"
        },
        {
         "alignmentgroup": "True",
         "box": {
          "visible": false
         },
         "hovertemplate": "gender=1<br>parental level of education=%{x}<br>mean score=%{y}<extra></extra>",
         "legendgroup": "1",
         "marker": {
          "color": "#EF553B"
         },
         "name": "1",
         "offsetgroup": "1",
         "orientation": "v",
         "scalegroup": "True",
         "showlegend": true,
         "type": "violin",
         "x": [
          0,
          4,
          4,
          2,
          0,
          0,
          4,
          2,
          3,
          2,
          4,
          1,
          3,
          4,
          2,
          4,
          4,
          0,
          0,
          0,
          4,
          0,
          2,
          4,
          0,
          4,
          2,
          0,
          4,
          1,
          5,
          0,
          5,
          5,
          0,
          4,
          5,
          5,
          0,
          5,
          1,
          2,
          4,
          0,
          2,
          2,
          2,
          0,
          0,
          5,
          4,
          1,
          2,
          4,
          0,
          2,
          0,
          2,
          0,
          2,
          4,
          5,
          4,
          3,
          3,
          5,
          4,
          1,
          1,
          5,
          2,
          4,
          2,
          4,
          5,
          0,
          0,
          5,
          1,
          1,
          5,
          4,
          0,
          0,
          3,
          2,
          2,
          2,
          5,
          3,
          5,
          0,
          2,
          5,
          5,
          4,
          4,
          0,
          5,
          2,
          0,
          4,
          5,
          1,
          2,
          5,
          4,
          0,
          2,
          5,
          2,
          5,
          0,
          5,
          2,
          5,
          4,
          0,
          5,
          1,
          0,
          1,
          4,
          0,
          2,
          4,
          5,
          0,
          0,
          2,
          5,
          3,
          2,
          0,
          4,
          2,
          5,
          1,
          4,
          4,
          1,
          1,
          2,
          2,
          0,
          0,
          1,
          5,
          0,
          5,
          5,
          2,
          0,
          5,
          0,
          2,
          0,
          4,
          5,
          0,
          4,
          4,
          5,
          1,
          1,
          2,
          0,
          1,
          4,
          4,
          0,
          2,
          0,
          0,
          0,
          5,
          0,
          2,
          0,
          4,
          4,
          2,
          0,
          4,
          0,
          4,
          5,
          4,
          1,
          2,
          1,
          4,
          5,
          0,
          1,
          0,
          3,
          3,
          5,
          4,
          0,
          2,
          5,
          5,
          4,
          0,
          0,
          4,
          0,
          5,
          2,
          1,
          0,
          4,
          2,
          4,
          1,
          5,
          5,
          5,
          0,
          2,
          5,
          4,
          0,
          0,
          2,
          5,
          5,
          4,
          2,
          2,
          0,
          4,
          1,
          0,
          2,
          1,
          4,
          1,
          2,
          4,
          1,
          0,
          0,
          2,
          4,
          2,
          2,
          4,
          5,
          0,
          2,
          4,
          4,
          2,
          1,
          3,
          4,
          5,
          5,
          4,
          1,
          3,
          2,
          4,
          5,
          0,
          2,
          0,
          1,
          0,
          2,
          0,
          5,
          2,
          3,
          5,
          1,
          4,
          0,
          3,
          5,
          1,
          1,
          0,
          2,
          1,
          4,
          1,
          0,
          4,
          4,
          5,
          1,
          2,
          5,
          2,
          3,
          5,
          4,
          1,
          1,
          3,
          0,
          1,
          2,
          4,
          4,
          0,
          0,
          4,
          4,
          2,
          5,
          2,
          4,
          2,
          2,
          5,
          0,
          5,
          0,
          4,
          5,
          0,
          4,
          0,
          0,
          0,
          4,
          2,
          2,
          4,
          4,
          0,
          2,
          4,
          2,
          1,
          1,
          2,
          4,
          2,
          4,
          3,
          0,
          0,
          5,
          2,
          4,
          4,
          5,
          4,
          5,
          5,
          3,
          0,
          0,
          2,
          1,
          4,
          0,
          2,
          4,
          4,
          5,
          4,
          3,
          0,
          4,
          1,
          4,
          5,
          4,
          2,
          4,
          2,
          1,
          4,
          0,
          1,
          0,
          2,
          5,
          2,
          4,
          5,
          5,
          4,
          2,
          1,
          5,
          2,
          5,
          5,
          1,
          4,
          2,
          5,
          1,
          4,
          2,
          0,
          5,
          4,
          3,
          3,
          2,
          0,
          3,
          5,
          5,
          4,
          2,
          0,
          1,
          0,
          4,
          2,
          0,
          0,
          0,
          2,
          0,
          0,
          4,
          4,
          5,
          1,
          1,
          2,
          2,
          5,
          2,
          0,
          3,
          4,
          2,
          1,
          1,
          1,
          4,
          2,
          2,
          2,
          5,
          0,
          0,
          4,
          4,
          0,
          1,
          0,
          4,
          0,
          4,
          5,
          3,
          2,
          5,
          2,
          5,
          2,
          2,
          0,
          4,
          2,
          4,
          5,
          4,
          5,
          4,
          0,
          2,
          5,
          5,
          2,
          5,
          2,
          2,
          2
         ],
         "x0": " ",
         "xaxis": "x",
         "y": [
          49,
          76,
          41,
          65,
          55,
          45,
          73,
          88,
          45,
          66,
          50,
          75,
          73,
          59,
          68,
          40,
          89,
          80,
          57,
          57,
          63,
          59,
          83,
          52,
          71,
          46,
          80,
          52,
          58,
          75,
          37,
          59,
          64,
          40,
          58,
          60,
          58,
          46,
          41,
          26,
          80,
          46,
          50,
          66,
          38,
          32,
          74,
          46,
          80,
          64,
          71,
          72,
          50,
          91,
          64,
          55,
          51,
          78,
          91,
          59,
          79,
          69,
          72,
          79,
          85,
          43,
          77,
          76,
          54,
          49,
          60,
          67,
          49,
          80,
          82,
          69,
          98,
          66,
          71,
          50,
          63,
          60,
          64,
          78,
          51,
          51,
          52,
          73,
          87,
          68,
          49,
          66,
          74,
          65,
          48,
          79,
          67,
          56,
          64,
          54,
          72,
          47,
          74,
          69,
          79,
          79,
          30,
          56,
          86,
          81,
          71,
          58,
          82,
          80,
          54,
          68,
          69,
          44,
          86,
          83,
          77,
          65,
          52,
          81,
          69,
          51,
          73,
          77,
          80,
          60,
          48,
          77,
          53,
          77,
          79,
          72,
          47,
          64,
          50,
          83,
          78,
          62,
          49,
          46,
          82,
          89,
          80,
          77,
          71,
          76,
          60,
          78,
          63,
          43,
          71,
          45,
          84,
          80,
          54,
          73,
          68,
          89,
          49,
          61,
          65,
          67,
          78,
          68,
          61,
          23,
          78,
          64,
          40,
          57,
          83,
          72,
          48,
          57,
          69,
          73,
          60,
          72,
          79,
          58,
          62,
          61,
          82,
          59,
          56,
          60,
          63,
          77,
          73,
          43,
          64,
          94,
          77,
          73,
          66,
          70,
          56,
          45,
          65,
          58,
          46,
          64,
          85,
          82,
          66,
          66,
          75,
          71,
          71,
          63,
          56,
          38,
          85,
          68,
          59,
          62,
          63,
          57,
          68,
          50,
          69,
          71,
          59,
          86,
          78,
          65,
          82,
          45,
          75,
          57,
          47,
          52,
          68,
          55,
          51,
          65,
          68,
          80,
          68,
          73,
          71,
          71,
          66,
          52,
          72,
          55,
          58,
          81,
          66,
          73,
          59,
          68,
          56,
          78,
          73,
          52,
          54,
          57,
          61,
          54,
          51,
          62,
          59,
          60,
          70,
          56,
          74,
          92,
          71,
          80,
          80,
          68,
          73,
          73,
          88,
          68,
          46,
          65,
          67,
          93,
          48,
          45,
          53,
          68,
          72,
          93,
          49,
          55,
          56,
          61,
          67,
          23,
          52,
          56,
          88,
          70,
          64,
          92,
          83,
          87,
          69,
          60,
          54,
          94,
          99,
          67,
          52,
          51,
          67,
          68,
          83,
          70,
          79,
          48,
          65,
          53,
          69,
          65,
          87,
          75,
          67,
          69,
          69,
          77,
          53,
          78,
          61,
          63,
          57,
          65,
          76,
          76,
          52,
          89,
          64,
          86,
          66,
          39,
          59,
          85,
          89,
          82,
          74,
          81,
          58,
          47,
          44,
          75,
          59,
          43,
          48,
          49,
          61,
          85,
          75,
          59,
          75,
          52,
          75,
          72,
          67,
          86,
          69,
          68,
          77,
          55,
          55,
          70,
          74,
          82,
          61,
          66,
          58,
          50,
          74,
          64,
          87,
          84,
          65,
          70,
          83,
          70,
          61,
          69,
          76,
          77,
          78,
          55,
          39,
          47,
          82,
          89,
          69,
          51,
          62,
          58,
          61,
          51,
          65,
          56,
          58,
          76,
          86,
          87,
          56,
          75,
          68,
          70,
          60,
          69,
          49,
          77,
          40,
          94,
          84,
          55,
          48,
          75,
          50,
          55,
          81,
          87,
          70,
          82,
          57,
          64,
          48,
          62,
          48,
          79,
          31,
          61,
          86,
          81,
          52,
          68,
          47,
          100,
          93,
          69,
          68,
          71,
          66,
          57,
          44,
          70,
          60,
          68,
          73,
          92,
          64,
          59,
          84,
          71,
          70,
          70,
          61,
          81,
          50,
          79,
          55,
          64,
          84,
          76,
          62,
          66,
          62,
          73,
          61,
          62,
          48,
          79,
          83,
          54,
          77,
          81,
          63,
          57
         ],
         "y0": " ",
         "yaxis": "y"
        }
       ],
       "layout": {
        "legend": {
         "title": {
          "text": "gender"
         },
         "tracegroupgap": 0
        },
        "margin": {
         "t": 60
        },
        "template": {
         "data": {
          "bar": [
           {
            "error_x": {
             "color": "#2a3f5f"
            },
            "error_y": {
             "color": "#2a3f5f"
            },
            "marker": {
             "line": {
              "color": "#E5ECF6",
              "width": 0.5
             }
            },
            "type": "bar"
           }
          ],
          "barpolar": [
           {
            "marker": {
             "line": {
              "color": "#E5ECF6",
              "width": 0.5
             }
            },
            "type": "barpolar"
           }
          ],
          "carpet": [
           {
            "aaxis": {
             "endlinecolor": "#2a3f5f",
             "gridcolor": "white",
             "linecolor": "white",
             "minorgridcolor": "white",
             "startlinecolor": "#2a3f5f"
            },
            "baxis": {
             "endlinecolor": "#2a3f5f",
             "gridcolor": "white",
             "linecolor": "white",
             "minorgridcolor": "white",
             "startlinecolor": "#2a3f5f"
            },
            "type": "carpet"
           }
          ],
          "choropleth": [
           {
            "colorbar": {
             "outlinewidth": 0,
             "ticks": ""
            },
            "type": "choropleth"
           }
          ],
          "contour": [
           {
            "colorbar": {
             "outlinewidth": 0,
             "ticks": ""
            },
            "colorscale": [
             [
              0,
              "#0d0887"
             ],
             [
              0.1111111111111111,
              "#46039f"
             ],
             [
              0.2222222222222222,
              "#7201a8"
             ],
             [
              0.3333333333333333,
              "#9c179e"
             ],
             [
              0.4444444444444444,
              "#bd3786"
             ],
             [
              0.5555555555555556,
              "#d8576b"
             ],
             [
              0.6666666666666666,
              "#ed7953"
             ],
             [
              0.7777777777777778,
              "#fb9f3a"
             ],
             [
              0.8888888888888888,
              "#fdca26"
             ],
             [
              1,
              "#f0f921"
             ]
            ],
            "type": "contour"
           }
          ],
          "contourcarpet": [
           {
            "colorbar": {
             "outlinewidth": 0,
             "ticks": ""
            },
            "type": "contourcarpet"
           }
          ],
          "heatmap": [
           {
            "colorbar": {
             "outlinewidth": 0,
             "ticks": ""
            },
            "colorscale": [
             [
              0,
              "#0d0887"
             ],
             [
              0.1111111111111111,
              "#46039f"
             ],
             [
              0.2222222222222222,
              "#7201a8"
             ],
             [
              0.3333333333333333,
              "#9c179e"
             ],
             [
              0.4444444444444444,
              "#bd3786"
             ],
             [
              0.5555555555555556,
              "#d8576b"
             ],
             [
              0.6666666666666666,
              "#ed7953"
             ],
             [
              0.7777777777777778,
              "#fb9f3a"
             ],
             [
              0.8888888888888888,
              "#fdca26"
             ],
             [
              1,
              "#f0f921"
             ]
            ],
            "type": "heatmap"
           }
          ],
          "heatmapgl": [
           {
            "colorbar": {
             "outlinewidth": 0,
             "ticks": ""
            },
            "colorscale": [
             [
              0,
              "#0d0887"
             ],
             [
              0.1111111111111111,
              "#46039f"
             ],
             [
              0.2222222222222222,
              "#7201a8"
             ],
             [
              0.3333333333333333,
              "#9c179e"
             ],
             [
              0.4444444444444444,
              "#bd3786"
             ],
             [
              0.5555555555555556,
              "#d8576b"
             ],
             [
              0.6666666666666666,
              "#ed7953"
             ],
             [
              0.7777777777777778,
              "#fb9f3a"
             ],
             [
              0.8888888888888888,
              "#fdca26"
             ],
             [
              1,
              "#f0f921"
             ]
            ],
            "type": "heatmapgl"
           }
          ],
          "histogram": [
           {
            "marker": {
             "colorbar": {
              "outlinewidth": 0,
              "ticks": ""
             }
            },
            "type": "histogram"
           }
          ],
          "histogram2d": [
           {
            "colorbar": {
             "outlinewidth": 0,
             "ticks": ""
            },
            "colorscale": [
             [
              0,
              "#0d0887"
             ],
             [
              0.1111111111111111,
              "#46039f"
             ],
             [
              0.2222222222222222,
              "#7201a8"
             ],
             [
              0.3333333333333333,
              "#9c179e"
             ],
             [
              0.4444444444444444,
              "#bd3786"
             ],
             [
              0.5555555555555556,
              "#d8576b"
             ],
             [
              0.6666666666666666,
              "#ed7953"
             ],
             [
              0.7777777777777778,
              "#fb9f3a"
             ],
             [
              0.8888888888888888,
              "#fdca26"
             ],
             [
              1,
              "#f0f921"
             ]
            ],
            "type": "histogram2d"
           }
          ],
          "histogram2dcontour": [
           {
            "colorbar": {
             "outlinewidth": 0,
             "ticks": ""
            },
            "colorscale": [
             [
              0,
              "#0d0887"
             ],
             [
              0.1111111111111111,
              "#46039f"
             ],
             [
              0.2222222222222222,
              "#7201a8"
             ],
             [
              0.3333333333333333,
              "#9c179e"
             ],
             [
              0.4444444444444444,
              "#bd3786"
             ],
             [
              0.5555555555555556,
              "#d8576b"
             ],
             [
              0.6666666666666666,
              "#ed7953"
             ],
             [
              0.7777777777777778,
              "#fb9f3a"
             ],
             [
              0.8888888888888888,
              "#fdca26"
             ],
             [
              1,
              "#f0f921"
             ]
            ],
            "type": "histogram2dcontour"
           }
          ],
          "mesh3d": [
           {
            "colorbar": {
             "outlinewidth": 0,
             "ticks": ""
            },
            "type": "mesh3d"
           }
          ],
          "parcoords": [
           {
            "line": {
             "colorbar": {
              "outlinewidth": 0,
              "ticks": ""
             }
            },
            "type": "parcoords"
           }
          ],
          "pie": [
           {
            "automargin": true,
            "type": "pie"
           }
          ],
          "scatter": [
           {
            "marker": {
             "colorbar": {
              "outlinewidth": 0,
              "ticks": ""
             }
            },
            "type": "scatter"
           }
          ],
          "scatter3d": [
           {
            "line": {
             "colorbar": {
              "outlinewidth": 0,
              "ticks": ""
             }
            },
            "marker": {
             "colorbar": {
              "outlinewidth": 0,
              "ticks": ""
             }
            },
            "type": "scatter3d"
           }
          ],
          "scattercarpet": [
           {
            "marker": {
             "colorbar": {
              "outlinewidth": 0,
              "ticks": ""
             }
            },
            "type": "scattercarpet"
           }
          ],
          "scattergeo": [
           {
            "marker": {
             "colorbar": {
              "outlinewidth": 0,
              "ticks": ""
             }
            },
            "type": "scattergeo"
           }
          ],
          "scattergl": [
           {
            "marker": {
             "colorbar": {
              "outlinewidth": 0,
              "ticks": ""
             }
            },
            "type": "scattergl"
           }
          ],
          "scattermapbox": [
           {
            "marker": {
             "colorbar": {
              "outlinewidth": 0,
              "ticks": ""
             }
            },
            "type": "scattermapbox"
           }
          ],
          "scatterpolar": [
           {
            "marker": {
             "colorbar": {
              "outlinewidth": 0,
              "ticks": ""
             }
            },
            "type": "scatterpolar"
           }
          ],
          "scatterpolargl": [
           {
            "marker": {
             "colorbar": {
              "outlinewidth": 0,
              "ticks": ""
             }
            },
            "type": "scatterpolargl"
           }
          ],
          "scatterternary": [
           {
            "marker": {
             "colorbar": {
              "outlinewidth": 0,
              "ticks": ""
             }
            },
            "type": "scatterternary"
           }
          ],
          "surface": [
           {
            "colorbar": {
             "outlinewidth": 0,
             "ticks": ""
            },
            "colorscale": [
             [
              0,
              "#0d0887"
             ],
             [
              0.1111111111111111,
              "#46039f"
             ],
             [
              0.2222222222222222,
              "#7201a8"
             ],
             [
              0.3333333333333333,
              "#9c179e"
             ],
             [
              0.4444444444444444,
              "#bd3786"
             ],
             [
              0.5555555555555556,
              "#d8576b"
             ],
             [
              0.6666666666666666,
              "#ed7953"
             ],
             [
              0.7777777777777778,
              "#fb9f3a"
             ],
             [
              0.8888888888888888,
              "#fdca26"
             ],
             [
              1,
              "#f0f921"
             ]
            ],
            "type": "surface"
           }
          ],
          "table": [
           {
            "cells": {
             "fill": {
              "color": "#EBF0F8"
             },
             "line": {
              "color": "white"
             }
            },
            "header": {
             "fill": {
              "color": "#C8D4E3"
             },
             "line": {
              "color": "white"
             }
            },
            "type": "table"
           }
          ]
         },
         "layout": {
          "annotationdefaults": {
           "arrowcolor": "#2a3f5f",
           "arrowhead": 0,
           "arrowwidth": 1
          },
          "autotypenumbers": "strict",
          "coloraxis": {
           "colorbar": {
            "outlinewidth": 0,
            "ticks": ""
           }
          },
          "colorscale": {
           "diverging": [
            [
             0,
             "#8e0152"
            ],
            [
             0.1,
             "#c51b7d"
            ],
            [
             0.2,
             "#de77ae"
            ],
            [
             0.3,
             "#f1b6da"
            ],
            [
             0.4,
             "#fde0ef"
            ],
            [
             0.5,
             "#f7f7f7"
            ],
            [
             0.6,
             "#e6f5d0"
            ],
            [
             0.7,
             "#b8e186"
            ],
            [
             0.8,
             "#7fbc41"
            ],
            [
             0.9,
             "#4d9221"
            ],
            [
             1,
             "#276419"
            ]
           ],
           "sequential": [
            [
             0,
             "#0d0887"
            ],
            [
             0.1111111111111111,
             "#46039f"
            ],
            [
             0.2222222222222222,
             "#7201a8"
            ],
            [
             0.3333333333333333,
             "#9c179e"
            ],
            [
             0.4444444444444444,
             "#bd3786"
            ],
            [
             0.5555555555555556,
             "#d8576b"
            ],
            [
             0.6666666666666666,
             "#ed7953"
            ],
            [
             0.7777777777777778,
             "#fb9f3a"
            ],
            [
             0.8888888888888888,
             "#fdca26"
            ],
            [
             1,
             "#f0f921"
            ]
           ],
           "sequentialminus": [
            [
             0,
             "#0d0887"
            ],
            [
             0.1111111111111111,
             "#46039f"
            ],
            [
             0.2222222222222222,
             "#7201a8"
            ],
            [
             0.3333333333333333,
             "#9c179e"
            ],
            [
             0.4444444444444444,
             "#bd3786"
            ],
            [
             0.5555555555555556,
             "#d8576b"
            ],
            [
             0.6666666666666666,
             "#ed7953"
            ],
            [
             0.7777777777777778,
             "#fb9f3a"
            ],
            [
             0.8888888888888888,
             "#fdca26"
            ],
            [
             1,
             "#f0f921"
            ]
           ]
          },
          "colorway": [
           "#636efa",
           "#EF553B",
           "#00cc96",
           "#ab63fa",
           "#FFA15A",
           "#19d3f3",
           "#FF6692",
           "#B6E880",
           "#FF97FF",
           "#FECB52"
          ],
          "font": {
           "color": "#2a3f5f"
          },
          "geo": {
           "bgcolor": "white",
           "lakecolor": "white",
           "landcolor": "#E5ECF6",
           "showlakes": true,
           "showland": true,
           "subunitcolor": "white"
          },
          "hoverlabel": {
           "align": "left"
          },
          "hovermode": "closest",
          "mapbox": {
           "style": "light"
          },
          "paper_bgcolor": "white",
          "plot_bgcolor": "#E5ECF6",
          "polar": {
           "angularaxis": {
            "gridcolor": "white",
            "linecolor": "white",
            "ticks": ""
           },
           "bgcolor": "#E5ECF6",
           "radialaxis": {
            "gridcolor": "white",
            "linecolor": "white",
            "ticks": ""
           }
          },
          "scene": {
           "xaxis": {
            "backgroundcolor": "#E5ECF6",
            "gridcolor": "white",
            "gridwidth": 2,
            "linecolor": "white",
            "showbackground": true,
            "ticks": "",
            "zerolinecolor": "white"
           },
           "yaxis": {
            "backgroundcolor": "#E5ECF6",
            "gridcolor": "white",
            "gridwidth": 2,
            "linecolor": "white",
            "showbackground": true,
            "ticks": "",
            "zerolinecolor": "white"
           },
           "zaxis": {
            "backgroundcolor": "#E5ECF6",
            "gridcolor": "white",
            "gridwidth": 2,
            "linecolor": "white",
            "showbackground": true,
            "ticks": "",
            "zerolinecolor": "white"
           }
          },
          "shapedefaults": {
           "line": {
            "color": "#2a3f5f"
           }
          },
          "ternary": {
           "aaxis": {
            "gridcolor": "white",
            "linecolor": "white",
            "ticks": ""
           },
           "baxis": {
            "gridcolor": "white",
            "linecolor": "white",
            "ticks": ""
           },
           "bgcolor": "#E5ECF6",
           "caxis": {
            "gridcolor": "white",
            "linecolor": "white",
            "ticks": ""
           }
          },
          "title": {
           "x": 0.05
          },
          "xaxis": {
           "automargin": true,
           "gridcolor": "white",
           "linecolor": "white",
           "ticks": "",
           "title": {
            "standoff": 15
           },
           "zerolinecolor": "white",
           "zerolinewidth": 2
          },
          "yaxis": {
           "automargin": true,
           "gridcolor": "white",
           "linecolor": "white",
           "ticks": "",
           "title": {
            "standoff": 15
           },
           "zerolinecolor": "white",
           "zerolinewidth": 2
          }
         }
        },
        "violinmode": "group",
        "xaxis": {
         "anchor": "y",
         "domain": [
          0,
          1
         ],
         "title": {
          "text": "parental level of education"
         }
        },
        "yaxis": {
         "anchor": "x",
         "domain": [
          0,
          1
         ],
         "title": {
          "text": "mean score"
         }
        }
       }
      },
      "text/html": [
       "<div>                            <div id=\"c44c5a2e-6b86-481b-bd43-bb5916a9ee61\" class=\"plotly-graph-div\" style=\"height:525px; width:100%;\"></div>            <script type=\"text/javascript\">                require([\"plotly\"], function(Plotly) {                    window.PLOTLYENV=window.PLOTLYENV || {};                                    if (document.getElementById(\"c44c5a2e-6b86-481b-bd43-bb5916a9ee61\")) {                    Plotly.newPlot(                        \"c44c5a2e-6b86-481b-bd43-bb5916a9ee61\",                        [{\"alignmentgroup\": \"True\", \"box\": {\"visible\": false}, \"hovertemplate\": \"gender=0<br>parental level of education=%{x}<br>mean score=%{y}<extra></extra>\", \"legendgroup\": \"0\", \"marker\": {\"color\": \"#636efa\"}, \"name\": \"0\", \"offsetgroup\": \"0\", \"orientation\": \"v\", \"scalegroup\": \"True\", \"showlegend\": true, \"type\": \"violin\", \"x\": [1, 4, 3, 0, 4, 2, 2, 3, 5, 5, 0, 4, 5, 1, 3, 4, 4, 3, 0, 5, 0, 0, 0, 0, 0, 2, 0, 5, 2, 0, 5, 0, 5, 4, 0, 4, 0, 5, 3, 0, 4, 4, 0, 4, 5, 1, 4, 4, 4, 1, 0, 4, 3, 0, 5, 0, 4, 1, 1, 1, 5, 4, 1, 4, 2, 1, 4, 0, 5, 4, 4, 4, 1, 0, 4, 2, 0, 4, 3, 1, 3, 2, 4, 4, 0, 1, 3, 2, 0, 3, 5, 4, 2, 0, 1, 0, 5, 3, 4, 1, 0, 4, 0, 4, 4, 2, 0, 2, 2, 5, 0, 3, 4, 4, 1, 5, 1, 2, 2, 2, 4, 5, 4, 0, 4, 3, 5, 5, 2, 1, 2, 0, 4, 0, 4, 5, 2, 5, 1, 4, 5, 5, 1, 0, 0, 0, 2, 0, 0, 1, 3, 0, 2, 2, 4, 5, 2, 4, 5, 1, 4, 5, 5, 2, 2, 2, 1, 1, 4, 0, 4, 1, 4, 4, 2, 4, 5, 5, 5, 4, 4, 1, 5, 3, 5, 0, 5, 5, 4, 1, 0, 2, 4, 5, 2, 0, 5, 4, 2, 2, 5, 0, 2, 3, 1, 0, 2, 3, 5, 4, 2, 5, 4, 2, 5, 0, 5, 4, 4, 0, 0, 1, 1, 4, 4, 4, 0, 2, 0, 2, 0, 5, 0, 1, 3, 0, 0, 0, 0, 0, 4, 1, 2, 4, 4, 5, 3, 0, 0, 3, 5, 1, 5, 3, 5, 4, 4, 5, 2, 0, 2, 1, 0, 0, 5, 0, 1, 2, 0, 0, 3, 5, 2, 0, 4, 0, 0, 4, 4, 4, 1, 3, 4, 2, 2, 2, 4, 3, 5, 5, 1, 0, 4, 0, 2, 1, 4, 5, 2, 1, 1, 2, 5, 3, 2, 4, 0, 3, 4, 0, 4, 0, 0, 2, 1, 2, 1, 5, 1, 2, 2, 5, 0, 0, 5, 2, 1, 0, 2, 2, 4, 2, 4, 0, 5, 4, 0, 4, 2, 5, 4, 1, 2, 4, 0, 2, 4, 4, 5, 2, 5, 3, 0, 0, 1, 0, 5, 4, 0, 1, 0, 1, 5, 4, 5, 0, 5, 4, 5, 0, 0, 2, 4, 5, 0, 2, 0, 4, 4, 4, 0, 2, 0, 1, 5, 0, 4, 2, 5, 2, 2, 2, 5, 5, 1, 5, 2, 4, 4, 0, 3, 2, 0, 5, 5, 4, 3, 2, 4, 2, 0, 0, 0, 0, 4, 4, 4, 2, 3, 2, 1, 2, 5, 5, 1, 2, 5, 0, 5, 5, 4, 1, 2, 2, 2, 0, 2, 2, 5, 2, 2, 4, 1, 1, 0, 3, 4, 4, 1, 5, 0, 1, 2, 0, 0, 0, 4, 4, 0, 3, 0, 5, 5, 5, 3, 2, 1, 5, 4, 1, 4, 1, 1, 0, 4, 2, 0, 2, 0, 2, 5, 2, 3, 2, 0, 4, 2, 4, 5, 4, 3, 2, 4, 5, 0, 5, 4, 0, 1, 1, 2, 4, 4, 4, 0, 2, 4, 5, 0, 5, 4, 5, 0, 1, 3, 2, 4, 4], \"x0\": \" \", \"xaxis\": \"x\", \"y\": [73.0, 82.0, 93.0, 77.0, 92.0, 49.0, 73.0, 54.0, 74.0, 26.0, 58.0, 70.0, 72.0, 70.0, 69.0, 72.0, 63.0, 64.0, 79.0, 58.0, 84.0, 66.0, 59.0, 53.0, 61.0, 71.0, 69.0, 81.0, 39.0, 84.0, 9.0, 73.0, 59.0, 69.0, 53.0, 65.0, 47.0, 69.0, 66.0, 49.0, 78.0, 82.0, 72.0, 65.0, 80.0, 70.0, 86.0, 68.0, 62.0, 65.0, 88.0, 66.0, 96.0, 66.0, 69.0, 88.0, 54.0, 100.0, 81.0, 80.0, 58.0, 63.0, 87.0, 91.0, 89.0, 50.0, 80.0, 64.0, 73.0, 62.0, 50.0, 31.0, 75.0, 65.0, 82.0, 73.0, 78.0, 83.0, 88.0, 99.0, 71.0, 76.0, 71.0, 82.0, 67.0, 49.0, 86.0, 53.0, 75.0, 61.0, 99.0, 59.0, 49.0, 68.0, 84.0, 67.0, 64.0, 79.0, 51.0, 78.0, 79.0, 74.0, 65.0, 77.0, 62.0, 55.0, 86.0, 38.0, 66.0, 61.0, 64.0, 52.0, 72.0, 92.0, 79.0, 66.0, 82.0, 54.0, 65.0, 64.0, 79.0, 67.0, 68.0, 68.0, 74.0, 76.0, 73.0, 48.0, 94.0, 73.0, 73.0, 92.0, 72.0, 53.0, 69.0, 90.0, 66.0, 77.0, 79.0, 75.0, 43.0, 79.0, 71.0, 77.0, 77.0, 64.0, 53.0, 76.0, 68.0, 66.0, 83.0, 61.0, 77.0, 80.0, 77.0, 50.0, 43.0, 89.0, 49.0, 90.0, 65.0, 30.0, 50.0, 66.0, 73.0, 76.0, 89.0, 62.0, 74.0, 54.0, 67.0, 68.0, 59.0, 86.0, 60.0, 56.0, 31.0, 55.0, 81.0, 63.0, 92.0, 67.0, 84.0, 93.0, 77.0, 83.0, 44.0, 41.0, 73.0, 69.0, 67.0, 63.0, 74.0, 72.0, 60.0, 90.0, 60.0, 56.0, 96.0, 58.0, 68.0, 80.0, 55.0, 72.0, 67.0, 89.0, 60.0, 57.0, 75.0, 64.0, 68.0, 52.0, 76.0, 80.0, 67.0, 77.0, 73.0, 78.0, 96.0, 72.0, 59.0, 86.0, 100.0, 72.0, 86.0, 87.0, 32.0, 83.0, 86.0, 69.0, 79.0, 62.0, 90.0, 77.0, 63.0, 56.0, 52.0, 70.0, 75.0, 66.0, 85.0, 86.0, 62.0, 51.0, 71.0, 68.0, 78.0, 91.0, 92.0, 51.0, 81.0, 88.0, 59.0, 89.0, 83.0, 82.0, 71.0, 74.0, 75.0, 87.0, 44.0, 39.0, 69.0, 69.0, 51.0, 87.0, 77.0, 60.0, 79.0, 89.0, 64.0, 96.0, 64.0, 46.0, 35.0, 69.0, 64.0, 76.0, 70.0, 74.0, 97.0, 70.0, 57.0, 60.0, 75.0, 87.0, 54.0, 61.0, 91.0, 79.0, 71.0, 76.0, 74.0, 72.0, 67.0, 56.0, 61.0, 60.0, 74.0, 97.0, 69.0, 73.0, 76.0, 59.0, 29.0, 78.0, 84.0, 51.0, 62.0, 62.0, 61.0, 72.0, 89.0, 67.0, 40.0, 50.0, 60.0, 50.0, 74.0, 83.0, 76.0, 87.0, 74.0, 84.0, 77.0, 78.0, 76.0, 65.0, 65.0, 53.0, 76.0, 75.0, 90.0, 70.0, 77.0, 65.0, 54.0, 65.0, 67.0, 57.0, 69.0, 83.0, 70.0, 74.0, 78.0, 75.0, 60.0, 76.0, 76.0, 71.0, 38.0, 98.0, 52.0, 76.0, 74.0, 76.0, 56.0, 85.0, 82.0, 67.0, 71.0, 81.0, 65.0, 65.0, 62.0, 54.0, 83.0, 99.0, 68.0, 86.0, 97.0, 75.0, 68.0, 84.0, 72.0, 83.0, 75.0, 90.0, 56.0, 64.0, 50.0, 82.0, 68.0, 56.0, 84.0, 90.0, 59.0, 63.0, 53.0, 62.0, 73.0, 70.0, 71.0, 64.0, 73.0, 54.0, 69.0, 41.0, 78.0, 53.0, 84.0, 81.0, 58.0, 42.0, 76.0, 30.0, 59.0, 57.0, 65.0, 48.0, 66.0, 78.0, 55.0, 92.0, 85.0, 76.0, 71.0, 42.0, 62.0, 78.0, 56.0, 67.0, 85.0, 89.0, 87.0, 80.0, 53.0, 65.0, 70.0, 79.0, 59.0, 83.0, 83.0, 66.0, 79.0, 72.0, 46.0, 34.0, 56.0, 66.0, 64.0, 88.0, 97.0, 75.0, 56.0, 85.0, 74.0, 73.0, 55.0, 70.0, 71.0, 70.0, 69.0, 52.0, 73.0, 96.0, 69.0, 87.0, 87.0, 63.0, 63.0, 35.0, 73.0, 75.0, 75.0, 41.0, 98.0, 78.0, 85.0, 71.0, 78.0, 60.0, 58.0, 54.0, 68.0, 52.0, 71.0, 45.0, 61.0, 66.0, 52.0, 57.0, 88.0, 62.0, 58.0, 56.0, 68.0, 78.0, 73.0, 67.0, 97.0, 56.0, 59.0, 52.0, 100.0, 72.0, 68.0, 70.0, 80.0, 96.0, 54.0, 58.0, 61.0, 74.0, 93.0, 18.0, 85.0, 77.0, 50.0, 45.0, 79.0, 75.0, 69.0, 69.0, 94.0, 65.0, 74.0, 83.0], \"y0\": \" \", \"yaxis\": \"y\"}, {\"alignmentgroup\": \"True\", \"box\": {\"visible\": false}, \"hovertemplate\": \"gender=1<br>parental level of education=%{x}<br>mean score=%{y}<extra></extra>\", \"legendgroup\": \"1\", \"marker\": {\"color\": \"#EF553B\"}, \"name\": \"1\", \"offsetgroup\": \"1\", \"orientation\": \"v\", \"scalegroup\": \"True\", \"showlegend\": true, \"type\": \"violin\", \"x\": [0, 4, 4, 2, 0, 0, 4, 2, 3, 2, 4, 1, 3, 4, 2, 4, 4, 0, 0, 0, 4, 0, 2, 4, 0, 4, 2, 0, 4, 1, 5, 0, 5, 5, 0, 4, 5, 5, 0, 5, 1, 2, 4, 0, 2, 2, 2, 0, 0, 5, 4, 1, 2, 4, 0, 2, 0, 2, 0, 2, 4, 5, 4, 3, 3, 5, 4, 1, 1, 5, 2, 4, 2, 4, 5, 0, 0, 5, 1, 1, 5, 4, 0, 0, 3, 2, 2, 2, 5, 3, 5, 0, 2, 5, 5, 4, 4, 0, 5, 2, 0, 4, 5, 1, 2, 5, 4, 0, 2, 5, 2, 5, 0, 5, 2, 5, 4, 0, 5, 1, 0, 1, 4, 0, 2, 4, 5, 0, 0, 2, 5, 3, 2, 0, 4, 2, 5, 1, 4, 4, 1, 1, 2, 2, 0, 0, 1, 5, 0, 5, 5, 2, 0, 5, 0, 2, 0, 4, 5, 0, 4, 4, 5, 1, 1, 2, 0, 1, 4, 4, 0, 2, 0, 0, 0, 5, 0, 2, 0, 4, 4, 2, 0, 4, 0, 4, 5, 4, 1, 2, 1, 4, 5, 0, 1, 0, 3, 3, 5, 4, 0, 2, 5, 5, 4, 0, 0, 4, 0, 5, 2, 1, 0, 4, 2, 4, 1, 5, 5, 5, 0, 2, 5, 4, 0, 0, 2, 5, 5, 4, 2, 2, 0, 4, 1, 0, 2, 1, 4, 1, 2, 4, 1, 0, 0, 2, 4, 2, 2, 4, 5, 0, 2, 4, 4, 2, 1, 3, 4, 5, 5, 4, 1, 3, 2, 4, 5, 0, 2, 0, 1, 0, 2, 0, 5, 2, 3, 5, 1, 4, 0, 3, 5, 1, 1, 0, 2, 1, 4, 1, 0, 4, 4, 5, 1, 2, 5, 2, 3, 5, 4, 1, 1, 3, 0, 1, 2, 4, 4, 0, 0, 4, 4, 2, 5, 2, 4, 2, 2, 5, 0, 5, 0, 4, 5, 0, 4, 0, 0, 0, 4, 2, 2, 4, 4, 0, 2, 4, 2, 1, 1, 2, 4, 2, 4, 3, 0, 0, 5, 2, 4, 4, 5, 4, 5, 5, 3, 0, 0, 2, 1, 4, 0, 2, 4, 4, 5, 4, 3, 0, 4, 1, 4, 5, 4, 2, 4, 2, 1, 4, 0, 1, 0, 2, 5, 2, 4, 5, 5, 4, 2, 1, 5, 2, 5, 5, 1, 4, 2, 5, 1, 4, 2, 0, 5, 4, 3, 3, 2, 0, 3, 5, 5, 4, 2, 0, 1, 0, 4, 2, 0, 0, 0, 2, 0, 0, 4, 4, 5, 1, 1, 2, 2, 5, 2, 0, 3, 4, 2, 1, 1, 1, 4, 2, 2, 2, 5, 0, 0, 4, 4, 0, 1, 0, 4, 0, 4, 5, 3, 2, 5, 2, 5, 2, 2, 0, 4, 2, 4, 5, 4, 5, 4, 0, 2, 5, 5, 2, 5, 2, 2, 2], \"x0\": \" \", \"xaxis\": \"x\", \"y\": [49.0, 76.0, 41.0, 65.0, 55.0, 45.0, 73.0, 88.0, 45.0, 66.0, 50.0, 75.0, 73.0, 59.0, 68.0, 40.0, 89.0, 80.0, 57.0, 57.0, 63.0, 59.0, 83.0, 52.0, 71.0, 46.0, 80.0, 52.0, 58.0, 75.0, 37.0, 59.0, 64.0, 40.0, 58.0, 60.0, 58.0, 46.0, 41.0, 26.0, 80.0, 46.0, 50.0, 66.0, 38.0, 32.0, 74.0, 46.0, 80.0, 64.0, 71.0, 72.0, 50.0, 91.0, 64.0, 55.0, 51.0, 78.0, 91.0, 59.0, 79.0, 69.0, 72.0, 79.0, 85.0, 43.0, 77.0, 76.0, 54.0, 49.0, 60.0, 67.0, 49.0, 80.0, 82.0, 69.0, 98.0, 66.0, 71.0, 50.0, 63.0, 60.0, 64.0, 78.0, 51.0, 51.0, 52.0, 73.0, 87.0, 68.0, 49.0, 66.0, 74.0, 65.0, 48.0, 79.0, 67.0, 56.0, 64.0, 54.0, 72.0, 47.0, 74.0, 69.0, 79.0, 79.0, 30.0, 56.0, 86.0, 81.0, 71.0, 58.0, 82.0, 80.0, 54.0, 68.0, 69.0, 44.0, 86.0, 83.0, 77.0, 65.0, 52.0, 81.0, 69.0, 51.0, 73.0, 77.0, 80.0, 60.0, 48.0, 77.0, 53.0, 77.0, 79.0, 72.0, 47.0, 64.0, 50.0, 83.0, 78.0, 62.0, 49.0, 46.0, 82.0, 89.0, 80.0, 77.0, 71.0, 76.0, 60.0, 78.0, 63.0, 43.0, 71.0, 45.0, 84.0, 80.0, 54.0, 73.0, 68.0, 89.0, 49.0, 61.0, 65.0, 67.0, 78.0, 68.0, 61.0, 23.0, 78.0, 64.0, 40.0, 57.0, 83.0, 72.0, 48.0, 57.0, 69.0, 73.0, 60.0, 72.0, 79.0, 58.0, 62.0, 61.0, 82.0, 59.0, 56.0, 60.0, 63.0, 77.0, 73.0, 43.0, 64.0, 94.0, 77.0, 73.0, 66.0, 70.0, 56.0, 45.0, 65.0, 58.0, 46.0, 64.0, 85.0, 82.0, 66.0, 66.0, 75.0, 71.0, 71.0, 63.0, 56.0, 38.0, 85.0, 68.0, 59.0, 62.0, 63.0, 57.0, 68.0, 50.0, 69.0, 71.0, 59.0, 86.0, 78.0, 65.0, 82.0, 45.0, 75.0, 57.0, 47.0, 52.0, 68.0, 55.0, 51.0, 65.0, 68.0, 80.0, 68.0, 73.0, 71.0, 71.0, 66.0, 52.0, 72.0, 55.0, 58.0, 81.0, 66.0, 73.0, 59.0, 68.0, 56.0, 78.0, 73.0, 52.0, 54.0, 57.0, 61.0, 54.0, 51.0, 62.0, 59.0, 60.0, 70.0, 56.0, 74.0, 92.0, 71.0, 80.0, 80.0, 68.0, 73.0, 73.0, 88.0, 68.0, 46.0, 65.0, 67.0, 93.0, 48.0, 45.0, 53.0, 68.0, 72.0, 93.0, 49.0, 55.0, 56.0, 61.0, 67.0, 23.0, 52.0, 56.0, 88.0, 70.0, 64.0, 92.0, 83.0, 87.0, 69.0, 60.0, 54.0, 94.0, 99.0, 67.0, 52.0, 51.0, 67.0, 68.0, 83.0, 70.0, 79.0, 48.0, 65.0, 53.0, 69.0, 65.0, 87.0, 75.0, 67.0, 69.0, 69.0, 77.0, 53.0, 78.0, 61.0, 63.0, 57.0, 65.0, 76.0, 76.0, 52.0, 89.0, 64.0, 86.0, 66.0, 39.0, 59.0, 85.0, 89.0, 82.0, 74.0, 81.0, 58.0, 47.0, 44.0, 75.0, 59.0, 43.0, 48.0, 49.0, 61.0, 85.0, 75.0, 59.0, 75.0, 52.0, 75.0, 72.0, 67.0, 86.0, 69.0, 68.0, 77.0, 55.0, 55.0, 70.0, 74.0, 82.0, 61.0, 66.0, 58.0, 50.0, 74.0, 64.0, 87.0, 84.0, 65.0, 70.0, 83.0, 70.0, 61.0, 69.0, 76.0, 77.0, 78.0, 55.0, 39.0, 47.0, 82.0, 89.0, 69.0, 51.0, 62.0, 58.0, 61.0, 51.0, 65.0, 56.0, 58.0, 76.0, 86.0, 87.0, 56.0, 75.0, 68.0, 70.0, 60.0, 69.0, 49.0, 77.0, 40.0, 94.0, 84.0, 55.0, 48.0, 75.0, 50.0, 55.0, 81.0, 87.0, 70.0, 82.0, 57.0, 64.0, 48.0, 62.0, 48.0, 79.0, 31.0, 61.0, 86.0, 81.0, 52.0, 68.0, 47.0, 100.0, 93.0, 69.0, 68.0, 71.0, 66.0, 57.0, 44.0, 70.0, 60.0, 68.0, 73.0, 92.0, 64.0, 59.0, 84.0, 71.0, 70.0, 70.0, 61.0, 81.0, 50.0, 79.0, 55.0, 64.0, 84.0, 76.0, 62.0, 66.0, 62.0, 73.0, 61.0, 62.0, 48.0, 79.0, 83.0, 54.0, 77.0, 81.0, 63.0, 57.0], \"y0\": \" \", \"yaxis\": \"y\"}],                        {\"legend\": {\"title\": {\"text\": \"gender\"}, \"tracegroupgap\": 0}, \"margin\": {\"t\": 60}, \"template\": {\"data\": {\"bar\": [{\"error_x\": {\"color\": \"#2a3f5f\"}, \"error_y\": {\"color\": \"#2a3f5f\"}, \"marker\": {\"line\": {\"color\": \"#E5ECF6\", \"width\": 0.5}}, \"type\": \"bar\"}], \"barpolar\": [{\"marker\": {\"line\": {\"color\": \"#E5ECF6\", \"width\": 0.5}}, \"type\": \"barpolar\"}], \"carpet\": [{\"aaxis\": {\"endlinecolor\": \"#2a3f5f\", \"gridcolor\": \"white\", \"linecolor\": \"white\", \"minorgridcolor\": \"white\", \"startlinecolor\": \"#2a3f5f\"}, \"baxis\": {\"endlinecolor\": \"#2a3f5f\", \"gridcolor\": \"white\", \"linecolor\": \"white\", \"minorgridcolor\": \"white\", \"startlinecolor\": \"#2a3f5f\"}, \"type\": \"carpet\"}], \"choropleth\": [{\"colorbar\": {\"outlinewidth\": 0, \"ticks\": \"\"}, \"type\": \"choropleth\"}], \"contour\": [{\"colorbar\": {\"outlinewidth\": 0, \"ticks\": \"\"}, \"colorscale\": [[0.0, \"#0d0887\"], [0.1111111111111111, \"#46039f\"], [0.2222222222222222, \"#7201a8\"], [0.3333333333333333, \"#9c179e\"], [0.4444444444444444, \"#bd3786\"], [0.5555555555555556, \"#d8576b\"], [0.6666666666666666, \"#ed7953\"], [0.7777777777777778, \"#fb9f3a\"], [0.8888888888888888, \"#fdca26\"], [1.0, \"#f0f921\"]], \"type\": \"contour\"}], \"contourcarpet\": [{\"colorbar\": {\"outlinewidth\": 0, \"ticks\": \"\"}, \"type\": \"contourcarpet\"}], \"heatmap\": [{\"colorbar\": {\"outlinewidth\": 0, \"ticks\": \"\"}, \"colorscale\": [[0.0, \"#0d0887\"], [0.1111111111111111, \"#46039f\"], [0.2222222222222222, \"#7201a8\"], [0.3333333333333333, \"#9c179e\"], [0.4444444444444444, \"#bd3786\"], [0.5555555555555556, \"#d8576b\"], [0.6666666666666666, \"#ed7953\"], [0.7777777777777778, \"#fb9f3a\"], [0.8888888888888888, \"#fdca26\"], [1.0, \"#f0f921\"]], \"type\": \"heatmap\"}], \"heatmapgl\": [{\"colorbar\": {\"outlinewidth\": 0, \"ticks\": \"\"}, \"colorscale\": [[0.0, \"#0d0887\"], [0.1111111111111111, \"#46039f\"], [0.2222222222222222, \"#7201a8\"], [0.3333333333333333, \"#9c179e\"], [0.4444444444444444, \"#bd3786\"], [0.5555555555555556, \"#d8576b\"], [0.6666666666666666, \"#ed7953\"], [0.7777777777777778, \"#fb9f3a\"], [0.8888888888888888, \"#fdca26\"], [1.0, \"#f0f921\"]], \"type\": \"heatmapgl\"}], \"histogram\": [{\"marker\": {\"colorbar\": {\"outlinewidth\": 0, \"ticks\": \"\"}}, \"type\": \"histogram\"}], \"histogram2d\": [{\"colorbar\": {\"outlinewidth\": 0, \"ticks\": \"\"}, \"colorscale\": [[0.0, \"#0d0887\"], [0.1111111111111111, \"#46039f\"], [0.2222222222222222, \"#7201a8\"], [0.3333333333333333, \"#9c179e\"], [0.4444444444444444, \"#bd3786\"], [0.5555555555555556, \"#d8576b\"], [0.6666666666666666, \"#ed7953\"], [0.7777777777777778, \"#fb9f3a\"], [0.8888888888888888, \"#fdca26\"], [1.0, \"#f0f921\"]], \"type\": \"histogram2d\"}], \"histogram2dcontour\": [{\"colorbar\": {\"outlinewidth\": 0, \"ticks\": \"\"}, \"colorscale\": [[0.0, \"#0d0887\"], [0.1111111111111111, \"#46039f\"], [0.2222222222222222, \"#7201a8\"], [0.3333333333333333, \"#9c179e\"], [0.4444444444444444, \"#bd3786\"], [0.5555555555555556, \"#d8576b\"], [0.6666666666666666, \"#ed7953\"], [0.7777777777777778, \"#fb9f3a\"], [0.8888888888888888, \"#fdca26\"], [1.0, \"#f0f921\"]], \"type\": \"histogram2dcontour\"}], \"mesh3d\": [{\"colorbar\": {\"outlinewidth\": 0, \"ticks\": \"\"}, \"type\": \"mesh3d\"}], \"parcoords\": [{\"line\": {\"colorbar\": {\"outlinewidth\": 0, \"ticks\": \"\"}}, \"type\": \"parcoords\"}], \"pie\": [{\"automargin\": true, \"type\": \"pie\"}], \"scatter\": [{\"marker\": {\"colorbar\": {\"outlinewidth\": 0, \"ticks\": \"\"}}, \"type\": \"scatter\"}], \"scatter3d\": [{\"line\": {\"colorbar\": {\"outlinewidth\": 0, \"ticks\": \"\"}}, \"marker\": {\"colorbar\": {\"outlinewidth\": 0, \"ticks\": \"\"}}, \"type\": \"scatter3d\"}], \"scattercarpet\": [{\"marker\": {\"colorbar\": {\"outlinewidth\": 0, \"ticks\": \"\"}}, \"type\": \"scattercarpet\"}], \"scattergeo\": [{\"marker\": {\"colorbar\": {\"outlinewidth\": 0, \"ticks\": \"\"}}, \"type\": \"scattergeo\"}], \"scattergl\": [{\"marker\": {\"colorbar\": {\"outlinewidth\": 0, \"ticks\": \"\"}}, \"type\": \"scattergl\"}], \"scattermapbox\": [{\"marker\": {\"colorbar\": {\"outlinewidth\": 0, \"ticks\": \"\"}}, \"type\": \"scattermapbox\"}], \"scatterpolar\": [{\"marker\": {\"colorbar\": {\"outlinewidth\": 0, \"ticks\": \"\"}}, \"type\": \"scatterpolar\"}], \"scatterpolargl\": [{\"marker\": {\"colorbar\": {\"outlinewidth\": 0, \"ticks\": \"\"}}, \"type\": \"scatterpolargl\"}], \"scatterternary\": [{\"marker\": {\"colorbar\": {\"outlinewidth\": 0, \"ticks\": \"\"}}, \"type\": \"scatterternary\"}], \"surface\": [{\"colorbar\": {\"outlinewidth\": 0, \"ticks\": \"\"}, \"colorscale\": [[0.0, \"#0d0887\"], [0.1111111111111111, \"#46039f\"], [0.2222222222222222, \"#7201a8\"], [0.3333333333333333, \"#9c179e\"], [0.4444444444444444, \"#bd3786\"], [0.5555555555555556, \"#d8576b\"], [0.6666666666666666, \"#ed7953\"], [0.7777777777777778, \"#fb9f3a\"], [0.8888888888888888, \"#fdca26\"], [1.0, \"#f0f921\"]], \"type\": \"surface\"}], \"table\": [{\"cells\": {\"fill\": {\"color\": \"#EBF0F8\"}, \"line\": {\"color\": \"white\"}}, \"header\": {\"fill\": {\"color\": \"#C8D4E3\"}, \"line\": {\"color\": \"white\"}}, \"type\": \"table\"}]}, \"layout\": {\"annotationdefaults\": {\"arrowcolor\": \"#2a3f5f\", \"arrowhead\": 0, \"arrowwidth\": 1}, \"autotypenumbers\": \"strict\", \"coloraxis\": {\"colorbar\": {\"outlinewidth\": 0, \"ticks\": \"\"}}, \"colorscale\": {\"diverging\": [[0, \"#8e0152\"], [0.1, \"#c51b7d\"], [0.2, \"#de77ae\"], [0.3, \"#f1b6da\"], [0.4, \"#fde0ef\"], [0.5, \"#f7f7f7\"], [0.6, \"#e6f5d0\"], [0.7, \"#b8e186\"], [0.8, \"#7fbc41\"], [0.9, \"#4d9221\"], [1, \"#276419\"]], \"sequential\": [[0.0, \"#0d0887\"], [0.1111111111111111, \"#46039f\"], [0.2222222222222222, \"#7201a8\"], [0.3333333333333333, \"#9c179e\"], [0.4444444444444444, \"#bd3786\"], [0.5555555555555556, \"#d8576b\"], [0.6666666666666666, \"#ed7953\"], [0.7777777777777778, \"#fb9f3a\"], [0.8888888888888888, \"#fdca26\"], [1.0, \"#f0f921\"]], \"sequentialminus\": [[0.0, \"#0d0887\"], [0.1111111111111111, \"#46039f\"], [0.2222222222222222, \"#7201a8\"], [0.3333333333333333, \"#9c179e\"], [0.4444444444444444, \"#bd3786\"], [0.5555555555555556, \"#d8576b\"], [0.6666666666666666, \"#ed7953\"], [0.7777777777777778, \"#fb9f3a\"], [0.8888888888888888, \"#fdca26\"], [1.0, \"#f0f921\"]]}, \"colorway\": [\"#636efa\", \"#EF553B\", \"#00cc96\", \"#ab63fa\", \"#FFA15A\", \"#19d3f3\", \"#FF6692\", \"#B6E880\", \"#FF97FF\", \"#FECB52\"], \"font\": {\"color\": \"#2a3f5f\"}, \"geo\": {\"bgcolor\": \"white\", \"lakecolor\": \"white\", \"landcolor\": \"#E5ECF6\", \"showlakes\": true, \"showland\": true, \"subunitcolor\": \"white\"}, \"hoverlabel\": {\"align\": \"left\"}, \"hovermode\": \"closest\", \"mapbox\": {\"style\": \"light\"}, \"paper_bgcolor\": \"white\", \"plot_bgcolor\": \"#E5ECF6\", \"polar\": {\"angularaxis\": {\"gridcolor\": \"white\", \"linecolor\": \"white\", \"ticks\": \"\"}, \"bgcolor\": \"#E5ECF6\", \"radialaxis\": {\"gridcolor\": \"white\", \"linecolor\": \"white\", \"ticks\": \"\"}}, \"scene\": {\"xaxis\": {\"backgroundcolor\": \"#E5ECF6\", \"gridcolor\": \"white\", \"gridwidth\": 2, \"linecolor\": \"white\", \"showbackground\": true, \"ticks\": \"\", \"zerolinecolor\": \"white\"}, \"yaxis\": {\"backgroundcolor\": \"#E5ECF6\", \"gridcolor\": \"white\", \"gridwidth\": 2, \"linecolor\": \"white\", \"showbackground\": true, \"ticks\": \"\", \"zerolinecolor\": \"white\"}, \"zaxis\": {\"backgroundcolor\": \"#E5ECF6\", \"gridcolor\": \"white\", \"gridwidth\": 2, \"linecolor\": \"white\", \"showbackground\": true, \"ticks\": \"\", \"zerolinecolor\": \"white\"}}, \"shapedefaults\": {\"line\": {\"color\": \"#2a3f5f\"}}, \"ternary\": {\"aaxis\": {\"gridcolor\": \"white\", \"linecolor\": \"white\", \"ticks\": \"\"}, \"baxis\": {\"gridcolor\": \"white\", \"linecolor\": \"white\", \"ticks\": \"\"}, \"bgcolor\": \"#E5ECF6\", \"caxis\": {\"gridcolor\": \"white\", \"linecolor\": \"white\", \"ticks\": \"\"}}, \"title\": {\"x\": 0.05}, \"xaxis\": {\"automargin\": true, \"gridcolor\": \"white\", \"linecolor\": \"white\", \"ticks\": \"\", \"title\": {\"standoff\": 15}, \"zerolinecolor\": \"white\", \"zerolinewidth\": 2}, \"yaxis\": {\"automargin\": true, \"gridcolor\": \"white\", \"linecolor\": \"white\", \"ticks\": \"\", \"title\": {\"standoff\": 15}, \"zerolinecolor\": \"white\", \"zerolinewidth\": 2}}}, \"violinmode\": \"group\", \"xaxis\": {\"anchor\": \"y\", \"domain\": [0.0, 1.0], \"title\": {\"text\": \"parental level of education\"}}, \"yaxis\": {\"anchor\": \"x\", \"domain\": [0.0, 1.0], \"title\": {\"text\": \"mean score\"}}},                        {\"responsive\": true}                    ).then(function(){\n",
       "                            \n",
       "var gd = document.getElementById('c44c5a2e-6b86-481b-bd43-bb5916a9ee61');\n",
       "var x = new MutationObserver(function (mutations, observer) {{\n",
       "        var display = window.getComputedStyle(gd).display;\n",
       "        if (!display || display === 'none') {{\n",
       "            console.log([gd, 'removed!']);\n",
       "            Plotly.purge(gd);\n",
       "            observer.disconnect();\n",
       "        }}\n",
       "}});\n",
       "\n",
       "// Listen for the removal of the full notebook cells\n",
       "var notebookContainer = gd.closest('#notebook-container');\n",
       "if (notebookContainer) {{\n",
       "    x.observe(notebookContainer, {childList: true});\n",
       "}}\n",
       "\n",
       "// Listen for the clearing of the current output cell\n",
       "var outputEl = gd.closest('.output');\n",
       "if (outputEl) {{\n",
       "    x.observe(outputEl, {childList: true});\n",
       "}}\n",
       "\n",
       "                        })                };                });            </script>        </div>"
      ]
     },
     "metadata": {},
     "output_type": "display_data"
    }
   ],
   "source": [
    "fig = px.violin(df, x='parental level of education', y='mean score', \n",
    "                color='gender')\n",
    "fig.show()"
   ]
  },
  {
   "cell_type": "markdown",
   "metadata": {},
   "source": [
    "### Wnioski\n",
    "\n",
    "W projekcie przeanalizowano zbiór danych dotyczący wyników z egzaminów w Stanach Zjednocznych ze względu na czynniki społeczne.\n",
    "W ramach analizy przedstawiono wykresu różnego typu, które miały pokazać zachodzące zależności. Ważnym czynnikiem wpływajacym na wyniki z egzaminów jest poziom wykształcenia rodziców oraz pochodzenie etniczne. Nie mniejszą wagę ma również odbycie kursu przygotowawczego do egzaminu.\n",
    "\n",
    "Największe zależności w otrzymanych wynikach z egzaminów zauważono przy porównaniu wyników z częsci pisemnej i czytanej. Dla wszystkich studentów najciężej było osiągnać dobre wyniki z egzaminu z matematyki. Porównując wyniki egzaminów dla obu grup - kobiet i mężczyzn, łatwo można zauważyć, że to kobiety osiągają lepsze wyniki niż mężczyźni.\n",
    "\n",
    "Do prezentacji wyników posłużono się bibliotekami plotly oraz seaborn. Do bardziej zaawansowanej analizy posłużono się biblioteką sklearn, która pozwoliła przekształcić dane tekstowe na dane numeryczne. Z ich pomocą można było narysować wykresy oparte wyłącznie na danych liczbowych."
   ]
  },
  {
   "cell_type": "code",
   "execution_count": 53,
   "metadata": {},
   "outputs": [
    {
     "data": {
      "image/png": "[encoded data removed]",
      "text/plain": [
       "<Figure size 720x720 with 1 Axes>"
      ]
     },
     "metadata": {
      "needs_background": "light"
     },
     "output_type": "display_data"
    }
   ],
   "source": [
    "plt.subplots(figsize=(10,10))\n",
    "wordcloud=WordCloud(\n",
    "    background_color='white',\n",
    "    width=550,\n",
    "    height=420).generate(' '.join(df))\n",
    "\n",
    "plt.imshow(wordcloud)\n",
    "plt.axis('off')\n",
    "plt.savefig('graph.png')\n",
    "plt.show()"
   ]
  },
  {
   "cell_type": "code",
   "execution_count": null,
   "metadata": {},
   "outputs": [],
   "source": []
  }
 ],
 "metadata": {
  "kernelspec": {
   "display_name": "Python 3",
   "language": "python",
   "name": "python3"
  },
  "language_info": {
   "codemirror_mode": {
    "name": "ipython",
    "version": 3
   },
   "file_extension": ".py",
   "mimetype": "text/x-python",
   "name": "python",
   "nbconvert_exporter": "python",
   "pygments_lexer": "ipython3",
   "version": "3.8.5"
  }
 },
 "nbformat": 4,
 "nbformat_minor": 4
}
